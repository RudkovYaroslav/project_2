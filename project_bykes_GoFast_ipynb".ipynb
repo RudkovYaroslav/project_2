{
  "cells": [
    {
      "cell_type": "markdown",
      "metadata": {
        "id": "view-in-github",
        "colab_type": "text"
      },
      "source": [
        "<a href=\"https://colab.research.google.com/github/RudkovYaroslav/project_2/blob/main/project_bykes_GoFast_ipynb%22.ipynb\" target=\"_parent\"><img src=\"https://colab.research.google.com/assets/colab-badge.svg\" alt=\"Open In Colab\"/></a>"
      ]
    },
    {
      "cell_type": "markdown",
      "id": "fe96c7a8",
      "metadata": {
        "id": "fe96c7a8"
      },
      "source": [
        "# **Исследование данных о пользователях сервиса аренды самокатов GoFast**"
      ]
    },
    {
      "cell_type": "markdown",
      "id": "3fe08350",
      "metadata": {
        "id": "3fe08350"
      },
      "source": [
        "Вам передали данные о некоторых пользователях из нескольких городов, а также об их поездках. Проанализируйте данные и проверьте некоторые гипотезы, которые могут помочь бизнесу вырасти.\n",
        "Чтобы совершать поездки по городу, пользователи сервиса GoFast пользуются мобильным приложением. Сервисом можно пользоваться:\n",
        "\n",
        "Без подписки\n",
        "абонентская плата отсутствует;\n",
        "стоимость одной минуты поездки — 8 рублей;\n",
        "стоимость старта (начала поездки) — 50 рублей;\n",
        "\n",
        "С подпиской Ultra\n",
        "абонентская плата — 199 рублей в месяц;\n",
        "стоимость одной минуты поездки — 6 рублей;\n",
        "стоимость старта — бесплатно."
      ]
    },
    {
      "cell_type": "markdown",
      "id": "10485bb7",
      "metadata": {
        "id": "10485bb7"
      },
      "source": [
        "**Цель исследования:**\n",
        "- Проанализировать данные с целью проверки гипотез\n",
        "- Сформулировать выводы на основе гипотез, которые помогут бизнесу вырасти"
      ]
    },
    {
      "cell_type": "markdown",
      "id": "213e568d",
      "metadata": {
        "id": "213e568d"
      },
      "source": [
        "**Ход исследования**"
      ]
    },
    {
      "cell_type": "markdown",
      "id": "427ca4d6",
      "metadata": {
        "id": "427ca4d6"
      },
      "source": [
        "Я получу данные из трех DataFrame, каждый из кторых находится в csv файле. О качестве этих DataFrame пока ничего не известно, так что, скорее всего, понадобится провести предобработку.\n",
        "\n",
        "Проверю данные на аномалии и выбросы, которые могут повлиять на исследование, заполню пропуски, если они имеются, и в целом поищу возможность исправить все ошибки, которые не приведут к искажению конечного результата."
      ]
    },
    {
      "cell_type": "markdown",
      "id": "023d700c",
      "metadata": {
        "id": "023d700c"
      },
      "source": [
        "Итоговое исследование пройдет в 7 этапов:\n",
        "- 1. Обзор данных\n",
        "- 2. Предобработка данных\n",
        "- 3. Проведение исследовательского анализа с цеью более глубокой оценки важных параметров\n",
        "- 4. Агрегирование данных\n",
        "- 5. Подсчет общей выручки\n",
        "- 6. Проверка гипотез\n",
        "- 7. Общий вывод по исследованию"
      ]
    },
    {
      "cell_type": "markdown",
      "id": "87dee4b4",
      "metadata": {
        "id": "87dee4b4"
      },
      "source": [
        "**Импорт требуемых библиотек**"
      ]
    },
    {
      "cell_type": "code",
      "execution_count": null,
      "id": "72576667",
      "metadata": {
        "id": "72576667"
      },
      "outputs": [],
      "source": [
        "import pandas as pd #Библиотека для работы с DataFrame\n",
        "import datetime as dt #Библиотека для обаботки дат\n",
        "import matplotlib.pyplot as plt #Библиотека для постройки графиков\n",
        "import numpy as np #Библиотека для более глубоких математических вычислений\n",
        "from scipy import stats as st # Библиотека для более простого построения распределений\n",
        "import warnings\n",
        "warnings.filterwarnings('ignore') #Библиотека для игнорирования красных знаков ошибок"
      ]
    },
    {
      "cell_type": "code",
      "execution_count": null,
      "id": "4d0f0328",
      "metadata": {
        "id": "4d0f0328"
      },
      "outputs": [],
      "source": [
        "plt.rcParams[\"figure.figsize\"] = (15,5) #Задаем размер выводимых в дальнейшем графиков"
      ]
    },
    {
      "cell_type": "markdown",
      "id": "c42cbe00",
      "metadata": {
        "id": "c42cbe00"
      },
      "source": [
        "## Шаг 1. Загрузка данных"
      ]
    },
    {
      "cell_type": "markdown",
      "id": "97fa9c3b",
      "metadata": {
        "id": "97fa9c3b"
      },
      "source": [
        "### Считывание csv файлов"
      ]
    },
    {
      "cell_type": "code",
      "execution_count": null,
      "id": "eff9f206",
      "metadata": {
        "id": "eff9f206"
      },
      "outputs": [],
      "source": [
        "users = pd.read_csv('/datasets/users_go.csv')\n",
        "rides = pd.read_csv('/datasets/rides_go.csv')\n",
        "sub = pd.read_csv('/datasets/subscriptions_go.csv')"
      ]
    },
    {
      "cell_type": "markdown",
      "id": "4c50d6e9",
      "metadata": {
        "id": "4c50d6e9"
      },
      "source": [
        "### Изучение общей информации о данных"
      ]
    },
    {
      "cell_type": "code",
      "execution_count": null,
      "id": "ebeba612",
      "metadata": {
        "id": "ebeba612",
        "outputId": "552c8bd7-741b-485b-f05d-c9a3abf9aa65"
      },
      "outputs": [
        {
          "data": {
            "text/html": [
              "<div>\n",
              "<style scoped>\n",
              "    .dataframe tbody tr th:only-of-type {\n",
              "        vertical-align: middle;\n",
              "    }\n",
              "\n",
              "    .dataframe tbody tr th {\n",
              "        vertical-align: top;\n",
              "    }\n",
              "\n",
              "    .dataframe thead th {\n",
              "        text-align: right;\n",
              "    }\n",
              "</style>\n",
              "<table border=\"1\" class=\"dataframe\">\n",
              "  <thead>\n",
              "    <tr style=\"text-align: right;\">\n",
              "      <th></th>\n",
              "      <th>user_id</th>\n",
              "      <th>name</th>\n",
              "      <th>age</th>\n",
              "      <th>city</th>\n",
              "      <th>subscription_type</th>\n",
              "    </tr>\n",
              "  </thead>\n",
              "  <tbody>\n",
              "    <tr>\n",
              "      <th>0</th>\n",
              "      <td>1</td>\n",
              "      <td>Кира</td>\n",
              "      <td>22</td>\n",
              "      <td>Тюмень</td>\n",
              "      <td>ultra</td>\n",
              "    </tr>\n",
              "    <tr>\n",
              "      <th>1</th>\n",
              "      <td>2</td>\n",
              "      <td>Станислав</td>\n",
              "      <td>31</td>\n",
              "      <td>Омск</td>\n",
              "      <td>ultra</td>\n",
              "    </tr>\n",
              "    <tr>\n",
              "      <th>2</th>\n",
              "      <td>3</td>\n",
              "      <td>Алексей</td>\n",
              "      <td>20</td>\n",
              "      <td>Москва</td>\n",
              "      <td>ultra</td>\n",
              "    </tr>\n",
              "    <tr>\n",
              "      <th>3</th>\n",
              "      <td>4</td>\n",
              "      <td>Константин</td>\n",
              "      <td>26</td>\n",
              "      <td>Ростов-на-Дону</td>\n",
              "      <td>ultra</td>\n",
              "    </tr>\n",
              "    <tr>\n",
              "      <th>4</th>\n",
              "      <td>5</td>\n",
              "      <td>Адель</td>\n",
              "      <td>28</td>\n",
              "      <td>Омск</td>\n",
              "      <td>ultra</td>\n",
              "    </tr>\n",
              "  </tbody>\n",
              "</table>\n",
              "</div>"
            ],
            "text/plain": [
              "   user_id        name  age            city subscription_type\n",
              "0        1        Кира   22          Тюмень             ultra\n",
              "1        2   Станислав   31            Омск             ultra\n",
              "2        3     Алексей   20          Москва             ultra\n",
              "3        4  Константин   26  Ростов-на-Дону             ultra\n",
              "4        5       Адель   28            Омск             ultra"
            ]
          },
          "execution_count": 4,
          "metadata": {},
          "output_type": "execute_result"
        }
      ],
      "source": [
        "users.head()"
      ]
    },
    {
      "cell_type": "code",
      "execution_count": null,
      "id": "d935373d",
      "metadata": {
        "id": "d935373d",
        "outputId": "2df6dd29-9c50-475e-db90-cefcf5a520bc"
      },
      "outputs": [
        {
          "data": {
            "text/html": [
              "<div>\n",
              "<style scoped>\n",
              "    .dataframe tbody tr th:only-of-type {\n",
              "        vertical-align: middle;\n",
              "    }\n",
              "\n",
              "    .dataframe tbody tr th {\n",
              "        vertical-align: top;\n",
              "    }\n",
              "\n",
              "    .dataframe thead th {\n",
              "        text-align: right;\n",
              "    }\n",
              "</style>\n",
              "<table border=\"1\" class=\"dataframe\">\n",
              "  <thead>\n",
              "    <tr style=\"text-align: right;\">\n",
              "      <th></th>\n",
              "      <th>user_id</th>\n",
              "      <th>distance</th>\n",
              "      <th>duration</th>\n",
              "      <th>date</th>\n",
              "    </tr>\n",
              "  </thead>\n",
              "  <tbody>\n",
              "    <tr>\n",
              "      <th>0</th>\n",
              "      <td>1</td>\n",
              "      <td>4409.919140</td>\n",
              "      <td>25.599769</td>\n",
              "      <td>2021-01-01</td>\n",
              "    </tr>\n",
              "    <tr>\n",
              "      <th>1</th>\n",
              "      <td>1</td>\n",
              "      <td>2617.592153</td>\n",
              "      <td>15.816871</td>\n",
              "      <td>2021-01-18</td>\n",
              "    </tr>\n",
              "    <tr>\n",
              "      <th>2</th>\n",
              "      <td>1</td>\n",
              "      <td>754.159807</td>\n",
              "      <td>6.232113</td>\n",
              "      <td>2021-04-20</td>\n",
              "    </tr>\n",
              "    <tr>\n",
              "      <th>3</th>\n",
              "      <td>1</td>\n",
              "      <td>2694.783254</td>\n",
              "      <td>18.511000</td>\n",
              "      <td>2021-08-11</td>\n",
              "    </tr>\n",
              "    <tr>\n",
              "      <th>4</th>\n",
              "      <td>1</td>\n",
              "      <td>4028.687306</td>\n",
              "      <td>26.265803</td>\n",
              "      <td>2021-08-28</td>\n",
              "    </tr>\n",
              "  </tbody>\n",
              "</table>\n",
              "</div>"
            ],
            "text/plain": [
              "   user_id     distance   duration        date\n",
              "0        1  4409.919140  25.599769  2021-01-01\n",
              "1        1  2617.592153  15.816871  2021-01-18\n",
              "2        1   754.159807   6.232113  2021-04-20\n",
              "3        1  2694.783254  18.511000  2021-08-11\n",
              "4        1  4028.687306  26.265803  2021-08-28"
            ]
          },
          "execution_count": 5,
          "metadata": {},
          "output_type": "execute_result"
        }
      ],
      "source": [
        "rides.head()"
      ]
    },
    {
      "cell_type": "code",
      "execution_count": null,
      "id": "9d62ddbf",
      "metadata": {
        "id": "9d62ddbf",
        "outputId": "753dfc37-9f97-40a6-804c-4a2da21a718a"
      },
      "outputs": [
        {
          "data": {
            "text/html": [
              "<div>\n",
              "<style scoped>\n",
              "    .dataframe tbody tr th:only-of-type {\n",
              "        vertical-align: middle;\n",
              "    }\n",
              "\n",
              "    .dataframe tbody tr th {\n",
              "        vertical-align: top;\n",
              "    }\n",
              "\n",
              "    .dataframe thead th {\n",
              "        text-align: right;\n",
              "    }\n",
              "</style>\n",
              "<table border=\"1\" class=\"dataframe\">\n",
              "  <thead>\n",
              "    <tr style=\"text-align: right;\">\n",
              "      <th></th>\n",
              "      <th>subscription_type</th>\n",
              "      <th>minute_price</th>\n",
              "      <th>start_ride_price</th>\n",
              "      <th>subscription_fee</th>\n",
              "    </tr>\n",
              "  </thead>\n",
              "  <tbody>\n",
              "    <tr>\n",
              "      <th>0</th>\n",
              "      <td>free</td>\n",
              "      <td>8</td>\n",
              "      <td>50</td>\n",
              "      <td>0</td>\n",
              "    </tr>\n",
              "    <tr>\n",
              "      <th>1</th>\n",
              "      <td>ultra</td>\n",
              "      <td>6</td>\n",
              "      <td>0</td>\n",
              "      <td>199</td>\n",
              "    </tr>\n",
              "  </tbody>\n",
              "</table>\n",
              "</div>"
            ],
            "text/plain": [
              "  subscription_type  minute_price  start_ride_price  subscription_fee\n",
              "0              free             8                50                 0\n",
              "1             ultra             6                 0               199"
            ]
          },
          "execution_count": 6,
          "metadata": {},
          "output_type": "execute_result"
        }
      ],
      "source": [
        "sub.head()"
      ]
    },
    {
      "cell_type": "markdown",
      "id": "dd61baad",
      "metadata": {
        "id": "dd61baad"
      },
      "source": [
        "### Вывод по шагу 1"
      ]
    },
    {
      "cell_type": "markdown",
      "id": "edde11ab",
      "metadata": {
        "id": "edde11ab"
      },
      "source": [
        "Ознакомились с тремя изначальными DataFrame. Осмотрели их на способность описать нужную нам информацию для анализа, а также \"на глаз\" оценили репрезентативность."
      ]
    },
    {
      "cell_type": "markdown",
      "id": "e95ebca7",
      "metadata": {
        "id": "e95ebca7"
      },
      "source": [
        "## Шаг 2. Предобработка данных"
      ]
    },
    {
      "cell_type": "code",
      "execution_count": null,
      "id": "462e2535",
      "metadata": {
        "id": "462e2535",
        "outputId": "81bb6369-119d-4fda-cbfc-d798b13ee65d"
      },
      "outputs": [
        {
          "name": "stdout",
          "output_type": "stream",
          "text": [
            "<class 'pandas.core.frame.DataFrame'>\n",
            "RangeIndex: 1565 entries, 0 to 1564\n",
            "Data columns (total 5 columns):\n",
            " #   Column             Non-Null Count  Dtype \n",
            "---  ------             --------------  ----- \n",
            " 0   user_id            1565 non-null   int64 \n",
            " 1   name               1565 non-null   object\n",
            " 2   age                1565 non-null   int64 \n",
            " 3   city               1565 non-null   object\n",
            " 4   subscription_type  1565 non-null   object\n",
            "dtypes: int64(2), object(3)\n",
            "memory usage: 61.3+ KB\n"
          ]
        }
      ],
      "source": [
        "users.info()"
      ]
    },
    {
      "cell_type": "code",
      "execution_count": null,
      "id": "c325bd46",
      "metadata": {
        "scrolled": false,
        "id": "c325bd46",
        "outputId": "a673e316-5b7b-4f00-890c-d3d0fb46988c"
      },
      "outputs": [
        {
          "name": "stdout",
          "output_type": "stream",
          "text": [
            "<class 'pandas.core.frame.DataFrame'>\n",
            "RangeIndex: 18068 entries, 0 to 18067\n",
            "Data columns (total 4 columns):\n",
            " #   Column    Non-Null Count  Dtype  \n",
            "---  ------    --------------  -----  \n",
            " 0   user_id   18068 non-null  int64  \n",
            " 1   distance  18068 non-null  float64\n",
            " 2   duration  18068 non-null  float64\n",
            " 3   date      18068 non-null  object \n",
            "dtypes: float64(2), int64(1), object(1)\n",
            "memory usage: 564.8+ KB\n"
          ]
        }
      ],
      "source": [
        "rides.info()"
      ]
    },
    {
      "cell_type": "markdown",
      "id": "c8b061fc",
      "metadata": {
        "id": "c8b061fc"
      },
      "source": [
        "После первого, более подробного взгляда видим, что в DataFrame с количеством пользователей есть 1565 строк, столбцы имеют правильный тип данных. Что нельзя сказать о DataFrame с информацией о поездках. Там целых 18068 строк, а столбец date имеет неправильный тип данных."
      ]
    },
    {
      "cell_type": "markdown",
      "id": "5e1cdaaf",
      "metadata": {
        "id": "5e1cdaaf"
      },
      "source": [
        "### Приведение к правильным форматам"
      ]
    },
    {
      "cell_type": "markdown",
      "id": "ba602bf7",
      "metadata": {
        "id": "ba602bf7"
      },
      "source": [
        "Видим, что дата не дата"
      ]
    },
    {
      "cell_type": "code",
      "execution_count": null,
      "id": "c756f9d6",
      "metadata": {
        "id": "c756f9d6",
        "outputId": "75ff259a-b229-47b2-feb8-cf69c7c87799"
      },
      "outputs": [
        {
          "name": "stdout",
          "output_type": "stream",
          "text": [
            "<class 'pandas.core.frame.DataFrame'>\n",
            "RangeIndex: 18068 entries, 0 to 18067\n",
            "Data columns (total 4 columns):\n",
            " #   Column    Non-Null Count  Dtype         \n",
            "---  ------    --------------  -----         \n",
            " 0   user_id   18068 non-null  int64         \n",
            " 1   distance  18068 non-null  float64       \n",
            " 2   duration  18068 non-null  float64       \n",
            " 3   date      18068 non-null  datetime64[ns]\n",
            "dtypes: datetime64[ns](1), float64(2), int64(1)\n",
            "memory usage: 564.8 KB\n"
          ]
        }
      ],
      "source": [
        "rides['date'] = pd.to_datetime(rides['date'], format='%Y-%m-%d')\n",
        "rides.info()"
      ]
    },
    {
      "cell_type": "markdown",
      "id": "77eda7ba",
      "metadata": {
        "id": "77eda7ba"
      },
      "source": [
        "### Поиск пропусков в значениях"
      ]
    },
    {
      "cell_type": "code",
      "execution_count": null,
      "id": "6c21666c",
      "metadata": {
        "id": "6c21666c",
        "outputId": "c414ce85-e742-4d48-a16b-94bb89a6f2b7"
      },
      "outputs": [
        {
          "data": {
            "text/plain": [
              "user_id              0\n",
              "name                 0\n",
              "age                  0\n",
              "city                 0\n",
              "subscription_type    0\n",
              "dtype: int64"
            ]
          },
          "execution_count": 10,
          "metadata": {},
          "output_type": "execute_result"
        }
      ],
      "source": [
        "users.isna().sum()"
      ]
    },
    {
      "cell_type": "code",
      "execution_count": null,
      "id": "1b74b778",
      "metadata": {
        "id": "1b74b778",
        "outputId": "91eed35f-023d-40d2-e9ee-7aef0ed12521"
      },
      "outputs": [
        {
          "data": {
            "text/plain": [
              "user_id     0\n",
              "distance    0\n",
              "duration    0\n",
              "date        0\n",
              "dtype: int64"
            ]
          },
          "execution_count": 11,
          "metadata": {},
          "output_type": "execute_result"
        }
      ],
      "source": [
        "rides.isna().sum()"
      ]
    },
    {
      "cell_type": "markdown",
      "id": "04a498c0",
      "metadata": {
        "id": "04a498c0"
      },
      "source": [
        "### Создание дополнительного столбца"
      ]
    },
    {
      "cell_type": "markdown",
      "id": "ec4f5df3",
      "metadata": {
        "id": "ec4f5df3"
      },
      "source": [
        "Перед созданием столбца с месяцем, проверим, точно ли информация собрана за 1 год"
      ]
    },
    {
      "cell_type": "code",
      "execution_count": null,
      "id": "1680b160",
      "metadata": {
        "id": "1680b160",
        "outputId": "b499de27-ba71-487c-d8e5-8f1d09af4c5d"
      },
      "outputs": [
        {
          "data": {
            "text/plain": [
              "Timedelta('363 days 00:00:00')"
            ]
          },
          "execution_count": 12,
          "metadata": {},
          "output_type": "execute_result"
        }
      ],
      "source": [
        "rides['date'].max()-rides['date'].min()"
      ]
    },
    {
      "cell_type": "markdown",
      "id": "97111907",
      "metadata": {
        "id": "97111907"
      },
      "source": [
        "Получяется у нас данные примерно за один год, все в порядке"
      ]
    },
    {
      "cell_type": "code",
      "execution_count": null,
      "id": "49f1ccd4",
      "metadata": {
        "scrolled": false,
        "id": "49f1ccd4",
        "outputId": "f88265c4-c3b5-4ee7-a3fc-da4dfbaf55c6"
      },
      "outputs": [
        {
          "data": {
            "text/html": [
              "<div>\n",
              "<style scoped>\n",
              "    .dataframe tbody tr th:only-of-type {\n",
              "        vertical-align: middle;\n",
              "    }\n",
              "\n",
              "    .dataframe tbody tr th {\n",
              "        vertical-align: top;\n",
              "    }\n",
              "\n",
              "    .dataframe thead th {\n",
              "        text-align: right;\n",
              "    }\n",
              "</style>\n",
              "<table border=\"1\" class=\"dataframe\">\n",
              "  <thead>\n",
              "    <tr style=\"text-align: right;\">\n",
              "      <th></th>\n",
              "      <th>user_id</th>\n",
              "      <th>distance</th>\n",
              "      <th>duration</th>\n",
              "      <th>date</th>\n",
              "      <th>month</th>\n",
              "    </tr>\n",
              "  </thead>\n",
              "  <tbody>\n",
              "    <tr>\n",
              "      <th>0</th>\n",
              "      <td>1</td>\n",
              "      <td>4409.919140</td>\n",
              "      <td>25.599769</td>\n",
              "      <td>2021-01-01</td>\n",
              "      <td>1</td>\n",
              "    </tr>\n",
              "    <tr>\n",
              "      <th>1</th>\n",
              "      <td>1</td>\n",
              "      <td>2617.592153</td>\n",
              "      <td>15.816871</td>\n",
              "      <td>2021-01-18</td>\n",
              "      <td>1</td>\n",
              "    </tr>\n",
              "    <tr>\n",
              "      <th>2</th>\n",
              "      <td>1</td>\n",
              "      <td>754.159807</td>\n",
              "      <td>6.232113</td>\n",
              "      <td>2021-04-20</td>\n",
              "      <td>4</td>\n",
              "    </tr>\n",
              "    <tr>\n",
              "      <th>3</th>\n",
              "      <td>1</td>\n",
              "      <td>2694.783254</td>\n",
              "      <td>18.511000</td>\n",
              "      <td>2021-08-11</td>\n",
              "      <td>8</td>\n",
              "    </tr>\n",
              "    <tr>\n",
              "      <th>4</th>\n",
              "      <td>1</td>\n",
              "      <td>4028.687306</td>\n",
              "      <td>26.265803</td>\n",
              "      <td>2021-08-28</td>\n",
              "      <td>8</td>\n",
              "    </tr>\n",
              "  </tbody>\n",
              "</table>\n",
              "</div>"
            ],
            "text/plain": [
              "   user_id     distance   duration       date  month\n",
              "0        1  4409.919140  25.599769 2021-01-01      1\n",
              "1        1  2617.592153  15.816871 2021-01-18      1\n",
              "2        1   754.159807   6.232113 2021-04-20      4\n",
              "3        1  2694.783254  18.511000 2021-08-11      8\n",
              "4        1  4028.687306  26.265803 2021-08-28      8"
            ]
          },
          "execution_count": 13,
          "metadata": {},
          "output_type": "execute_result"
        }
      ],
      "source": [
        "rides['month'] = rides['date'].dt.month\n",
        "rides.head()"
      ]
    },
    {
      "cell_type": "markdown",
      "id": "447854ed",
      "metadata": {
        "id": "447854ed"
      },
      "source": [
        "### Проверка на явные и неявные дубликаты"
      ]
    },
    {
      "cell_type": "code",
      "execution_count": null,
      "id": "811fb1d6",
      "metadata": {
        "id": "811fb1d6",
        "outputId": "582c2dac-cd6b-4fb1-8430-ace0647ae0e6"
      },
      "outputs": [
        {
          "data": {
            "text/plain": [
              "31"
            ]
          },
          "execution_count": 14,
          "metadata": {},
          "output_type": "execute_result"
        }
      ],
      "source": [
        "users.duplicated().sum()"
      ]
    },
    {
      "cell_type": "code",
      "execution_count": null,
      "id": "4bafcd8f",
      "metadata": {
        "id": "4bafcd8f"
      },
      "outputs": [],
      "source": [
        "users = users.drop_duplicates()"
      ]
    },
    {
      "cell_type": "code",
      "execution_count": null,
      "id": "2c4c3c8d",
      "metadata": {
        "id": "2c4c3c8d",
        "outputId": "0163364c-44a7-4988-b980-29ef30934058"
      },
      "outputs": [
        {
          "data": {
            "text/plain": [
              "0"
            ]
          },
          "execution_count": 16,
          "metadata": {},
          "output_type": "execute_result"
        }
      ],
      "source": [
        "rides.duplicated().sum()"
      ]
    },
    {
      "cell_type": "code",
      "execution_count": null,
      "id": "441af20e",
      "metadata": {
        "id": "441af20e",
        "outputId": "b7051961-d0b4-47cf-cf13-12bc7f8312d5"
      },
      "outputs": [
        {
          "data": {
            "text/plain": [
              "array(['Тюмень', 'Омск', 'Москва', 'Ростов-на-Дону', 'Краснодар',\n",
              "       'Пятигорск', 'Екатеринбург', 'Сочи'], dtype=object)"
            ]
          },
          "execution_count": 17,
          "metadata": {},
          "output_type": "execute_result"
        }
      ],
      "source": [
        "users['city'].unique()"
      ]
    },
    {
      "cell_type": "code",
      "execution_count": null,
      "id": "4921989f",
      "metadata": {
        "id": "4921989f",
        "outputId": "42df2f77-d6e0-453e-eea9-8a81c3a02689"
      },
      "outputs": [
        {
          "data": {
            "text/plain": [
              "['Агата',\n",
              " 'Аделина',\n",
              " 'Адель',\n",
              " 'Айдар',\n",
              " 'Александр',\n",
              " 'Александра',\n",
              " 'Алексей',\n",
              " 'Алина',\n",
              " 'Алиса',\n",
              " 'Алия',\n",
              " 'Алла',\n",
              " 'Альберт',\n",
              " 'Альбина',\n",
              " 'Алёна',\n",
              " 'Амалия',\n",
              " 'Амина',\n",
              " 'Амир',\n",
              " 'Анастасия',\n",
              " 'Анатолий',\n",
              " 'Ангелина',\n",
              " 'Андрей',\n",
              " 'Анжелика',\n",
              " 'Анна',\n",
              " 'Антон',\n",
              " 'Антонина',\n",
              " 'Ариана',\n",
              " 'Арина',\n",
              " 'Арсен',\n",
              " 'Арсений',\n",
              " 'Артемий',\n",
              " 'Артур',\n",
              " 'Артём',\n",
              " 'Богдан',\n",
              " 'Борис',\n",
              " 'Вадим',\n",
              " 'Валентина',\n",
              " 'Валерий',\n",
              " 'Валерия',\n",
              " 'Варвара',\n",
              " 'Василий',\n",
              " 'Василина',\n",
              " 'Василиса',\n",
              " 'Вера',\n",
              " 'Вероника',\n",
              " 'Виктор',\n",
              " 'Виктория',\n",
              " 'Виолетта',\n",
              " 'Виталий',\n",
              " 'Виталина',\n",
              " 'Влад',\n",
              " 'Влада',\n",
              " 'Владимир',\n",
              " 'Владислав',\n",
              " 'Владислава',\n",
              " 'Всеволод',\n",
              " 'Вячеслав',\n",
              " 'Галина',\n",
              " 'Георгий',\n",
              " 'Герман',\n",
              " 'Глеб',\n",
              " 'Гордей',\n",
              " 'Григорий',\n",
              " 'Давид',\n",
              " 'Дамир',\n",
              " 'Даниил',\n",
              " 'Данил',\n",
              " 'Данила',\n",
              " 'Даниэль',\n",
              " 'Дарина',\n",
              " 'Дарья',\n",
              " 'Демид',\n",
              " 'Денис',\n",
              " 'Диана',\n",
              " 'Дмитрий',\n",
              " 'Ева',\n",
              " 'Евгений',\n",
              " 'Евгения',\n",
              " 'Егор',\n",
              " 'Екатерина',\n",
              " 'Елена',\n",
              " 'Елизавета',\n",
              " 'Елисей',\n",
              " 'Есения',\n",
              " 'Жанна',\n",
              " 'Зарина',\n",
              " 'Захар',\n",
              " 'Злата',\n",
              " 'Иван',\n",
              " 'Игнат',\n",
              " 'Игорь',\n",
              " 'Ильдар',\n",
              " 'Илья',\n",
              " 'Инна',\n",
              " 'Ирина',\n",
              " 'Камилла',\n",
              " 'Карина',\n",
              " 'Каролина',\n",
              " 'Кира',\n",
              " 'Кирилл',\n",
              " 'Константин',\n",
              " 'Кристина',\n",
              " 'Ксения',\n",
              " 'Лариса',\n",
              " 'Лев',\n",
              " 'Леонид',\n",
              " 'Лиана',\n",
              " 'Лидия',\n",
              " 'Лилия',\n",
              " 'Любовь',\n",
              " 'Людмила',\n",
              " 'Мадина',\n",
              " 'Майя',\n",
              " 'Макар',\n",
              " 'Максим',\n",
              " 'Марат',\n",
              " 'Маргарита',\n",
              " 'Марина',\n",
              " 'Мария',\n",
              " 'Марк',\n",
              " 'Марсель',\n",
              " 'Матвей',\n",
              " 'Мелания',\n",
              " 'Милана',\n",
              " 'Милена',\n",
              " 'Мирон',\n",
              " 'Мирослав',\n",
              " 'Мирослава',\n",
              " 'Михаил',\n",
              " 'Назар',\n",
              " 'Наталия',\n",
              " 'Наталья',\n",
              " 'Наташа',\n",
              " 'Нелли',\n",
              " 'Ника',\n",
              " 'Никита',\n",
              " 'Николай',\n",
              " 'Нина',\n",
              " 'Одиссей',\n",
              " 'Оксана',\n",
              " 'Олег',\n",
              " 'Олеся',\n",
              " 'Ольга',\n",
              " 'Павел',\n",
              " 'Петр',\n",
              " 'Платон',\n",
              " 'Полина',\n",
              " 'Радмир',\n",
              " 'Рамиль',\n",
              " 'Регина',\n",
              " 'Роберт',\n",
              " 'Родион',\n",
              " 'Роман',\n",
              " 'Ростислав',\n",
              " 'Руслан',\n",
              " 'Рустам',\n",
              " 'Савелий',\n",
              " 'Самир',\n",
              " 'Самира',\n",
              " 'Светлана',\n",
              " 'Святогор',\n",
              " 'Святослав',\n",
              " 'Семен',\n",
              " 'Сергей',\n",
              " 'Снежана',\n",
              " 'София',\n",
              " 'Софья',\n",
              " 'Станислав',\n",
              " 'Степан',\n",
              " 'Стефания',\n",
              " 'Таисия',\n",
              " 'Тамара',\n",
              " 'Тамерлан',\n",
              " 'Татьяна',\n",
              " 'Тимофей',\n",
              " 'Тимур',\n",
              " 'Тихон',\n",
              " 'Ульяна',\n",
              " 'Федор',\n",
              " 'Эвелина',\n",
              " 'Эдуард',\n",
              " 'Элина',\n",
              " 'Эльвира',\n",
              " 'Эльмира',\n",
              " 'Эмилия',\n",
              " 'Эмиль',\n",
              " 'Юлиана',\n",
              " 'Юлия',\n",
              " 'Юрий',\n",
              " 'Ян',\n",
              " 'Яна',\n",
              " 'Яромир',\n",
              " 'Ярослав',\n",
              " 'Ярослава',\n",
              " 'Ясмина']"
            ]
          },
          "execution_count": 18,
          "metadata": {},
          "output_type": "execute_result"
        }
      ],
      "source": [
        "sorted(users['name'].unique())"
      ]
    },
    {
      "cell_type": "markdown",
      "id": "4ada517b",
      "metadata": {
        "id": "4ada517b"
      },
      "source": [
        "Кроме как объединить Даниила, Данилу и Данила, а также Софью и Софию"
      ]
    },
    {
      "cell_type": "markdown",
      "id": "e2500b27",
      "metadata": {
        "id": "e2500b27"
      },
      "source": [
        "### Округление данных и ликвидация аномальных значений"
      ]
    },
    {
      "cell_type": "code",
      "execution_count": null,
      "id": "86861c27",
      "metadata": {
        "scrolled": false,
        "id": "86861c27",
        "outputId": "8407fa52-0cea-4d27-9862-e93139b603f5"
      },
      "outputs": [
        {
          "data": {
            "text/html": [
              "<div>\n",
              "<style scoped>\n",
              "    .dataframe tbody tr th:only-of-type {\n",
              "        vertical-align: middle;\n",
              "    }\n",
              "\n",
              "    .dataframe tbody tr th {\n",
              "        vertical-align: top;\n",
              "    }\n",
              "\n",
              "    .dataframe thead th {\n",
              "        text-align: right;\n",
              "    }\n",
              "</style>\n",
              "<table border=\"1\" class=\"dataframe\">\n",
              "  <thead>\n",
              "    <tr style=\"text-align: right;\">\n",
              "      <th></th>\n",
              "      <th>user_id</th>\n",
              "      <th>distance</th>\n",
              "      <th>duration</th>\n",
              "      <th>date</th>\n",
              "      <th>month</th>\n",
              "    </tr>\n",
              "  </thead>\n",
              "  <tbody>\n",
              "    <tr>\n",
              "      <th>0</th>\n",
              "      <td>1</td>\n",
              "      <td>4410.0</td>\n",
              "      <td>25.599769</td>\n",
              "      <td>2021-01-01</td>\n",
              "      <td>1</td>\n",
              "    </tr>\n",
              "    <tr>\n",
              "      <th>1</th>\n",
              "      <td>1</td>\n",
              "      <td>2618.0</td>\n",
              "      <td>15.816871</td>\n",
              "      <td>2021-01-18</td>\n",
              "      <td>1</td>\n",
              "    </tr>\n",
              "    <tr>\n",
              "      <th>2</th>\n",
              "      <td>1</td>\n",
              "      <td>755.0</td>\n",
              "      <td>6.232113</td>\n",
              "      <td>2021-04-20</td>\n",
              "      <td>4</td>\n",
              "    </tr>\n",
              "    <tr>\n",
              "      <th>3</th>\n",
              "      <td>1</td>\n",
              "      <td>2695.0</td>\n",
              "      <td>18.511000</td>\n",
              "      <td>2021-08-11</td>\n",
              "      <td>8</td>\n",
              "    </tr>\n",
              "    <tr>\n",
              "      <th>4</th>\n",
              "      <td>1</td>\n",
              "      <td>4029.0</td>\n",
              "      <td>26.265803</td>\n",
              "      <td>2021-08-28</td>\n",
              "      <td>8</td>\n",
              "    </tr>\n",
              "    <tr>\n",
              "      <th>...</th>\n",
              "      <td>...</td>\n",
              "      <td>...</td>\n",
              "      <td>...</td>\n",
              "      <td>...</td>\n",
              "      <td>...</td>\n",
              "    </tr>\n",
              "    <tr>\n",
              "      <th>18063</th>\n",
              "      <td>1534</td>\n",
              "      <td>3782.0</td>\n",
              "      <td>19.822962</td>\n",
              "      <td>2021-11-04</td>\n",
              "      <td>11</td>\n",
              "    </tr>\n",
              "    <tr>\n",
              "      <th>18064</th>\n",
              "      <td>1534</td>\n",
              "      <td>2841.0</td>\n",
              "      <td>21.409799</td>\n",
              "      <td>2021-11-16</td>\n",
              "      <td>11</td>\n",
              "    </tr>\n",
              "    <tr>\n",
              "      <th>18065</th>\n",
              "      <td>1534</td>\n",
              "      <td>3827.0</td>\n",
              "      <td>18.435051</td>\n",
              "      <td>2021-11-18</td>\n",
              "      <td>11</td>\n",
              "    </tr>\n",
              "    <tr>\n",
              "      <th>18066</th>\n",
              "      <td>1534</td>\n",
              "      <td>2903.0</td>\n",
              "      <td>16.674362</td>\n",
              "      <td>2021-11-27</td>\n",
              "      <td>11</td>\n",
              "    </tr>\n",
              "    <tr>\n",
              "      <th>18067</th>\n",
              "      <td>1534</td>\n",
              "      <td>2372.0</td>\n",
              "      <td>15.893917</td>\n",
              "      <td>2021-12-29</td>\n",
              "      <td>12</td>\n",
              "    </tr>\n",
              "  </tbody>\n",
              "</table>\n",
              "<p>18068 rows × 5 columns</p>\n",
              "</div>"
            ],
            "text/plain": [
              "       user_id  distance   duration       date  month\n",
              "0            1    4410.0  25.599769 2021-01-01      1\n",
              "1            1    2618.0  15.816871 2021-01-18      1\n",
              "2            1     755.0   6.232113 2021-04-20      4\n",
              "3            1    2695.0  18.511000 2021-08-11      8\n",
              "4            1    4029.0  26.265803 2021-08-28      8\n",
              "...        ...       ...        ...        ...    ...\n",
              "18063     1534    3782.0  19.822962 2021-11-04     11\n",
              "18064     1534    2841.0  21.409799 2021-11-16     11\n",
              "18065     1534    3827.0  18.435051 2021-11-18     11\n",
              "18066     1534    2903.0  16.674362 2021-11-27     11\n",
              "18067     1534    2372.0  15.893917 2021-12-29     12\n",
              "\n",
              "[18068 rows x 5 columns]"
            ]
          },
          "execution_count": 19,
          "metadata": {},
          "output_type": "execute_result"
        }
      ],
      "source": [
        "rides['distance'] = np.ceil(rides['distance'])\n",
        "rides"
      ]
    },
    {
      "cell_type": "code",
      "execution_count": null,
      "id": "f056be5c",
      "metadata": {
        "id": "f056be5c",
        "outputId": "cfc15585-4b1a-4bb5-b619-35aad55696e4"
      },
      "outputs": [
        {
          "data": {
            "image/png": "[encoded data removed]",
            "text/plain": [
              "<Figure size 1080x360 with 1 Axes>"
            ]
          },
          "metadata": {
            "needs_background": "light"
          },
          "output_type": "display_data"
        }
      ],
      "source": [
        "rides.boxplot(column='duration')\n",
        "pass"
      ]
    },
    {
      "cell_type": "markdown",
      "id": "ab5f042d",
      "metadata": {
        "id": "ab5f042d"
      },
      "source": [
        "Оставим верхние значения, так как они, все же, имеют место быть, а вот на значения меньше отметки в 2 минуты, взглянем подробнее"
      ]
    },
    {
      "cell_type": "code",
      "execution_count": null,
      "id": "8e5d30b3",
      "metadata": {
        "id": "8e5d30b3",
        "outputId": "6cf0d23d-2b69-475e-c5a9-0e853a476335"
      },
      "outputs": [
        {
          "data": {
            "text/html": [
              "<div>\n",
              "<style scoped>\n",
              "    .dataframe tbody tr th:only-of-type {\n",
              "        vertical-align: middle;\n",
              "    }\n",
              "\n",
              "    .dataframe tbody tr th {\n",
              "        vertical-align: top;\n",
              "    }\n",
              "\n",
              "    .dataframe thead th {\n",
              "        text-align: right;\n",
              "    }\n",
              "</style>\n",
              "<table border=\"1\" class=\"dataframe\">\n",
              "  <thead>\n",
              "    <tr style=\"text-align: right;\">\n",
              "      <th></th>\n",
              "      <th>user_id</th>\n",
              "      <th>distance</th>\n",
              "      <th>duration</th>\n",
              "      <th>date</th>\n",
              "      <th>month</th>\n",
              "    </tr>\n",
              "  </thead>\n",
              "  <tbody>\n",
              "  </tbody>\n",
              "</table>\n",
              "</div>"
            ],
            "text/plain": [
              "Empty DataFrame\n",
              "Columns: [user_id, distance, duration, date, month]\n",
              "Index: []"
            ]
          },
          "execution_count": 21,
          "metadata": {},
          "output_type": "execute_result"
        }
      ],
      "source": [
        "rides[(rides['duration'] <2) & (rides['distance'] <1000)]"
      ]
    },
    {
      "cell_type": "markdown",
      "id": "cb8fc2f4",
      "metadata": {
        "id": "cb8fc2f4"
      },
      "source": [
        "Здесь наглядно видно, что все строки, где длительность поездки меньше 2 минут, имеют расстояние больше 1000 метров, что не может быть правдой. Средняя скорость самоката = 15000 метров в час = 500 метров за 2 минуты. Поэтому предлагаю откинуть эти значения, так как они аномальные. Также со стороны выручки это будет незначительная потеря, так как мы оцениваем время в пути, а отбрасывам значения меньше двух минут, соответственно теряем мало."
      ]
    },
    {
      "cell_type": "code",
      "execution_count": null,
      "id": "8c9b8f51",
      "metadata": {
        "id": "8c9b8f51"
      },
      "outputs": [],
      "source": [
        "rides = rides[(rides['duration'] >= 2)]"
      ]
    },
    {
      "cell_type": "markdown",
      "id": "3b4b6b2d",
      "metadata": {
        "id": "3b4b6b2d"
      },
      "source": [
        "### Вывод по шагу 2"
      ]
    },
    {
      "cell_type": "markdown",
      "id": "a8feb23e",
      "metadata": {
        "id": "a8feb23e"
      },
      "source": [
        "Провели предобработку данных для DataFrame:\n",
        "\n",
        "- Удалили явные/неявные дубликаты\n",
        "- Избавились от аномалий в значениях длительности поездки. Убрали все поездки, занимающие меньше 2 минут и проехавшие расстояние, куда превышающее среднюю скорость самоката. На итоговую сумму выручки такие данные не сильно повлияют.\n",
        "- Разобрались с правильным типом данных для каждого столбца\n",
        "- Проверили наличие пропусков. В трех исходных DataFrame они не были выявлены"
      ]
    },
    {
      "cell_type": "markdown",
      "id": "212593c7",
      "metadata": {
        "id": "212593c7"
      },
      "source": [
        "## Шаг 3. Исследовательский анализ данных"
      ]
    },
    {
      "cell_type": "markdown",
      "id": "2a9953aa",
      "metadata": {
        "id": "2a9953aa"
      },
      "source": [
        "### Описание и визуализация информации о пользователях и поездках"
      ]
    },
    {
      "cell_type": "markdown",
      "id": "ed8437be",
      "metadata": {
        "id": "ed8437be"
      },
      "source": [
        "#### Частота встречаемости городов"
      ]
    },
    {
      "cell_type": "code",
      "execution_count": null,
      "id": "e3a4274c",
      "metadata": {
        "scrolled": true,
        "id": "e3a4274c",
        "outputId": "a6d9e80f-bd08-4f7a-a68f-fbd2cf50f00f"
      },
      "outputs": [
        {
          "data": {
            "image/png": "[encoded data removed]",
            "text/plain": [
              "<Figure size 1080x360 with 1 Axes>"
            ]
          },
          "metadata": {
            "needs_background": "light"
          },
          "output_type": "display_data"
        }
      ],
      "source": [
        "counts = users.groupby('city')['user_id'].count().sort_values()\n",
        "plt.bar(counts.index, counts.values)\n",
        "plt.title('Количество пользователей по городам')\n",
        "plt.xlabel('Города')\n",
        "plt.ylabel('Кол-во пользователей')\n",
        "plt.show()"
      ]
    },
    {
      "cell_type": "markdown",
      "id": "605d8d03",
      "metadata": {
        "id": "605d8d03"
      },
      "source": [
        "Также приведем отдельно в виде цифр:"
      ]
    },
    {
      "cell_type": "code",
      "execution_count": null,
      "id": "a59ee6f3",
      "metadata": {
        "id": "a59ee6f3",
        "outputId": "ac4582fe-a49e-4c03-bf86-79ffc3a272a5"
      },
      "outputs": [
        {
          "data": {
            "text/plain": [
              "city\n",
              "Москва            168\n",
              "Тюмень            180\n",
              "Омск              183\n",
              "Сочи              189\n",
              "Краснодар         193\n",
              "Ростов-на-Дону    198\n",
              "Екатеринбург      204\n",
              "Пятигорск         219\n",
              "Name: user_id, dtype: int64"
            ]
          },
          "execution_count": 24,
          "metadata": {},
          "output_type": "execute_result"
        }
      ],
      "source": [
        "counts"
      ]
    },
    {
      "cell_type": "markdown",
      "id": "2e228be8",
      "metadata": {
        "id": "2e228be8"
      },
      "source": [
        "#### Соотношение пользователей с подпиской и без подписки;"
      ]
    },
    {
      "cell_type": "code",
      "execution_count": null,
      "id": "ad2db906",
      "metadata": {
        "scrolled": false,
        "id": "ad2db906",
        "outputId": "34ac15b8-19e6-4a8f-de94-1f81502cdd91"
      },
      "outputs": [
        {
          "data": {
            "image/png": "[encoded data removed]",
            "text/plain": [
              "<Figure size 1080x360 with 1 Axes>"
            ]
          },
          "metadata": {
            "needs_background": "light"
          },
          "output_type": "display_data"
        }
      ],
      "source": [
        "counts = users.groupby('subscription_type')['user_id'].count()\n",
        "plt.bar(counts.index, counts.values)\n",
        "plt.title('Количество пользователей по типам подписки')\n",
        "plt.xlabel('Тип подписки')\n",
        "plt.ylabel('Кол-во пользователей')\n",
        "plt.show()"
      ]
    },
    {
      "cell_type": "markdown",
      "id": "d6817cb4",
      "metadata": {
        "id": "d6817cb4"
      },
      "source": [
        "Также изобразим разницу в количестве более наглядно"
      ]
    },
    {
      "cell_type": "code",
      "execution_count": null,
      "id": "7e6f643c",
      "metadata": {
        "id": "7e6f643c",
        "outputId": "2ec83de0-d948-440a-d2e6-25b972fcbdfe"
      },
      "outputs": [
        {
          "data": {
            "image/png": "[encoded data removed]",
            "text/plain": [
              "<Figure size 1080x360 with 1 Axes>"
            ]
          },
          "metadata": {},
          "output_type": "display_data"
        }
      ],
      "source": [
        "pie = [counts.values[1] / (counts.values[1] + counts.values[0]), counts.values[0] / (counts.values[1] + counts.values[0])]\n",
        "fig1, ax1 = plt.subplots()\n",
        "ax1.pie(pie, autopct='%1.1f%%')\n",
        "plt.legend(['Subs', 'Plebs'])\n",
        "plt.title('Процент пользователей по типам подписки')\n",
        "plt.show()"
      ]
    },
    {
      "cell_type": "markdown",
      "id": "ce875e03",
      "metadata": {
        "id": "ce875e03"
      },
      "source": [
        "#### Возраст пользователей"
      ]
    },
    {
      "cell_type": "code",
      "execution_count": null,
      "id": "56a85eac",
      "metadata": {
        "scrolled": false,
        "id": "56a85eac",
        "outputId": "c9a9dc58-ec3c-4faa-ea99-a5cf191237b9"
      },
      "outputs": [
        {
          "data": {
            "image/png": "[encoded data removed]",
            "text/plain": [
              "<Figure size 1080x360 with 1 Axes>"
            ]
          },
          "metadata": {
            "needs_background": "light"
          },
          "output_type": "display_data"
        }
      ],
      "source": [
        "counts = users.groupby('age')['user_id'].count()\n",
        "plt.bar(counts.index, counts.values)\n",
        "plt.title('Количество пользователей по возрастной категории')\n",
        "plt.xlabel('Возраст')\n",
        "plt.ylabel('Частота появления')\n",
        "plt.show()"
      ]
    },
    {
      "cell_type": "markdown",
      "id": "467ffe91",
      "metadata": {
        "id": "467ffe91"
      },
      "source": [
        "#### Расстояние, которое пользователь преодолел за одну поездку"
      ]
    },
    {
      "cell_type": "code",
      "execution_count": null,
      "id": "dfc9726a",
      "metadata": {
        "scrolled": true,
        "id": "dfc9726a",
        "outputId": "b43232a7-ccfa-459c-8fbe-2ccb0e66719f"
      },
      "outputs": [
        {
          "data": {
            "image/png": "[encoded data removed]",
            "text/plain": [
              "<Figure size 1080x360 with 1 Axes>"
            ]
          },
          "metadata": {
            "needs_background": "light"
          },
          "output_type": "display_data"
        }
      ],
      "source": [
        "pd.Series(rides['distance']).plot(kind='hist', bins=50, grid=True, title='Количество проеденных метров за 1 поездку')\n",
        "plt.xlabel('Метры')\n",
        "plt.ylabel('Частота появления')\n",
        "plt.show()"
      ]
    },
    {
      "cell_type": "markdown",
      "id": "06c424f9",
      "metadata": {
        "id": "06c424f9"
      },
      "source": [
        "#### Продолжительность поездок"
      ]
    },
    {
      "cell_type": "code",
      "execution_count": null,
      "id": "ee3d8a68",
      "metadata": {
        "id": "ee3d8a68",
        "outputId": "a927d7ee-4676-4c73-a853-af5d47c1707a"
      },
      "outputs": [
        {
          "data": {
            "image/png": "[encoded data removed]",
            "text/plain": [
              "<Figure size 1080x360 with 1 Axes>"
            ]
          },
          "metadata": {
            "needs_background": "light"
          },
          "output_type": "display_data"
        }
      ],
      "source": [
        "pd.Series(rides['duration']).plot(kind='hist', bins=40, grid=True, title='Количество потраченных минут за 1 поездку')\n",
        "plt.xlabel('Минуты')\n",
        "plt.ylabel('Частота появления')\n",
        "plt.show()"
      ]
    },
    {
      "cell_type": "markdown",
      "id": "33e08b5e",
      "metadata": {
        "id": "33e08b5e"
      },
      "source": [
        "### Вывод по шагу 3"
      ]
    },
    {
      "cell_type": "markdown",
      "id": "045bd5f8",
      "metadata": {
        "id": "045bd5f8"
      },
      "source": [
        "Вывели и проанализировали основную иформацию о клиентах:\n",
        "\n",
        "- Москва оказалась самым непопулярным городом, в то время как Пятигорск - самым популярным\n",
        "- Количество подписок находится примерно на равном уровне. Разница в 9% (Доля с подпиской 45%, без - 54%)\n",
        "- Возраст пользователей распределен равномерно, самокаты чаще используют люди среднего возраста(целевая аудитория)\n",
        "- Количество проеденных метров также распределено равномерно, кроме увеличения вначале. В дальнейшем вы рассмотрим его ближе(Оно вызвано тем, что пользователи без подписки часто берут самокат, чтобы быстро куда-то доехать)\n",
        "- Количество потраченных минут тоже распределено равномерно, больше и сказать нечего"
      ]
    },
    {
      "cell_type": "markdown",
      "id": "4ef51331",
      "metadata": {
        "id": "4ef51331"
      },
      "source": [
        "## Шаг 4. Объединение данных"
      ]
    },
    {
      "cell_type": "code",
      "execution_count": null,
      "id": "6bf288b5",
      "metadata": {
        "id": "6bf288b5"
      },
      "outputs": [],
      "source": [
        "sub_df = pd.merge(left=users, right=rides, on='user_id')"
      ]
    },
    {
      "cell_type": "code",
      "execution_count": null,
      "id": "311e0b8d",
      "metadata": {
        "id": "311e0b8d"
      },
      "outputs": [],
      "source": [
        "df = pd.merge(left=sub_df, right=sub, how='left', on='subscription_type')"
      ]
    },
    {
      "cell_type": "markdown",
      "id": "8fc72880",
      "metadata": {
        "id": "8fc72880"
      },
      "source": [
        "Объединили данные в один единый DataFrame"
      ]
    },
    {
      "cell_type": "code",
      "execution_count": null,
      "id": "81dbe09e",
      "metadata": {
        "id": "81dbe09e",
        "outputId": "cfeae963-3efd-4f88-d6d6-24c4c6d7bb66"
      },
      "outputs": [
        {
          "data": {
            "text/html": [
              "<div>\n",
              "<style scoped>\n",
              "    .dataframe tbody tr th:only-of-type {\n",
              "        vertical-align: middle;\n",
              "    }\n",
              "\n",
              "    .dataframe tbody tr th {\n",
              "        vertical-align: top;\n",
              "    }\n",
              "\n",
              "    .dataframe thead th {\n",
              "        text-align: right;\n",
              "    }\n",
              "</style>\n",
              "<table border=\"1\" class=\"dataframe\">\n",
              "  <thead>\n",
              "    <tr style=\"text-align: right;\">\n",
              "      <th></th>\n",
              "      <th>user_id</th>\n",
              "      <th>name</th>\n",
              "      <th>age</th>\n",
              "      <th>city</th>\n",
              "      <th>subscription_type</th>\n",
              "      <th>distance</th>\n",
              "      <th>duration</th>\n",
              "      <th>date</th>\n",
              "      <th>month</th>\n",
              "      <th>minute_price</th>\n",
              "      <th>start_ride_price</th>\n",
              "      <th>subscription_fee</th>\n",
              "    </tr>\n",
              "  </thead>\n",
              "  <tbody>\n",
              "    <tr>\n",
              "      <th>0</th>\n",
              "      <td>1</td>\n",
              "      <td>Кира</td>\n",
              "      <td>22</td>\n",
              "      <td>Тюмень</td>\n",
              "      <td>ultra</td>\n",
              "      <td>4410.0</td>\n",
              "      <td>25.599769</td>\n",
              "      <td>2021-01-01</td>\n",
              "      <td>1</td>\n",
              "      <td>6</td>\n",
              "      <td>0</td>\n",
              "      <td>199</td>\n",
              "    </tr>\n",
              "    <tr>\n",
              "      <th>1</th>\n",
              "      <td>1</td>\n",
              "      <td>Кира</td>\n",
              "      <td>22</td>\n",
              "      <td>Тюмень</td>\n",
              "      <td>ultra</td>\n",
              "      <td>2618.0</td>\n",
              "      <td>15.816871</td>\n",
              "      <td>2021-01-18</td>\n",
              "      <td>1</td>\n",
              "      <td>6</td>\n",
              "      <td>0</td>\n",
              "      <td>199</td>\n",
              "    </tr>\n",
              "    <tr>\n",
              "      <th>2</th>\n",
              "      <td>1</td>\n",
              "      <td>Кира</td>\n",
              "      <td>22</td>\n",
              "      <td>Тюмень</td>\n",
              "      <td>ultra</td>\n",
              "      <td>755.0</td>\n",
              "      <td>6.232113</td>\n",
              "      <td>2021-04-20</td>\n",
              "      <td>4</td>\n",
              "      <td>6</td>\n",
              "      <td>0</td>\n",
              "      <td>199</td>\n",
              "    </tr>\n",
              "    <tr>\n",
              "      <th>3</th>\n",
              "      <td>1</td>\n",
              "      <td>Кира</td>\n",
              "      <td>22</td>\n",
              "      <td>Тюмень</td>\n",
              "      <td>ultra</td>\n",
              "      <td>2695.0</td>\n",
              "      <td>18.511000</td>\n",
              "      <td>2021-08-11</td>\n",
              "      <td>8</td>\n",
              "      <td>6</td>\n",
              "      <td>0</td>\n",
              "      <td>199</td>\n",
              "    </tr>\n",
              "    <tr>\n",
              "      <th>4</th>\n",
              "      <td>1</td>\n",
              "      <td>Кира</td>\n",
              "      <td>22</td>\n",
              "      <td>Тюмень</td>\n",
              "      <td>ultra</td>\n",
              "      <td>4029.0</td>\n",
              "      <td>26.265803</td>\n",
              "      <td>2021-08-28</td>\n",
              "      <td>8</td>\n",
              "      <td>6</td>\n",
              "      <td>0</td>\n",
              "      <td>199</td>\n",
              "    </tr>\n",
              "    <tr>\n",
              "      <th>...</th>\n",
              "      <td>...</td>\n",
              "      <td>...</td>\n",
              "      <td>...</td>\n",
              "      <td>...</td>\n",
              "      <td>...</td>\n",
              "      <td>...</td>\n",
              "      <td>...</td>\n",
              "      <td>...</td>\n",
              "      <td>...</td>\n",
              "      <td>...</td>\n",
              "      <td>...</td>\n",
              "      <td>...</td>\n",
              "    </tr>\n",
              "    <tr>\n",
              "      <th>17968</th>\n",
              "      <td>1534</td>\n",
              "      <td>Альберт</td>\n",
              "      <td>25</td>\n",
              "      <td>Краснодар</td>\n",
              "      <td>free</td>\n",
              "      <td>3782.0</td>\n",
              "      <td>19.822962</td>\n",
              "      <td>2021-11-04</td>\n",
              "      <td>11</td>\n",
              "      <td>8</td>\n",
              "      <td>50</td>\n",
              "      <td>0</td>\n",
              "    </tr>\n",
              "    <tr>\n",
              "      <th>17969</th>\n",
              "      <td>1534</td>\n",
              "      <td>Альберт</td>\n",
              "      <td>25</td>\n",
              "      <td>Краснодар</td>\n",
              "      <td>free</td>\n",
              "      <td>2841.0</td>\n",
              "      <td>21.409799</td>\n",
              "      <td>2021-11-16</td>\n",
              "      <td>11</td>\n",
              "      <td>8</td>\n",
              "      <td>50</td>\n",
              "      <td>0</td>\n",
              "    </tr>\n",
              "    <tr>\n",
              "      <th>17970</th>\n",
              "      <td>1534</td>\n",
              "      <td>Альберт</td>\n",
              "      <td>25</td>\n",
              "      <td>Краснодар</td>\n",
              "      <td>free</td>\n",
              "      <td>3827.0</td>\n",
              "      <td>18.435051</td>\n",
              "      <td>2021-11-18</td>\n",
              "      <td>11</td>\n",
              "      <td>8</td>\n",
              "      <td>50</td>\n",
              "      <td>0</td>\n",
              "    </tr>\n",
              "    <tr>\n",
              "      <th>17971</th>\n",
              "      <td>1534</td>\n",
              "      <td>Альберт</td>\n",
              "      <td>25</td>\n",
              "      <td>Краснодар</td>\n",
              "      <td>free</td>\n",
              "      <td>2903.0</td>\n",
              "      <td>16.674362</td>\n",
              "      <td>2021-11-27</td>\n",
              "      <td>11</td>\n",
              "      <td>8</td>\n",
              "      <td>50</td>\n",
              "      <td>0</td>\n",
              "    </tr>\n",
              "    <tr>\n",
              "      <th>17972</th>\n",
              "      <td>1534</td>\n",
              "      <td>Альберт</td>\n",
              "      <td>25</td>\n",
              "      <td>Краснодар</td>\n",
              "      <td>free</td>\n",
              "      <td>2372.0</td>\n",
              "      <td>15.893917</td>\n",
              "      <td>2021-12-29</td>\n",
              "      <td>12</td>\n",
              "      <td>8</td>\n",
              "      <td>50</td>\n",
              "      <td>0</td>\n",
              "    </tr>\n",
              "  </tbody>\n",
              "</table>\n",
              "<p>17973 rows × 12 columns</p>\n",
              "</div>"
            ],
            "text/plain": [
              "       user_id     name  age       city subscription_type  distance  \\\n",
              "0            1     Кира   22     Тюмень             ultra    4410.0   \n",
              "1            1     Кира   22     Тюмень             ultra    2618.0   \n",
              "2            1     Кира   22     Тюмень             ultra     755.0   \n",
              "3            1     Кира   22     Тюмень             ultra    2695.0   \n",
              "4            1     Кира   22     Тюмень             ultra    4029.0   \n",
              "...        ...      ...  ...        ...               ...       ...   \n",
              "17968     1534  Альберт   25  Краснодар              free    3782.0   \n",
              "17969     1534  Альберт   25  Краснодар              free    2841.0   \n",
              "17970     1534  Альберт   25  Краснодар              free    3827.0   \n",
              "17971     1534  Альберт   25  Краснодар              free    2903.0   \n",
              "17972     1534  Альберт   25  Краснодар              free    2372.0   \n",
              "\n",
              "        duration       date  month  minute_price  start_ride_price  \\\n",
              "0      25.599769 2021-01-01      1             6                 0   \n",
              "1      15.816871 2021-01-18      1             6                 0   \n",
              "2       6.232113 2021-04-20      4             6                 0   \n",
              "3      18.511000 2021-08-11      8             6                 0   \n",
              "4      26.265803 2021-08-28      8             6                 0   \n",
              "...          ...        ...    ...           ...               ...   \n",
              "17968  19.822962 2021-11-04     11             8                50   \n",
              "17969  21.409799 2021-11-16     11             8                50   \n",
              "17970  18.435051 2021-11-18     11             8                50   \n",
              "17971  16.674362 2021-11-27     11             8                50   \n",
              "17972  15.893917 2021-12-29     12             8                50   \n",
              "\n",
              "       subscription_fee  \n",
              "0                   199  \n",
              "1                   199  \n",
              "2                   199  \n",
              "3                   199  \n",
              "4                   199  \n",
              "...                 ...  \n",
              "17968                 0  \n",
              "17969                 0  \n",
              "17970                 0  \n",
              "17971                 0  \n",
              "17972                 0  \n",
              "\n",
              "[17973 rows x 12 columns]"
            ]
          },
          "execution_count": 32,
          "metadata": {},
          "output_type": "execute_result"
        }
      ],
      "source": [
        "df"
      ]
    },
    {
      "cell_type": "code",
      "execution_count": null,
      "id": "2e738993",
      "metadata": {
        "id": "2e738993",
        "outputId": "31126e2c-59e3-4744-ccbf-3dde45a9faf0"
      },
      "outputs": [
        {
          "data": {
            "text/html": [
              "<div>\n",
              "<style scoped>\n",
              "    .dataframe tbody tr th:only-of-type {\n",
              "        vertical-align: middle;\n",
              "    }\n",
              "\n",
              "    .dataframe tbody tr th {\n",
              "        vertical-align: top;\n",
              "    }\n",
              "\n",
              "    .dataframe thead th {\n",
              "        text-align: right;\n",
              "    }\n",
              "</style>\n",
              "<table border=\"1\" class=\"dataframe\">\n",
              "  <thead>\n",
              "    <tr style=\"text-align: right;\">\n",
              "      <th></th>\n",
              "      <th>user_id</th>\n",
              "      <th>distance</th>\n",
              "      <th>duration</th>\n",
              "      <th>date</th>\n",
              "      <th>month</th>\n",
              "    </tr>\n",
              "  </thead>\n",
              "  <tbody>\n",
              "    <tr>\n",
              "      <th>0</th>\n",
              "      <td>1</td>\n",
              "      <td>4410.0</td>\n",
              "      <td>25.599769</td>\n",
              "      <td>2021-01-01</td>\n",
              "      <td>1</td>\n",
              "    </tr>\n",
              "    <tr>\n",
              "      <th>1</th>\n",
              "      <td>1</td>\n",
              "      <td>2618.0</td>\n",
              "      <td>15.816871</td>\n",
              "      <td>2021-01-18</td>\n",
              "      <td>1</td>\n",
              "    </tr>\n",
              "    <tr>\n",
              "      <th>2</th>\n",
              "      <td>1</td>\n",
              "      <td>755.0</td>\n",
              "      <td>6.232113</td>\n",
              "      <td>2021-04-20</td>\n",
              "      <td>4</td>\n",
              "    </tr>\n",
              "    <tr>\n",
              "      <th>3</th>\n",
              "      <td>1</td>\n",
              "      <td>2695.0</td>\n",
              "      <td>18.511000</td>\n",
              "      <td>2021-08-11</td>\n",
              "      <td>8</td>\n",
              "    </tr>\n",
              "    <tr>\n",
              "      <th>4</th>\n",
              "      <td>1</td>\n",
              "      <td>4029.0</td>\n",
              "      <td>26.265803</td>\n",
              "      <td>2021-08-28</td>\n",
              "      <td>8</td>\n",
              "    </tr>\n",
              "    <tr>\n",
              "      <th>...</th>\n",
              "      <td>...</td>\n",
              "      <td>...</td>\n",
              "      <td>...</td>\n",
              "      <td>...</td>\n",
              "      <td>...</td>\n",
              "    </tr>\n",
              "    <tr>\n",
              "      <th>18063</th>\n",
              "      <td>1534</td>\n",
              "      <td>3782.0</td>\n",
              "      <td>19.822962</td>\n",
              "      <td>2021-11-04</td>\n",
              "      <td>11</td>\n",
              "    </tr>\n",
              "    <tr>\n",
              "      <th>18064</th>\n",
              "      <td>1534</td>\n",
              "      <td>2841.0</td>\n",
              "      <td>21.409799</td>\n",
              "      <td>2021-11-16</td>\n",
              "      <td>11</td>\n",
              "    </tr>\n",
              "    <tr>\n",
              "      <th>18065</th>\n",
              "      <td>1534</td>\n",
              "      <td>3827.0</td>\n",
              "      <td>18.435051</td>\n",
              "      <td>2021-11-18</td>\n",
              "      <td>11</td>\n",
              "    </tr>\n",
              "    <tr>\n",
              "      <th>18066</th>\n",
              "      <td>1534</td>\n",
              "      <td>2903.0</td>\n",
              "      <td>16.674362</td>\n",
              "      <td>2021-11-27</td>\n",
              "      <td>11</td>\n",
              "    </tr>\n",
              "    <tr>\n",
              "      <th>18067</th>\n",
              "      <td>1534</td>\n",
              "      <td>2372.0</td>\n",
              "      <td>15.893917</td>\n",
              "      <td>2021-12-29</td>\n",
              "      <td>12</td>\n",
              "    </tr>\n",
              "  </tbody>\n",
              "</table>\n",
              "<p>17973 rows × 5 columns</p>\n",
              "</div>"
            ],
            "text/plain": [
              "       user_id  distance   duration       date  month\n",
              "0            1    4410.0  25.599769 2021-01-01      1\n",
              "1            1    2618.0  15.816871 2021-01-18      1\n",
              "2            1     755.0   6.232113 2021-04-20      4\n",
              "3            1    2695.0  18.511000 2021-08-11      8\n",
              "4            1    4029.0  26.265803 2021-08-28      8\n",
              "...        ...       ...        ...        ...    ...\n",
              "18063     1534    3782.0  19.822962 2021-11-04     11\n",
              "18064     1534    2841.0  21.409799 2021-11-16     11\n",
              "18065     1534    3827.0  18.435051 2021-11-18     11\n",
              "18066     1534    2903.0  16.674362 2021-11-27     11\n",
              "18067     1534    2372.0  15.893917 2021-12-29     12\n",
              "\n",
              "[17973 rows x 5 columns]"
            ]
          },
          "execution_count": 33,
          "metadata": {},
          "output_type": "execute_result"
        }
      ],
      "source": [
        "rides"
      ]
    },
    {
      "cell_type": "markdown",
      "id": "2b7924ee",
      "metadata": {
        "id": "2b7924ee"
      },
      "source": [
        "Количество записей ровно как в одно из исходных DataFrame"
      ]
    },
    {
      "cell_type": "code",
      "execution_count": null,
      "id": "94539034",
      "metadata": {
        "id": "94539034",
        "outputId": "afa7a9bd-5bed-43dd-a710-24626ccc7af9"
      },
      "outputs": [
        {
          "data": {
            "text/plain": [
              "user_id              0\n",
              "name                 0\n",
              "age                  0\n",
              "city                 0\n",
              "subscription_type    0\n",
              "distance             0\n",
              "duration             0\n",
              "date                 0\n",
              "month                0\n",
              "minute_price         0\n",
              "start_ride_price     0\n",
              "subscription_fee     0\n",
              "dtype: int64"
            ]
          },
          "execution_count": 34,
          "metadata": {},
          "output_type": "execute_result"
        }
      ],
      "source": [
        "df.isna().sum()"
      ]
    },
    {
      "cell_type": "markdown",
      "id": "7003df9a",
      "metadata": {
        "id": "7003df9a"
      },
      "source": [
        "Новых пропусков не появилось"
      ]
    },
    {
      "cell_type": "code",
      "execution_count": null,
      "id": "d64a9a26",
      "metadata": {
        "id": "d64a9a26",
        "outputId": "ad420a26-4bba-4e54-c6f9-17850c992337"
      },
      "outputs": [
        {
          "data": {
            "text/html": [
              "<div>\n",
              "<style scoped>\n",
              "    .dataframe tbody tr th:only-of-type {\n",
              "        vertical-align: middle;\n",
              "    }\n",
              "\n",
              "    .dataframe tbody tr th {\n",
              "        vertical-align: top;\n",
              "    }\n",
              "\n",
              "    .dataframe thead th {\n",
              "        text-align: right;\n",
              "    }\n",
              "</style>\n",
              "<table border=\"1\" class=\"dataframe\">\n",
              "  <thead>\n",
              "    <tr style=\"text-align: right;\">\n",
              "      <th></th>\n",
              "      <th>user_id</th>\n",
              "      <th>name</th>\n",
              "      <th>age</th>\n",
              "      <th>city</th>\n",
              "      <th>subscription_type</th>\n",
              "      <th>distance</th>\n",
              "      <th>duration</th>\n",
              "      <th>date</th>\n",
              "      <th>month</th>\n",
              "      <th>minute_price</th>\n",
              "      <th>start_ride_price</th>\n",
              "      <th>subscription_fee</th>\n",
              "    </tr>\n",
              "  </thead>\n",
              "  <tbody>\n",
              "    <tr>\n",
              "      <th>6500</th>\n",
              "      <td>700</td>\n",
              "      <td>Айдар</td>\n",
              "      <td>22</td>\n",
              "      <td>Омск</td>\n",
              "      <td>free</td>\n",
              "      <td>2516.0</td>\n",
              "      <td>14.944286</td>\n",
              "      <td>2021-01-02</td>\n",
              "      <td>1</td>\n",
              "      <td>8</td>\n",
              "      <td>50</td>\n",
              "      <td>0</td>\n",
              "    </tr>\n",
              "    <tr>\n",
              "      <th>6501</th>\n",
              "      <td>700</td>\n",
              "      <td>Айдар</td>\n",
              "      <td>22</td>\n",
              "      <td>Омск</td>\n",
              "      <td>free</td>\n",
              "      <td>847.0</td>\n",
              "      <td>16.234663</td>\n",
              "      <td>2021-02-01</td>\n",
              "      <td>2</td>\n",
              "      <td>8</td>\n",
              "      <td>50</td>\n",
              "      <td>0</td>\n",
              "    </tr>\n",
              "    <tr>\n",
              "      <th>6502</th>\n",
              "      <td>700</td>\n",
              "      <td>Айдар</td>\n",
              "      <td>22</td>\n",
              "      <td>Омск</td>\n",
              "      <td>free</td>\n",
              "      <td>4005.0</td>\n",
              "      <td>20.016628</td>\n",
              "      <td>2021-02-04</td>\n",
              "      <td>2</td>\n",
              "      <td>8</td>\n",
              "      <td>50</td>\n",
              "      <td>0</td>\n",
              "    </tr>\n",
              "    <tr>\n",
              "      <th>6503</th>\n",
              "      <td>700</td>\n",
              "      <td>Айдар</td>\n",
              "      <td>22</td>\n",
              "      <td>Омск</td>\n",
              "      <td>free</td>\n",
              "      <td>1206.0</td>\n",
              "      <td>9.782872</td>\n",
              "      <td>2021-02-10</td>\n",
              "      <td>2</td>\n",
              "      <td>8</td>\n",
              "      <td>50</td>\n",
              "      <td>0</td>\n",
              "    </tr>\n",
              "    <tr>\n",
              "      <th>6504</th>\n",
              "      <td>700</td>\n",
              "      <td>Айдар</td>\n",
              "      <td>22</td>\n",
              "      <td>Омск</td>\n",
              "      <td>free</td>\n",
              "      <td>3048.0</td>\n",
              "      <td>17.427673</td>\n",
              "      <td>2021-02-14</td>\n",
              "      <td>2</td>\n",
              "      <td>8</td>\n",
              "      <td>50</td>\n",
              "      <td>0</td>\n",
              "    </tr>\n",
              "    <tr>\n",
              "      <th>...</th>\n",
              "      <td>...</td>\n",
              "      <td>...</td>\n",
              "      <td>...</td>\n",
              "      <td>...</td>\n",
              "      <td>...</td>\n",
              "      <td>...</td>\n",
              "      <td>...</td>\n",
              "      <td>...</td>\n",
              "      <td>...</td>\n",
              "      <td>...</td>\n",
              "      <td>...</td>\n",
              "      <td>...</td>\n",
              "    </tr>\n",
              "    <tr>\n",
              "      <th>17968</th>\n",
              "      <td>1534</td>\n",
              "      <td>Альберт</td>\n",
              "      <td>25</td>\n",
              "      <td>Краснодар</td>\n",
              "      <td>free</td>\n",
              "      <td>3782.0</td>\n",
              "      <td>19.822962</td>\n",
              "      <td>2021-11-04</td>\n",
              "      <td>11</td>\n",
              "      <td>8</td>\n",
              "      <td>50</td>\n",
              "      <td>0</td>\n",
              "    </tr>\n",
              "    <tr>\n",
              "      <th>17969</th>\n",
              "      <td>1534</td>\n",
              "      <td>Альберт</td>\n",
              "      <td>25</td>\n",
              "      <td>Краснодар</td>\n",
              "      <td>free</td>\n",
              "      <td>2841.0</td>\n",
              "      <td>21.409799</td>\n",
              "      <td>2021-11-16</td>\n",
              "      <td>11</td>\n",
              "      <td>8</td>\n",
              "      <td>50</td>\n",
              "      <td>0</td>\n",
              "    </tr>\n",
              "    <tr>\n",
              "      <th>17970</th>\n",
              "      <td>1534</td>\n",
              "      <td>Альберт</td>\n",
              "      <td>25</td>\n",
              "      <td>Краснодар</td>\n",
              "      <td>free</td>\n",
              "      <td>3827.0</td>\n",
              "      <td>18.435051</td>\n",
              "      <td>2021-11-18</td>\n",
              "      <td>11</td>\n",
              "      <td>8</td>\n",
              "      <td>50</td>\n",
              "      <td>0</td>\n",
              "    </tr>\n",
              "    <tr>\n",
              "      <th>17971</th>\n",
              "      <td>1534</td>\n",
              "      <td>Альберт</td>\n",
              "      <td>25</td>\n",
              "      <td>Краснодар</td>\n",
              "      <td>free</td>\n",
              "      <td>2903.0</td>\n",
              "      <td>16.674362</td>\n",
              "      <td>2021-11-27</td>\n",
              "      <td>11</td>\n",
              "      <td>8</td>\n",
              "      <td>50</td>\n",
              "      <td>0</td>\n",
              "    </tr>\n",
              "    <tr>\n",
              "      <th>17972</th>\n",
              "      <td>1534</td>\n",
              "      <td>Альберт</td>\n",
              "      <td>25</td>\n",
              "      <td>Краснодар</td>\n",
              "      <td>free</td>\n",
              "      <td>2372.0</td>\n",
              "      <td>15.893917</td>\n",
              "      <td>2021-12-29</td>\n",
              "      <td>12</td>\n",
              "      <td>8</td>\n",
              "      <td>50</td>\n",
              "      <td>0</td>\n",
              "    </tr>\n",
              "  </tbody>\n",
              "</table>\n",
              "<p>11473 rows × 12 columns</p>\n",
              "</div>"
            ],
            "text/plain": [
              "       user_id     name  age       city subscription_type  distance  \\\n",
              "6500       700    Айдар   22       Омск              free    2516.0   \n",
              "6501       700    Айдар   22       Омск              free     847.0   \n",
              "6502       700    Айдар   22       Омск              free    4005.0   \n",
              "6503       700    Айдар   22       Омск              free    1206.0   \n",
              "6504       700    Айдар   22       Омск              free    3048.0   \n",
              "...        ...      ...  ...        ...               ...       ...   \n",
              "17968     1534  Альберт   25  Краснодар              free    3782.0   \n",
              "17969     1534  Альберт   25  Краснодар              free    2841.0   \n",
              "17970     1534  Альберт   25  Краснодар              free    3827.0   \n",
              "17971     1534  Альберт   25  Краснодар              free    2903.0   \n",
              "17972     1534  Альберт   25  Краснодар              free    2372.0   \n",
              "\n",
              "        duration       date  month  minute_price  start_ride_price  \\\n",
              "6500   14.944286 2021-01-02      1             8                50   \n",
              "6501   16.234663 2021-02-01      2             8                50   \n",
              "6502   20.016628 2021-02-04      2             8                50   \n",
              "6503    9.782872 2021-02-10      2             8                50   \n",
              "6504   17.427673 2021-02-14      2             8                50   \n",
              "...          ...        ...    ...           ...               ...   \n",
              "17968  19.822962 2021-11-04     11             8                50   \n",
              "17969  21.409799 2021-11-16     11             8                50   \n",
              "17970  18.435051 2021-11-18     11             8                50   \n",
              "17971  16.674362 2021-11-27     11             8                50   \n",
              "17972  15.893917 2021-12-29     12             8                50   \n",
              "\n",
              "       subscription_fee  \n",
              "6500                  0  \n",
              "6501                  0  \n",
              "6502                  0  \n",
              "6503                  0  \n",
              "6504                  0  \n",
              "...                 ...  \n",
              "17968                 0  \n",
              "17969                 0  \n",
              "17970                 0  \n",
              "17971                 0  \n",
              "17972                 0  \n",
              "\n",
              "[11473 rows x 12 columns]"
            ]
          },
          "execution_count": 35,
          "metadata": {},
          "output_type": "execute_result"
        }
      ],
      "source": [
        "plebs = df[df['subscription_type'] == 'free']\n",
        "plebs"
      ]
    },
    {
      "cell_type": "code",
      "execution_count": null,
      "id": "a7d7b0f8",
      "metadata": {
        "scrolled": false,
        "id": "a7d7b0f8",
        "outputId": "1adf001d-8f9f-4ea4-f310-f4168f9a70ee"
      },
      "outputs": [
        {
          "data": {
            "text/html": [
              "<div>\n",
              "<style scoped>\n",
              "    .dataframe tbody tr th:only-of-type {\n",
              "        vertical-align: middle;\n",
              "    }\n",
              "\n",
              "    .dataframe tbody tr th {\n",
              "        vertical-align: top;\n",
              "    }\n",
              "\n",
              "    .dataframe thead th {\n",
              "        text-align: right;\n",
              "    }\n",
              "</style>\n",
              "<table border=\"1\" class=\"dataframe\">\n",
              "  <thead>\n",
              "    <tr style=\"text-align: right;\">\n",
              "      <th></th>\n",
              "      <th>user_id</th>\n",
              "      <th>name</th>\n",
              "      <th>age</th>\n",
              "      <th>city</th>\n",
              "      <th>subscription_type</th>\n",
              "      <th>distance</th>\n",
              "      <th>duration</th>\n",
              "      <th>date</th>\n",
              "      <th>month</th>\n",
              "      <th>minute_price</th>\n",
              "      <th>start_ride_price</th>\n",
              "      <th>subscription_fee</th>\n",
              "    </tr>\n",
              "  </thead>\n",
              "  <tbody>\n",
              "    <tr>\n",
              "      <th>0</th>\n",
              "      <td>1</td>\n",
              "      <td>Кира</td>\n",
              "      <td>22</td>\n",
              "      <td>Тюмень</td>\n",
              "      <td>ultra</td>\n",
              "      <td>4410.0</td>\n",
              "      <td>25.599769</td>\n",
              "      <td>2021-01-01</td>\n",
              "      <td>1</td>\n",
              "      <td>6</td>\n",
              "      <td>0</td>\n",
              "      <td>199</td>\n",
              "    </tr>\n",
              "    <tr>\n",
              "      <th>1</th>\n",
              "      <td>1</td>\n",
              "      <td>Кира</td>\n",
              "      <td>22</td>\n",
              "      <td>Тюмень</td>\n",
              "      <td>ultra</td>\n",
              "      <td>2618.0</td>\n",
              "      <td>15.816871</td>\n",
              "      <td>2021-01-18</td>\n",
              "      <td>1</td>\n",
              "      <td>6</td>\n",
              "      <td>0</td>\n",
              "      <td>199</td>\n",
              "    </tr>\n",
              "    <tr>\n",
              "      <th>2</th>\n",
              "      <td>1</td>\n",
              "      <td>Кира</td>\n",
              "      <td>22</td>\n",
              "      <td>Тюмень</td>\n",
              "      <td>ultra</td>\n",
              "      <td>755.0</td>\n",
              "      <td>6.232113</td>\n",
              "      <td>2021-04-20</td>\n",
              "      <td>4</td>\n",
              "      <td>6</td>\n",
              "      <td>0</td>\n",
              "      <td>199</td>\n",
              "    </tr>\n",
              "    <tr>\n",
              "      <th>3</th>\n",
              "      <td>1</td>\n",
              "      <td>Кира</td>\n",
              "      <td>22</td>\n",
              "      <td>Тюмень</td>\n",
              "      <td>ultra</td>\n",
              "      <td>2695.0</td>\n",
              "      <td>18.511000</td>\n",
              "      <td>2021-08-11</td>\n",
              "      <td>8</td>\n",
              "      <td>6</td>\n",
              "      <td>0</td>\n",
              "      <td>199</td>\n",
              "    </tr>\n",
              "    <tr>\n",
              "      <th>4</th>\n",
              "      <td>1</td>\n",
              "      <td>Кира</td>\n",
              "      <td>22</td>\n",
              "      <td>Тюмень</td>\n",
              "      <td>ultra</td>\n",
              "      <td>4029.0</td>\n",
              "      <td>26.265803</td>\n",
              "      <td>2021-08-28</td>\n",
              "      <td>8</td>\n",
              "      <td>6</td>\n",
              "      <td>0</td>\n",
              "      <td>199</td>\n",
              "    </tr>\n",
              "    <tr>\n",
              "      <th>...</th>\n",
              "      <td>...</td>\n",
              "      <td>...</td>\n",
              "      <td>...</td>\n",
              "      <td>...</td>\n",
              "      <td>...</td>\n",
              "      <td>...</td>\n",
              "      <td>...</td>\n",
              "      <td>...</td>\n",
              "      <td>...</td>\n",
              "      <td>...</td>\n",
              "      <td>...</td>\n",
              "      <td>...</td>\n",
              "    </tr>\n",
              "    <tr>\n",
              "      <th>6495</th>\n",
              "      <td>699</td>\n",
              "      <td>Оксана</td>\n",
              "      <td>22</td>\n",
              "      <td>Москва</td>\n",
              "      <td>ultra</td>\n",
              "      <td>3974.0</td>\n",
              "      <td>24.671163</td>\n",
              "      <td>2021-08-29</td>\n",
              "      <td>8</td>\n",
              "      <td>6</td>\n",
              "      <td>0</td>\n",
              "      <td>199</td>\n",
              "    </tr>\n",
              "    <tr>\n",
              "      <th>6496</th>\n",
              "      <td>699</td>\n",
              "      <td>Оксана</td>\n",
              "      <td>22</td>\n",
              "      <td>Москва</td>\n",
              "      <td>ultra</td>\n",
              "      <td>3289.0</td>\n",
              "      <td>15.892886</td>\n",
              "      <td>2021-09-12</td>\n",
              "      <td>9</td>\n",
              "      <td>6</td>\n",
              "      <td>0</td>\n",
              "      <td>199</td>\n",
              "    </tr>\n",
              "    <tr>\n",
              "      <th>6497</th>\n",
              "      <td>699</td>\n",
              "      <td>Оксана</td>\n",
              "      <td>22</td>\n",
              "      <td>Москва</td>\n",
              "      <td>ultra</td>\n",
              "      <td>3077.0</td>\n",
              "      <td>14.389525</td>\n",
              "      <td>2021-09-26</td>\n",
              "      <td>9</td>\n",
              "      <td>6</td>\n",
              "      <td>0</td>\n",
              "      <td>199</td>\n",
              "    </tr>\n",
              "    <tr>\n",
              "      <th>6498</th>\n",
              "      <td>699</td>\n",
              "      <td>Оксана</td>\n",
              "      <td>22</td>\n",
              "      <td>Москва</td>\n",
              "      <td>ultra</td>\n",
              "      <td>4708.0</td>\n",
              "      <td>15.839579</td>\n",
              "      <td>2021-10-17</td>\n",
              "      <td>10</td>\n",
              "      <td>6</td>\n",
              "      <td>0</td>\n",
              "      <td>199</td>\n",
              "    </tr>\n",
              "    <tr>\n",
              "      <th>6499</th>\n",
              "      <td>699</td>\n",
              "      <td>Оксана</td>\n",
              "      <td>22</td>\n",
              "      <td>Москва</td>\n",
              "      <td>ultra</td>\n",
              "      <td>3203.0</td>\n",
              "      <td>25.217345</td>\n",
              "      <td>2021-12-03</td>\n",
              "      <td>12</td>\n",
              "      <td>6</td>\n",
              "      <td>0</td>\n",
              "      <td>199</td>\n",
              "    </tr>\n",
              "  </tbody>\n",
              "</table>\n",
              "<p>6500 rows × 12 columns</p>\n",
              "</div>"
            ],
            "text/plain": [
              "      user_id    name  age    city subscription_type  distance   duration  \\\n",
              "0           1    Кира   22  Тюмень             ultra    4410.0  25.599769   \n",
              "1           1    Кира   22  Тюмень             ultra    2618.0  15.816871   \n",
              "2           1    Кира   22  Тюмень             ultra     755.0   6.232113   \n",
              "3           1    Кира   22  Тюмень             ultra    2695.0  18.511000   \n",
              "4           1    Кира   22  Тюмень             ultra    4029.0  26.265803   \n",
              "...       ...     ...  ...     ...               ...       ...        ...   \n",
              "6495      699  Оксана   22  Москва             ultra    3974.0  24.671163   \n",
              "6496      699  Оксана   22  Москва             ultra    3289.0  15.892886   \n",
              "6497      699  Оксана   22  Москва             ultra    3077.0  14.389525   \n",
              "6498      699  Оксана   22  Москва             ultra    4708.0  15.839579   \n",
              "6499      699  Оксана   22  Москва             ultra    3203.0  25.217345   \n",
              "\n",
              "           date  month  minute_price  start_ride_price  subscription_fee  \n",
              "0    2021-01-01      1             6                 0               199  \n",
              "1    2021-01-18      1             6                 0               199  \n",
              "2    2021-04-20      4             6                 0               199  \n",
              "3    2021-08-11      8             6                 0               199  \n",
              "4    2021-08-28      8             6                 0               199  \n",
              "...         ...    ...           ...               ...               ...  \n",
              "6495 2021-08-29      8             6                 0               199  \n",
              "6496 2021-09-12      9             6                 0               199  \n",
              "6497 2021-09-26      9             6                 0               199  \n",
              "6498 2021-10-17     10             6                 0               199  \n",
              "6499 2021-12-03     12             6                 0               199  \n",
              "\n",
              "[6500 rows x 12 columns]"
            ]
          },
          "execution_count": 36,
          "metadata": {},
          "output_type": "execute_result"
        }
      ],
      "source": [
        "subs = df[df['subscription_type'] == 'ultra']\n",
        "subs"
      ]
    },
    {
      "cell_type": "markdown",
      "id": "4f715fd0",
      "metadata": {
        "id": "4f715fd0"
      },
      "source": [
        "### Визуализация общей информации о пользователях с подпиской и без"
      ]
    },
    {
      "cell_type": "code",
      "execution_count": null,
      "id": "57214e3c",
      "metadata": {
        "scrolled": true,
        "id": "57214e3c",
        "outputId": "6e5f53ba-b617-4759-b198-e22ebccccd5e"
      },
      "outputs": [
        {
          "data": {
            "image/png": "[encoded data removed]",
            "text/plain": [
              "<Figure size 1080x360 with 1 Axes>"
            ]
          },
          "metadata": {
            "needs_background": "light"
          },
          "output_type": "display_data"
        }
      ],
      "source": [
        "pd.Series(plebs['distance']).plot(kind='hist', bins=50, grid=True, color='orange')\n",
        "pd.Series(subs['distance']).plot(kind='hist', bins=50, grid=True, title='Количество проеденных метров за 1 поездку', color='blue')\n",
        "plt.legend(['Plebs', 'Subs'])\n",
        "plt.xlabel('Метры')\n",
        "plt.ylabel('Частота появления')\n",
        "plt.show()"
      ]
    },
    {
      "cell_type": "markdown",
      "id": "5642cf07",
      "metadata": {
        "id": "5642cf07"
      },
      "source": [
        "Приблизим два графика в районе 200-2000"
      ]
    },
    {
      "cell_type": "code",
      "execution_count": null,
      "id": "241ba003",
      "metadata": {
        "scrolled": true,
        "id": "241ba003",
        "outputId": "48462882-949f-45d0-c5d9-fee652daf589"
      },
      "outputs": [
        {
          "data": {
            "image/png": "[encoded data removed]",
            "text/plain": [
              "<Figure size 1080x360 with 1 Axes>"
            ]
          },
          "metadata": {
            "needs_background": "light"
          },
          "output_type": "display_data"
        }
      ],
      "source": [
        "pd.Series(plebs['distance']).plot(kind='hist', bins=50, grid=True, range=(200,2000), color='orange')\n",
        "pd.Series(subs['distance']).plot(kind='hist', bins=50, grid=True, title='Количество проеденных метров за 1 поездку',range=(200,2000), color='blue')\n",
        "plt.legend(['Plebs', 'Subs'])\n",
        "plt.xlabel('Метры')\n",
        "plt.ylabel('Частота появления')\n",
        "plt.show()"
      ]
    },
    {
      "cell_type": "markdown",
      "id": "aa0e7bf4",
      "metadata": {
        "id": "aa0e7bf4"
      },
      "source": [
        "Отчетливо видно, что пользователи без подписки чаще используют самокат для быстрых перемещений(Скорее всего один раз)"
      ]
    },
    {
      "cell_type": "code",
      "execution_count": null,
      "id": "e70bf8fb",
      "metadata": {
        "scrolled": false,
        "id": "e70bf8fb",
        "outputId": "325141b7-15a2-4576-af92-f4aceaaac00a"
      },
      "outputs": [
        {
          "data": {
            "image/png": "[encoded data removed]",
            "text/plain": [
              "<Figure size 1080x360 with 1 Axes>"
            ]
          },
          "metadata": {
            "needs_background": "light"
          },
          "output_type": "display_data"
        }
      ],
      "source": [
        "pd.Series(plebs['duration']).plot(kind='hist', bins=34, grid=True, color='blue')\n",
        "pd.Series(subs['duration']).plot(kind='hist', bins=38, grid=True, title='Количество потраченного времени за 1 поездку', color='orange')\n",
        "plt.legend(['Subs', 'Plebs'])\n",
        "plt.xlabel('Минуты')\n",
        "plt.ylabel('Частота появления')\n",
        "plt.show()"
      ]
    },
    {
      "cell_type": "markdown",
      "id": "0090a90c",
      "metadata": {
        "id": "0090a90c"
      },
      "source": [
        "### Вывод по шагу 4"
      ]
    },
    {
      "cell_type": "markdown",
      "id": "9e521f42",
      "metadata": {
        "id": "9e521f42"
      },
      "source": [
        "Создали единый DataFrame из трех изначальных, добавили там столбец с прибылью за каждую поездку, а затем разделили надве страты(выборки с условием): клиенты с подпиской и без. Проанализировали базовые данные о каждой группе.\n",
        "\n",
        "- Клиенты без подписки, проезжают более разнообразные расстояния, когда как клиенты имеющие подписку зачастую проезжают в районе 2000-4000 м.\n",
        "\n",
        "- Клиенты без подписки тратят куда меньше времени на поездки, так как, логично предположить, у них каждая минута на счету."
      ]
    },
    {
      "cell_type": "markdown",
      "id": "402d620f",
      "metadata": {
        "id": "402d620f"
      },
      "source": [
        "## Шаг 5. Подсчёт выручки"
      ]
    },
    {
      "cell_type": "markdown",
      "id": "d46de2cc",
      "metadata": {
        "id": "d46de2cc"
      },
      "source": [
        "### Создание сводной таблицы с информацией о каждом месяце для каждого клиента"
      ]
    },
    {
      "cell_type": "code",
      "execution_count": null,
      "id": "882e4989",
      "metadata": {
        "scrolled": false,
        "id": "882e4989",
        "outputId": "e4a2dc77-f50d-4be9-ac41-2fbed742afea"
      },
      "outputs": [
        {
          "data": {
            "text/html": [
              "<div>\n",
              "<style scoped>\n",
              "    .dataframe tbody tr th:only-of-type {\n",
              "        vertical-align: middle;\n",
              "    }\n",
              "\n",
              "    .dataframe tbody tr th {\n",
              "        vertical-align: top;\n",
              "    }\n",
              "\n",
              "    .dataframe thead th {\n",
              "        text-align: right;\n",
              "    }\n",
              "</style>\n",
              "<table border=\"1\" class=\"dataframe\">\n",
              "  <thead>\n",
              "    <tr style=\"text-align: right;\">\n",
              "      <th></th>\n",
              "      <th>user_id</th>\n",
              "      <th>name</th>\n",
              "      <th>age</th>\n",
              "      <th>city</th>\n",
              "      <th>subscription_type</th>\n",
              "      <th>distance</th>\n",
              "      <th>duration</th>\n",
              "      <th>date</th>\n",
              "      <th>month</th>\n",
              "      <th>minute_price</th>\n",
              "      <th>start_ride_price</th>\n",
              "      <th>subscription_fee</th>\n",
              "    </tr>\n",
              "  </thead>\n",
              "  <tbody>\n",
              "    <tr>\n",
              "      <th>0</th>\n",
              "      <td>1</td>\n",
              "      <td>Кира</td>\n",
              "      <td>22</td>\n",
              "      <td>Тюмень</td>\n",
              "      <td>ultra</td>\n",
              "      <td>4410.0</td>\n",
              "      <td>25.599769</td>\n",
              "      <td>2021-01-01</td>\n",
              "      <td>1</td>\n",
              "      <td>6</td>\n",
              "      <td>0</td>\n",
              "      <td>199</td>\n",
              "    </tr>\n",
              "    <tr>\n",
              "      <th>1</th>\n",
              "      <td>1</td>\n",
              "      <td>Кира</td>\n",
              "      <td>22</td>\n",
              "      <td>Тюмень</td>\n",
              "      <td>ultra</td>\n",
              "      <td>2618.0</td>\n",
              "      <td>15.816871</td>\n",
              "      <td>2021-01-18</td>\n",
              "      <td>1</td>\n",
              "      <td>6</td>\n",
              "      <td>0</td>\n",
              "      <td>199</td>\n",
              "    </tr>\n",
              "    <tr>\n",
              "      <th>2</th>\n",
              "      <td>1</td>\n",
              "      <td>Кира</td>\n",
              "      <td>22</td>\n",
              "      <td>Тюмень</td>\n",
              "      <td>ultra</td>\n",
              "      <td>755.0</td>\n",
              "      <td>6.232113</td>\n",
              "      <td>2021-04-20</td>\n",
              "      <td>4</td>\n",
              "      <td>6</td>\n",
              "      <td>0</td>\n",
              "      <td>199</td>\n",
              "    </tr>\n",
              "    <tr>\n",
              "      <th>3</th>\n",
              "      <td>1</td>\n",
              "      <td>Кира</td>\n",
              "      <td>22</td>\n",
              "      <td>Тюмень</td>\n",
              "      <td>ultra</td>\n",
              "      <td>2695.0</td>\n",
              "      <td>18.511000</td>\n",
              "      <td>2021-08-11</td>\n",
              "      <td>8</td>\n",
              "      <td>6</td>\n",
              "      <td>0</td>\n",
              "      <td>199</td>\n",
              "    </tr>\n",
              "    <tr>\n",
              "      <th>4</th>\n",
              "      <td>1</td>\n",
              "      <td>Кира</td>\n",
              "      <td>22</td>\n",
              "      <td>Тюмень</td>\n",
              "      <td>ultra</td>\n",
              "      <td>4029.0</td>\n",
              "      <td>26.265803</td>\n",
              "      <td>2021-08-28</td>\n",
              "      <td>8</td>\n",
              "      <td>6</td>\n",
              "      <td>0</td>\n",
              "      <td>199</td>\n",
              "    </tr>\n",
              "    <tr>\n",
              "      <th>...</th>\n",
              "      <td>...</td>\n",
              "      <td>...</td>\n",
              "      <td>...</td>\n",
              "      <td>...</td>\n",
              "      <td>...</td>\n",
              "      <td>...</td>\n",
              "      <td>...</td>\n",
              "      <td>...</td>\n",
              "      <td>...</td>\n",
              "      <td>...</td>\n",
              "      <td>...</td>\n",
              "      <td>...</td>\n",
              "    </tr>\n",
              "    <tr>\n",
              "      <th>17968</th>\n",
              "      <td>1534</td>\n",
              "      <td>Альберт</td>\n",
              "      <td>25</td>\n",
              "      <td>Краснодар</td>\n",
              "      <td>free</td>\n",
              "      <td>3782.0</td>\n",
              "      <td>19.822962</td>\n",
              "      <td>2021-11-04</td>\n",
              "      <td>11</td>\n",
              "      <td>8</td>\n",
              "      <td>50</td>\n",
              "      <td>0</td>\n",
              "    </tr>\n",
              "    <tr>\n",
              "      <th>17969</th>\n",
              "      <td>1534</td>\n",
              "      <td>Альберт</td>\n",
              "      <td>25</td>\n",
              "      <td>Краснодар</td>\n",
              "      <td>free</td>\n",
              "      <td>2841.0</td>\n",
              "      <td>21.409799</td>\n",
              "      <td>2021-11-16</td>\n",
              "      <td>11</td>\n",
              "      <td>8</td>\n",
              "      <td>50</td>\n",
              "      <td>0</td>\n",
              "    </tr>\n",
              "    <tr>\n",
              "      <th>17970</th>\n",
              "      <td>1534</td>\n",
              "      <td>Альберт</td>\n",
              "      <td>25</td>\n",
              "      <td>Краснодар</td>\n",
              "      <td>free</td>\n",
              "      <td>3827.0</td>\n",
              "      <td>18.435051</td>\n",
              "      <td>2021-11-18</td>\n",
              "      <td>11</td>\n",
              "      <td>8</td>\n",
              "      <td>50</td>\n",
              "      <td>0</td>\n",
              "    </tr>\n",
              "    <tr>\n",
              "      <th>17971</th>\n",
              "      <td>1534</td>\n",
              "      <td>Альберт</td>\n",
              "      <td>25</td>\n",
              "      <td>Краснодар</td>\n",
              "      <td>free</td>\n",
              "      <td>2903.0</td>\n",
              "      <td>16.674362</td>\n",
              "      <td>2021-11-27</td>\n",
              "      <td>11</td>\n",
              "      <td>8</td>\n",
              "      <td>50</td>\n",
              "      <td>0</td>\n",
              "    </tr>\n",
              "    <tr>\n",
              "      <th>17972</th>\n",
              "      <td>1534</td>\n",
              "      <td>Альберт</td>\n",
              "      <td>25</td>\n",
              "      <td>Краснодар</td>\n",
              "      <td>free</td>\n",
              "      <td>2372.0</td>\n",
              "      <td>15.893917</td>\n",
              "      <td>2021-12-29</td>\n",
              "      <td>12</td>\n",
              "      <td>8</td>\n",
              "      <td>50</td>\n",
              "      <td>0</td>\n",
              "    </tr>\n",
              "  </tbody>\n",
              "</table>\n",
              "<p>17973 rows × 12 columns</p>\n",
              "</div>"
            ],
            "text/plain": [
              "       user_id     name  age       city subscription_type  distance  \\\n",
              "0            1     Кира   22     Тюмень             ultra    4410.0   \n",
              "1            1     Кира   22     Тюмень             ultra    2618.0   \n",
              "2            1     Кира   22     Тюмень             ultra     755.0   \n",
              "3            1     Кира   22     Тюмень             ultra    2695.0   \n",
              "4            1     Кира   22     Тюмень             ultra    4029.0   \n",
              "...        ...      ...  ...        ...               ...       ...   \n",
              "17968     1534  Альберт   25  Краснодар              free    3782.0   \n",
              "17969     1534  Альберт   25  Краснодар              free    2841.0   \n",
              "17970     1534  Альберт   25  Краснодар              free    3827.0   \n",
              "17971     1534  Альберт   25  Краснодар              free    2903.0   \n",
              "17972     1534  Альберт   25  Краснодар              free    2372.0   \n",
              "\n",
              "        duration       date  month  minute_price  start_ride_price  \\\n",
              "0      25.599769 2021-01-01      1             6                 0   \n",
              "1      15.816871 2021-01-18      1             6                 0   \n",
              "2       6.232113 2021-04-20      4             6                 0   \n",
              "3      18.511000 2021-08-11      8             6                 0   \n",
              "4      26.265803 2021-08-28      8             6                 0   \n",
              "...          ...        ...    ...           ...               ...   \n",
              "17968  19.822962 2021-11-04     11             8                50   \n",
              "17969  21.409799 2021-11-16     11             8                50   \n",
              "17970  18.435051 2021-11-18     11             8                50   \n",
              "17971  16.674362 2021-11-27     11             8                50   \n",
              "17972  15.893917 2021-12-29     12             8                50   \n",
              "\n",
              "       subscription_fee  \n",
              "0                   199  \n",
              "1                   199  \n",
              "2                   199  \n",
              "3                   199  \n",
              "4                   199  \n",
              "...                 ...  \n",
              "17968                 0  \n",
              "17969                 0  \n",
              "17970                 0  \n",
              "17971                 0  \n",
              "17972                 0  \n",
              "\n",
              "[17973 rows x 12 columns]"
            ]
          },
          "execution_count": 40,
          "metadata": {},
          "output_type": "execute_result"
        }
      ],
      "source": [
        "df"
      ]
    },
    {
      "cell_type": "code",
      "execution_count": null,
      "id": "8c2a1482",
      "metadata": {
        "id": "8c2a1482"
      },
      "outputs": [],
      "source": [
        "clean_df = df.groupby(['user_id', 'month']).agg(count = ('date', 'count'),\n",
        "                                     distance = ('distance', 'sum'),\n",
        "                                     time = ('duration', lambda x: np.ceil(x).sum()),\n",
        "                                     minute_price = ('minute_price', 'first'),\n",
        "                                     start_price = ('start_ride_price', 'first')\n",
        "                                    )"
      ]
    },
    {
      "cell_type": "code",
      "execution_count": null,
      "id": "1602e311",
      "metadata": {
        "id": "1602e311",
        "outputId": "88e72459-8166-4eed-93e6-7be9b0642dc9"
      },
      "outputs": [
        {
          "data": {
            "text/html": [
              "<div>\n",
              "<style scoped>\n",
              "    .dataframe tbody tr th:only-of-type {\n",
              "        vertical-align: middle;\n",
              "    }\n",
              "\n",
              "    .dataframe tbody tr th {\n",
              "        vertical-align: top;\n",
              "    }\n",
              "\n",
              "    .dataframe thead th {\n",
              "        text-align: right;\n",
              "    }\n",
              "</style>\n",
              "<table border=\"1\" class=\"dataframe\">\n",
              "  <thead>\n",
              "    <tr style=\"text-align: right;\">\n",
              "      <th></th>\n",
              "      <th></th>\n",
              "      <th>count</th>\n",
              "      <th>distance</th>\n",
              "      <th>time</th>\n",
              "      <th>minute_price</th>\n",
              "      <th>start_price</th>\n",
              "    </tr>\n",
              "    <tr>\n",
              "      <th>user_id</th>\n",
              "      <th>month</th>\n",
              "      <th></th>\n",
              "      <th></th>\n",
              "      <th></th>\n",
              "      <th></th>\n",
              "      <th></th>\n",
              "    </tr>\n",
              "  </thead>\n",
              "  <tbody>\n",
              "    <tr>\n",
              "      <th rowspan=\"5\" valign=\"top\">1</th>\n",
              "      <th>1</th>\n",
              "      <td>2</td>\n",
              "      <td>7028.0</td>\n",
              "      <td>42.0</td>\n",
              "      <td>6</td>\n",
              "      <td>0</td>\n",
              "    </tr>\n",
              "    <tr>\n",
              "      <th>4</th>\n",
              "      <td>1</td>\n",
              "      <td>755.0</td>\n",
              "      <td>7.0</td>\n",
              "      <td>6</td>\n",
              "      <td>0</td>\n",
              "    </tr>\n",
              "    <tr>\n",
              "      <th>8</th>\n",
              "      <td>2</td>\n",
              "      <td>6724.0</td>\n",
              "      <td>46.0</td>\n",
              "      <td>6</td>\n",
              "      <td>0</td>\n",
              "    </tr>\n",
              "    <tr>\n",
              "      <th>10</th>\n",
              "      <td>2</td>\n",
              "      <td>5811.0</td>\n",
              "      <td>32.0</td>\n",
              "      <td>6</td>\n",
              "      <td>0</td>\n",
              "    </tr>\n",
              "    <tr>\n",
              "      <th>11</th>\n",
              "      <td>3</td>\n",
              "      <td>7005.0</td>\n",
              "      <td>56.0</td>\n",
              "      <td>6</td>\n",
              "      <td>0</td>\n",
              "    </tr>\n",
              "    <tr>\n",
              "      <th>...</th>\n",
              "      <th>...</th>\n",
              "      <td>...</td>\n",
              "      <td>...</td>\n",
              "      <td>...</td>\n",
              "      <td>...</td>\n",
              "      <td>...</td>\n",
              "    </tr>\n",
              "    <tr>\n",
              "      <th rowspan=\"5\" valign=\"top\">1534</th>\n",
              "      <th>6</th>\n",
              "      <td>2</td>\n",
              "      <td>3411.0</td>\n",
              "      <td>26.0</td>\n",
              "      <td>8</td>\n",
              "      <td>50</td>\n",
              "    </tr>\n",
              "    <tr>\n",
              "      <th>8</th>\n",
              "      <td>2</td>\n",
              "      <td>7623.0</td>\n",
              "      <td>48.0</td>\n",
              "      <td>8</td>\n",
              "      <td>50</td>\n",
              "    </tr>\n",
              "    <tr>\n",
              "      <th>9</th>\n",
              "      <td>1</td>\n",
              "      <td>4929.0</td>\n",
              "      <td>23.0</td>\n",
              "      <td>8</td>\n",
              "      <td>50</td>\n",
              "    </tr>\n",
              "    <tr>\n",
              "      <th>11</th>\n",
              "      <td>4</td>\n",
              "      <td>13353.0</td>\n",
              "      <td>78.0</td>\n",
              "      <td>8</td>\n",
              "      <td>50</td>\n",
              "    </tr>\n",
              "    <tr>\n",
              "      <th>12</th>\n",
              "      <td>1</td>\n",
              "      <td>2372.0</td>\n",
              "      <td>16.0</td>\n",
              "      <td>8</td>\n",
              "      <td>50</td>\n",
              "    </tr>\n",
              "  </tbody>\n",
              "</table>\n",
              "<p>11300 rows × 5 columns</p>\n",
              "</div>"
            ],
            "text/plain": [
              "               count  distance  time  minute_price  start_price\n",
              "user_id month                                                  \n",
              "1       1          2    7028.0  42.0             6            0\n",
              "        4          1     755.0   7.0             6            0\n",
              "        8          2    6724.0  46.0             6            0\n",
              "        10         2    5811.0  32.0             6            0\n",
              "        11         3    7005.0  56.0             6            0\n",
              "...              ...       ...   ...           ...          ...\n",
              "1534    6          2    3411.0  26.0             8           50\n",
              "        8          2    7623.0  48.0             8           50\n",
              "        9          1    4929.0  23.0             8           50\n",
              "        11         4   13353.0  78.0             8           50\n",
              "        12         1    2372.0  16.0             8           50\n",
              "\n",
              "[11300 rows x 5 columns]"
            ]
          },
          "execution_count": 42,
          "metadata": {},
          "output_type": "execute_result"
        }
      ],
      "source": [
        "clean_df"
      ]
    },
    {
      "cell_type": "code",
      "execution_count": null,
      "id": "3b1c33bc",
      "metadata": {
        "scrolled": true,
        "id": "3b1c33bc"
      },
      "outputs": [],
      "source": [
        "clean_df['subscription_fee'] = 0\n",
        "clean_df.loc[clean_df['start_price'] == 0, 'subscription_fee'] = 199"
      ]
    },
    {
      "cell_type": "code",
      "execution_count": null,
      "id": "1a345ded",
      "metadata": {
        "id": "1a345ded",
        "outputId": "18f8a4bb-5671-4b9b-a233-07890b81a4b0"
      },
      "outputs": [
        {
          "data": {
            "text/html": [
              "<div>\n",
              "<style scoped>\n",
              "    .dataframe tbody tr th:only-of-type {\n",
              "        vertical-align: middle;\n",
              "    }\n",
              "\n",
              "    .dataframe tbody tr th {\n",
              "        vertical-align: top;\n",
              "    }\n",
              "\n",
              "    .dataframe thead th {\n",
              "        text-align: right;\n",
              "    }\n",
              "</style>\n",
              "<table border=\"1\" class=\"dataframe\">\n",
              "  <thead>\n",
              "    <tr style=\"text-align: right;\">\n",
              "      <th></th>\n",
              "      <th></th>\n",
              "      <th>count</th>\n",
              "      <th>distance</th>\n",
              "      <th>time</th>\n",
              "      <th>minute_price</th>\n",
              "      <th>start_price</th>\n",
              "      <th>subscription_fee</th>\n",
              "    </tr>\n",
              "    <tr>\n",
              "      <th>user_id</th>\n",
              "      <th>month</th>\n",
              "      <th></th>\n",
              "      <th></th>\n",
              "      <th></th>\n",
              "      <th></th>\n",
              "      <th></th>\n",
              "      <th></th>\n",
              "    </tr>\n",
              "  </thead>\n",
              "  <tbody>\n",
              "    <tr>\n",
              "      <th rowspan=\"5\" valign=\"top\">1</th>\n",
              "      <th>1</th>\n",
              "      <td>2</td>\n",
              "      <td>7028.0</td>\n",
              "      <td>42.0</td>\n",
              "      <td>6</td>\n",
              "      <td>0</td>\n",
              "      <td>199</td>\n",
              "    </tr>\n",
              "    <tr>\n",
              "      <th>4</th>\n",
              "      <td>1</td>\n",
              "      <td>755.0</td>\n",
              "      <td>7.0</td>\n",
              "      <td>6</td>\n",
              "      <td>0</td>\n",
              "      <td>199</td>\n",
              "    </tr>\n",
              "    <tr>\n",
              "      <th>8</th>\n",
              "      <td>2</td>\n",
              "      <td>6724.0</td>\n",
              "      <td>46.0</td>\n",
              "      <td>6</td>\n",
              "      <td>0</td>\n",
              "      <td>199</td>\n",
              "    </tr>\n",
              "    <tr>\n",
              "      <th>10</th>\n",
              "      <td>2</td>\n",
              "      <td>5811.0</td>\n",
              "      <td>32.0</td>\n",
              "      <td>6</td>\n",
              "      <td>0</td>\n",
              "      <td>199</td>\n",
              "    </tr>\n",
              "    <tr>\n",
              "      <th>11</th>\n",
              "      <td>3</td>\n",
              "      <td>7005.0</td>\n",
              "      <td>56.0</td>\n",
              "      <td>6</td>\n",
              "      <td>0</td>\n",
              "      <td>199</td>\n",
              "    </tr>\n",
              "    <tr>\n",
              "      <th>...</th>\n",
              "      <th>...</th>\n",
              "      <td>...</td>\n",
              "      <td>...</td>\n",
              "      <td>...</td>\n",
              "      <td>...</td>\n",
              "      <td>...</td>\n",
              "      <td>...</td>\n",
              "    </tr>\n",
              "    <tr>\n",
              "      <th rowspan=\"5\" valign=\"top\">1534</th>\n",
              "      <th>6</th>\n",
              "      <td>2</td>\n",
              "      <td>3411.0</td>\n",
              "      <td>26.0</td>\n",
              "      <td>8</td>\n",
              "      <td>50</td>\n",
              "      <td>0</td>\n",
              "    </tr>\n",
              "    <tr>\n",
              "      <th>8</th>\n",
              "      <td>2</td>\n",
              "      <td>7623.0</td>\n",
              "      <td>48.0</td>\n",
              "      <td>8</td>\n",
              "      <td>50</td>\n",
              "      <td>0</td>\n",
              "    </tr>\n",
              "    <tr>\n",
              "      <th>9</th>\n",
              "      <td>1</td>\n",
              "      <td>4929.0</td>\n",
              "      <td>23.0</td>\n",
              "      <td>8</td>\n",
              "      <td>50</td>\n",
              "      <td>0</td>\n",
              "    </tr>\n",
              "    <tr>\n",
              "      <th>11</th>\n",
              "      <td>4</td>\n",
              "      <td>13353.0</td>\n",
              "      <td>78.0</td>\n",
              "      <td>8</td>\n",
              "      <td>50</td>\n",
              "      <td>0</td>\n",
              "    </tr>\n",
              "    <tr>\n",
              "      <th>12</th>\n",
              "      <td>1</td>\n",
              "      <td>2372.0</td>\n",
              "      <td>16.0</td>\n",
              "      <td>8</td>\n",
              "      <td>50</td>\n",
              "      <td>0</td>\n",
              "    </tr>\n",
              "  </tbody>\n",
              "</table>\n",
              "<p>11300 rows × 6 columns</p>\n",
              "</div>"
            ],
            "text/plain": [
              "               count  distance  time  minute_price  start_price  \\\n",
              "user_id month                                                     \n",
              "1       1          2    7028.0  42.0             6            0   \n",
              "        4          1     755.0   7.0             6            0   \n",
              "        8          2    6724.0  46.0             6            0   \n",
              "        10         2    5811.0  32.0             6            0   \n",
              "        11         3    7005.0  56.0             6            0   \n",
              "...              ...       ...   ...           ...          ...   \n",
              "1534    6          2    3411.0  26.0             8           50   \n",
              "        8          2    7623.0  48.0             8           50   \n",
              "        9          1    4929.0  23.0             8           50   \n",
              "        11         4   13353.0  78.0             8           50   \n",
              "        12         1    2372.0  16.0             8           50   \n",
              "\n",
              "               subscription_fee  \n",
              "user_id month                    \n",
              "1       1                   199  \n",
              "        4                   199  \n",
              "        8                   199  \n",
              "        10                  199  \n",
              "        11                  199  \n",
              "...                         ...  \n",
              "1534    6                     0  \n",
              "        8                     0  \n",
              "        9                     0  \n",
              "        11                    0  \n",
              "        12                    0  \n",
              "\n",
              "[11300 rows x 6 columns]"
            ]
          },
          "execution_count": 44,
          "metadata": {},
          "output_type": "execute_result"
        }
      ],
      "source": [
        "clean_df"
      ]
    },
    {
      "cell_type": "code",
      "execution_count": null,
      "id": "1778388a",
      "metadata": {
        "id": "1778388a"
      },
      "outputs": [],
      "source": [
        "clean_df['payment'] = clean_df['time'] * clean_df['minute_price'] + clean_df['subscription_fee'] + clean_df['count'] *  clean_df['start_price']"
      ]
    },
    {
      "cell_type": "markdown",
      "id": "22e7e37f",
      "metadata": {
        "id": "22e7e37f"
      },
      "source": [
        "Время в пути * стоимость минуты + стоимость подписки + количество заездов * стоимость старта"
      ]
    },
    {
      "cell_type": "code",
      "execution_count": null,
      "id": "64adc0bc",
      "metadata": {
        "id": "64adc0bc",
        "outputId": "c5e547ff-eff6-4444-f08e-3949635d96a3"
      },
      "outputs": [
        {
          "data": {
            "text/html": [
              "<div>\n",
              "<style scoped>\n",
              "    .dataframe tbody tr th:only-of-type {\n",
              "        vertical-align: middle;\n",
              "    }\n",
              "\n",
              "    .dataframe tbody tr th {\n",
              "        vertical-align: top;\n",
              "    }\n",
              "\n",
              "    .dataframe thead th {\n",
              "        text-align: right;\n",
              "    }\n",
              "</style>\n",
              "<table border=\"1\" class=\"dataframe\">\n",
              "  <thead>\n",
              "    <tr style=\"text-align: right;\">\n",
              "      <th></th>\n",
              "      <th></th>\n",
              "      <th>count</th>\n",
              "      <th>distance</th>\n",
              "      <th>time</th>\n",
              "      <th>minute_price</th>\n",
              "      <th>start_price</th>\n",
              "      <th>subscription_fee</th>\n",
              "      <th>payment</th>\n",
              "    </tr>\n",
              "    <tr>\n",
              "      <th>user_id</th>\n",
              "      <th>month</th>\n",
              "      <th></th>\n",
              "      <th></th>\n",
              "      <th></th>\n",
              "      <th></th>\n",
              "      <th></th>\n",
              "      <th></th>\n",
              "      <th></th>\n",
              "    </tr>\n",
              "  </thead>\n",
              "  <tbody>\n",
              "    <tr>\n",
              "      <th rowspan=\"5\" valign=\"top\">1</th>\n",
              "      <th>1</th>\n",
              "      <td>2</td>\n",
              "      <td>7028.0</td>\n",
              "      <td>42.0</td>\n",
              "      <td>6</td>\n",
              "      <td>0</td>\n",
              "      <td>199</td>\n",
              "      <td>451.0</td>\n",
              "    </tr>\n",
              "    <tr>\n",
              "      <th>4</th>\n",
              "      <td>1</td>\n",
              "      <td>755.0</td>\n",
              "      <td>7.0</td>\n",
              "      <td>6</td>\n",
              "      <td>0</td>\n",
              "      <td>199</td>\n",
              "      <td>241.0</td>\n",
              "    </tr>\n",
              "    <tr>\n",
              "      <th>8</th>\n",
              "      <td>2</td>\n",
              "      <td>6724.0</td>\n",
              "      <td>46.0</td>\n",
              "      <td>6</td>\n",
              "      <td>0</td>\n",
              "      <td>199</td>\n",
              "      <td>475.0</td>\n",
              "    </tr>\n",
              "    <tr>\n",
              "      <th>10</th>\n",
              "      <td>2</td>\n",
              "      <td>5811.0</td>\n",
              "      <td>32.0</td>\n",
              "      <td>6</td>\n",
              "      <td>0</td>\n",
              "      <td>199</td>\n",
              "      <td>391.0</td>\n",
              "    </tr>\n",
              "    <tr>\n",
              "      <th>11</th>\n",
              "      <td>3</td>\n",
              "      <td>7005.0</td>\n",
              "      <td>56.0</td>\n",
              "      <td>6</td>\n",
              "      <td>0</td>\n",
              "      <td>199</td>\n",
              "      <td>535.0</td>\n",
              "    </tr>\n",
              "    <tr>\n",
              "      <th>...</th>\n",
              "      <th>...</th>\n",
              "      <td>...</td>\n",
              "      <td>...</td>\n",
              "      <td>...</td>\n",
              "      <td>...</td>\n",
              "      <td>...</td>\n",
              "      <td>...</td>\n",
              "      <td>...</td>\n",
              "    </tr>\n",
              "    <tr>\n",
              "      <th rowspan=\"5\" valign=\"top\">1534</th>\n",
              "      <th>6</th>\n",
              "      <td>2</td>\n",
              "      <td>3411.0</td>\n",
              "      <td>26.0</td>\n",
              "      <td>8</td>\n",
              "      <td>50</td>\n",
              "      <td>0</td>\n",
              "      <td>308.0</td>\n",
              "    </tr>\n",
              "    <tr>\n",
              "      <th>8</th>\n",
              "      <td>2</td>\n",
              "      <td>7623.0</td>\n",
              "      <td>48.0</td>\n",
              "      <td>8</td>\n",
              "      <td>50</td>\n",
              "      <td>0</td>\n",
              "      <td>484.0</td>\n",
              "    </tr>\n",
              "    <tr>\n",
              "      <th>9</th>\n",
              "      <td>1</td>\n",
              "      <td>4929.0</td>\n",
              "      <td>23.0</td>\n",
              "      <td>8</td>\n",
              "      <td>50</td>\n",
              "      <td>0</td>\n",
              "      <td>234.0</td>\n",
              "    </tr>\n",
              "    <tr>\n",
              "      <th>11</th>\n",
              "      <td>4</td>\n",
              "      <td>13353.0</td>\n",
              "      <td>78.0</td>\n",
              "      <td>8</td>\n",
              "      <td>50</td>\n",
              "      <td>0</td>\n",
              "      <td>824.0</td>\n",
              "    </tr>\n",
              "    <tr>\n",
              "      <th>12</th>\n",
              "      <td>1</td>\n",
              "      <td>2372.0</td>\n",
              "      <td>16.0</td>\n",
              "      <td>8</td>\n",
              "      <td>50</td>\n",
              "      <td>0</td>\n",
              "      <td>178.0</td>\n",
              "    </tr>\n",
              "  </tbody>\n",
              "</table>\n",
              "<p>11300 rows × 7 columns</p>\n",
              "</div>"
            ],
            "text/plain": [
              "               count  distance  time  minute_price  start_price  \\\n",
              "user_id month                                                     \n",
              "1       1          2    7028.0  42.0             6            0   \n",
              "        4          1     755.0   7.0             6            0   \n",
              "        8          2    6724.0  46.0             6            0   \n",
              "        10         2    5811.0  32.0             6            0   \n",
              "        11         3    7005.0  56.0             6            0   \n",
              "...              ...       ...   ...           ...          ...   \n",
              "1534    6          2    3411.0  26.0             8           50   \n",
              "        8          2    7623.0  48.0             8           50   \n",
              "        9          1    4929.0  23.0             8           50   \n",
              "        11         4   13353.0  78.0             8           50   \n",
              "        12         1    2372.0  16.0             8           50   \n",
              "\n",
              "               subscription_fee  payment  \n",
              "user_id month                             \n",
              "1       1                   199    451.0  \n",
              "        4                   199    241.0  \n",
              "        8                   199    475.0  \n",
              "        10                  199    391.0  \n",
              "        11                  199    535.0  \n",
              "...                         ...      ...  \n",
              "1534    6                     0    308.0  \n",
              "        8                     0    484.0  \n",
              "        9                     0    234.0  \n",
              "        11                    0    824.0  \n",
              "        12                    0    178.0  \n",
              "\n",
              "[11300 rows x 7 columns]"
            ]
          },
          "execution_count": 46,
          "metadata": {},
          "output_type": "execute_result"
        }
      ],
      "source": [
        "clean_df"
      ]
    },
    {
      "cell_type": "markdown",
      "id": "b1646705",
      "metadata": {
        "id": "b1646705"
      },
      "source": [
        "### Вывод по шагу 5"
      ]
    },
    {
      "cell_type": "markdown",
      "id": "a2cdd7ce",
      "metadata": {
        "id": "a2cdd7ce"
      },
      "source": [
        "Создали сводную агрегированную таблицу, где можно в более простой форме посчитать общую выручку по каждому клиенту или по каждому месяцу. Также она в дальнейшем пригодится для расчетов прибыли по стратам."
      ]
    },
    {
      "cell_type": "markdown",
      "id": "41545ac0",
      "metadata": {
        "id": "41545ac0"
      },
      "source": [
        "## Шаг 6. Проверка гипотез"
      ]
    },
    {
      "cell_type": "markdown",
      "id": "e81a56d9",
      "metadata": {
        "id": "e81a56d9"
      },
      "source": [
        "Для всего шага 6 при проверке гипотез мы будем использовать **стратифицированные** выборки(то есть сравнивать страты) - выборки по определенному параметру: наличию/отсутсвтвию подписки."
      ]
    },
    {
      "cell_type": "markdown",
      "id": "38a5b49c",
      "metadata": {
        "id": "38a5b49c"
      },
      "source": [
        "### Гипотеза №1"
      ]
    },
    {
      "cell_type": "markdown",
      "id": "77cbd771",
      "metadata": {
        "id": "77cbd771"
      },
      "source": [
        "Проверим, насколько различается продолжительность поездок у двух разных групп"
      ]
    },
    {
      "cell_type": "markdown",
      "id": "5dc09f64",
      "metadata": {
        "id": "5dc09f64"
      },
      "source": [
        "$H_{0}$ = Средние значения генеральной совокупности двух страт равны\n",
        "\n",
        "$H_{1}$ = Клиенты с подпиской тратят больше времени на поездки, чем клиенты без нее"
      ]
    },
    {
      "cell_type": "code",
      "execution_count": null,
      "id": "53049e0a",
      "metadata": {
        "id": "53049e0a",
        "outputId": "2b1771f7-589c-48c8-dbe6-55d3936e30c4"
      },
      "outputs": [
        {
          "data": {
            "text/plain": [
              "4.704468074453899e-28"
            ]
          },
          "execution_count": 47,
          "metadata": {},
          "output_type": "execute_result"
        }
      ],
      "source": [
        "plebs_value = plebs['duration']\n",
        "subs_value = subs['duration']\n",
        "result = st.ttest_ind(subs_value, plebs_value, alternative='greater')\n",
        "result.pvalue"
      ]
    },
    {
      "cell_type": "markdown",
      "id": "02614d7c",
      "metadata": {
        "id": "02614d7c"
      },
      "source": [
        "Получившееся pvalue куда меньше выбранной alpha(статистической значимости) = 0.05, значит есть основания отвергнуть нулевую гипотезу о равенстве средних значений генеральных совокупностей двух выборок. Мы можем с определеннной долей вероятности допустить, что верна альтернативная гипотеза."
      ]
    },
    {
      "cell_type": "markdown",
      "id": "fc0d11dc",
      "metadata": {
        "id": "fc0d11dc"
      },
      "source": [
        "### Гипотеза №2"
      ]
    },
    {
      "cell_type": "markdown",
      "id": "e9aaae32",
      "metadata": {
        "id": "e9aaae32"
      },
      "source": [
        "Проверим, успевают ли пользователи с подпиской проехать 3130 метров за один заезд, или они проезжают меньше"
      ]
    },
    {
      "cell_type": "markdown",
      "id": "a8462e4b",
      "metadata": {
        "id": "a8462e4b"
      },
      "source": [
        "$H_{0}$ = Среднее значение расстояния поездки у страты равно 3130 м\n",
        "\n",
        "$H_{1}$ = Среднее значение расстояния поездки у страты больше 3130 м(Выходит за пределы оптимального износа)"
      ]
    },
    {
      "cell_type": "code",
      "execution_count": null,
      "id": "dd7ec794",
      "metadata": {
        "id": "dd7ec794",
        "outputId": "50a368b7-1539-472b-b16f-237517812d8c"
      },
      "outputs": [
        {
          "name": "stdout",
          "output_type": "stream",
          "text": [
            "Не можем опровергнуть нулевую гипотезу, с большой вероятностью среднее расстояние для одной поездки пользователей с подпиской близко к 3130\n"
          ]
        },
        {
          "data": {
            "text/plain": [
              "0.9120422337080507"
            ]
          },
          "execution_count": 48,
          "metadata": {},
          "output_type": "execute_result"
        }
      ],
      "source": [
        "subs_value = subs['distance']\n",
        "alpha = .05\n",
        "value = 3130\n",
        "result = st.ttest_1samp(subs_value, value, alternative='greater')\n",
        "\n",
        "if result.pvalue < alpha:\n",
        "    print('Опровергаем нулевую гипотезу, с большой вероятностью среднее расстояние для одной поездки пользователей с подпиской больше 3130')\n",
        "else:\n",
        "    print('Не можем опровергнуть нулевую гипотезу, с большой вероятностью среднее расстояние для одной поездки пользователей с подпиской близко к 3130')\n",
        "result.pvalue"
      ]
    },
    {
      "cell_type": "markdown",
      "id": "e9f194d9",
      "metadata": {
        "id": "e9f194d9"
      },
      "source": [
        "### Гипотеза №3"
      ]
    },
    {
      "cell_type": "markdown",
      "id": "30240643",
      "metadata": {
        "id": "30240643"
      },
      "source": [
        "$H_{0}$ = Средние значения выручки по месяцам от пользователей без подписки и с ней равны.\n",
        "\n",
        "$H_{1}$ = Помесячная выручка от пользователей с подпиской по месяцам выше, чем выручка от пользователей без подписки."
      ]
    },
    {
      "cell_type": "code",
      "execution_count": null,
      "id": "fdf71dff",
      "metadata": {
        "id": "fdf71dff",
        "outputId": "bae78e9d-7304-47b5-c4ca-0b1d6a7867f0"
      },
      "outputs": [
        {
          "data": {
            "text/plain": [
              "2.0314113674863288e-30"
            ]
          },
          "execution_count": 49,
          "metadata": {},
          "output_type": "execute_result"
        }
      ],
      "source": [
        "plebs_value = clean_df[clean_df['subscription_fee'] == 0]['payment']\n",
        "subs_value = clean_df[clean_df['subscription_fee'] == 199]['payment']\n",
        "\n",
        "result = st.ttest_ind(subs_value, plebs_value, alternative='greater')\n",
        "result.pvalue"
      ]
    },
    {
      "cell_type": "markdown",
      "id": "b22dd5f6",
      "metadata": {
        "id": "b22dd5f6"
      },
      "source": [
        "Опровергаем нулевую гипотезу, так как значение pvalue куда меньше выбранной alpha(статистической значимости) = 0.05. С большой вероятностью помесячная выручка от пользователей с подпиской по месяцам выше, чем выручка от пользователей без подписки."
      ]
    },
    {
      "cell_type": "markdown",
      "id": "c86a18d5",
      "metadata": {
        "id": "c86a18d5"
      },
      "source": [
        "### Гипотеза №4"
      ]
    },
    {
      "cell_type": "markdown",
      "id": "78d182cc",
      "metadata": {
        "id": "78d182cc"
      },
      "source": [
        "$H_{0}$ = Средние значения двух выборок равны\n",
        "\n",
        "$H_{1}$ = Среднее значение до изменений больше, чем среднее значение после изменений"
      ]
    },
    {
      "cell_type": "markdown",
      "id": "87726739",
      "metadata": {
        "id": "87726739"
      },
      "source": [
        "Для проверки такой гипотезы использовали бы\n",
        "```python\n",
        "st.ttest_rel(\"Аргумент обязательно до изменений\", \"Аргумент обязательно после изменений\", alternative=\"greater\")\n",
        "```\n",
        "Затем сравнили бы pvalue данного теста с alpha = 0.05 и построили бы на фоне результата вывод.\n",
        "\n",
        "Если pvalue > alpha, то не можем опровергнуть нулевую гипотезу, если наоборот, то опровергаем."
      ]
    },
    {
      "cell_type": "markdown",
      "id": "9e17a7d7",
      "metadata": {
        "id": "9e17a7d7"
      },
      "source": [
        "### Вывод по шагу 6"
      ]
    },
    {
      "cell_type": "markdown",
      "id": "2595debe",
      "metadata": {
        "id": "2595debe"
      },
      "source": [
        "Проверили гипотезы, которые нас интересовали больше всего. Получили, в основном, ожидаемые результаты(подробнее в общем выводе). Если коротко, мы можем с определенной долей вероятностью ответить, что:\n",
        "\n",
        "- Клиенты без подписки в среднем тратят больше времени в поездках\n",
        "- Клиенты с подпиской в среднем проезжают расстояние, близкое к 3130 метров за заезд\n",
        "- Клиенты с подпиской в среднем тратят больше денег, чем клиенты без нее"
      ]
    },
    {
      "cell_type": "markdown",
      "id": "61213c5e",
      "metadata": {
        "id": "61213c5e"
      },
      "source": [
        "## Шаг 7. Распределения"
      ]
    },
    {
      "cell_type": "markdown",
      "id": "f3406d7b",
      "metadata": {
        "id": "f3406d7b"
      },
      "source": [
        "### Распределение для промокодов"
      ]
    },
    {
      "cell_type": "markdown",
      "source": [
        "Отделу маркетинга GoFast поставили задачу: нужно провести акцию с раздачей промокодов на один бесплатный месяц подписки, в рамках которой как минимум\n",
        "100 существующих клиентов должны продлить эту подписку. То есть по завершении периода действия подписки пользователь может либо отказаться от неё, либо продлить, совершив соответствующий платёж.\n",
        "Эта акция уже проводилась ранее и по итогу выяснилось, что после бесплатного пробного периода подписку продлевают\n",
        "10 % пользователей. Выясните, какое минимальное количество промокодов нужно разослать, чтобы вероятность не выполнить план была примерно 5 %. Подберите параметры распределения, описывающего эту ситуацию, постройте график распределения и сформулируйте ответ на вопрос о количестве промокодов."
      ],
      "metadata": {
        "id": "35SVOkoElORe"
      },
      "id": "35SVOkoElORe"
    },
    {
      "cell_type": "markdown",
      "id": "bdbba77b",
      "metadata": {
        "id": "bdbba77b"
      },
      "source": [
        "Изходя из условия, нам скорее всего понадобится биноминальное распределение."
      ]
    },
    {
      "cell_type": "code",
      "execution_count": null,
      "id": "d430c145",
      "metadata": {
        "id": "d430c145"
      },
      "outputs": [],
      "source": [
        "from scipy.stats import binom"
      ]
    },
    {
      "cell_type": "markdown",
      "id": "edd93c35",
      "metadata": {
        "id": "edd93c35"
      },
      "source": [
        "Немного упростим себе задачу, чтобы не писать формулу биноминального распределения вручную"
      ]
    },
    {
      "cell_type": "code",
      "execution_count": null,
      "id": "0a456ca3",
      "metadata": {
        "id": "0a456ca3",
        "outputId": "cc214f46-1b16-486f-c83c-1f48ec6c9728"
      },
      "outputs": [
        {
          "data": {
            "image/png": "[encoded data removed]",
            "text/plain": [
              "<Figure size 1080x360 with 1 Axes>"
            ]
          },
          "metadata": {
            "needs_background": "light"
          },
          "output_type": "display_data"
        }
      ],
      "source": [
        "n = 1000\n",
        "p = 0.1\n",
        "\n",
        "probabilities = st.binom.pmf(k=range(n+1), n=n, p=p)\n",
        "\n",
        "plt.bar(range(n+1), probabilities)\n",
        "plt.title(\"Биномиальное распределение\")\n",
        "plt.xlabel(\"Значение\")\n",
        "plt.ylabel(\"Вероятность\")\n",
        "plt.show()"
      ]
    },
    {
      "cell_type": "markdown",
      "id": "55ca78ae",
      "metadata": {
        "id": "55ca78ae"
      },
      "source": [
        "Получилось очень отдаленно, большинстов значений в районе 60:150"
      ]
    },
    {
      "cell_type": "code",
      "execution_count": null,
      "id": "25c4ff22",
      "metadata": {
        "scrolled": true,
        "id": "25c4ff22",
        "outputId": "7a19b020-d7f9-4109-e989-e0cc5b7c9ec7"
      },
      "outputs": [
        {
          "data": {
            "image/png": "[encoded data removed]",
            "text/plain": [
              "<Figure size 1080x360 with 1 Axes>"
            ]
          },
          "metadata": {
            "needs_background": "light"
          },
          "output_type": "display_data"
        }
      ],
      "source": [
        "plt.bar(range(60,150), probabilities[60:150])\n",
        "plt.title(\"Биномиальное распределение\")\n",
        "plt.xlabel(\"Значение\")\n",
        "plt.ylabel(\"Вероятность\")\n",
        "plt.xlim = (0, 200)\n",
        "plt.show()"
      ]
    },
    {
      "cell_type": "markdown",
      "id": "ddd3a22e",
      "metadata": {
        "id": "ddd3a22e"
      },
      "source": [
        "Ответим на вопрос с помощью цикла. Будем использовать метод cdf, который возвращает вероятность того, что случайная переменная примет значение ниже того, которого мы укажем. В нашем случае это значение будет 99, так как нам нельзя попасть ниже(не выплнить план). Начнем с n=1000 и будем прибавлять 1, пока вероятность не окажется меньше 5%"
      ]
    },
    {
      "cell_type": "code",
      "execution_count": null,
      "id": "a77f6ad9",
      "metadata": {
        "id": "a77f6ad9",
        "outputId": "60ee2324-8833-4398-c9f0-ff7ddb24d345"
      },
      "outputs": [
        {
          "data": {
            "text/plain": [
              "1161"
            ]
          },
          "execution_count": 53,
          "metadata": {},
          "output_type": "execute_result"
        }
      ],
      "source": [
        "i=1000\n",
        "while i < 1200 and binom.cdf(99,i,0.1) > 0.05:\n",
        "    i += 1\n",
        "i"
      ]
    },
    {
      "cell_type": "markdown",
      "id": "05d1d00b",
      "metadata": {
        "id": "05d1d00b"
      },
      "source": [
        "Получили достаточно реальный ответ\n",
        "\n",
        "**Ответ - 1161 промокод.**"
      ]
    },
    {
      "cell_type": "markdown",
      "id": "73970412",
      "metadata": {
        "id": "73970412"
      },
      "source": [
        "### Распределение для уведомлений"
      ]
    },
    {
      "cell_type": "markdown",
      "source": [
        "Отдел маркетинга рассылает клиентам push-уведомления в мобильном приложении. Клиенты могут открыть его или не открывать. Известно, что уведомления открывают около 40 % получивших клиентов. Отдел планирует разослать 1 млн уведомлений. С помощью аппроксимации постройте примерный график распределения и оцените вероятность того, что уведомление откроют не более 399,5 тыс. пользователей."
      ],
      "metadata": {
        "id": "FLMDUMoUlZP7"
      },
      "id": "FLMDUMoUlZP7"
    },
    {
      "cell_type": "markdown",
      "id": "68c7b569",
      "metadata": {
        "id": "68c7b569"
      },
      "source": [
        "Сразу выделим интересующий нас фрагмент, так как на постройку графика из миллиона элементов уйдет много времени"
      ]
    },
    {
      "cell_type": "code",
      "execution_count": null,
      "id": "7060f169",
      "metadata": {
        "id": "7060f169",
        "outputId": "c3a57ec4-279e-4892-c2bf-276e95c784de"
      },
      "outputs": [
        {
          "data": {
            "image/png": "[encoded data removed]",
            "text/plain": [
              "<Figure size 1080x360 with 1 Axes>"
            ]
          },
          "metadata": {
            "needs_background": "light"
          },
          "output_type": "display_data"
        }
      ],
      "source": [
        "n = 1000000\n",
        "p = 0.4\n",
        "\n",
        "probabilities = st.binom.pmf(k=range(n+1), n=n, p=p)\n",
        "\n",
        "plt.bar(range(399000,401000), probabilities[399000:401000])\n",
        "plt.title(\"Биномиальное распределение\")\n",
        "plt.xlabel(\"Значение\")\n",
        "plt.ylabel(\"Вероятность\")\n",
        "plt.show()"
      ]
    },
    {
      "cell_type": "code",
      "execution_count": null,
      "id": "323045fd",
      "metadata": {
        "id": "323045fd",
        "outputId": "55401a1a-c408-4265-d4d6-7b08d72e95e8"
      },
      "outputs": [
        {
          "data": {
            "text/plain": [
              "0.1539584359564276"
            ]
          },
          "execution_count": 55,
          "metadata": {},
          "output_type": "execute_result"
        }
      ],
      "source": [
        "binom.cdf(399500, 1000000, 0.4)"
      ]
    },
    {
      "cell_type": "markdown",
      "id": "0a43a7bc",
      "metadata": {
        "id": "0a43a7bc"
      },
      "source": [
        "Получили цифру в ~15%, что, на первый взгляд, может показаться странным."
      ]
    },
    {
      "cell_type": "markdown",
      "id": "4d03f053",
      "metadata": {
        "id": "4d03f053"
      },
      "source": [
        "**Объяснение полученного результата**\n",
        "\n",
        "Немного о статистике - математическое ожидание для данного графика будет равно n * p = 400000, что лишь на 500 больше, чем интересующая нас цифра, но результат вместо ожидаемого процента, близкого к 50%, равен лишь 15. Дело в том, что при увеличении количества экспериментов Бернули в графике биноминального распределения, повышается \"острота\" графика. Другими словами скорость возрастания/убывания. Поэтому значение в 399600 даст нам уже ~21%, хотя мы увеличили всего на 100."
      ]
    },
    {
      "cell_type": "markdown",
      "id": "a0c545ee",
      "metadata": {
        "id": "a0c545ee"
      },
      "source": [
        "**Ответ - 15%.**"
      ]
    },
    {
      "cell_type": "markdown",
      "id": "b081da11",
      "metadata": {
        "id": "b081da11"
      },
      "source": [
        "### Вывод по шагу 7"
      ]
    },
    {
      "cell_type": "markdown",
      "id": "cfda6213",
      "metadata": {
        "id": "cfda6213"
      },
      "source": [
        "Проверили распределения, не относящиеся к изначальному DataFrame. Ответили на важные вопросы бизнеса благодаря построенным распределениям."
      ]
    },
    {
      "cell_type": "markdown",
      "id": "436ca77b",
      "metadata": {
        "id": "436ca77b"
      },
      "source": [
        "## Выводы"
      ]
    },
    {
      "cell_type": "markdown",
      "id": "93aba6ba",
      "metadata": {
        "id": "93aba6ba"
      },
      "source": [
        "- **1. Получение информации**\n",
        "- **1.1** Ознакомление с наборами данных\n",
        "- **2. Предобработка данных**\n",
        "- **2.1** Исправление форматов данных\n",
        "- **2.2** Создание новых столбцов, необходимых для исследования\n",
        "- **2.3** Проверка на явные/неявные дубликаты\n",
        "- **2.4** Устранение аномальных значений\n",
        "- **3. Исследовательский анализ данных**\n",
        "- **3.1** Описание и визуализация общей информации о пользователях и поездках:\n",
        "- **3.1.1** Частота встречаемости городов - Москва оказалась самым непопулярным городом, в то время как Пятигорск - самым популярным\n",
        "- **3.1.2** Соотношение пользователей с подпиской и без подписки - Количество подписок находится примерно на равном уровне. Разница в 9% (Доля с подпиской 45%, без - 54%)\n",
        "- **3.1.3** Возраст пользователей - Возраст пользователей распределен равномерно, самокаты чаще используют люди среднего возраста(целевая аудитория)\n",
        "- **3.1.4** Расстояние, которое пользователь преодолел за одну поездку - Количество проеденных метров также распределено равномерно, кроме увеличения вначале.(Оно вызвано тем, что пользователи без подписки часто берут самокат, чтобы быстро куда-то доехать)\n",
        "- **3.1.5** Продолжительность поездок - Количество потраченных минут тоже распределено равномерно\n",
        "- **4. Объединение данных**\n",
        "- **4.1** Приведение всех DataFrame к одному методом merge()\n",
        "- **4.2** Разбитие DataFrame на две стратифицированные выборки - клиенты с подпиской и без\n",
        "- **4.3** Визуализация основной информации по данным группам\n",
        "- -  Клиенты без подписки, проезжают более разнообразные расстояния, когда как клиенты имеющие подписку зачастую проезжают в районе 2000-4000 м.\n",
        "\n",
        "- - Клиенты без подписки тратят куда меньше времени на поездки, так как, логично предположить, у них каждая минута на счету.\n",
        "- **5. Подсчет выручки**\n",
        "- **5.1** Создание агрегированного DataFrame с основной информацией по клиентам и месяцам(а также округление времени в большую сторону для дальнейших подсчетов)\n",
        "- **5.2** Добавление в DataFrame информации о прибыли за каждого клиента\n",
        "- **6. Проверка гипотез**\n",
        "- **6.1** Гипотеза №1:\n",
        "\n",
        "Вопрос -  Тратят ли клиенты с подпиской больше времени на поездки?\n",
        "\n",
        "Ответ - Мы можем с определеннной долей вероятности допустить, что клиенты с подпиской в среднем тратят больше времени, чем клиенты без нее\n",
        "\n",
        "- **6.2** Гипотеза №2:\n",
        "\n",
        "Вопрос -  Среднее расстояние, которое проезжают клиенты с подпиской за одну поездку, не превышает 3130 метров?\n",
        "\n",
        "Ответ - Мы можем с определеннной долей вероятности допустить, что среднее значение длительности поездки у клиентов с подпиской около 3130 м(Не выходит за пределы оптимального износа)\n",
        "\n",
        "- **6.3** Гипотеза №3:\n",
        "\n",
        "Вопрос - Будет ли помесячная выручка от клиентов с подпиской по месяцам выше, чем выручка от клиентов без подписки.\n",
        "\n",
        "Ответ - Мы можем с определеннной долей вероятности допустить, что клиенты с подпиской в среднем тратят больше денег, чем клиенты без нее.\n",
        "\n",
        "- **6.4** Гипотеза №4:\n",
        "\n",
        "Вопрос - Какой тест вам понадобился бы для проверки этой гипотезы?\n",
        "\n",
        "Ответ -\n",
        "``` python\n",
        "st.ttest_rel(\"Арг1\", \"Арг2\", alternative=\"greater\")\n",
        "```\n",
        "\n",
        "- **7. Распределения**\n",
        "- **7.1** Распределение для промокодов:\n",
        "\n",
        "Вопрос - Какое минимальное количество промокодов нужно разослать, чтобы вероятность не выполнить план была примерно 5%\n",
        "\n",
        "**Ответ - 1161 промокод**\n",
        "\n",
        "- **7.2** Распределение для уведомлений:\n",
        "\n",
        "Вопрос - Оцените вероятность того, что уведомление откроют не более 399,5 тыс. пользователей\n",
        "\n",
        "**Ответ - 15%**\n",
        "- **8. Итоговый вывод и рекомендации**\n",
        "- **8.1** Предпочтительно либо повышать плату спустя определенное количество времени/расстояния, либо создать специальные точки на оси времени/расстояния, где клиенты будут платить надбавку за длительное ипользование, так как это сильнее износит самокат.\n",
        "- **8.2** Стоит лучше развивать Москву, так как там наименьшее количество пользователей, хотя, жители как раз очень нуждаются в таком типе транспорта."
      ]
    }
  ],
  "metadata": {
    "ExecuteTimeLog": [
      {
        "duration": 49,
        "start_time": "2024-05-31T08:06:12.381Z"
      },
      {
        "duration": 408,
        "start_time": "2024-05-31T08:06:16.127Z"
      },
      {
        "duration": 203,
        "start_time": "2024-05-31T08:06:17.951Z"
      },
      {
        "duration": 17,
        "start_time": "2024-05-31T08:06:27.231Z"
      },
      {
        "duration": 28,
        "start_time": "2024-05-31T08:06:38.063Z"
      },
      {
        "duration": 8,
        "start_time": "2024-05-31T08:06:44.719Z"
      },
      {
        "duration": 7,
        "start_time": "2024-05-31T08:06:50.000Z"
      },
      {
        "duration": 13,
        "start_time": "2024-05-31T08:07:28.864Z"
      },
      {
        "duration": 11,
        "start_time": "2024-05-31T08:07:37.296Z"
      },
      {
        "duration": 10,
        "start_time": "2024-05-31T08:08:35.617Z"
      },
      {
        "duration": 8,
        "start_time": "2024-05-31T08:08:42.193Z"
      },
      {
        "duration": 3,
        "start_time": "2024-05-31T08:08:54.177Z"
      },
      {
        "duration": 9,
        "start_time": "2024-05-31T08:08:59.112Z"
      },
      {
        "duration": 7,
        "start_time": "2024-05-31T08:09:04.930Z"
      },
      {
        "duration": 7,
        "start_time": "2024-05-31T08:10:04.691Z"
      },
      {
        "duration": 61,
        "start_time": "2024-05-31T08:10:12.451Z"
      },
      {
        "duration": 18,
        "start_time": "2024-05-31T08:10:20.666Z"
      },
      {
        "duration": 13,
        "start_time": "2024-05-31T08:12:40.069Z"
      },
      {
        "duration": 6,
        "start_time": "2024-05-31T08:14:11.929Z"
      },
      {
        "duration": 9,
        "start_time": "2024-05-31T08:14:17.209Z"
      },
      {
        "duration": 8,
        "start_time": "2024-05-31T08:14:27.433Z"
      },
      {
        "duration": 5,
        "start_time": "2024-05-31T08:14:35.130Z"
      },
      {
        "duration": 6,
        "start_time": "2024-05-31T08:14:47.226Z"
      },
      {
        "duration": 5,
        "start_time": "2024-05-31T08:14:54.490Z"
      },
      {
        "duration": 15,
        "start_time": "2024-05-31T08:15:20.603Z"
      },
      {
        "duration": 13,
        "start_time": "2024-05-31T08:15:48.866Z"
      },
      {
        "duration": 15,
        "start_time": "2024-05-31T08:16:10.557Z"
      },
      {
        "duration": 14,
        "start_time": "2024-05-31T08:16:18.876Z"
      },
      {
        "duration": 14,
        "start_time": "2024-05-31T08:16:27.677Z"
      },
      {
        "duration": 13,
        "start_time": "2024-05-31T08:16:32.397Z"
      },
      {
        "duration": 15,
        "start_time": "2024-05-31T08:16:45.053Z"
      },
      {
        "duration": 7,
        "start_time": "2024-05-31T08:17:06.351Z"
      },
      {
        "duration": 13,
        "start_time": "2024-05-31T08:17:15.742Z"
      },
      {
        "duration": 13,
        "start_time": "2024-05-31T08:17:21.023Z"
      },
      {
        "duration": 14,
        "start_time": "2024-05-31T08:17:32.847Z"
      },
      {
        "duration": 9,
        "start_time": "2024-05-31T08:17:46.367Z"
      },
      {
        "duration": 4,
        "start_time": "2024-05-31T08:18:14.960Z"
      },
      {
        "duration": 7,
        "start_time": "2024-05-31T08:18:24.353Z"
      },
      {
        "duration": 3,
        "start_time": "2024-05-31T08:18:46.961Z"
      },
      {
        "duration": 3,
        "start_time": "2024-05-31T08:18:48.961Z"
      },
      {
        "duration": 3,
        "start_time": "2024-05-31T08:18:51.809Z"
      },
      {
        "duration": 4,
        "start_time": "2024-05-31T08:19:02.338Z"
      },
      {
        "duration": 7,
        "start_time": "2024-05-31T08:19:10.033Z"
      },
      {
        "duration": 3,
        "start_time": "2024-05-31T08:19:16.690Z"
      },
      {
        "duration": 6,
        "start_time": "2024-05-31T08:19:27.186Z"
      },
      {
        "duration": 8,
        "start_time": "2024-05-31T08:25:32.556Z"
      },
      {
        "duration": 16,
        "start_time": "2024-05-31T08:25:35.739Z"
      },
      {
        "duration": 8,
        "start_time": "2024-05-31T08:27:38.510Z"
      },
      {
        "duration": 69,
        "start_time": "2024-05-31T08:27:55.054Z"
      },
      {
        "duration": 11,
        "start_time": "2024-05-31T08:27:59.503Z"
      },
      {
        "duration": 8,
        "start_time": "2024-05-31T08:28:09.614Z"
      },
      {
        "duration": 336,
        "start_time": "2024-05-31T08:30:39.778Z"
      },
      {
        "duration": 19,
        "start_time": "2024-05-31T08:30:45.474Z"
      },
      {
        "duration": 11,
        "start_time": "2024-05-31T08:31:31.891Z"
      },
      {
        "duration": 8,
        "start_time": "2024-05-31T08:31:49.811Z"
      },
      {
        "duration": 8,
        "start_time": "2024-05-31T08:31:56.964Z"
      },
      {
        "duration": 7,
        "start_time": "2024-05-31T08:31:59.491Z"
      },
      {
        "duration": 135,
        "start_time": "2024-05-31T08:32:24.213Z"
      },
      {
        "duration": 2,
        "start_time": "2024-05-31T08:32:42.196Z"
      },
      {
        "duration": 148,
        "start_time": "2024-05-31T08:32:45.684Z"
      },
      {
        "duration": 206,
        "start_time": "2024-05-31T08:34:44.422Z"
      },
      {
        "duration": 142,
        "start_time": "2024-05-31T08:34:57.063Z"
      },
      {
        "duration": 164,
        "start_time": "2024-05-31T08:35:04.167Z"
      },
      {
        "duration": 117,
        "start_time": "2024-05-31T08:35:31.544Z"
      },
      {
        "duration": 176,
        "start_time": "2024-05-31T08:35:55.801Z"
      },
      {
        "duration": 150,
        "start_time": "2024-05-31T08:36:39.194Z"
      },
      {
        "duration": 153,
        "start_time": "2024-05-31T08:37:19.418Z"
      },
      {
        "duration": 160,
        "start_time": "2024-05-31T08:38:15.051Z"
      },
      {
        "duration": 135,
        "start_time": "2024-05-31T08:38:37.306Z"
      },
      {
        "duration": 184,
        "start_time": "2024-05-31T08:39:58.604Z"
      },
      {
        "duration": 189,
        "start_time": "2024-05-31T08:40:21.613Z"
      },
      {
        "duration": 243,
        "start_time": "2024-05-31T08:40:33.245Z"
      },
      {
        "duration": 12,
        "start_time": "2024-05-31T08:41:14.638Z"
      },
      {
        "duration": 13,
        "start_time": "2024-05-31T08:41:19.647Z"
      },
      {
        "duration": 134,
        "start_time": "2024-05-31T08:42:25.264Z"
      },
      {
        "duration": 123,
        "start_time": "2024-05-31T08:42:41.951Z"
      },
      {
        "duration": 138,
        "start_time": "2024-05-31T08:42:57.104Z"
      },
      {
        "duration": 0,
        "start_time": "2024-05-31T08:46:12.345Z"
      },
      {
        "duration": 621,
        "start_time": "2024-05-31T08:46:59.639Z"
      },
      {
        "duration": 3,
        "start_time": "2024-05-31T08:47:00.262Z"
      },
      {
        "duration": 262,
        "start_time": "2024-05-31T08:47:00.266Z"
      },
      {
        "duration": 15,
        "start_time": "2024-05-31T08:47:00.530Z"
      },
      {
        "duration": 185,
        "start_time": "2024-05-31T08:47:00.547Z"
      },
      {
        "duration": 225,
        "start_time": "2024-05-31T08:47:00.733Z"
      },
      {
        "duration": 115,
        "start_time": "2024-05-31T08:47:00.961Z"
      },
      {
        "duration": 152,
        "start_time": "2024-05-31T08:47:01.078Z"
      },
      {
        "duration": 51,
        "start_time": "2024-05-31T08:47:01.231Z"
      },
      {
        "duration": 30,
        "start_time": "2024-05-31T08:47:01.285Z"
      },
      {
        "duration": 55,
        "start_time": "2024-05-31T08:47:01.316Z"
      },
      {
        "duration": 43,
        "start_time": "2024-05-31T08:47:01.372Z"
      },
      {
        "duration": 38,
        "start_time": "2024-05-31T08:47:01.417Z"
      },
      {
        "duration": 24,
        "start_time": "2024-05-31T08:47:01.456Z"
      },
      {
        "duration": 42,
        "start_time": "2024-05-31T08:47:01.481Z"
      },
      {
        "duration": 50,
        "start_time": "2024-05-31T08:47:01.525Z"
      },
      {
        "duration": 185,
        "start_time": "2024-05-31T08:47:01.577Z"
      },
      {
        "duration": 152,
        "start_time": "2024-05-31T08:47:01.765Z"
      },
      {
        "duration": 204,
        "start_time": "2024-05-31T08:47:01.919Z"
      },
      {
        "duration": 48,
        "start_time": "2024-05-31T08:47:38.965Z"
      },
      {
        "duration": 676,
        "start_time": "2024-05-31T08:47:50.749Z"
      },
      {
        "duration": 3,
        "start_time": "2024-05-31T08:47:51.427Z"
      },
      {
        "duration": 211,
        "start_time": "2024-05-31T08:47:51.432Z"
      },
      {
        "duration": 13,
        "start_time": "2024-05-31T08:47:51.645Z"
      },
      {
        "duration": 13,
        "start_time": "2024-05-31T08:47:51.661Z"
      },
      {
        "duration": 8,
        "start_time": "2024-05-31T08:47:51.676Z"
      },
      {
        "duration": 29,
        "start_time": "2024-05-31T08:47:51.686Z"
      },
      {
        "duration": 14,
        "start_time": "2024-05-31T08:47:51.717Z"
      },
      {
        "duration": 15,
        "start_time": "2024-05-31T08:47:51.733Z"
      },
      {
        "duration": 11,
        "start_time": "2024-05-31T08:47:51.750Z"
      },
      {
        "duration": 21,
        "start_time": "2024-05-31T08:47:51.763Z"
      },
      {
        "duration": 5,
        "start_time": "2024-05-31T08:47:51.786Z"
      },
      {
        "duration": 21,
        "start_time": "2024-05-31T08:47:51.793Z"
      },
      {
        "duration": 22,
        "start_time": "2024-05-31T08:47:51.817Z"
      },
      {
        "duration": 17,
        "start_time": "2024-05-31T08:47:51.840Z"
      },
      {
        "duration": 34,
        "start_time": "2024-05-31T08:47:51.858Z"
      },
      {
        "duration": 176,
        "start_time": "2024-05-31T08:47:51.894Z"
      },
      {
        "duration": 133,
        "start_time": "2024-05-31T08:47:52.072Z"
      },
      {
        "duration": 5,
        "start_time": "2024-05-31T08:47:57.558Z"
      },
      {
        "duration": 5,
        "start_time": "2024-05-31T08:48:18.774Z"
      },
      {
        "duration": 161,
        "start_time": "2024-05-31T08:49:10.728Z"
      },
      {
        "duration": 318,
        "start_time": "2024-05-31T08:49:20.328Z"
      },
      {
        "duration": 257,
        "start_time": "2024-05-31T08:49:27.607Z"
      },
      {
        "duration": 222,
        "start_time": "2024-05-31T08:49:31.032Z"
      },
      {
        "duration": 189,
        "start_time": "2024-05-31T08:49:34.695Z"
      },
      {
        "duration": 190,
        "start_time": "2024-05-31T08:49:38.232Z"
      },
      {
        "duration": 222,
        "start_time": "2024-05-31T08:49:40.968Z"
      },
      {
        "duration": 226,
        "start_time": "2024-05-31T08:49:53.720Z"
      },
      {
        "duration": 216,
        "start_time": "2024-05-31T08:50:19.065Z"
      },
      {
        "duration": 218,
        "start_time": "2024-05-31T08:50:49.418Z"
      },
      {
        "duration": 214,
        "start_time": "2024-05-31T08:51:10.922Z"
      },
      {
        "duration": 15,
        "start_time": "2024-05-31T08:52:37.740Z"
      },
      {
        "duration": 298,
        "start_time": "2024-05-31T08:52:45.932Z"
      },
      {
        "duration": 629,
        "start_time": "2024-05-31T08:52:53.260Z"
      },
      {
        "duration": 225,
        "start_time": "2024-05-31T08:52:58.332Z"
      },
      {
        "duration": 210,
        "start_time": "2024-05-31T08:53:21.502Z"
      },
      {
        "duration": 260,
        "start_time": "2024-05-31T08:54:53.903Z"
      },
      {
        "duration": 8,
        "start_time": "2024-05-31T08:56:05.554Z"
      },
      {
        "duration": 9,
        "start_time": "2024-05-31T08:56:13.792Z"
      },
      {
        "duration": 37,
        "start_time": "2024-05-31T08:56:34.609Z"
      },
      {
        "duration": 9,
        "start_time": "2024-05-31T08:56:39.026Z"
      },
      {
        "duration": 27,
        "start_time": "2024-05-31T08:56:42.529Z"
      },
      {
        "duration": 14,
        "start_time": "2024-05-31T08:56:56.593Z"
      },
      {
        "duration": 7,
        "start_time": "2024-05-31T08:58:19.555Z"
      },
      {
        "duration": 9,
        "start_time": "2024-05-31T08:58:38.259Z"
      },
      {
        "duration": 20,
        "start_time": "2024-05-31T08:58:41.347Z"
      },
      {
        "duration": 9,
        "start_time": "2024-05-31T09:00:10.244Z"
      },
      {
        "duration": 6,
        "start_time": "2024-05-31T09:00:20.037Z"
      },
      {
        "duration": 20,
        "start_time": "2024-05-31T09:00:24.452Z"
      },
      {
        "duration": 20,
        "start_time": "2024-05-31T09:00:28.597Z"
      },
      {
        "duration": 145,
        "start_time": "2024-05-31T09:01:25.751Z"
      },
      {
        "duration": 254,
        "start_time": "2024-05-31T09:01:31.670Z"
      },
      {
        "duration": 161,
        "start_time": "2024-05-31T09:01:38.278Z"
      },
      {
        "duration": 219,
        "start_time": "2024-05-31T09:02:37.096Z"
      },
      {
        "duration": 219,
        "start_time": "2024-05-31T09:02:44.744Z"
      },
      {
        "duration": 223,
        "start_time": "2024-05-31T09:02:48.332Z"
      },
      {
        "duration": 241,
        "start_time": "2024-05-31T09:02:55.641Z"
      },
      {
        "duration": 209,
        "start_time": "2024-05-31T09:02:59.543Z"
      },
      {
        "duration": 234,
        "start_time": "2024-05-31T09:03:12.536Z"
      },
      {
        "duration": 316,
        "start_time": "2024-05-31T09:03:32.025Z"
      },
      {
        "duration": 221,
        "start_time": "2024-05-31T09:03:35.225Z"
      },
      {
        "duration": 12,
        "start_time": "2024-05-31T09:04:05.178Z"
      },
      {
        "duration": 15,
        "start_time": "2024-05-31T09:04:16.059Z"
      },
      {
        "duration": 15,
        "start_time": "2024-05-31T09:04:22.330Z"
      },
      {
        "duration": 742,
        "start_time": "2024-05-31T09:04:59.994Z"
      },
      {
        "duration": 227,
        "start_time": "2024-05-31T09:05:04.283Z"
      },
      {
        "duration": 21,
        "start_time": "2024-05-31T09:05:58.556Z"
      },
      {
        "duration": 19,
        "start_time": "2024-05-31T09:06:15.004Z"
      },
      {
        "duration": 147,
        "start_time": "2024-05-31T09:07:00.861Z"
      },
      {
        "duration": 20,
        "start_time": "2024-05-31T09:07:21.118Z"
      },
      {
        "duration": 19,
        "start_time": "2024-05-31T09:07:23.901Z"
      },
      {
        "duration": 20,
        "start_time": "2024-05-31T09:07:28.622Z"
      },
      {
        "duration": 249,
        "start_time": "2024-05-31T09:07:53.054Z"
      },
      {
        "duration": 142,
        "start_time": "2024-05-31T09:07:57.775Z"
      },
      {
        "duration": 5,
        "start_time": "2024-05-31T09:08:25.902Z"
      },
      {
        "duration": 669,
        "start_time": "2024-05-31T09:08:36.947Z"
      },
      {
        "duration": 2,
        "start_time": "2024-05-31T09:08:37.618Z"
      },
      {
        "duration": 70,
        "start_time": "2024-05-31T09:08:37.622Z"
      },
      {
        "duration": 11,
        "start_time": "2024-05-31T09:08:37.694Z"
      },
      {
        "duration": 9,
        "start_time": "2024-05-31T09:08:37.707Z"
      },
      {
        "duration": 19,
        "start_time": "2024-05-31T09:08:37.717Z"
      },
      {
        "duration": 17,
        "start_time": "2024-05-31T09:08:37.737Z"
      },
      {
        "duration": 16,
        "start_time": "2024-05-31T09:08:37.756Z"
      },
      {
        "duration": 19,
        "start_time": "2024-05-31T09:08:37.774Z"
      },
      {
        "duration": 13,
        "start_time": "2024-05-31T09:08:37.797Z"
      },
      {
        "duration": 9,
        "start_time": "2024-05-31T09:08:37.812Z"
      },
      {
        "duration": 6,
        "start_time": "2024-05-31T09:08:37.823Z"
      },
      {
        "duration": 15,
        "start_time": "2024-05-31T09:08:37.831Z"
      },
      {
        "duration": 5,
        "start_time": "2024-05-31T09:08:37.882Z"
      },
      {
        "duration": 28,
        "start_time": "2024-05-31T09:08:37.889Z"
      },
      {
        "duration": 43,
        "start_time": "2024-05-31T09:08:37.919Z"
      },
      {
        "duration": 167,
        "start_time": "2024-05-31T09:08:37.964Z"
      },
      {
        "duration": 7,
        "start_time": "2024-05-31T09:08:38.133Z"
      },
      {
        "duration": 173,
        "start_time": "2024-05-31T09:08:38.142Z"
      },
      {
        "duration": 163,
        "start_time": "2024-05-31T09:08:38.317Z"
      },
      {
        "duration": 204,
        "start_time": "2024-05-31T09:08:38.482Z"
      },
      {
        "duration": 287,
        "start_time": "2024-05-31T09:08:38.688Z"
      },
      {
        "duration": 221,
        "start_time": "2024-05-31T09:08:38.977Z"
      },
      {
        "duration": 9,
        "start_time": "2024-05-31T09:08:39.200Z"
      },
      {
        "duration": 60,
        "start_time": "2024-05-31T09:08:39.211Z"
      },
      {
        "duration": 17,
        "start_time": "2024-05-31T09:08:39.272Z"
      },
      {
        "duration": 13,
        "start_time": "2024-05-31T09:08:39.291Z"
      },
      {
        "duration": 253,
        "start_time": "2024-05-31T09:08:39.307Z"
      },
      {
        "duration": 235,
        "start_time": "2024-05-31T09:08:39.561Z"
      },
      {
        "duration": 249,
        "start_time": "2024-05-31T09:08:39.798Z"
      },
      {
        "duration": 248,
        "start_time": "2024-05-31T09:08:40.049Z"
      },
      {
        "duration": 9,
        "start_time": "2024-05-31T09:08:40.298Z"
      },
      {
        "duration": 24,
        "start_time": "2024-05-31T09:10:49.089Z"
      },
      {
        "duration": 5,
        "start_time": "2024-05-31T09:12:22.195Z"
      },
      {
        "duration": 12,
        "start_time": "2024-05-31T09:12:34.211Z"
      },
      {
        "duration": 80,
        "start_time": "2024-05-31T09:14:00.997Z"
      },
      {
        "duration": 17,
        "start_time": "2024-05-31T09:14:15.013Z"
      },
      {
        "duration": 13,
        "start_time": "2024-05-31T09:14:37.909Z"
      },
      {
        "duration": 14,
        "start_time": "2024-05-31T09:14:40.822Z"
      },
      {
        "duration": 4,
        "start_time": "2024-05-31T09:15:07.367Z"
      },
      {
        "duration": 20,
        "start_time": "2024-05-31T09:15:30.887Z"
      },
      {
        "duration": 17,
        "start_time": "2024-05-31T09:15:41.655Z"
      },
      {
        "duration": 12,
        "start_time": "2024-05-31T09:16:21.608Z"
      },
      {
        "duration": 688,
        "start_time": "2024-05-31T09:16:46.172Z"
      },
      {
        "duration": 4,
        "start_time": "2024-05-31T09:16:46.862Z"
      },
      {
        "duration": 82,
        "start_time": "2024-05-31T09:16:46.868Z"
      },
      {
        "duration": 12,
        "start_time": "2024-05-31T09:16:46.952Z"
      },
      {
        "duration": 17,
        "start_time": "2024-05-31T09:16:46.966Z"
      },
      {
        "duration": 18,
        "start_time": "2024-05-31T09:16:46.984Z"
      },
      {
        "duration": 23,
        "start_time": "2024-05-31T09:16:47.003Z"
      },
      {
        "duration": 30,
        "start_time": "2024-05-31T09:16:47.027Z"
      },
      {
        "duration": 22,
        "start_time": "2024-05-31T09:16:47.059Z"
      },
      {
        "duration": 14,
        "start_time": "2024-05-31T09:16:47.083Z"
      },
      {
        "duration": 11,
        "start_time": "2024-05-31T09:16:47.099Z"
      },
      {
        "duration": 20,
        "start_time": "2024-05-31T09:16:47.111Z"
      },
      {
        "duration": 15,
        "start_time": "2024-05-31T09:16:47.132Z"
      },
      {
        "duration": 5,
        "start_time": "2024-05-31T09:16:47.148Z"
      },
      {
        "duration": 19,
        "start_time": "2024-05-31T09:16:47.154Z"
      },
      {
        "duration": 17,
        "start_time": "2024-05-31T09:16:47.175Z"
      },
      {
        "duration": 173,
        "start_time": "2024-05-31T09:16:47.194Z"
      },
      {
        "duration": 6,
        "start_time": "2024-05-31T09:16:47.369Z"
      },
      {
        "duration": 172,
        "start_time": "2024-05-31T09:16:47.382Z"
      },
      {
        "duration": 151,
        "start_time": "2024-05-31T09:16:47.555Z"
      },
      {
        "duration": 215,
        "start_time": "2024-05-31T09:16:47.708Z"
      },
      {
        "duration": 313,
        "start_time": "2024-05-31T09:16:47.925Z"
      },
      {
        "duration": 236,
        "start_time": "2024-05-31T09:16:48.239Z"
      },
      {
        "duration": 10,
        "start_time": "2024-05-31T09:16:48.477Z"
      },
      {
        "duration": 18,
        "start_time": "2024-05-31T09:16:48.488Z"
      },
      {
        "duration": 17,
        "start_time": "2024-05-31T09:16:48.507Z"
      },
      {
        "duration": 25,
        "start_time": "2024-05-31T09:16:48.526Z"
      },
      {
        "duration": 255,
        "start_time": "2024-05-31T09:16:48.556Z"
      },
      {
        "duration": 229,
        "start_time": "2024-05-31T09:16:48.813Z"
      },
      {
        "duration": 248,
        "start_time": "2024-05-31T09:16:49.044Z"
      },
      {
        "duration": 245,
        "start_time": "2024-05-31T09:16:49.294Z"
      },
      {
        "duration": 5,
        "start_time": "2024-05-31T09:16:49.540Z"
      },
      {
        "duration": 16,
        "start_time": "2024-05-31T09:16:49.547Z"
      },
      {
        "duration": 21,
        "start_time": "2024-05-31T09:16:49.581Z"
      },
      {
        "duration": 30,
        "start_time": "2024-05-31T09:18:27.002Z"
      },
      {
        "duration": 33,
        "start_time": "2024-05-31T09:19:19.083Z"
      },
      {
        "duration": 31,
        "start_time": "2024-05-31T09:19:31.741Z"
      },
      {
        "duration": 18,
        "start_time": "2024-05-31T09:21:51.900Z"
      },
      {
        "duration": 739,
        "start_time": "2024-05-31T09:21:58.849Z"
      },
      {
        "duration": 3,
        "start_time": "2024-05-31T09:21:59.590Z"
      },
      {
        "duration": 92,
        "start_time": "2024-05-31T09:21:59.595Z"
      },
      {
        "duration": 12,
        "start_time": "2024-05-31T09:21:59.688Z"
      },
      {
        "duration": 9,
        "start_time": "2024-05-31T09:21:59.702Z"
      },
      {
        "duration": 11,
        "start_time": "2024-05-31T09:21:59.712Z"
      },
      {
        "duration": 13,
        "start_time": "2024-05-31T09:21:59.725Z"
      },
      {
        "duration": 19,
        "start_time": "2024-05-31T09:21:59.739Z"
      },
      {
        "duration": 31,
        "start_time": "2024-05-31T09:21:59.760Z"
      },
      {
        "duration": 11,
        "start_time": "2024-05-31T09:21:59.792Z"
      },
      {
        "duration": 5,
        "start_time": "2024-05-31T09:21:59.805Z"
      },
      {
        "duration": 15,
        "start_time": "2024-05-31T09:21:59.812Z"
      },
      {
        "duration": 15,
        "start_time": "2024-05-31T09:21:59.829Z"
      },
      {
        "duration": 7,
        "start_time": "2024-05-31T09:21:59.846Z"
      },
      {
        "duration": 29,
        "start_time": "2024-05-31T09:21:59.854Z"
      },
      {
        "duration": 16,
        "start_time": "2024-05-31T09:21:59.885Z"
      },
      {
        "duration": 174,
        "start_time": "2024-05-31T09:21:59.903Z"
      },
      {
        "duration": 5,
        "start_time": "2024-05-31T09:22:00.082Z"
      },
      {
        "duration": 216,
        "start_time": "2024-05-31T09:22:00.088Z"
      },
      {
        "duration": 146,
        "start_time": "2024-05-31T09:22:00.306Z"
      },
      {
        "duration": 206,
        "start_time": "2024-05-31T09:22:00.454Z"
      },
      {
        "duration": 335,
        "start_time": "2024-05-31T09:22:00.662Z"
      },
      {
        "duration": 242,
        "start_time": "2024-05-31T09:22:00.999Z"
      },
      {
        "duration": 11,
        "start_time": "2024-05-31T09:22:01.243Z"
      },
      {
        "duration": 87,
        "start_time": "2024-05-31T09:22:01.256Z"
      },
      {
        "duration": 148,
        "start_time": "2024-05-31T09:22:01.345Z"
      },
      {
        "duration": 114,
        "start_time": "2024-05-31T09:22:01.495Z"
      },
      {
        "duration": 275,
        "start_time": "2024-05-31T09:22:01.611Z"
      },
      {
        "duration": 239,
        "start_time": "2024-05-31T09:22:01.887Z"
      },
      {
        "duration": 246,
        "start_time": "2024-05-31T09:22:02.128Z"
      },
      {
        "duration": 278,
        "start_time": "2024-05-31T09:22:02.375Z"
      },
      {
        "duration": 5,
        "start_time": "2024-05-31T09:22:02.655Z"
      },
      {
        "duration": 49,
        "start_time": "2024-05-31T09:22:02.662Z"
      },
      {
        "duration": 19,
        "start_time": "2024-05-31T09:22:02.713Z"
      },
      {
        "duration": 23,
        "start_time": "2024-05-31T09:24:54.074Z"
      },
      {
        "duration": 13,
        "start_time": "2024-05-31T09:24:59.882Z"
      },
      {
        "duration": 562,
        "start_time": "2024-05-31T09:28:32.939Z"
      },
      {
        "duration": 101,
        "start_time": "2024-05-31T09:31:01.707Z"
      },
      {
        "duration": 13,
        "start_time": "2024-05-31T09:31:25.179Z"
      },
      {
        "duration": 4,
        "start_time": "2024-05-31T09:31:30.235Z"
      },
      {
        "duration": 7,
        "start_time": "2024-05-31T09:31:37.739Z"
      },
      {
        "duration": 8,
        "start_time": "2024-05-31T09:32:02.923Z"
      },
      {
        "duration": 6,
        "start_time": "2024-05-31T09:32:07.580Z"
      },
      {
        "duration": 5,
        "start_time": "2024-05-31T09:32:23.996Z"
      },
      {
        "duration": 5,
        "start_time": "2024-05-31T09:32:28.460Z"
      },
      {
        "duration": 6,
        "start_time": "2024-05-31T09:32:32.524Z"
      },
      {
        "duration": 4,
        "start_time": "2024-05-31T09:32:36.347Z"
      },
      {
        "duration": 6,
        "start_time": "2024-05-31T09:32:51.596Z"
      },
      {
        "duration": 6,
        "start_time": "2024-05-31T09:33:00.204Z"
      },
      {
        "duration": 5,
        "start_time": "2024-05-31T09:33:13.228Z"
      },
      {
        "duration": 5,
        "start_time": "2024-05-31T09:33:18.236Z"
      },
      {
        "duration": 12,
        "start_time": "2024-05-31T09:34:01.101Z"
      },
      {
        "duration": 6,
        "start_time": "2024-05-31T09:35:02.878Z"
      },
      {
        "duration": 6,
        "start_time": "2024-05-31T09:35:13.373Z"
      },
      {
        "duration": 6,
        "start_time": "2024-05-31T09:35:17.053Z"
      },
      {
        "duration": 4,
        "start_time": "2024-05-31T09:38:20.528Z"
      },
      {
        "duration": 6,
        "start_time": "2024-05-31T09:38:42.975Z"
      },
      {
        "duration": 7,
        "start_time": "2024-05-31T09:42:23.346Z"
      },
      {
        "duration": 6,
        "start_time": "2024-05-31T09:48:24.120Z"
      },
      {
        "duration": 5,
        "start_time": "2024-05-31T09:50:24.905Z"
      },
      {
        "duration": 15,
        "start_time": "2024-05-31T09:56:27.937Z"
      },
      {
        "duration": 102,
        "start_time": "2024-05-31T09:56:38.610Z"
      },
      {
        "duration": 18,
        "start_time": "2024-05-31T09:56:49.570Z"
      },
      {
        "duration": 27,
        "start_time": "2024-05-31T09:58:19.126Z"
      },
      {
        "duration": 14,
        "start_time": "2024-05-31T09:58:21.477Z"
      },
      {
        "duration": 17,
        "start_time": "2024-05-31T09:59:25.832Z"
      },
      {
        "duration": 1214,
        "start_time": "2024-05-31T10:00:04.161Z"
      },
      {
        "duration": 6,
        "start_time": "2024-05-31T10:00:05.377Z"
      },
      {
        "duration": 87,
        "start_time": "2024-05-31T10:00:05.384Z"
      },
      {
        "duration": 14,
        "start_time": "2024-05-31T10:00:05.473Z"
      },
      {
        "duration": 9,
        "start_time": "2024-05-31T10:00:05.490Z"
      },
      {
        "duration": 25,
        "start_time": "2024-05-31T10:00:05.502Z"
      },
      {
        "duration": 25,
        "start_time": "2024-05-31T10:00:05.529Z"
      },
      {
        "duration": 49,
        "start_time": "2024-05-31T10:00:05.557Z"
      },
      {
        "duration": 13,
        "start_time": "2024-05-31T10:00:05.608Z"
      },
      {
        "duration": 29,
        "start_time": "2024-05-31T10:00:05.622Z"
      },
      {
        "duration": 15,
        "start_time": "2024-05-31T10:00:05.653Z"
      },
      {
        "duration": 11,
        "start_time": "2024-05-31T10:00:05.670Z"
      },
      {
        "duration": 17,
        "start_time": "2024-05-31T10:00:05.682Z"
      },
      {
        "duration": 5,
        "start_time": "2024-05-31T10:00:05.702Z"
      },
      {
        "duration": 9,
        "start_time": "2024-05-31T10:00:05.708Z"
      },
      {
        "duration": 25,
        "start_time": "2024-05-31T10:00:05.718Z"
      },
      {
        "duration": 193,
        "start_time": "2024-05-31T10:00:05.745Z"
      },
      {
        "duration": 6,
        "start_time": "2024-05-31T10:00:05.940Z"
      },
      {
        "duration": 203,
        "start_time": "2024-05-31T10:00:05.948Z"
      },
      {
        "duration": 145,
        "start_time": "2024-05-31T10:00:06.154Z"
      },
      {
        "duration": 201,
        "start_time": "2024-05-31T10:00:06.301Z"
      },
      {
        "duration": 240,
        "start_time": "2024-05-31T10:00:06.504Z"
      },
      {
        "duration": 221,
        "start_time": "2024-05-31T10:00:06.746Z"
      },
      {
        "duration": 17,
        "start_time": "2024-05-31T10:00:06.969Z"
      },
      {
        "duration": 10,
        "start_time": "2024-05-31T10:00:06.988Z"
      },
      {
        "duration": 7,
        "start_time": "2024-05-31T10:00:06.999Z"
      },
      {
        "duration": 21,
        "start_time": "2024-05-31T10:00:07.007Z"
      },
      {
        "duration": 12,
        "start_time": "2024-05-31T10:00:07.030Z"
      },
      {
        "duration": 260,
        "start_time": "2024-05-31T10:00:07.044Z"
      },
      {
        "duration": 306,
        "start_time": "2024-05-31T10:00:07.305Z"
      },
      {
        "duration": 226,
        "start_time": "2024-05-31T10:00:07.613Z"
      },
      {
        "duration": 235,
        "start_time": "2024-05-31T10:00:07.841Z"
      },
      {
        "duration": 26,
        "start_time": "2024-05-31T10:00:08.078Z"
      },
      {
        "duration": 16,
        "start_time": "2024-05-31T10:00:08.105Z"
      },
      {
        "duration": 6,
        "start_time": "2024-05-31T10:00:08.123Z"
      },
      {
        "duration": 10,
        "start_time": "2024-05-31T10:00:08.131Z"
      },
      {
        "duration": 39,
        "start_time": "2024-05-31T10:00:08.143Z"
      },
      {
        "duration": 18,
        "start_time": "2024-05-31T10:00:08.184Z"
      },
      {
        "duration": 16,
        "start_time": "2024-05-31T10:00:08.204Z"
      },
      {
        "duration": 6,
        "start_time": "2024-05-31T10:00:20.010Z"
      },
      {
        "duration": 8,
        "start_time": "2024-05-31T10:01:15.036Z"
      },
      {
        "duration": 7,
        "start_time": "2024-05-31T10:01:18.606Z"
      },
      {
        "duration": 5,
        "start_time": "2024-05-31T10:01:35.276Z"
      },
      {
        "duration": 4,
        "start_time": "2024-05-31T10:01:40.412Z"
      },
      {
        "duration": 9,
        "start_time": "2024-05-31T10:01:52.461Z"
      },
      {
        "duration": 9,
        "start_time": "2024-05-31T10:02:17.326Z"
      },
      {
        "duration": 8,
        "start_time": "2024-05-31T10:02:24.718Z"
      },
      {
        "duration": 17,
        "start_time": "2024-05-31T10:02:44.207Z"
      },
      {
        "duration": 24,
        "start_time": "2024-05-31T10:02:59.135Z"
      },
      {
        "duration": 9,
        "start_time": "2024-05-31T10:04:57.059Z"
      },
      {
        "duration": 18,
        "start_time": "2024-05-31T10:05:00.819Z"
      },
      {
        "duration": 15,
        "start_time": "2024-05-31T10:05:13.875Z"
      },
      {
        "duration": 1110,
        "start_time": "2024-05-31T10:05:18.405Z"
      },
      {
        "duration": 3,
        "start_time": "2024-05-31T10:05:19.516Z"
      },
      {
        "duration": 81,
        "start_time": "2024-05-31T10:05:19.520Z"
      },
      {
        "duration": 12,
        "start_time": "2024-05-31T10:05:19.603Z"
      },
      {
        "duration": 9,
        "start_time": "2024-05-31T10:05:19.617Z"
      },
      {
        "duration": 9,
        "start_time": "2024-05-31T10:05:19.627Z"
      },
      {
        "duration": 18,
        "start_time": "2024-05-31T10:05:19.637Z"
      },
      {
        "duration": 25,
        "start_time": "2024-05-31T10:05:19.657Z"
      },
      {
        "duration": 15,
        "start_time": "2024-05-31T10:05:19.684Z"
      },
      {
        "duration": 12,
        "start_time": "2024-05-31T10:05:19.701Z"
      },
      {
        "duration": 5,
        "start_time": "2024-05-31T10:05:19.715Z"
      },
      {
        "duration": 5,
        "start_time": "2024-05-31T10:05:19.722Z"
      },
      {
        "duration": 9,
        "start_time": "2024-05-31T10:05:19.730Z"
      },
      {
        "duration": 44,
        "start_time": "2024-05-31T10:05:19.741Z"
      },
      {
        "duration": 8,
        "start_time": "2024-05-31T10:05:19.787Z"
      },
      {
        "duration": 16,
        "start_time": "2024-05-31T10:05:19.797Z"
      },
      {
        "duration": 192,
        "start_time": "2024-05-31T10:05:19.815Z"
      },
      {
        "duration": 6,
        "start_time": "2024-05-31T10:05:20.009Z"
      },
      {
        "duration": 200,
        "start_time": "2024-05-31T10:05:20.016Z"
      },
      {
        "duration": 132,
        "start_time": "2024-05-31T10:05:20.217Z"
      },
      {
        "duration": 191,
        "start_time": "2024-05-31T10:05:20.351Z"
      },
      {
        "duration": 226,
        "start_time": "2024-05-31T10:05:20.543Z"
      },
      {
        "duration": 219,
        "start_time": "2024-05-31T10:05:20.771Z"
      },
      {
        "duration": 10,
        "start_time": "2024-05-31T10:05:20.992Z"
      },
      {
        "duration": 9,
        "start_time": "2024-05-31T10:05:21.003Z"
      },
      {
        "duration": 4,
        "start_time": "2024-05-31T10:05:21.014Z"
      },
      {
        "duration": 18,
        "start_time": "2024-05-31T10:05:21.019Z"
      },
      {
        "duration": 13,
        "start_time": "2024-05-31T10:05:21.039Z"
      },
      {
        "duration": 227,
        "start_time": "2024-05-31T10:05:21.082Z"
      },
      {
        "duration": 287,
        "start_time": "2024-05-31T10:05:21.310Z"
      },
      {
        "duration": 237,
        "start_time": "2024-05-31T10:05:21.599Z"
      },
      {
        "duration": 217,
        "start_time": "2024-05-31T10:05:21.837Z"
      },
      {
        "duration": 31,
        "start_time": "2024-05-31T10:05:22.055Z"
      },
      {
        "duration": 12,
        "start_time": "2024-05-31T10:05:22.088Z"
      },
      {
        "duration": 19,
        "start_time": "2024-05-31T10:05:22.102Z"
      },
      {
        "duration": 6,
        "start_time": "2024-05-31T10:05:22.123Z"
      },
      {
        "duration": 6,
        "start_time": "2024-05-31T10:05:22.131Z"
      },
      {
        "duration": 16,
        "start_time": "2024-05-31T10:05:22.138Z"
      },
      {
        "duration": 17,
        "start_time": "2024-05-31T10:05:22.181Z"
      },
      {
        "duration": 27,
        "start_time": "2024-05-31T10:05:22.202Z"
      },
      {
        "duration": 108,
        "start_time": "2024-05-31T10:14:00.673Z"
      },
      {
        "duration": 18,
        "start_time": "2024-05-31T10:14:04.752Z"
      },
      {
        "duration": 925,
        "start_time": "2024-05-31T10:14:08.592Z"
      },
      {
        "duration": 20,
        "start_time": "2024-05-31T10:14:12.480Z"
      },
      {
        "duration": 1023,
        "start_time": "2024-05-31T10:14:30.177Z"
      },
      {
        "duration": 840,
        "start_time": "2024-05-31T10:14:37.521Z"
      },
      {
        "duration": 18,
        "start_time": "2024-05-31T10:14:42.272Z"
      },
      {
        "duration": 94,
        "start_time": "2024-05-31T10:17:16.437Z"
      },
      {
        "duration": 1148,
        "start_time": "2024-05-31T10:17:27.704Z"
      },
      {
        "duration": 3,
        "start_time": "2024-05-31T10:17:28.854Z"
      },
      {
        "duration": 79,
        "start_time": "2024-05-31T10:17:28.859Z"
      },
      {
        "duration": 12,
        "start_time": "2024-05-31T10:17:28.940Z"
      },
      {
        "duration": 9,
        "start_time": "2024-05-31T10:17:28.954Z"
      },
      {
        "duration": 9,
        "start_time": "2024-05-31T10:17:28.964Z"
      },
      {
        "duration": 19,
        "start_time": "2024-05-31T10:17:28.974Z"
      },
      {
        "duration": 35,
        "start_time": "2024-05-31T10:17:28.995Z"
      },
      {
        "duration": 22,
        "start_time": "2024-05-31T10:17:29.032Z"
      },
      {
        "duration": 12,
        "start_time": "2024-05-31T10:17:29.057Z"
      },
      {
        "duration": 11,
        "start_time": "2024-05-31T10:17:29.071Z"
      },
      {
        "duration": 18,
        "start_time": "2024-05-31T10:17:29.083Z"
      },
      {
        "duration": 15,
        "start_time": "2024-05-31T10:17:29.102Z"
      },
      {
        "duration": 25,
        "start_time": "2024-05-31T10:17:29.118Z"
      },
      {
        "duration": 9,
        "start_time": "2024-05-31T10:17:29.145Z"
      },
      {
        "duration": 20,
        "start_time": "2024-05-31T10:17:29.156Z"
      },
      {
        "duration": 143,
        "start_time": "2024-05-31T10:17:29.178Z"
      },
      {
        "duration": 5,
        "start_time": "2024-05-31T10:17:29.323Z"
      },
      {
        "duration": 167,
        "start_time": "2024-05-31T10:17:29.329Z"
      },
      {
        "duration": 145,
        "start_time": "2024-05-31T10:17:29.498Z"
      },
      {
        "duration": 207,
        "start_time": "2024-05-31T10:17:29.645Z"
      },
      {
        "duration": 273,
        "start_time": "2024-05-31T10:17:29.854Z"
      },
      {
        "duration": 224,
        "start_time": "2024-05-31T10:17:30.128Z"
      },
      {
        "duration": 9,
        "start_time": "2024-05-31T10:17:30.354Z"
      },
      {
        "duration": 94,
        "start_time": "2024-05-31T10:17:30.364Z"
      },
      {
        "duration": 75,
        "start_time": "2024-05-31T10:17:30.459Z"
      },
      {
        "duration": 59,
        "start_time": "2024-05-31T10:17:30.535Z"
      },
      {
        "duration": 47,
        "start_time": "2024-05-31T10:17:30.597Z"
      },
      {
        "duration": 330,
        "start_time": "2024-05-31T10:17:30.646Z"
      },
      {
        "duration": 315,
        "start_time": "2024-05-31T10:17:30.977Z"
      },
      {
        "duration": 247,
        "start_time": "2024-05-31T10:17:31.293Z"
      },
      {
        "duration": 235,
        "start_time": "2024-05-31T10:17:31.542Z"
      },
      {
        "duration": 26,
        "start_time": "2024-05-31T10:17:31.778Z"
      },
      {
        "duration": 40,
        "start_time": "2024-05-31T10:17:31.806Z"
      },
      {
        "duration": 176,
        "start_time": "2024-05-31T10:17:31.847Z"
      },
      {
        "duration": 74,
        "start_time": "2024-05-31T10:17:32.025Z"
      },
      {
        "duration": 88,
        "start_time": "2024-05-31T10:17:32.100Z"
      },
      {
        "duration": 40,
        "start_time": "2024-05-31T10:17:32.190Z"
      },
      {
        "duration": 40,
        "start_time": "2024-05-31T10:17:32.232Z"
      },
      {
        "duration": 60,
        "start_time": "2024-05-31T10:17:32.273Z"
      },
      {
        "duration": 203,
        "start_time": "2024-05-31T10:17:50.052Z"
      },
      {
        "duration": 217,
        "start_time": "2024-05-31T10:17:53.941Z"
      },
      {
        "duration": 205,
        "start_time": "2024-05-31T10:17:58.229Z"
      },
      {
        "duration": 209,
        "start_time": "2024-05-31T10:18:03.605Z"
      },
      {
        "duration": 203,
        "start_time": "2024-05-31T10:18:07.141Z"
      },
      {
        "duration": 219,
        "start_time": "2024-05-31T10:18:09.861Z"
      },
      {
        "duration": 324,
        "start_time": "2024-05-31T10:18:12.405Z"
      },
      {
        "duration": 212,
        "start_time": "2024-05-31T10:18:16.374Z"
      },
      {
        "duration": 213,
        "start_time": "2024-05-31T10:18:22.085Z"
      },
      {
        "duration": 203,
        "start_time": "2024-05-31T10:18:32.870Z"
      },
      {
        "duration": 218,
        "start_time": "2024-05-31T10:18:37.494Z"
      },
      {
        "duration": 198,
        "start_time": "2024-05-31T10:19:54.952Z"
      },
      {
        "duration": 216,
        "start_time": "2024-05-31T10:20:04.311Z"
      },
      {
        "duration": 13,
        "start_time": "2024-05-31T10:21:08.377Z"
      },
      {
        "duration": 103,
        "start_time": "2024-05-31T10:21:31.802Z"
      },
      {
        "duration": 8,
        "start_time": "2024-05-31T10:21:35.337Z"
      },
      {
        "duration": 5,
        "start_time": "2024-05-31T10:23:04.363Z"
      },
      {
        "duration": 6,
        "start_time": "2024-05-31T10:24:17.405Z"
      },
      {
        "duration": 4,
        "start_time": "2024-05-31T10:24:30.445Z"
      },
      {
        "duration": 11,
        "start_time": "2024-05-31T10:24:59.454Z"
      },
      {
        "duration": 5,
        "start_time": "2024-05-31T10:25:10.830Z"
      },
      {
        "duration": 5,
        "start_time": "2024-05-31T10:25:17.182Z"
      },
      {
        "duration": 5,
        "start_time": "2024-05-31T10:25:29.390Z"
      },
      {
        "duration": 4,
        "start_time": "2024-05-31T10:25:33.038Z"
      },
      {
        "duration": 9,
        "start_time": "2024-05-31T10:25:51.375Z"
      },
      {
        "duration": 8,
        "start_time": "2024-05-31T10:26:24.879Z"
      },
      {
        "duration": 62,
        "start_time": "2024-06-01T15:44:57.931Z"
      },
      {
        "duration": 1470,
        "start_time": "2024-06-01T15:45:01.618Z"
      },
      {
        "duration": 6,
        "start_time": "2024-06-01T15:45:03.090Z"
      },
      {
        "duration": 314,
        "start_time": "2024-06-01T15:45:03.098Z"
      },
      {
        "duration": 14,
        "start_time": "2024-06-01T15:45:03.414Z"
      },
      {
        "duration": 9,
        "start_time": "2024-06-01T15:45:03.431Z"
      },
      {
        "duration": 14,
        "start_time": "2024-06-01T15:45:03.444Z"
      },
      {
        "duration": 36,
        "start_time": "2024-06-01T15:45:03.470Z"
      },
      {
        "duration": 34,
        "start_time": "2024-06-01T15:45:03.509Z"
      },
      {
        "duration": 38,
        "start_time": "2024-06-01T15:45:03.545Z"
      },
      {
        "duration": 23,
        "start_time": "2024-06-01T15:45:03.586Z"
      },
      {
        "duration": 6,
        "start_time": "2024-06-01T15:45:03.611Z"
      },
      {
        "duration": 6,
        "start_time": "2024-06-01T15:45:03.618Z"
      },
      {
        "duration": 15,
        "start_time": "2024-06-01T15:45:03.625Z"
      },
      {
        "duration": 23,
        "start_time": "2024-06-01T15:45:03.642Z"
      },
      {
        "duration": 18,
        "start_time": "2024-06-01T15:45:03.667Z"
      },
      {
        "duration": 37,
        "start_time": "2024-06-01T15:45:03.687Z"
      },
      {
        "duration": 185,
        "start_time": "2024-06-01T15:45:03.725Z"
      },
      {
        "duration": 5,
        "start_time": "2024-06-01T15:45:03.912Z"
      },
      {
        "duration": 190,
        "start_time": "2024-06-01T15:45:03.918Z"
      },
      {
        "duration": 167,
        "start_time": "2024-06-01T15:45:04.110Z"
      },
      {
        "duration": 214,
        "start_time": "2024-06-01T15:45:04.279Z"
      },
      {
        "duration": 274,
        "start_time": "2024-06-01T15:45:04.495Z"
      },
      {
        "duration": 263,
        "start_time": "2024-06-01T15:45:04.778Z"
      },
      {
        "duration": 22,
        "start_time": "2024-06-01T15:45:05.043Z"
      },
      {
        "duration": 15,
        "start_time": "2024-06-01T15:45:05.067Z"
      },
      {
        "duration": 17,
        "start_time": "2024-06-01T15:45:05.084Z"
      },
      {
        "duration": 24,
        "start_time": "2024-06-01T15:45:05.103Z"
      },
      {
        "duration": 14,
        "start_time": "2024-06-01T15:45:05.130Z"
      },
      {
        "duration": 284,
        "start_time": "2024-06-01T15:45:05.145Z"
      },
      {
        "duration": 378,
        "start_time": "2024-06-01T15:45:05.431Z"
      },
      {
        "duration": 232,
        "start_time": "2024-06-01T15:45:05.810Z"
      },
      {
        "duration": 262,
        "start_time": "2024-06-01T15:45:06.044Z"
      },
      {
        "duration": 29,
        "start_time": "2024-06-01T15:45:06.308Z"
      },
      {
        "duration": 51,
        "start_time": "2024-06-01T15:45:06.339Z"
      },
      {
        "duration": 1034,
        "start_time": "2024-06-01T15:45:06.402Z"
      },
      {
        "duration": 0,
        "start_time": "2024-06-01T15:45:07.438Z"
      },
      {
        "duration": 0,
        "start_time": "2024-06-01T15:45:07.439Z"
      },
      {
        "duration": 0,
        "start_time": "2024-06-01T15:45:07.440Z"
      },
      {
        "duration": 0,
        "start_time": "2024-06-01T15:45:07.441Z"
      },
      {
        "duration": 0,
        "start_time": "2024-06-01T15:45:07.443Z"
      },
      {
        "duration": 0,
        "start_time": "2024-06-01T15:45:07.444Z"
      },
      {
        "duration": 0,
        "start_time": "2024-06-01T15:45:07.445Z"
      },
      {
        "duration": 0,
        "start_time": "2024-06-01T15:45:07.446Z"
      },
      {
        "duration": 0,
        "start_time": "2024-06-01T15:45:07.447Z"
      },
      {
        "duration": 0,
        "start_time": "2024-06-01T15:45:07.448Z"
      },
      {
        "duration": 63,
        "start_time": "2024-06-01T15:45:29.962Z"
      },
      {
        "duration": 1282,
        "start_time": "2024-06-01T15:46:56.039Z"
      },
      {
        "duration": 3,
        "start_time": "2024-06-01T15:46:57.322Z"
      },
      {
        "duration": 82,
        "start_time": "2024-06-01T15:46:57.326Z"
      },
      {
        "duration": 13,
        "start_time": "2024-06-01T15:46:57.410Z"
      },
      {
        "duration": 9,
        "start_time": "2024-06-01T15:46:57.424Z"
      },
      {
        "duration": 8,
        "start_time": "2024-06-01T15:46:57.434Z"
      },
      {
        "duration": 11,
        "start_time": "2024-06-01T15:46:57.444Z"
      },
      {
        "duration": 37,
        "start_time": "2024-06-01T15:46:57.458Z"
      },
      {
        "duration": 15,
        "start_time": "2024-06-01T15:46:57.497Z"
      },
      {
        "duration": 12,
        "start_time": "2024-06-01T15:46:57.514Z"
      },
      {
        "duration": 15,
        "start_time": "2024-06-01T15:46:57.527Z"
      },
      {
        "duration": 20,
        "start_time": "2024-06-01T15:46:57.544Z"
      },
      {
        "duration": 21,
        "start_time": "2024-06-01T15:46:57.572Z"
      },
      {
        "duration": 5,
        "start_time": "2024-06-01T15:46:57.601Z"
      },
      {
        "duration": 8,
        "start_time": "2024-06-01T15:46:57.608Z"
      },
      {
        "duration": 18,
        "start_time": "2024-06-01T15:46:57.617Z"
      },
      {
        "duration": 205,
        "start_time": "2024-06-01T15:46:57.636Z"
      },
      {
        "duration": 7,
        "start_time": "2024-06-01T15:46:57.842Z"
      },
      {
        "duration": 224,
        "start_time": "2024-06-01T15:46:57.851Z"
      },
      {
        "duration": 221,
        "start_time": "2024-06-01T15:46:58.080Z"
      },
      {
        "duration": 219,
        "start_time": "2024-06-01T15:46:58.302Z"
      },
      {
        "duration": 274,
        "start_time": "2024-06-01T15:46:58.523Z"
      },
      {
        "duration": 255,
        "start_time": "2024-06-01T15:46:58.798Z"
      },
      {
        "duration": 22,
        "start_time": "2024-06-01T15:46:59.058Z"
      },
      {
        "duration": 25,
        "start_time": "2024-06-01T15:46:59.082Z"
      },
      {
        "duration": 5,
        "start_time": "2024-06-01T15:46:59.109Z"
      },
      {
        "duration": 19,
        "start_time": "2024-06-01T15:46:59.115Z"
      },
      {
        "duration": 14,
        "start_time": "2024-06-01T15:46:59.135Z"
      },
      {
        "duration": 300,
        "start_time": "2024-06-01T15:46:59.150Z"
      },
      {
        "duration": 356,
        "start_time": "2024-06-01T15:46:59.451Z"
      },
      {
        "duration": 243,
        "start_time": "2024-06-01T15:46:59.809Z"
      },
      {
        "duration": 260,
        "start_time": "2024-06-01T15:47:00.067Z"
      },
      {
        "duration": 44,
        "start_time": "2024-06-01T15:47:00.329Z"
      },
      {
        "duration": 127,
        "start_time": "2024-06-01T15:47:00.375Z"
      },
      {
        "duration": 151,
        "start_time": "2024-06-01T15:47:00.504Z"
      },
      {
        "duration": 84,
        "start_time": "2024-06-01T15:47:00.657Z"
      },
      {
        "duration": 150,
        "start_time": "2024-06-01T15:47:00.742Z"
      },
      {
        "duration": 173,
        "start_time": "2024-06-01T15:47:00.894Z"
      },
      {
        "duration": 92,
        "start_time": "2024-06-01T15:47:01.071Z"
      },
      {
        "duration": 85,
        "start_time": "2024-06-01T15:47:01.173Z"
      },
      {
        "duration": 42,
        "start_time": "2024-06-01T15:47:01.265Z"
      },
      {
        "duration": 23,
        "start_time": "2024-06-01T15:47:01.308Z"
      },
      {
        "duration": 70,
        "start_time": "2024-06-01T15:47:01.332Z"
      },
      {
        "duration": 36,
        "start_time": "2024-06-01T15:47:01.403Z"
      },
      {
        "duration": 61,
        "start_time": "2024-06-01T15:47:01.440Z"
      },
      {
        "duration": 9,
        "start_time": "2024-06-01T15:47:57.712Z"
      },
      {
        "duration": 11,
        "start_time": "2024-06-01T15:48:01.900Z"
      },
      {
        "duration": 7,
        "start_time": "2024-06-01T15:48:35.002Z"
      },
      {
        "duration": 6,
        "start_time": "2024-06-01T15:49:01.530Z"
      },
      {
        "duration": 7,
        "start_time": "2024-06-01T15:49:09.731Z"
      },
      {
        "duration": 5,
        "start_time": "2024-06-01T15:49:11.730Z"
      },
      {
        "duration": 5,
        "start_time": "2024-06-01T15:49:24.218Z"
      },
      {
        "duration": 5,
        "start_time": "2024-06-01T15:49:34.802Z"
      },
      {
        "duration": 12,
        "start_time": "2024-06-01T15:49:36.774Z"
      },
      {
        "duration": 34,
        "start_time": "2024-06-01T15:50:53.368Z"
      },
      {
        "duration": 22,
        "start_time": "2024-06-01T15:51:16.019Z"
      },
      {
        "duration": 13,
        "start_time": "2024-06-01T15:51:38.304Z"
      },
      {
        "duration": 37,
        "start_time": "2024-06-01T15:51:48.245Z"
      },
      {
        "duration": 18,
        "start_time": "2024-06-01T15:52:54.419Z"
      },
      {
        "duration": 34,
        "start_time": "2024-06-01T15:53:38.268Z"
      },
      {
        "duration": 52,
        "start_time": "2024-06-01T15:53:41.056Z"
      },
      {
        "duration": 30,
        "start_time": "2024-06-01T15:53:43.096Z"
      },
      {
        "duration": 21,
        "start_time": "2024-06-01T15:54:00.326Z"
      },
      {
        "duration": 6,
        "start_time": "2024-06-01T15:55:00.834Z"
      },
      {
        "duration": 11,
        "start_time": "2024-06-01T15:55:13.485Z"
      },
      {
        "duration": 133,
        "start_time": "2024-06-01T15:55:33.058Z"
      },
      {
        "duration": 10,
        "start_time": "2024-06-01T15:55:42.547Z"
      },
      {
        "duration": 9,
        "start_time": "2024-06-01T15:55:50.603Z"
      },
      {
        "duration": 9,
        "start_time": "2024-06-01T15:55:55.541Z"
      },
      {
        "duration": 6,
        "start_time": "2024-06-01T15:56:25.463Z"
      },
      {
        "duration": 4,
        "start_time": "2024-06-01T15:56:33.003Z"
      },
      {
        "duration": 4,
        "start_time": "2024-06-01T15:56:37.500Z"
      },
      {
        "duration": 6,
        "start_time": "2024-06-01T15:56:48.542Z"
      },
      {
        "duration": 5,
        "start_time": "2024-06-01T15:56:50.278Z"
      },
      {
        "duration": 5,
        "start_time": "2024-06-01T15:56:55.236Z"
      },
      {
        "duration": 10,
        "start_time": "2024-06-01T15:56:59.167Z"
      },
      {
        "duration": 1165,
        "start_time": "2024-06-01T15:57:03.579Z"
      },
      {
        "duration": 3,
        "start_time": "2024-06-01T15:57:04.746Z"
      },
      {
        "duration": 85,
        "start_time": "2024-06-01T15:57:04.758Z"
      },
      {
        "duration": 13,
        "start_time": "2024-06-01T15:57:04.844Z"
      },
      {
        "duration": 25,
        "start_time": "2024-06-01T15:57:04.859Z"
      },
      {
        "duration": 19,
        "start_time": "2024-06-01T15:57:04.886Z"
      },
      {
        "duration": 18,
        "start_time": "2024-06-01T15:57:04.907Z"
      },
      {
        "duration": 19,
        "start_time": "2024-06-01T15:57:04.927Z"
      },
      {
        "duration": 31,
        "start_time": "2024-06-01T15:57:04.947Z"
      },
      {
        "duration": 10,
        "start_time": "2024-06-01T15:57:04.980Z"
      },
      {
        "duration": 10,
        "start_time": "2024-06-01T15:57:04.992Z"
      },
      {
        "duration": 24,
        "start_time": "2024-06-01T15:57:05.005Z"
      },
      {
        "duration": 17,
        "start_time": "2024-06-01T15:57:05.031Z"
      },
      {
        "duration": 17,
        "start_time": "2024-06-01T15:57:05.058Z"
      },
      {
        "duration": 23,
        "start_time": "2024-06-01T15:57:05.078Z"
      },
      {
        "duration": 28,
        "start_time": "2024-06-01T15:57:05.103Z"
      },
      {
        "duration": 209,
        "start_time": "2024-06-01T15:57:05.134Z"
      },
      {
        "duration": 6,
        "start_time": "2024-06-01T15:57:05.345Z"
      },
      {
        "duration": 219,
        "start_time": "2024-06-01T15:57:05.353Z"
      },
      {
        "duration": 182,
        "start_time": "2024-06-01T15:57:05.573Z"
      },
      {
        "duration": 213,
        "start_time": "2024-06-01T15:57:05.757Z"
      },
      {
        "duration": 264,
        "start_time": "2024-06-01T15:57:05.972Z"
      },
      {
        "duration": 253,
        "start_time": "2024-06-01T15:57:06.238Z"
      },
      {
        "duration": 9,
        "start_time": "2024-06-01T15:57:06.493Z"
      },
      {
        "duration": 22,
        "start_time": "2024-06-01T15:57:06.504Z"
      },
      {
        "duration": 14,
        "start_time": "2024-06-01T15:57:06.528Z"
      },
      {
        "duration": 40,
        "start_time": "2024-06-01T15:57:06.544Z"
      },
      {
        "duration": 31,
        "start_time": "2024-06-01T15:57:06.586Z"
      },
      {
        "duration": 269,
        "start_time": "2024-06-01T15:57:06.619Z"
      },
      {
        "duration": 340,
        "start_time": "2024-06-01T15:57:06.890Z"
      },
      {
        "duration": 248,
        "start_time": "2024-06-01T15:57:07.231Z"
      },
      {
        "duration": 228,
        "start_time": "2024-06-01T15:57:07.481Z"
      },
      {
        "duration": 26,
        "start_time": "2024-06-01T15:57:07.710Z"
      },
      {
        "duration": 34,
        "start_time": "2024-06-01T15:57:07.738Z"
      },
      {
        "duration": 23,
        "start_time": "2024-06-01T15:57:07.773Z"
      },
      {
        "duration": 4,
        "start_time": "2024-06-01T15:57:07.798Z"
      },
      {
        "duration": 5,
        "start_time": "2024-06-01T15:57:07.803Z"
      },
      {
        "duration": 4,
        "start_time": "2024-06-01T15:57:07.810Z"
      },
      {
        "duration": 52,
        "start_time": "2024-06-01T15:57:07.816Z"
      },
      {
        "duration": 5,
        "start_time": "2024-06-01T15:57:07.873Z"
      },
      {
        "duration": 6,
        "start_time": "2024-06-01T15:57:07.883Z"
      },
      {
        "duration": 5,
        "start_time": "2024-06-01T15:57:07.891Z"
      },
      {
        "duration": 9,
        "start_time": "2024-06-01T15:57:07.898Z"
      },
      {
        "duration": 4,
        "start_time": "2024-06-01T15:57:07.909Z"
      },
      {
        "duration": 8,
        "start_time": "2024-06-01T15:57:07.915Z"
      },
      {
        "duration": 50,
        "start_time": "2024-06-01T15:57:07.925Z"
      },
      {
        "duration": 18,
        "start_time": "2024-06-01T15:57:07.977Z"
      },
      {
        "duration": 17,
        "start_time": "2024-06-01T16:00:50.157Z"
      },
      {
        "duration": 6,
        "start_time": "2024-06-01T16:00:51.713Z"
      },
      {
        "duration": 5,
        "start_time": "2024-06-01T16:00:58.155Z"
      },
      {
        "duration": 11,
        "start_time": "2024-06-01T16:01:05.963Z"
      },
      {
        "duration": 6,
        "start_time": "2024-06-01T16:01:13.145Z"
      },
      {
        "duration": 6,
        "start_time": "2024-06-01T16:01:16.408Z"
      },
      {
        "duration": 5,
        "start_time": "2024-06-01T16:01:20.114Z"
      },
      {
        "duration": 7,
        "start_time": "2024-06-01T16:01:29.409Z"
      },
      {
        "duration": 6,
        "start_time": "2024-06-01T16:01:32.448Z"
      },
      {
        "duration": 6,
        "start_time": "2024-06-01T16:01:37.519Z"
      },
      {
        "duration": 8,
        "start_time": "2024-06-01T16:01:43.354Z"
      },
      {
        "duration": 6,
        "start_time": "2024-06-01T16:01:45.673Z"
      },
      {
        "duration": 3,
        "start_time": "2024-06-01T16:06:09.804Z"
      },
      {
        "duration": 17,
        "start_time": "2024-06-01T16:30:53.448Z"
      },
      {
        "duration": 13,
        "start_time": "2024-06-01T16:32:39.314Z"
      },
      {
        "duration": 7,
        "start_time": "2024-06-01T16:34:25.534Z"
      },
      {
        "duration": 7,
        "start_time": "2024-06-01T16:35:42.735Z"
      },
      {
        "duration": 14,
        "start_time": "2024-06-01T16:35:51.469Z"
      },
      {
        "duration": 5,
        "start_time": "2024-06-01T16:36:56.713Z"
      },
      {
        "duration": 7,
        "start_time": "2024-06-01T16:37:00.185Z"
      },
      {
        "duration": 15,
        "start_time": "2024-06-01T16:37:08.266Z"
      },
      {
        "duration": 9,
        "start_time": "2024-06-01T16:39:49.028Z"
      },
      {
        "duration": 9,
        "start_time": "2024-06-01T16:41:45.740Z"
      },
      {
        "duration": 23,
        "start_time": "2024-06-01T16:41:53.215Z"
      },
      {
        "duration": 13,
        "start_time": "2024-06-01T16:42:08.752Z"
      },
      {
        "duration": 7,
        "start_time": "2024-06-01T16:43:59.898Z"
      },
      {
        "duration": 5,
        "start_time": "2024-06-01T16:44:10.010Z"
      },
      {
        "duration": 9,
        "start_time": "2024-06-01T16:44:17.348Z"
      },
      {
        "duration": 1246,
        "start_time": "2024-06-01T16:45:39.032Z"
      },
      {
        "duration": 6,
        "start_time": "2024-06-01T16:45:40.286Z"
      },
      {
        "duration": 78,
        "start_time": "2024-06-01T16:45:40.294Z"
      },
      {
        "duration": 18,
        "start_time": "2024-06-01T16:45:40.375Z"
      },
      {
        "duration": 11,
        "start_time": "2024-06-01T16:45:40.395Z"
      },
      {
        "duration": 8,
        "start_time": "2024-06-01T16:45:40.408Z"
      },
      {
        "duration": 13,
        "start_time": "2024-06-01T16:45:40.418Z"
      },
      {
        "duration": 45,
        "start_time": "2024-06-01T16:45:40.433Z"
      },
      {
        "duration": 34,
        "start_time": "2024-06-01T16:45:40.484Z"
      },
      {
        "duration": 12,
        "start_time": "2024-06-01T16:45:40.521Z"
      },
      {
        "duration": 7,
        "start_time": "2024-06-01T16:45:40.534Z"
      },
      {
        "duration": 31,
        "start_time": "2024-06-01T16:45:40.543Z"
      },
      {
        "duration": 13,
        "start_time": "2024-06-01T16:45:40.578Z"
      },
      {
        "duration": 6,
        "start_time": "2024-06-01T16:45:40.592Z"
      },
      {
        "duration": 7,
        "start_time": "2024-06-01T16:45:40.600Z"
      },
      {
        "duration": 19,
        "start_time": "2024-06-01T16:45:40.608Z"
      },
      {
        "duration": 234,
        "start_time": "2024-06-01T16:45:40.628Z"
      },
      {
        "duration": 6,
        "start_time": "2024-06-01T16:45:40.877Z"
      },
      {
        "duration": 199,
        "start_time": "2024-06-01T16:45:40.885Z"
      },
      {
        "duration": 152,
        "start_time": "2024-06-01T16:45:41.090Z"
      },
      {
        "duration": 254,
        "start_time": "2024-06-01T16:45:41.244Z"
      },
      {
        "duration": 265,
        "start_time": "2024-06-01T16:45:41.501Z"
      },
      {
        "duration": 251,
        "start_time": "2024-06-01T16:45:41.771Z"
      },
      {
        "duration": 9,
        "start_time": "2024-06-01T16:45:42.024Z"
      },
      {
        "duration": 25,
        "start_time": "2024-06-01T16:45:42.036Z"
      },
      {
        "duration": 10,
        "start_time": "2024-06-01T16:45:42.064Z"
      },
      {
        "duration": 36,
        "start_time": "2024-06-01T16:45:42.083Z"
      },
      {
        "duration": 58,
        "start_time": "2024-06-01T16:45:42.124Z"
      },
      {
        "duration": 302,
        "start_time": "2024-06-01T16:45:42.190Z"
      },
      {
        "duration": 315,
        "start_time": "2024-06-01T16:45:42.496Z"
      },
      {
        "duration": 239,
        "start_time": "2024-06-01T16:45:42.813Z"
      },
      {
        "duration": 258,
        "start_time": "2024-06-01T16:45:43.053Z"
      },
      {
        "duration": 27,
        "start_time": "2024-06-01T16:45:43.312Z"
      },
      {
        "duration": 43,
        "start_time": "2024-06-01T16:45:43.341Z"
      },
      {
        "duration": 21,
        "start_time": "2024-06-01T16:45:43.385Z"
      },
      {
        "duration": 5,
        "start_time": "2024-06-01T16:45:43.407Z"
      },
      {
        "duration": 8,
        "start_time": "2024-06-01T16:45:43.413Z"
      },
      {
        "duration": 7,
        "start_time": "2024-06-01T16:45:43.423Z"
      },
      {
        "duration": 10,
        "start_time": "2024-06-01T16:45:43.431Z"
      },
      {
        "duration": 24,
        "start_time": "2024-06-01T16:45:43.442Z"
      },
      {
        "duration": 12,
        "start_time": "2024-06-01T16:45:43.472Z"
      },
      {
        "duration": 6,
        "start_time": "2024-06-01T16:45:43.491Z"
      },
      {
        "duration": 10,
        "start_time": "2024-06-01T16:45:43.499Z"
      },
      {
        "duration": 22,
        "start_time": "2024-06-01T16:57:29.156Z"
      },
      {
        "duration": 13,
        "start_time": "2024-06-01T16:57:37.009Z"
      },
      {
        "duration": 5,
        "start_time": "2024-06-01T16:58:12.688Z"
      },
      {
        "duration": 5,
        "start_time": "2024-06-01T17:11:06.461Z"
      },
      {
        "duration": 1256,
        "start_time": "2024-06-01T17:11:24.413Z"
      },
      {
        "duration": 5,
        "start_time": "2024-06-01T17:11:25.673Z"
      },
      {
        "duration": 78,
        "start_time": "2024-06-01T17:11:25.680Z"
      },
      {
        "duration": 26,
        "start_time": "2024-06-01T17:11:25.761Z"
      },
      {
        "duration": 8,
        "start_time": "2024-06-01T17:11:25.791Z"
      },
      {
        "duration": 6,
        "start_time": "2024-06-01T17:11:25.803Z"
      },
      {
        "duration": 15,
        "start_time": "2024-06-01T17:11:25.811Z"
      },
      {
        "duration": 11,
        "start_time": "2024-06-01T17:11:25.828Z"
      },
      {
        "duration": 51,
        "start_time": "2024-06-01T17:11:25.841Z"
      },
      {
        "duration": 11,
        "start_time": "2024-06-01T17:11:25.896Z"
      },
      {
        "duration": 6,
        "start_time": "2024-06-01T17:11:25.909Z"
      },
      {
        "duration": 5,
        "start_time": "2024-06-01T17:11:25.916Z"
      },
      {
        "duration": 43,
        "start_time": "2024-06-01T17:11:25.923Z"
      },
      {
        "duration": 8,
        "start_time": "2024-06-01T17:11:25.967Z"
      },
      {
        "duration": 14,
        "start_time": "2024-06-01T17:11:25.978Z"
      },
      {
        "duration": 17,
        "start_time": "2024-06-01T17:11:25.993Z"
      },
      {
        "duration": 200,
        "start_time": "2024-06-01T17:11:26.012Z"
      },
      {
        "duration": 6,
        "start_time": "2024-06-01T17:11:26.213Z"
      },
      {
        "duration": 201,
        "start_time": "2024-06-01T17:11:26.220Z"
      },
      {
        "duration": 179,
        "start_time": "2024-06-01T17:11:26.423Z"
      },
      {
        "duration": 228,
        "start_time": "2024-06-01T17:11:26.604Z"
      },
      {
        "duration": 298,
        "start_time": "2024-06-01T17:11:26.834Z"
      },
      {
        "duration": 264,
        "start_time": "2024-06-01T17:11:27.133Z"
      },
      {
        "duration": 11,
        "start_time": "2024-06-01T17:11:27.399Z"
      },
      {
        "duration": 11,
        "start_time": "2024-06-01T17:11:27.411Z"
      },
      {
        "duration": 5,
        "start_time": "2024-06-01T17:11:27.424Z"
      },
      {
        "duration": 58,
        "start_time": "2024-06-01T17:11:27.431Z"
      },
      {
        "duration": 39,
        "start_time": "2024-06-01T17:11:27.494Z"
      },
      {
        "duration": 298,
        "start_time": "2024-06-01T17:11:27.534Z"
      },
      {
        "duration": 358,
        "start_time": "2024-06-01T17:11:27.834Z"
      },
      {
        "duration": 389,
        "start_time": "2024-06-01T17:11:28.193Z"
      },
      {
        "duration": 242,
        "start_time": "2024-06-01T17:11:28.588Z"
      },
      {
        "duration": 43,
        "start_time": "2024-06-01T17:11:28.833Z"
      },
      {
        "duration": 20,
        "start_time": "2024-06-01T17:11:28.878Z"
      },
      {
        "duration": 30,
        "start_time": "2024-06-01T17:11:28.899Z"
      },
      {
        "duration": 5,
        "start_time": "2024-06-01T17:11:28.930Z"
      },
      {
        "duration": 32,
        "start_time": "2024-06-01T17:11:28.936Z"
      },
      {
        "duration": 21,
        "start_time": "2024-06-01T17:11:28.970Z"
      },
      {
        "duration": 14,
        "start_time": "2024-06-01T17:11:28.993Z"
      },
      {
        "duration": 19,
        "start_time": "2024-06-01T17:11:29.009Z"
      },
      {
        "duration": 7,
        "start_time": "2024-06-01T17:11:29.029Z"
      },
      {
        "duration": 18,
        "start_time": "2024-06-01T17:11:29.038Z"
      },
      {
        "duration": 11,
        "start_time": "2024-06-01T17:11:29.062Z"
      },
      {
        "duration": 16,
        "start_time": "2024-06-01T17:11:29.078Z"
      },
      {
        "duration": 5,
        "start_time": "2024-06-01T17:13:33.540Z"
      },
      {
        "duration": 126,
        "start_time": "2024-06-01T17:14:25.656Z"
      },
      {
        "duration": 2,
        "start_time": "2024-06-01T17:14:58.988Z"
      },
      {
        "duration": 1037,
        "start_time": "2024-06-01T17:15:16.581Z"
      },
      {
        "duration": 1095,
        "start_time": "2024-06-01T17:15:42.051Z"
      },
      {
        "duration": 1086,
        "start_time": "2024-06-01T17:17:10.762Z"
      },
      {
        "duration": 7,
        "start_time": "2024-06-01T17:17:53.712Z"
      },
      {
        "duration": 11,
        "start_time": "2024-06-01T17:17:56.938Z"
      },
      {
        "duration": 1257,
        "start_time": "2024-06-01T17:18:30.256Z"
      },
      {
        "duration": 356,
        "start_time": "2024-06-01T17:21:07.125Z"
      },
      {
        "duration": 13735,
        "start_time": "2024-06-01T17:21:29.312Z"
      },
      {
        "duration": 14500,
        "start_time": "2024-06-01T17:22:05.915Z"
      },
      {
        "duration": 15,
        "start_time": "2024-06-01T17:23:52.376Z"
      },
      {
        "duration": 153,
        "start_time": "2024-06-01T17:24:01.796Z"
      },
      {
        "duration": 166,
        "start_time": "2024-06-01T17:24:08.897Z"
      },
      {
        "duration": 169,
        "start_time": "2024-06-01T17:24:31.498Z"
      },
      {
        "duration": 166,
        "start_time": "2024-06-01T17:24:41.751Z"
      },
      {
        "duration": 167,
        "start_time": "2024-06-01T17:25:26.605Z"
      },
      {
        "duration": 150,
        "start_time": "2024-06-01T17:25:43.092Z"
      },
      {
        "duration": 7,
        "start_time": "2024-06-01T17:29:55.881Z"
      },
      {
        "duration": 11,
        "start_time": "2024-06-01T17:30:15.197Z"
      },
      {
        "duration": 19,
        "start_time": "2024-06-01T17:30:20.956Z"
      },
      {
        "duration": 7,
        "start_time": "2024-06-01T17:30:24.541Z"
      },
      {
        "duration": 8,
        "start_time": "2024-06-01T17:30:35.042Z"
      },
      {
        "duration": 14,
        "start_time": "2024-06-01T17:30:37.856Z"
      },
      {
        "duration": 6,
        "start_time": "2024-06-01T17:30:42.902Z"
      },
      {
        "duration": 6,
        "start_time": "2024-06-01T17:30:57.283Z"
      },
      {
        "duration": 8,
        "start_time": "2024-06-01T17:31:01.576Z"
      },
      {
        "duration": 6,
        "start_time": "2024-06-01T17:31:05.018Z"
      },
      {
        "duration": 8,
        "start_time": "2024-06-01T17:31:13.814Z"
      },
      {
        "duration": 12,
        "start_time": "2024-06-01T17:31:19.559Z"
      },
      {
        "duration": 6,
        "start_time": "2024-06-01T17:31:41.138Z"
      },
      {
        "duration": 5,
        "start_time": "2024-06-01T17:31:45.907Z"
      },
      {
        "duration": 5,
        "start_time": "2024-06-01T17:31:48.987Z"
      },
      {
        "duration": 14827,
        "start_time": "2024-06-01T17:33:03.907Z"
      },
      {
        "duration": 1550,
        "start_time": "2024-06-01T17:33:30.845Z"
      },
      {
        "duration": 1554,
        "start_time": "2024-06-01T17:33:51.875Z"
      },
      {
        "duration": 2243,
        "start_time": "2024-06-01T17:34:40.645Z"
      },
      {
        "duration": 2553,
        "start_time": "2024-06-01T17:35:12.561Z"
      },
      {
        "duration": 2203,
        "start_time": "2024-06-01T17:35:18.525Z"
      },
      {
        "duration": 2273,
        "start_time": "2024-06-01T17:35:26.136Z"
      },
      {
        "duration": 2379,
        "start_time": "2024-06-01T17:35:37.298Z"
      },
      {
        "duration": 2210,
        "start_time": "2024-06-01T17:35:50.829Z"
      },
      {
        "duration": 2417,
        "start_time": "2024-06-01T17:36:00.725Z"
      },
      {
        "duration": 2304,
        "start_time": "2024-06-01T17:36:11.939Z"
      },
      {
        "duration": 2222,
        "start_time": "2024-06-01T17:36:38.623Z"
      },
      {
        "duration": 5,
        "start_time": "2024-06-01T17:36:50.316Z"
      },
      {
        "duration": 5,
        "start_time": "2024-06-01T17:36:52.632Z"
      },
      {
        "duration": 6,
        "start_time": "2024-06-01T17:36:56.283Z"
      },
      {
        "duration": 6,
        "start_time": "2024-06-01T17:37:00.719Z"
      },
      {
        "duration": 11,
        "start_time": "2024-06-01T17:39:57.101Z"
      },
      {
        "duration": 588,
        "start_time": "2024-06-01T17:40:04.430Z"
      },
      {
        "duration": 309,
        "start_time": "2024-06-01T17:40:10.738Z"
      },
      {
        "duration": 1780,
        "start_time": "2024-06-01T17:40:13.792Z"
      },
      {
        "duration": 1995,
        "start_time": "2024-06-01T17:42:43.237Z"
      },
      {
        "duration": 2067,
        "start_time": "2024-06-01T17:43:10.281Z"
      },
      {
        "duration": 1861,
        "start_time": "2024-06-01T17:43:42.251Z"
      },
      {
        "duration": 25,
        "start_time": "2024-06-01T17:44:00.453Z"
      },
      {
        "duration": 1868,
        "start_time": "2024-06-01T17:44:07.947Z"
      },
      {
        "duration": 2238,
        "start_time": "2024-06-01T17:44:18.396Z"
      },
      {
        "duration": 2292,
        "start_time": "2024-06-01T17:44:31.500Z"
      },
      {
        "duration": 1976,
        "start_time": "2024-06-01T17:44:39.775Z"
      },
      {
        "duration": 496,
        "start_time": "2024-06-01T17:44:58.301Z"
      },
      {
        "duration": 1841,
        "start_time": "2024-06-01T17:45:08.171Z"
      },
      {
        "duration": 316,
        "start_time": "2024-06-01T17:45:19.701Z"
      },
      {
        "duration": 317,
        "start_time": "2024-06-01T17:47:15.527Z"
      },
      {
        "duration": 226,
        "start_time": "2024-06-01T17:47:25.713Z"
      },
      {
        "duration": 322,
        "start_time": "2024-06-01T17:47:31.269Z"
      },
      {
        "duration": 1904,
        "start_time": "2024-06-01T17:48:06.226Z"
      },
      {
        "duration": 1927,
        "start_time": "2024-06-01T17:48:23.820Z"
      },
      {
        "duration": 2054,
        "start_time": "2024-06-01T17:49:39.189Z"
      },
      {
        "duration": 1966,
        "start_time": "2024-06-01T17:50:28.106Z"
      },
      {
        "duration": 1835,
        "start_time": "2024-06-01T17:53:00.686Z"
      },
      {
        "duration": 1750,
        "start_time": "2024-06-01T17:53:42.977Z"
      },
      {
        "duration": 1790,
        "start_time": "2024-06-01T17:54:28.089Z"
      },
      {
        "duration": 1772,
        "start_time": "2024-06-01T17:55:12.746Z"
      },
      {
        "duration": 1781,
        "start_time": "2024-06-01T17:55:17.045Z"
      },
      {
        "duration": 1819,
        "start_time": "2024-06-01T17:56:13.973Z"
      },
      {
        "duration": 416,
        "start_time": "2024-06-01T17:56:59.056Z"
      },
      {
        "duration": 55,
        "start_time": "2024-06-01T17:57:09.833Z"
      },
      {
        "duration": 59,
        "start_time": "2024-06-01T17:57:16.309Z"
      },
      {
        "duration": 391,
        "start_time": "2024-06-01T17:57:25.493Z"
      },
      {
        "duration": 281,
        "start_time": "2024-06-01T17:57:38.530Z"
      },
      {
        "duration": 6,
        "start_time": "2024-06-01T18:01:47.691Z"
      },
      {
        "duration": 5,
        "start_time": "2024-06-01T18:01:54.652Z"
      },
      {
        "duration": 5,
        "start_time": "2024-06-01T18:02:00.017Z"
      },
      {
        "duration": 5,
        "start_time": "2024-06-01T18:02:03.345Z"
      },
      {
        "duration": 7,
        "start_time": "2024-06-01T18:02:14.845Z"
      },
      {
        "duration": 8,
        "start_time": "2024-06-01T18:04:55.979Z"
      },
      {
        "duration": 17,
        "start_time": "2024-06-01T18:05:14.562Z"
      },
      {
        "duration": 7,
        "start_time": "2024-06-01T18:05:19.884Z"
      },
      {
        "duration": 8,
        "start_time": "2024-06-01T18:05:25.000Z"
      },
      {
        "duration": 7,
        "start_time": "2024-06-01T18:05:40.394Z"
      },
      {
        "duration": 6,
        "start_time": "2024-06-01T18:09:17.285Z"
      },
      {
        "duration": 8,
        "start_time": "2024-06-01T18:09:49.903Z"
      },
      {
        "duration": 15,
        "start_time": "2024-06-01T18:10:12.672Z"
      },
      {
        "duration": 5,
        "start_time": "2024-06-01T18:10:20.594Z"
      },
      {
        "duration": 9,
        "start_time": "2024-06-01T18:10:31.282Z"
      },
      {
        "duration": 5,
        "start_time": "2024-06-01T18:10:34.988Z"
      },
      {
        "duration": 9,
        "start_time": "2024-06-01T18:10:37.783Z"
      },
      {
        "duration": 6,
        "start_time": "2024-06-01T18:10:40.746Z"
      },
      {
        "duration": 11,
        "start_time": "2024-06-01T18:10:50.671Z"
      },
      {
        "duration": 6,
        "start_time": "2024-06-01T18:11:37.407Z"
      },
      {
        "duration": 1957,
        "start_time": "2024-06-01T18:12:40.955Z"
      },
      {
        "duration": 590,
        "start_time": "2024-06-01T18:13:21.335Z"
      },
      {
        "duration": 0,
        "start_time": "2024-06-01T18:24:25.801Z"
      },
      {
        "duration": 14847,
        "start_time": "2024-06-01T18:24:41.004Z"
      },
      {
        "duration": 231,
        "start_time": "2024-06-01T18:26:29.778Z"
      },
      {
        "duration": 5,
        "start_time": "2024-06-01T18:27:19.017Z"
      },
      {
        "duration": 7,
        "start_time": "2024-06-01T18:27:55.236Z"
      },
      {
        "duration": 6,
        "start_time": "2024-06-01T18:28:05.390Z"
      },
      {
        "duration": 7,
        "start_time": "2024-06-01T18:28:08.599Z"
      },
      {
        "duration": 5,
        "start_time": "2024-06-01T18:29:05.487Z"
      },
      {
        "duration": 5,
        "start_time": "2024-06-01T18:29:07.755Z"
      },
      {
        "duration": 6,
        "start_time": "2024-06-01T18:29:10.910Z"
      },
      {
        "duration": 14776,
        "start_time": "2024-06-01T18:29:39.771Z"
      },
      {
        "duration": 3198,
        "start_time": "2024-06-01T18:30:27.443Z"
      },
      {
        "duration": 875,
        "start_time": "2024-06-01T18:30:45.538Z"
      },
      {
        "duration": 604,
        "start_time": "2024-06-01T18:31:20.207Z"
      },
      {
        "duration": 5,
        "start_time": "2024-06-01T18:31:42.180Z"
      },
      {
        "duration": 6,
        "start_time": "2024-06-01T18:31:48.770Z"
      },
      {
        "duration": 6,
        "start_time": "2024-06-01T18:31:51.806Z"
      },
      {
        "duration": 5,
        "start_time": "2024-06-01T18:32:01.143Z"
      },
      {
        "duration": 7,
        "start_time": "2024-06-01T18:32:05.485Z"
      },
      {
        "duration": 6,
        "start_time": "2024-06-01T18:32:10.331Z"
      },
      {
        "duration": 5,
        "start_time": "2024-06-01T18:32:12.539Z"
      },
      {
        "duration": 7,
        "start_time": "2024-06-01T18:34:01.243Z"
      },
      {
        "duration": 1239,
        "start_time": "2024-06-01T18:36:42.074Z"
      },
      {
        "duration": 3,
        "start_time": "2024-06-01T18:36:43.315Z"
      },
      {
        "duration": 330,
        "start_time": "2024-06-01T18:36:43.319Z"
      },
      {
        "duration": 25,
        "start_time": "2024-06-01T18:36:43.651Z"
      },
      {
        "duration": 10,
        "start_time": "2024-06-01T18:36:43.679Z"
      },
      {
        "duration": 8,
        "start_time": "2024-06-01T18:36:43.692Z"
      },
      {
        "duration": 21,
        "start_time": "2024-06-01T18:36:43.702Z"
      },
      {
        "duration": 13,
        "start_time": "2024-06-01T18:36:43.724Z"
      },
      {
        "duration": 33,
        "start_time": "2024-06-01T18:36:43.738Z"
      },
      {
        "duration": 18,
        "start_time": "2024-06-01T18:36:43.772Z"
      },
      {
        "duration": 7,
        "start_time": "2024-06-01T18:36:43.792Z"
      },
      {
        "duration": 8,
        "start_time": "2024-06-01T18:36:43.802Z"
      },
      {
        "duration": 14,
        "start_time": "2024-06-01T18:36:43.812Z"
      },
      {
        "duration": 10,
        "start_time": "2024-06-01T18:36:43.860Z"
      },
      {
        "duration": 13,
        "start_time": "2024-06-01T18:36:43.873Z"
      },
      {
        "duration": 17,
        "start_time": "2024-06-01T18:36:43.889Z"
      },
      {
        "duration": 202,
        "start_time": "2024-06-01T18:36:43.907Z"
      },
      {
        "duration": 5,
        "start_time": "2024-06-01T18:36:44.110Z"
      },
      {
        "duration": 187,
        "start_time": "2024-06-01T18:36:44.116Z"
      },
      {
        "duration": 196,
        "start_time": "2024-06-01T18:36:44.305Z"
      },
      {
        "duration": 235,
        "start_time": "2024-06-01T18:36:44.503Z"
      },
      {
        "duration": 283,
        "start_time": "2024-06-01T18:36:44.740Z"
      },
      {
        "duration": 257,
        "start_time": "2024-06-01T18:36:45.025Z"
      },
      {
        "duration": 11,
        "start_time": "2024-06-01T18:36:45.284Z"
      },
      {
        "duration": 22,
        "start_time": "2024-06-01T18:36:45.296Z"
      },
      {
        "duration": 12,
        "start_time": "2024-06-01T18:36:45.319Z"
      },
      {
        "duration": 44,
        "start_time": "2024-06-01T18:36:45.333Z"
      },
      {
        "duration": 33,
        "start_time": "2024-06-01T18:36:45.380Z"
      },
      {
        "duration": 318,
        "start_time": "2024-06-01T18:36:45.416Z"
      },
      {
        "duration": 349,
        "start_time": "2024-06-01T18:36:45.737Z"
      },
      {
        "duration": 228,
        "start_time": "2024-06-01T18:36:46.097Z"
      },
      {
        "duration": 276,
        "start_time": "2024-06-01T18:36:46.326Z"
      },
      {
        "duration": 27,
        "start_time": "2024-06-01T18:36:46.603Z"
      },
      {
        "duration": 38,
        "start_time": "2024-06-01T18:36:46.632Z"
      },
      {
        "duration": 20,
        "start_time": "2024-06-01T18:36:46.672Z"
      },
      {
        "duration": 5,
        "start_time": "2024-06-01T18:36:46.694Z"
      },
      {
        "duration": 10,
        "start_time": "2024-06-01T18:36:46.701Z"
      },
      {
        "duration": 8,
        "start_time": "2024-06-01T18:36:46.712Z"
      },
      {
        "duration": 12,
        "start_time": "2024-06-01T18:36:46.722Z"
      },
      {
        "duration": 29,
        "start_time": "2024-06-01T18:36:46.736Z"
      },
      {
        "duration": 10,
        "start_time": "2024-06-01T18:36:46.770Z"
      },
      {
        "duration": 6,
        "start_time": "2024-06-01T18:36:46.782Z"
      },
      {
        "duration": 13,
        "start_time": "2024-06-01T18:36:46.790Z"
      },
      {
        "duration": 11,
        "start_time": "2024-06-01T18:36:46.805Z"
      },
      {
        "duration": 10,
        "start_time": "2024-06-01T18:36:46.818Z"
      },
      {
        "duration": 1730,
        "start_time": "2024-06-01T18:36:46.830Z"
      },
      {
        "duration": 346,
        "start_time": "2024-06-01T18:36:48.565Z"
      },
      {
        "duration": 10,
        "start_time": "2024-06-01T18:36:48.919Z"
      },
      {
        "duration": 22,
        "start_time": "2024-06-01T18:36:48.931Z"
      },
      {
        "duration": 17248,
        "start_time": "2024-06-01T18:36:48.956Z"
      },
      {
        "duration": 547,
        "start_time": "2024-06-01T18:37:06.207Z"
      },
      {
        "duration": 11,
        "start_time": "2024-06-01T18:37:06.759Z"
      },
      {
        "duration": 5,
        "start_time": "2024-06-01T18:37:29.551Z"
      },
      {
        "duration": 3907,
        "start_time": "2024-06-01T18:41:02.438Z"
      },
      {
        "duration": 910,
        "start_time": "2024-06-01T18:41:12.687Z"
      },
      {
        "duration": 1345,
        "start_time": "2024-06-02T11:14:51.225Z"
      },
      {
        "duration": 3,
        "start_time": "2024-06-02T11:14:52.573Z"
      },
      {
        "duration": 219,
        "start_time": "2024-06-02T11:14:52.578Z"
      },
      {
        "duration": 12,
        "start_time": "2024-06-02T11:14:52.798Z"
      },
      {
        "duration": 10,
        "start_time": "2024-06-02T11:14:52.812Z"
      },
      {
        "duration": 32,
        "start_time": "2024-06-02T11:14:52.824Z"
      },
      {
        "duration": 25,
        "start_time": "2024-06-02T11:14:52.858Z"
      },
      {
        "duration": 35,
        "start_time": "2024-06-02T11:14:52.884Z"
      },
      {
        "duration": 14,
        "start_time": "2024-06-02T11:14:52.920Z"
      },
      {
        "duration": 26,
        "start_time": "2024-06-02T11:14:52.936Z"
      },
      {
        "duration": 30,
        "start_time": "2024-06-02T11:14:52.964Z"
      },
      {
        "duration": 15,
        "start_time": "2024-06-02T11:14:52.995Z"
      },
      {
        "duration": 10,
        "start_time": "2024-06-02T11:14:53.011Z"
      },
      {
        "duration": 10,
        "start_time": "2024-06-02T11:14:53.024Z"
      },
      {
        "duration": 10,
        "start_time": "2024-06-02T11:14:53.036Z"
      },
      {
        "duration": 33,
        "start_time": "2024-06-02T11:14:53.048Z"
      },
      {
        "duration": 208,
        "start_time": "2024-06-02T11:14:53.083Z"
      },
      {
        "duration": 5,
        "start_time": "2024-06-02T11:14:53.292Z"
      },
      {
        "duration": 184,
        "start_time": "2024-06-02T11:14:53.299Z"
      },
      {
        "duration": 144,
        "start_time": "2024-06-02T11:14:53.484Z"
      },
      {
        "duration": 198,
        "start_time": "2024-06-02T11:14:53.630Z"
      },
      {
        "duration": 238,
        "start_time": "2024-06-02T11:14:53.830Z"
      },
      {
        "duration": 218,
        "start_time": "2024-06-02T11:14:54.070Z"
      },
      {
        "duration": 9,
        "start_time": "2024-06-02T11:14:54.289Z"
      },
      {
        "duration": 25,
        "start_time": "2024-06-02T11:14:54.300Z"
      },
      {
        "duration": 14,
        "start_time": "2024-06-02T11:14:54.327Z"
      },
      {
        "duration": 32,
        "start_time": "2024-06-02T11:14:54.343Z"
      },
      {
        "duration": 18,
        "start_time": "2024-06-02T11:14:54.376Z"
      },
      {
        "duration": 251,
        "start_time": "2024-06-02T11:14:54.396Z"
      },
      {
        "duration": 310,
        "start_time": "2024-06-02T11:14:54.648Z"
      },
      {
        "duration": 209,
        "start_time": "2024-06-02T11:14:54.960Z"
      },
      {
        "duration": 212,
        "start_time": "2024-06-02T11:14:55.170Z"
      },
      {
        "duration": 25,
        "start_time": "2024-06-02T11:14:55.383Z"
      },
      {
        "duration": 28,
        "start_time": "2024-06-02T11:14:55.410Z"
      },
      {
        "duration": 26,
        "start_time": "2024-06-02T11:14:55.440Z"
      },
      {
        "duration": 18,
        "start_time": "2024-06-02T11:14:55.468Z"
      },
      {
        "duration": 23,
        "start_time": "2024-06-02T11:14:55.488Z"
      },
      {
        "duration": 11,
        "start_time": "2024-06-02T11:14:55.512Z"
      },
      {
        "duration": 28,
        "start_time": "2024-06-02T11:14:55.525Z"
      },
      {
        "duration": 16,
        "start_time": "2024-06-02T11:14:55.554Z"
      },
      {
        "duration": 23,
        "start_time": "2024-06-02T11:14:55.574Z"
      },
      {
        "duration": 8,
        "start_time": "2024-06-02T11:14:55.598Z"
      },
      {
        "duration": 18,
        "start_time": "2024-06-02T11:14:55.608Z"
      },
      {
        "duration": 19,
        "start_time": "2024-06-02T11:14:55.628Z"
      },
      {
        "duration": 6,
        "start_time": "2024-06-02T11:14:55.648Z"
      },
      {
        "duration": 1469,
        "start_time": "2024-06-02T11:14:55.656Z"
      },
      {
        "duration": 258,
        "start_time": "2024-06-02T11:14:57.127Z"
      },
      {
        "duration": 5,
        "start_time": "2024-06-02T11:14:57.386Z"
      },
      {
        "duration": 18,
        "start_time": "2024-06-02T11:14:57.392Z"
      },
      {
        "duration": 264,
        "start_time": "2024-06-02T11:14:57.411Z"
      },
      {
        "duration": 298,
        "start_time": "2024-06-02T11:14:57.677Z"
      },
      {
        "duration": 0,
        "start_time": "2024-06-02T11:14:57.982Z"
      },
      {
        "duration": 0,
        "start_time": "2024-06-02T11:14:57.984Z"
      },
      {
        "duration": 193,
        "start_time": "2024-06-02T11:15:41.306Z"
      },
      {
        "duration": 456,
        "start_time": "2024-06-02T11:17:18.582Z"
      },
      {
        "duration": 274,
        "start_time": "2024-06-02T11:17:24.293Z"
      },
      {
        "duration": 302,
        "start_time": "2024-06-02T11:17:27.077Z"
      },
      {
        "duration": 318,
        "start_time": "2024-06-02T11:17:29.973Z"
      },
      {
        "duration": 290,
        "start_time": "2024-06-02T11:17:32.244Z"
      },
      {
        "duration": 365,
        "start_time": "2024-06-02T11:17:48.693Z"
      },
      {
        "duration": 15299,
        "start_time": "2024-06-02T11:18:03.366Z"
      },
      {
        "duration": 15590,
        "start_time": "2024-06-02T11:18:43.975Z"
      },
      {
        "duration": 1807,
        "start_time": "2024-06-02T11:19:02.488Z"
      },
      {
        "duration": 289,
        "start_time": "2024-06-02T11:19:56.408Z"
      },
      {
        "duration": 1886,
        "start_time": "2024-06-02T11:21:37.706Z"
      },
      {
        "duration": 487,
        "start_time": "2024-06-02T11:21:49.801Z"
      },
      {
        "duration": 3401,
        "start_time": "2024-06-02T11:21:57.530Z"
      },
      {
        "duration": 5,
        "start_time": "2024-06-02T11:24:21.756Z"
      },
      {
        "duration": 5,
        "start_time": "2024-06-02T11:27:58.031Z"
      },
      {
        "duration": 5,
        "start_time": "2024-06-02T11:28:16.335Z"
      },
      {
        "duration": 5,
        "start_time": "2024-06-02T11:28:18.287Z"
      },
      {
        "duration": 5,
        "start_time": "2024-06-02T11:32:06.339Z"
      },
      {
        "duration": 5,
        "start_time": "2024-06-02T11:32:14.050Z"
      },
      {
        "duration": 6,
        "start_time": "2024-06-02T11:50:08.932Z"
      },
      {
        "duration": 1191,
        "start_time": "2024-06-02T11:50:23.754Z"
      },
      {
        "duration": 2,
        "start_time": "2024-06-02T11:50:24.947Z"
      },
      {
        "duration": 73,
        "start_time": "2024-06-02T11:50:24.951Z"
      },
      {
        "duration": 11,
        "start_time": "2024-06-02T11:50:25.026Z"
      },
      {
        "duration": 15,
        "start_time": "2024-06-02T11:50:25.039Z"
      },
      {
        "duration": 13,
        "start_time": "2024-06-02T11:50:25.055Z"
      },
      {
        "duration": 13,
        "start_time": "2024-06-02T11:50:25.070Z"
      },
      {
        "duration": 17,
        "start_time": "2024-06-02T11:50:25.084Z"
      },
      {
        "duration": 14,
        "start_time": "2024-06-02T11:50:25.103Z"
      },
      {
        "duration": 10,
        "start_time": "2024-06-02T11:50:25.118Z"
      },
      {
        "duration": 5,
        "start_time": "2024-06-02T11:50:25.130Z"
      },
      {
        "duration": 4,
        "start_time": "2024-06-02T11:50:25.137Z"
      },
      {
        "duration": 12,
        "start_time": "2024-06-02T11:50:25.143Z"
      },
      {
        "duration": 28,
        "start_time": "2024-06-02T11:50:25.157Z"
      },
      {
        "duration": 9,
        "start_time": "2024-06-02T11:50:25.186Z"
      },
      {
        "duration": 15,
        "start_time": "2024-06-02T11:50:25.197Z"
      },
      {
        "duration": 175,
        "start_time": "2024-06-02T11:50:25.214Z"
      },
      {
        "duration": 5,
        "start_time": "2024-06-02T11:50:25.390Z"
      },
      {
        "duration": 166,
        "start_time": "2024-06-02T11:50:25.397Z"
      },
      {
        "duration": 146,
        "start_time": "2024-06-02T11:50:25.565Z"
      },
      {
        "duration": 216,
        "start_time": "2024-06-02T11:50:25.713Z"
      },
      {
        "duration": 239,
        "start_time": "2024-06-02T11:50:25.931Z"
      },
      {
        "duration": 220,
        "start_time": "2024-06-02T11:50:26.171Z"
      },
      {
        "duration": 9,
        "start_time": "2024-06-02T11:50:26.393Z"
      },
      {
        "duration": 24,
        "start_time": "2024-06-02T11:50:26.404Z"
      },
      {
        "duration": 5,
        "start_time": "2024-06-02T11:50:26.429Z"
      },
      {
        "duration": 22,
        "start_time": "2024-06-02T11:50:26.435Z"
      },
      {
        "duration": 34,
        "start_time": "2024-06-02T11:50:26.459Z"
      },
      {
        "duration": 229,
        "start_time": "2024-06-02T11:50:26.495Z"
      },
      {
        "duration": 288,
        "start_time": "2024-06-02T11:50:26.725Z"
      },
      {
        "duration": 210,
        "start_time": "2024-06-02T11:50:27.014Z"
      },
      {
        "duration": 224,
        "start_time": "2024-06-02T11:50:27.226Z"
      },
      {
        "duration": 38,
        "start_time": "2024-06-02T11:50:27.452Z"
      },
      {
        "duration": 17,
        "start_time": "2024-06-02T11:50:27.493Z"
      },
      {
        "duration": 34,
        "start_time": "2024-06-02T11:50:27.512Z"
      },
      {
        "duration": 7,
        "start_time": "2024-06-02T11:50:27.548Z"
      },
      {
        "duration": 8,
        "start_time": "2024-06-02T11:50:27.556Z"
      },
      {
        "duration": 5,
        "start_time": "2024-06-02T11:50:27.565Z"
      },
      {
        "duration": 10,
        "start_time": "2024-06-02T11:50:27.582Z"
      },
      {
        "duration": 15,
        "start_time": "2024-06-02T11:50:27.597Z"
      },
      {
        "duration": 6,
        "start_time": "2024-06-02T11:50:27.613Z"
      },
      {
        "duration": 5,
        "start_time": "2024-06-02T11:50:27.621Z"
      },
      {
        "duration": 18,
        "start_time": "2024-06-02T11:50:27.627Z"
      },
      {
        "duration": 10,
        "start_time": "2024-06-02T11:50:27.646Z"
      },
      {
        "duration": 24,
        "start_time": "2024-06-02T11:50:27.658Z"
      },
      {
        "duration": 1556,
        "start_time": "2024-06-02T11:50:27.684Z"
      },
      {
        "duration": 283,
        "start_time": "2024-06-02T11:50:29.242Z"
      },
      {
        "duration": 5,
        "start_time": "2024-06-02T11:50:29.527Z"
      },
      {
        "duration": 5,
        "start_time": "2024-06-02T11:50:29.533Z"
      },
      {
        "duration": 3309,
        "start_time": "2024-06-02T11:50:29.540Z"
      },
      {
        "duration": 4,
        "start_time": "2024-06-02T11:50:32.851Z"
      },
      {
        "duration": 6,
        "start_time": "2024-06-02T11:58:54.461Z"
      },
      {
        "duration": 1664,
        "start_time": "2024-06-02T11:59:00.044Z"
      },
      {
        "duration": 4,
        "start_time": "2024-06-02T11:59:03.645Z"
      },
      {
        "duration": 1769,
        "start_time": "2024-06-02T12:01:02.385Z"
      },
      {
        "duration": 420,
        "start_time": "2024-06-02T12:01:05.456Z"
      },
      {
        "duration": 5,
        "start_time": "2024-06-02T12:01:19.488Z"
      },
      {
        "duration": 1468,
        "start_time": "2024-06-02T12:01:53.329Z"
      },
      {
        "duration": 265,
        "start_time": "2024-06-02T12:01:58.113Z"
      },
      {
        "duration": 15,
        "start_time": "2024-06-02T12:15:26.546Z"
      },
      {
        "duration": 1032,
        "start_time": "2024-06-02T12:15:36.311Z"
      },
      {
        "duration": 3,
        "start_time": "2024-06-02T12:15:37.344Z"
      },
      {
        "duration": 75,
        "start_time": "2024-06-02T12:15:37.349Z"
      },
      {
        "duration": 12,
        "start_time": "2024-06-02T12:15:37.425Z"
      },
      {
        "duration": 25,
        "start_time": "2024-06-02T12:15:37.440Z"
      },
      {
        "duration": 8,
        "start_time": "2024-06-02T12:15:37.466Z"
      },
      {
        "duration": 15,
        "start_time": "2024-06-02T12:15:37.476Z"
      },
      {
        "duration": 23,
        "start_time": "2024-06-02T12:15:37.492Z"
      },
      {
        "duration": 13,
        "start_time": "2024-06-02T12:15:37.517Z"
      },
      {
        "duration": 10,
        "start_time": "2024-06-02T12:15:37.532Z"
      },
      {
        "duration": 6,
        "start_time": "2024-06-02T12:15:37.543Z"
      },
      {
        "duration": 17,
        "start_time": "2024-06-02T12:15:37.550Z"
      },
      {
        "duration": 19,
        "start_time": "2024-06-02T12:15:37.569Z"
      },
      {
        "duration": 5,
        "start_time": "2024-06-02T12:15:37.591Z"
      },
      {
        "duration": 10,
        "start_time": "2024-06-02T12:15:37.597Z"
      },
      {
        "duration": 19,
        "start_time": "2024-06-02T12:15:37.608Z"
      },
      {
        "duration": 173,
        "start_time": "2024-06-02T12:15:37.628Z"
      },
      {
        "duration": 5,
        "start_time": "2024-06-02T12:15:37.802Z"
      },
      {
        "duration": 184,
        "start_time": "2024-06-02T12:15:37.808Z"
      },
      {
        "duration": 160,
        "start_time": "2024-06-02T12:15:37.994Z"
      },
      {
        "duration": 200,
        "start_time": "2024-06-02T12:15:38.156Z"
      },
      {
        "duration": 231,
        "start_time": "2024-06-02T12:15:38.358Z"
      },
      {
        "duration": 218,
        "start_time": "2024-06-02T12:15:38.590Z"
      },
      {
        "duration": 9,
        "start_time": "2024-06-02T12:15:38.809Z"
      },
      {
        "duration": 35,
        "start_time": "2024-06-02T12:15:38.819Z"
      },
      {
        "duration": 10,
        "start_time": "2024-06-02T12:15:38.856Z"
      },
      {
        "duration": 21,
        "start_time": "2024-06-02T12:15:38.868Z"
      },
      {
        "duration": 18,
        "start_time": "2024-06-02T12:15:38.891Z"
      },
      {
        "duration": 250,
        "start_time": "2024-06-02T12:15:38.910Z"
      },
      {
        "duration": 283,
        "start_time": "2024-06-02T12:15:39.162Z"
      },
      {
        "duration": 223,
        "start_time": "2024-06-02T12:15:39.447Z"
      },
      {
        "duration": 225,
        "start_time": "2024-06-02T12:15:39.672Z"
      },
      {
        "duration": 25,
        "start_time": "2024-06-02T12:15:39.898Z"
      },
      {
        "duration": 14,
        "start_time": "2024-06-02T12:15:39.924Z"
      },
      {
        "duration": 16,
        "start_time": "2024-06-02T12:15:39.940Z"
      },
      {
        "duration": 4,
        "start_time": "2024-06-02T12:15:39.982Z"
      },
      {
        "duration": 16,
        "start_time": "2024-06-02T12:15:39.987Z"
      },
      {
        "duration": 14,
        "start_time": "2024-06-02T12:15:40.004Z"
      },
      {
        "duration": 9,
        "start_time": "2024-06-02T12:15:40.020Z"
      },
      {
        "duration": 10,
        "start_time": "2024-06-02T12:15:40.030Z"
      },
      {
        "duration": 18,
        "start_time": "2024-06-02T12:15:40.043Z"
      },
      {
        "duration": 21,
        "start_time": "2024-06-02T12:15:40.062Z"
      },
      {
        "duration": 10,
        "start_time": "2024-06-02T12:15:40.084Z"
      },
      {
        "duration": 20,
        "start_time": "2024-06-02T12:15:40.096Z"
      },
      {
        "duration": 3,
        "start_time": "2024-06-02T12:15:40.117Z"
      },
      {
        "duration": 1504,
        "start_time": "2024-06-02T12:15:40.121Z"
      },
      {
        "duration": 277,
        "start_time": "2024-06-02T12:15:41.626Z"
      },
      {
        "duration": 4,
        "start_time": "2024-06-02T12:15:41.905Z"
      },
      {
        "duration": 13,
        "start_time": "2024-06-02T12:15:41.910Z"
      },
      {
        "duration": 3178,
        "start_time": "2024-06-02T12:15:41.925Z"
      },
      {
        "duration": 5,
        "start_time": "2024-06-02T12:15:45.105Z"
      },
      {
        "duration": 3,
        "start_time": "2024-06-02T12:17:00.628Z"
      },
      {
        "duration": 1652,
        "start_time": "2024-06-02T12:17:08.612Z"
      },
      {
        "duration": 1180,
        "start_time": "2024-06-02T12:17:17.352Z"
      },
      {
        "duration": 3,
        "start_time": "2024-06-02T12:17:18.535Z"
      },
      {
        "duration": 72,
        "start_time": "2024-06-02T12:17:18.540Z"
      },
      {
        "duration": 12,
        "start_time": "2024-06-02T12:17:18.614Z"
      },
      {
        "duration": 12,
        "start_time": "2024-06-02T12:17:18.627Z"
      },
      {
        "duration": 9,
        "start_time": "2024-06-02T12:17:18.641Z"
      },
      {
        "duration": 10,
        "start_time": "2024-06-02T12:17:18.652Z"
      },
      {
        "duration": 19,
        "start_time": "2024-06-02T12:17:18.663Z"
      },
      {
        "duration": 14,
        "start_time": "2024-06-02T12:17:18.684Z"
      },
      {
        "duration": 10,
        "start_time": "2024-06-02T12:17:18.701Z"
      },
      {
        "duration": 5,
        "start_time": "2024-06-02T12:17:18.713Z"
      },
      {
        "duration": 4,
        "start_time": "2024-06-02T12:17:18.719Z"
      },
      {
        "duration": 8,
        "start_time": "2024-06-02T12:17:18.725Z"
      },
      {
        "duration": 5,
        "start_time": "2024-06-02T12:17:18.734Z"
      },
      {
        "duration": 47,
        "start_time": "2024-06-02T12:17:18.740Z"
      },
      {
        "duration": 28,
        "start_time": "2024-06-02T12:17:18.789Z"
      },
      {
        "duration": 170,
        "start_time": "2024-06-02T12:17:18.818Z"
      },
      {
        "duration": 5,
        "start_time": "2024-06-02T12:17:18.989Z"
      },
      {
        "duration": 198,
        "start_time": "2024-06-02T12:17:18.995Z"
      },
      {
        "duration": 137,
        "start_time": "2024-06-02T12:17:19.195Z"
      },
      {
        "duration": 196,
        "start_time": "2024-06-02T12:17:19.334Z"
      },
      {
        "duration": 246,
        "start_time": "2024-06-02T12:17:19.533Z"
      },
      {
        "duration": 235,
        "start_time": "2024-06-02T12:17:19.782Z"
      },
      {
        "duration": 10,
        "start_time": "2024-06-02T12:17:20.019Z"
      },
      {
        "duration": 11,
        "start_time": "2024-06-02T12:17:20.031Z"
      },
      {
        "duration": 5,
        "start_time": "2024-06-02T12:17:20.044Z"
      },
      {
        "duration": 47,
        "start_time": "2024-06-02T12:17:20.050Z"
      },
      {
        "duration": 19,
        "start_time": "2024-06-02T12:17:20.101Z"
      },
      {
        "duration": 245,
        "start_time": "2024-06-02T12:17:20.122Z"
      },
      {
        "duration": 286,
        "start_time": "2024-06-02T12:17:20.369Z"
      },
      {
        "duration": 211,
        "start_time": "2024-06-02T12:17:20.657Z"
      },
      {
        "duration": 229,
        "start_time": "2024-06-02T12:17:20.869Z"
      },
      {
        "duration": 27,
        "start_time": "2024-06-02T12:17:21.100Z"
      },
      {
        "duration": 15,
        "start_time": "2024-06-02T12:17:21.129Z"
      },
      {
        "duration": 38,
        "start_time": "2024-06-02T12:17:21.145Z"
      },
      {
        "duration": 4,
        "start_time": "2024-06-02T12:17:21.184Z"
      },
      {
        "duration": 18,
        "start_time": "2024-06-02T12:17:21.190Z"
      },
      {
        "duration": 10,
        "start_time": "2024-06-02T12:17:21.210Z"
      },
      {
        "duration": 10,
        "start_time": "2024-06-02T12:17:21.221Z"
      },
      {
        "duration": 7,
        "start_time": "2024-06-02T12:17:21.232Z"
      },
      {
        "duration": 12,
        "start_time": "2024-06-02T12:17:21.240Z"
      },
      {
        "duration": 26,
        "start_time": "2024-06-02T12:17:21.254Z"
      },
      {
        "duration": 8,
        "start_time": "2024-06-02T12:17:21.282Z"
      },
      {
        "duration": 13,
        "start_time": "2024-06-02T12:17:21.291Z"
      },
      {
        "duration": 9,
        "start_time": "2024-06-02T12:17:21.306Z"
      },
      {
        "duration": 1501,
        "start_time": "2024-06-02T12:17:21.316Z"
      },
      {
        "duration": 287,
        "start_time": "2024-06-02T12:17:22.819Z"
      },
      {
        "duration": 4,
        "start_time": "2024-06-02T12:17:23.108Z"
      },
      {
        "duration": 10,
        "start_time": "2024-06-02T12:17:23.114Z"
      },
      {
        "duration": 3165,
        "start_time": "2024-06-02T12:17:23.126Z"
      },
      {
        "duration": 5,
        "start_time": "2024-06-02T12:17:26.293Z"
      },
      {
        "duration": 455,
        "start_time": "2024-06-02T12:20:41.848Z"
      },
      {
        "duration": 315,
        "start_time": "2024-06-02T12:20:45.848Z"
      },
      {
        "duration": 550,
        "start_time": "2024-06-02T12:21:20.072Z"
      },
      {
        "duration": 287,
        "start_time": "2024-06-02T12:21:33.657Z"
      },
      {
        "duration": 329,
        "start_time": "2024-06-02T12:21:51.417Z"
      },
      {
        "duration": 248,
        "start_time": "2024-06-02T12:22:43.786Z"
      },
      {
        "duration": 290,
        "start_time": "2024-06-02T12:22:47.050Z"
      },
      {
        "duration": 297,
        "start_time": "2024-06-02T12:22:56.570Z"
      },
      {
        "duration": 99,
        "start_time": "2024-06-02T12:23:07.226Z"
      },
      {
        "duration": 61,
        "start_time": "2024-06-02T12:23:16.731Z"
      },
      {
        "duration": 57,
        "start_time": "2024-06-02T12:23:19.402Z"
      },
      {
        "duration": 59,
        "start_time": "2024-06-02T12:23:25.866Z"
      },
      {
        "duration": 358,
        "start_time": "2024-06-02T12:23:33.931Z"
      },
      {
        "duration": 293,
        "start_time": "2024-06-02T12:23:49.835Z"
      },
      {
        "duration": 311,
        "start_time": "2024-06-02T12:24:00.750Z"
      },
      {
        "duration": 335,
        "start_time": "2024-06-02T12:24:07.148Z"
      },
      {
        "duration": 282,
        "start_time": "2024-06-02T12:24:14.651Z"
      },
      {
        "duration": 403,
        "start_time": "2024-06-02T12:24:21.356Z"
      },
      {
        "duration": 241,
        "start_time": "2024-06-02T12:30:14.130Z"
      },
      {
        "duration": 267,
        "start_time": "2024-06-02T12:30:34.547Z"
      },
      {
        "duration": 275,
        "start_time": "2024-06-02T12:30:39.923Z"
      },
      {
        "duration": 294,
        "start_time": "2024-06-02T12:30:55.779Z"
      },
      {
        "duration": 336,
        "start_time": "2024-06-02T12:32:00.700Z"
      },
      {
        "duration": 475,
        "start_time": "2024-06-02T12:32:38.440Z"
      },
      {
        "duration": 378,
        "start_time": "2024-06-02T12:33:24.118Z"
      },
      {
        "duration": 360,
        "start_time": "2024-06-02T12:33:42.566Z"
      },
      {
        "duration": 360,
        "start_time": "2024-06-02T12:33:49.430Z"
      },
      {
        "duration": 293,
        "start_time": "2024-06-02T12:34:07.862Z"
      },
      {
        "duration": 272,
        "start_time": "2024-06-02T12:34:16.390Z"
      },
      {
        "duration": 349,
        "start_time": "2024-06-02T12:34:26.774Z"
      },
      {
        "duration": 302,
        "start_time": "2024-06-02T12:34:40.454Z"
      },
      {
        "duration": 302,
        "start_time": "2024-06-02T12:34:45.207Z"
      },
      {
        "duration": 315,
        "start_time": "2024-06-02T12:35:07.270Z"
      },
      {
        "duration": 297,
        "start_time": "2024-06-02T12:35:21.239Z"
      },
      {
        "duration": 403,
        "start_time": "2024-06-02T12:36:23.592Z"
      },
      {
        "duration": 1098,
        "start_time": "2024-06-02T12:36:38.817Z"
      },
      {
        "duration": 3,
        "start_time": "2024-06-02T12:36:39.917Z"
      },
      {
        "duration": 79,
        "start_time": "2024-06-02T12:36:39.921Z"
      },
      {
        "duration": 12,
        "start_time": "2024-06-02T12:36:40.002Z"
      },
      {
        "duration": 19,
        "start_time": "2024-06-02T12:36:40.015Z"
      },
      {
        "duration": 30,
        "start_time": "2024-06-02T12:36:40.036Z"
      },
      {
        "duration": 31,
        "start_time": "2024-06-02T12:36:40.068Z"
      },
      {
        "duration": 23,
        "start_time": "2024-06-02T12:36:40.100Z"
      },
      {
        "duration": 31,
        "start_time": "2024-06-02T12:36:40.125Z"
      },
      {
        "duration": 31,
        "start_time": "2024-06-02T12:36:40.158Z"
      },
      {
        "duration": 7,
        "start_time": "2024-06-02T12:36:40.191Z"
      },
      {
        "duration": 10,
        "start_time": "2024-06-02T12:36:40.200Z"
      },
      {
        "duration": 10,
        "start_time": "2024-06-02T12:36:40.214Z"
      },
      {
        "duration": 5,
        "start_time": "2024-06-02T12:36:40.226Z"
      },
      {
        "duration": 15,
        "start_time": "2024-06-02T12:36:40.233Z"
      },
      {
        "duration": 48,
        "start_time": "2024-06-02T12:36:40.250Z"
      },
      {
        "duration": 159,
        "start_time": "2024-06-02T12:36:40.300Z"
      },
      {
        "duration": 5,
        "start_time": "2024-06-02T12:36:40.460Z"
      },
      {
        "duration": 158,
        "start_time": "2024-06-02T12:36:40.467Z"
      },
      {
        "duration": 140,
        "start_time": "2024-06-02T12:36:40.626Z"
      },
      {
        "duration": 189,
        "start_time": "2024-06-02T12:36:40.767Z"
      },
      {
        "duration": 235,
        "start_time": "2024-06-02T12:36:40.958Z"
      },
      {
        "duration": 219,
        "start_time": "2024-06-02T12:36:41.194Z"
      },
      {
        "duration": 10,
        "start_time": "2024-06-02T12:36:41.415Z"
      },
      {
        "duration": 9,
        "start_time": "2024-06-02T12:36:41.427Z"
      },
      {
        "duration": 6,
        "start_time": "2024-06-02T12:36:41.438Z"
      },
      {
        "duration": 43,
        "start_time": "2024-06-02T12:36:41.446Z"
      },
      {
        "duration": 19,
        "start_time": "2024-06-02T12:36:41.491Z"
      },
      {
        "duration": 238,
        "start_time": "2024-06-02T12:36:41.511Z"
      },
      {
        "duration": 304,
        "start_time": "2024-06-02T12:36:41.751Z"
      },
      {
        "duration": 363,
        "start_time": "2024-06-02T12:36:42.057Z"
      },
      {
        "duration": 231,
        "start_time": "2024-06-02T12:36:42.422Z"
      },
      {
        "duration": 303,
        "start_time": "2024-06-02T12:36:42.654Z"
      },
      {
        "duration": 36,
        "start_time": "2024-06-02T12:36:42.958Z"
      },
      {
        "duration": 13,
        "start_time": "2024-06-02T12:36:42.996Z"
      },
      {
        "duration": 18,
        "start_time": "2024-06-02T12:36:43.010Z"
      },
      {
        "duration": 4,
        "start_time": "2024-06-02T12:36:43.029Z"
      },
      {
        "duration": 5,
        "start_time": "2024-06-02T12:36:43.035Z"
      },
      {
        "duration": 12,
        "start_time": "2024-06-02T12:36:43.041Z"
      },
      {
        "duration": 37,
        "start_time": "2024-06-02T12:36:43.056Z"
      },
      {
        "duration": 5,
        "start_time": "2024-06-02T12:36:43.095Z"
      },
      {
        "duration": 6,
        "start_time": "2024-06-02T12:36:43.102Z"
      },
      {
        "duration": 5,
        "start_time": "2024-06-02T12:36:43.110Z"
      },
      {
        "duration": 5,
        "start_time": "2024-06-02T12:36:43.117Z"
      },
      {
        "duration": 8,
        "start_time": "2024-06-02T12:36:43.123Z"
      },
      {
        "duration": 2,
        "start_time": "2024-06-02T12:36:43.133Z"
      },
      {
        "duration": 1528,
        "start_time": "2024-06-02T12:36:43.137Z"
      },
      {
        "duration": 262,
        "start_time": "2024-06-02T12:36:44.667Z"
      },
      {
        "duration": 4,
        "start_time": "2024-06-02T12:36:44.931Z"
      },
      {
        "duration": 8,
        "start_time": "2024-06-02T12:36:44.937Z"
      },
      {
        "duration": 3187,
        "start_time": "2024-06-02T12:36:44.946Z"
      },
      {
        "duration": 5,
        "start_time": "2024-06-02T12:36:48.135Z"
      },
      {
        "duration": 544,
        "start_time": "2024-06-02T12:36:58.840Z"
      },
      {
        "duration": 316,
        "start_time": "2024-06-02T12:37:38.233Z"
      },
      {
        "duration": 316,
        "start_time": "2024-06-02T12:39:06.811Z"
      },
      {
        "duration": 299,
        "start_time": "2024-06-02T12:41:17.933Z"
      },
      {
        "duration": 311,
        "start_time": "2024-06-02T12:41:28.733Z"
      },
      {
        "duration": 295,
        "start_time": "2024-06-02T12:41:37.549Z"
      },
      {
        "duration": 454,
        "start_time": "2024-06-02T12:41:59.405Z"
      },
      {
        "duration": 345,
        "start_time": "2024-06-02T12:42:50.077Z"
      },
      {
        "duration": 345,
        "start_time": "2024-06-02T12:42:55.309Z"
      },
      {
        "duration": 314,
        "start_time": "2024-06-02T12:43:05.325Z"
      },
      {
        "duration": 132,
        "start_time": "2024-06-02T12:57:03.437Z"
      },
      {
        "duration": 9,
        "start_time": "2024-06-02T12:57:21.181Z"
      },
      {
        "duration": 9,
        "start_time": "2024-06-02T12:57:23.948Z"
      },
      {
        "duration": 5,
        "start_time": "2024-06-02T12:57:27.036Z"
      },
      {
        "duration": 5,
        "start_time": "2024-06-02T12:57:32.381Z"
      },
      {
        "duration": 4,
        "start_time": "2024-06-02T12:57:55.405Z"
      },
      {
        "duration": 5,
        "start_time": "2024-06-02T12:58:07.422Z"
      },
      {
        "duration": 5,
        "start_time": "2024-06-02T12:58:16.958Z"
      },
      {
        "duration": 5,
        "start_time": "2024-06-02T12:58:34.510Z"
      },
      {
        "duration": 5,
        "start_time": "2024-06-02T12:58:37.997Z"
      },
      {
        "duration": 202,
        "start_time": "2024-06-02T13:02:14.162Z"
      },
      {
        "duration": 184,
        "start_time": "2024-06-02T13:02:26.178Z"
      },
      {
        "duration": 209,
        "start_time": "2024-06-02T13:02:34.370Z"
      },
      {
        "duration": 279,
        "start_time": "2024-06-02T13:02:40.259Z"
      },
      {
        "duration": 172,
        "start_time": "2024-06-02T13:02:43.331Z"
      },
      {
        "duration": 178,
        "start_time": "2024-06-02T13:02:46.777Z"
      },
      {
        "duration": 179,
        "start_time": "2024-06-02T13:02:53.362Z"
      },
      {
        "duration": 198,
        "start_time": "2024-06-02T13:02:59.362Z"
      },
      {
        "duration": 179,
        "start_time": "2024-06-02T13:03:12.739Z"
      },
      {
        "duration": 180,
        "start_time": "2024-06-02T13:03:25.827Z"
      },
      {
        "duration": 169,
        "start_time": "2024-06-02T13:03:51.139Z"
      },
      {
        "duration": 16,
        "start_time": "2024-06-02T13:04:31.556Z"
      },
      {
        "duration": 12,
        "start_time": "2024-06-02T13:04:49.188Z"
      },
      {
        "duration": 12,
        "start_time": "2024-06-02T13:05:00.661Z"
      },
      {
        "duration": 11,
        "start_time": "2024-06-02T13:05:05.413Z"
      },
      {
        "duration": 13,
        "start_time": "2024-06-02T13:05:08.373Z"
      },
      {
        "duration": 18,
        "start_time": "2024-06-02T13:05:11.334Z"
      },
      {
        "duration": 12,
        "start_time": "2024-06-02T13:05:15.398Z"
      },
      {
        "duration": 13,
        "start_time": "2024-06-02T13:05:18.149Z"
      },
      {
        "duration": 176,
        "start_time": "2024-06-02T13:05:24.118Z"
      },
      {
        "duration": 230,
        "start_time": "2024-06-02T13:05:33.701Z"
      },
      {
        "duration": 221,
        "start_time": "2024-06-02T13:05:38.389Z"
      },
      {
        "duration": 295,
        "start_time": "2024-06-02T13:05:40.773Z"
      },
      {
        "duration": 5,
        "start_time": "2024-06-02T13:08:30.217Z"
      },
      {
        "duration": 125,
        "start_time": "2024-06-02T13:08:32.201Z"
      },
      {
        "duration": 134,
        "start_time": "2024-06-02T13:09:04.057Z"
      },
      {
        "duration": 12,
        "start_time": "2024-06-02T13:09:27.481Z"
      },
      {
        "duration": 3,
        "start_time": "2024-06-02T13:13:18.350Z"
      },
      {
        "duration": 1177,
        "start_time": "2024-06-02T13:13:26.578Z"
      },
      {
        "duration": 3,
        "start_time": "2024-06-02T13:13:27.757Z"
      },
      {
        "duration": 89,
        "start_time": "2024-06-02T13:13:27.761Z"
      },
      {
        "duration": 12,
        "start_time": "2024-06-02T13:13:27.852Z"
      },
      {
        "duration": 9,
        "start_time": "2024-06-02T13:13:27.866Z"
      },
      {
        "duration": 8,
        "start_time": "2024-06-02T13:13:27.876Z"
      },
      {
        "duration": 15,
        "start_time": "2024-06-02T13:13:27.885Z"
      },
      {
        "duration": 16,
        "start_time": "2024-06-02T13:13:27.901Z"
      },
      {
        "duration": 14,
        "start_time": "2024-06-02T13:13:27.919Z"
      },
      {
        "duration": 19,
        "start_time": "2024-06-02T13:13:27.935Z"
      },
      {
        "duration": 31,
        "start_time": "2024-06-02T13:13:27.956Z"
      },
      {
        "duration": 6,
        "start_time": "2024-06-02T13:13:27.989Z"
      },
      {
        "duration": 16,
        "start_time": "2024-06-02T13:13:27.997Z"
      },
      {
        "duration": 4,
        "start_time": "2024-06-02T13:13:28.016Z"
      },
      {
        "duration": 6,
        "start_time": "2024-06-02T13:13:28.022Z"
      },
      {
        "duration": 23,
        "start_time": "2024-06-02T13:13:28.030Z"
      },
      {
        "duration": 171,
        "start_time": "2024-06-02T13:13:28.055Z"
      },
      {
        "duration": 6,
        "start_time": "2024-06-02T13:13:28.227Z"
      },
      {
        "duration": 168,
        "start_time": "2024-06-02T13:13:28.235Z"
      },
      {
        "duration": 141,
        "start_time": "2024-06-02T13:13:28.405Z"
      },
      {
        "duration": 5,
        "start_time": "2024-06-02T13:13:28.547Z"
      },
      {
        "duration": 204,
        "start_time": "2024-06-02T13:13:28.553Z"
      },
      {
        "duration": 237,
        "start_time": "2024-06-02T13:13:28.758Z"
      },
      {
        "duration": 215,
        "start_time": "2024-06-02T13:13:28.997Z"
      },
      {
        "duration": 11,
        "start_time": "2024-06-02T13:13:29.214Z"
      },
      {
        "duration": 13,
        "start_time": "2024-06-02T13:13:29.226Z"
      },
      {
        "duration": 17,
        "start_time": "2024-06-02T13:13:29.240Z"
      },
      {
        "duration": 54,
        "start_time": "2024-06-02T13:13:29.258Z"
      },
      {
        "duration": 20,
        "start_time": "2024-06-02T13:13:29.313Z"
      },
      {
        "duration": 238,
        "start_time": "2024-06-02T13:13:29.335Z"
      },
      {
        "duration": 302,
        "start_time": "2024-06-02T13:13:29.575Z"
      },
      {
        "duration": 379,
        "start_time": "2024-06-02T13:13:29.881Z"
      },
      {
        "duration": 341,
        "start_time": "2024-06-02T13:13:30.262Z"
      },
      {
        "duration": 24,
        "start_time": "2024-06-02T13:13:30.604Z"
      },
      {
        "duration": 49,
        "start_time": "2024-06-02T13:13:30.630Z"
      },
      {
        "duration": 100,
        "start_time": "2024-06-02T13:13:30.681Z"
      },
      {
        "duration": 114,
        "start_time": "2024-06-02T13:13:30.783Z"
      },
      {
        "duration": 50,
        "start_time": "2024-06-02T13:13:30.898Z"
      },
      {
        "duration": 62,
        "start_time": "2024-06-02T13:13:30.950Z"
      },
      {
        "duration": 44,
        "start_time": "2024-06-02T13:13:31.014Z"
      },
      {
        "duration": 51,
        "start_time": "2024-06-02T13:13:31.062Z"
      },
      {
        "duration": 54,
        "start_time": "2024-06-02T13:13:31.115Z"
      },
      {
        "duration": 52,
        "start_time": "2024-06-02T13:13:31.171Z"
      },
      {
        "duration": 79,
        "start_time": "2024-06-02T13:13:31.225Z"
      },
      {
        "duration": 67,
        "start_time": "2024-06-02T13:13:31.305Z"
      },
      {
        "duration": 28,
        "start_time": "2024-06-02T13:13:31.373Z"
      },
      {
        "duration": 1615,
        "start_time": "2024-06-02T13:13:31.403Z"
      },
      {
        "duration": 287,
        "start_time": "2024-06-02T13:13:33.020Z"
      },
      {
        "duration": 5,
        "start_time": "2024-06-02T13:13:33.308Z"
      },
      {
        "duration": 10,
        "start_time": "2024-06-02T13:13:33.315Z"
      },
      {
        "duration": 3221,
        "start_time": "2024-06-02T13:13:33.327Z"
      },
      {
        "duration": 5,
        "start_time": "2024-06-02T13:13:36.550Z"
      },
      {
        "duration": 1182,
        "start_time": "2024-06-02T13:15:07.556Z"
      },
      {
        "duration": 5,
        "start_time": "2024-06-02T13:15:08.740Z"
      },
      {
        "duration": 83,
        "start_time": "2024-06-02T13:15:08.746Z"
      },
      {
        "duration": 12,
        "start_time": "2024-06-02T13:15:08.830Z"
      },
      {
        "duration": 10,
        "start_time": "2024-06-02T13:15:08.844Z"
      },
      {
        "duration": 12,
        "start_time": "2024-06-02T13:15:08.856Z"
      },
      {
        "duration": 22,
        "start_time": "2024-06-02T13:15:08.869Z"
      },
      {
        "duration": 17,
        "start_time": "2024-06-02T13:15:08.893Z"
      },
      {
        "duration": 18,
        "start_time": "2024-06-02T13:15:08.912Z"
      },
      {
        "duration": 11,
        "start_time": "2024-06-02T13:15:08.932Z"
      },
      {
        "duration": 5,
        "start_time": "2024-06-02T13:15:08.944Z"
      },
      {
        "duration": 31,
        "start_time": "2024-06-02T13:15:08.951Z"
      },
      {
        "duration": 8,
        "start_time": "2024-06-02T13:15:08.984Z"
      },
      {
        "duration": 6,
        "start_time": "2024-06-02T13:15:08.995Z"
      },
      {
        "duration": 12,
        "start_time": "2024-06-02T13:15:09.002Z"
      },
      {
        "duration": 18,
        "start_time": "2024-06-02T13:15:09.015Z"
      },
      {
        "duration": 179,
        "start_time": "2024-06-02T13:15:09.035Z"
      },
      {
        "duration": 5,
        "start_time": "2024-06-02T13:15:09.215Z"
      },
      {
        "duration": 177,
        "start_time": "2024-06-02T13:15:09.221Z"
      },
      {
        "duration": 139,
        "start_time": "2024-06-02T13:15:09.400Z"
      },
      {
        "duration": 4,
        "start_time": "2024-06-02T13:15:09.540Z"
      },
      {
        "duration": 203,
        "start_time": "2024-06-02T13:15:09.545Z"
      },
      {
        "duration": 241,
        "start_time": "2024-06-02T13:15:09.749Z"
      },
      {
        "duration": 213,
        "start_time": "2024-06-02T13:15:09.991Z"
      },
      {
        "duration": 9,
        "start_time": "2024-06-02T13:15:10.205Z"
      },
      {
        "duration": 9,
        "start_time": "2024-06-02T13:15:10.216Z"
      },
      {
        "duration": 4,
        "start_time": "2024-06-02T13:15:10.226Z"
      },
      {
        "duration": 21,
        "start_time": "2024-06-02T13:15:10.231Z"
      },
      {
        "duration": 45,
        "start_time": "2024-06-02T13:15:10.253Z"
      },
      {
        "duration": 246,
        "start_time": "2024-06-02T13:15:10.300Z"
      },
      {
        "duration": 300,
        "start_time": "2024-06-02T13:15:10.548Z"
      },
      {
        "duration": 365,
        "start_time": "2024-06-02T13:15:10.850Z"
      },
      {
        "duration": 304,
        "start_time": "2024-06-02T13:15:11.216Z"
      },
      {
        "duration": 25,
        "start_time": "2024-06-02T13:15:11.522Z"
      },
      {
        "duration": 13,
        "start_time": "2024-06-02T13:15:11.549Z"
      },
      {
        "duration": 33,
        "start_time": "2024-06-02T13:15:11.563Z"
      },
      {
        "duration": 4,
        "start_time": "2024-06-02T13:15:11.598Z"
      },
      {
        "duration": 7,
        "start_time": "2024-06-02T13:15:11.603Z"
      },
      {
        "duration": 4,
        "start_time": "2024-06-02T13:15:11.612Z"
      },
      {
        "duration": 11,
        "start_time": "2024-06-02T13:15:11.617Z"
      },
      {
        "duration": 5,
        "start_time": "2024-06-02T13:15:11.631Z"
      },
      {
        "duration": 10,
        "start_time": "2024-06-02T13:15:11.638Z"
      },
      {
        "duration": 35,
        "start_time": "2024-06-02T13:15:11.649Z"
      },
      {
        "duration": 4,
        "start_time": "2024-06-02T13:15:11.686Z"
      },
      {
        "duration": 10,
        "start_time": "2024-06-02T13:15:11.692Z"
      },
      {
        "duration": 11,
        "start_time": "2024-06-02T13:15:11.703Z"
      },
      {
        "duration": 1584,
        "start_time": "2024-06-02T13:15:11.716Z"
      },
      {
        "duration": 269,
        "start_time": "2024-06-02T13:15:13.302Z"
      },
      {
        "duration": 11,
        "start_time": "2024-06-02T13:15:13.573Z"
      },
      {
        "duration": 18,
        "start_time": "2024-06-02T13:15:13.585Z"
      },
      {
        "duration": 3210,
        "start_time": "2024-06-02T13:15:13.604Z"
      },
      {
        "duration": 4,
        "start_time": "2024-06-02T13:15:16.816Z"
      },
      {
        "duration": 1162,
        "start_time": "2024-06-02T13:26:52.803Z"
      },
      {
        "duration": 3,
        "start_time": "2024-06-02T13:26:53.967Z"
      },
      {
        "duration": 76,
        "start_time": "2024-06-02T13:26:53.971Z"
      },
      {
        "duration": 12,
        "start_time": "2024-06-02T13:26:54.049Z"
      },
      {
        "duration": 18,
        "start_time": "2024-06-02T13:26:54.062Z"
      },
      {
        "duration": 7,
        "start_time": "2024-06-02T13:26:54.082Z"
      },
      {
        "duration": 19,
        "start_time": "2024-06-02T13:26:54.090Z"
      },
      {
        "duration": 11,
        "start_time": "2024-06-02T13:26:54.111Z"
      },
      {
        "duration": 14,
        "start_time": "2024-06-02T13:26:54.124Z"
      },
      {
        "duration": 11,
        "start_time": "2024-06-02T13:26:54.139Z"
      },
      {
        "duration": 32,
        "start_time": "2024-06-02T13:26:54.151Z"
      },
      {
        "duration": 5,
        "start_time": "2024-06-02T13:26:54.185Z"
      },
      {
        "duration": 8,
        "start_time": "2024-06-02T13:26:54.193Z"
      },
      {
        "duration": 5,
        "start_time": "2024-06-02T13:26:54.202Z"
      },
      {
        "duration": 10,
        "start_time": "2024-06-02T13:26:54.208Z"
      },
      {
        "duration": 17,
        "start_time": "2024-06-02T13:26:54.219Z"
      },
      {
        "duration": 198,
        "start_time": "2024-06-02T13:26:54.237Z"
      },
      {
        "duration": 5,
        "start_time": "2024-06-02T13:26:54.436Z"
      },
      {
        "duration": 171,
        "start_time": "2024-06-02T13:26:54.443Z"
      },
      {
        "duration": 141,
        "start_time": "2024-06-02T13:26:54.615Z"
      },
      {
        "duration": 5,
        "start_time": "2024-06-02T13:26:54.758Z"
      },
      {
        "duration": 192,
        "start_time": "2024-06-02T13:26:54.765Z"
      },
      {
        "duration": 234,
        "start_time": "2024-06-02T13:26:54.959Z"
      },
      {
        "duration": 219,
        "start_time": "2024-06-02T13:26:55.194Z"
      },
      {
        "duration": 9,
        "start_time": "2024-06-02T13:26:55.414Z"
      },
      {
        "duration": 9,
        "start_time": "2024-06-02T13:26:55.425Z"
      },
      {
        "duration": 5,
        "start_time": "2024-06-02T13:26:55.435Z"
      },
      {
        "duration": 44,
        "start_time": "2024-06-02T13:26:55.441Z"
      },
      {
        "duration": 19,
        "start_time": "2024-06-02T13:26:55.486Z"
      },
      {
        "duration": 245,
        "start_time": "2024-06-02T13:26:55.506Z"
      },
      {
        "duration": 322,
        "start_time": "2024-06-02T13:26:55.753Z"
      },
      {
        "duration": 347,
        "start_time": "2024-06-02T13:26:56.077Z"
      },
      {
        "duration": 301,
        "start_time": "2024-06-02T13:26:56.426Z"
      },
      {
        "duration": 25,
        "start_time": "2024-06-02T13:26:56.728Z"
      },
      {
        "duration": 27,
        "start_time": "2024-06-02T13:26:56.755Z"
      },
      {
        "duration": 18,
        "start_time": "2024-06-02T13:26:56.783Z"
      },
      {
        "duration": 4,
        "start_time": "2024-06-02T13:26:56.803Z"
      },
      {
        "duration": 12,
        "start_time": "2024-06-02T13:26:56.808Z"
      },
      {
        "duration": 8,
        "start_time": "2024-06-02T13:26:56.821Z"
      },
      {
        "duration": 22,
        "start_time": "2024-06-02T13:26:56.832Z"
      },
      {
        "duration": 4,
        "start_time": "2024-06-02T13:26:56.856Z"
      },
      {
        "duration": 23,
        "start_time": "2024-06-02T13:26:56.862Z"
      },
      {
        "duration": 13,
        "start_time": "2024-06-02T13:26:56.886Z"
      },
      {
        "duration": 5,
        "start_time": "2024-06-02T13:26:56.900Z"
      },
      {
        "duration": 10,
        "start_time": "2024-06-02T13:26:56.906Z"
      },
      {
        "duration": 4,
        "start_time": "2024-06-02T13:26:56.918Z"
      },
      {
        "duration": 1477,
        "start_time": "2024-06-02T13:26:56.923Z"
      },
      {
        "duration": 271,
        "start_time": "2024-06-02T13:26:58.402Z"
      },
      {
        "duration": 7,
        "start_time": "2024-06-02T13:26:58.675Z"
      },
      {
        "duration": 4,
        "start_time": "2024-06-02T13:26:58.684Z"
      },
      {
        "duration": 3144,
        "start_time": "2024-06-02T13:26:58.689Z"
      },
      {
        "duration": 5,
        "start_time": "2024-06-02T13:27:01.835Z"
      },
      {
        "duration": 1044,
        "start_time": "2024-06-02T14:10:25.336Z"
      },
      {
        "duration": 3,
        "start_time": "2024-06-02T14:10:26.382Z"
      },
      {
        "duration": 72,
        "start_time": "2024-06-02T14:10:26.386Z"
      },
      {
        "duration": 12,
        "start_time": "2024-06-02T14:10:26.460Z"
      },
      {
        "duration": 8,
        "start_time": "2024-06-02T14:10:26.475Z"
      },
      {
        "duration": 7,
        "start_time": "2024-06-02T14:10:26.485Z"
      },
      {
        "duration": 10,
        "start_time": "2024-06-02T14:10:26.494Z"
      },
      {
        "duration": 10,
        "start_time": "2024-06-02T14:10:26.506Z"
      },
      {
        "duration": 14,
        "start_time": "2024-06-02T14:10:26.517Z"
      },
      {
        "duration": 10,
        "start_time": "2024-06-02T14:10:26.532Z"
      },
      {
        "duration": 5,
        "start_time": "2024-06-02T14:10:26.543Z"
      },
      {
        "duration": 4,
        "start_time": "2024-06-02T14:10:26.550Z"
      },
      {
        "duration": 7,
        "start_time": "2024-06-02T14:10:26.555Z"
      },
      {
        "duration": 4,
        "start_time": "2024-06-02T14:10:26.599Z"
      },
      {
        "duration": 8,
        "start_time": "2024-06-02T14:10:26.605Z"
      },
      {
        "duration": 14,
        "start_time": "2024-06-02T14:10:26.614Z"
      },
      {
        "duration": 152,
        "start_time": "2024-06-02T14:10:26.630Z"
      },
      {
        "duration": 4,
        "start_time": "2024-06-02T14:10:26.784Z"
      },
      {
        "duration": 145,
        "start_time": "2024-06-02T14:10:26.789Z"
      },
      {
        "duration": 126,
        "start_time": "2024-06-02T14:10:26.936Z"
      },
      {
        "duration": 3,
        "start_time": "2024-06-02T14:10:27.064Z"
      },
      {
        "duration": 180,
        "start_time": "2024-06-02T14:10:27.068Z"
      },
      {
        "duration": 207,
        "start_time": "2024-06-02T14:10:27.249Z"
      },
      {
        "duration": 196,
        "start_time": "2024-06-02T14:10:27.458Z"
      },
      {
        "duration": 8,
        "start_time": "2024-06-02T14:10:27.655Z"
      },
      {
        "duration": 8,
        "start_time": "2024-06-02T14:10:27.664Z"
      },
      {
        "duration": 6,
        "start_time": "2024-06-02T14:10:27.674Z"
      },
      {
        "duration": 34,
        "start_time": "2024-06-02T14:10:27.681Z"
      },
      {
        "duration": 17,
        "start_time": "2024-06-02T14:10:27.716Z"
      },
      {
        "duration": 207,
        "start_time": "2024-06-02T14:10:27.735Z"
      },
      {
        "duration": 250,
        "start_time": "2024-06-02T14:10:27.943Z"
      },
      {
        "duration": 302,
        "start_time": "2024-06-02T14:10:28.199Z"
      },
      {
        "duration": 274,
        "start_time": "2024-06-02T14:10:28.503Z"
      },
      {
        "duration": 28,
        "start_time": "2024-06-02T14:10:28.779Z"
      },
      {
        "duration": 13,
        "start_time": "2024-06-02T14:10:28.809Z"
      },
      {
        "duration": 16,
        "start_time": "2024-06-02T14:10:28.823Z"
      },
      {
        "duration": 3,
        "start_time": "2024-06-02T14:10:28.840Z"
      },
      {
        "duration": 4,
        "start_time": "2024-06-02T14:10:28.845Z"
      },
      {
        "duration": 4,
        "start_time": "2024-06-02T14:10:28.850Z"
      },
      {
        "duration": 8,
        "start_time": "2024-06-02T14:10:28.856Z"
      },
      {
        "duration": 4,
        "start_time": "2024-06-02T14:10:28.901Z"
      },
      {
        "duration": 4,
        "start_time": "2024-06-02T14:10:28.906Z"
      },
      {
        "duration": 4,
        "start_time": "2024-06-02T14:10:28.912Z"
      },
      {
        "duration": 4,
        "start_time": "2024-06-02T14:10:28.917Z"
      },
      {
        "duration": 7,
        "start_time": "2024-06-02T14:10:28.923Z"
      },
      {
        "duration": 3,
        "start_time": "2024-06-02T14:10:28.931Z"
      },
      {
        "duration": 1353,
        "start_time": "2024-06-02T14:10:28.935Z"
      },
      {
        "duration": 245,
        "start_time": "2024-06-02T14:10:30.289Z"
      },
      {
        "duration": 4,
        "start_time": "2024-06-02T14:10:30.535Z"
      },
      {
        "duration": 37,
        "start_time": "2024-06-02T14:10:30.541Z"
      },
      {
        "duration": 2799,
        "start_time": "2024-06-02T14:10:30.580Z"
      },
      {
        "duration": 4,
        "start_time": "2024-06-02T14:10:33.380Z"
      },
      {
        "duration": 19,
        "start_time": "2024-06-02T14:18:12.458Z"
      },
      {
        "duration": 14,
        "start_time": "2024-06-02T14:22:15.903Z"
      },
      {
        "duration": 7,
        "start_time": "2024-06-02T14:32:24.439Z"
      },
      {
        "duration": 1044,
        "start_time": "2024-06-02T14:41:30.828Z"
      },
      {
        "duration": 3,
        "start_time": "2024-06-02T14:41:31.873Z"
      },
      {
        "duration": 70,
        "start_time": "2024-06-02T14:41:31.877Z"
      },
      {
        "duration": 11,
        "start_time": "2024-06-02T14:41:31.948Z"
      },
      {
        "duration": 7,
        "start_time": "2024-06-02T14:41:31.961Z"
      },
      {
        "duration": 9,
        "start_time": "2024-06-02T14:41:31.969Z"
      },
      {
        "duration": 11,
        "start_time": "2024-06-02T14:41:31.979Z"
      },
      {
        "duration": 20,
        "start_time": "2024-06-02T14:41:31.991Z"
      },
      {
        "duration": 12,
        "start_time": "2024-06-02T14:41:32.012Z"
      },
      {
        "duration": 10,
        "start_time": "2024-06-02T14:41:32.025Z"
      },
      {
        "duration": 5,
        "start_time": "2024-06-02T14:41:32.036Z"
      },
      {
        "duration": 5,
        "start_time": "2024-06-02T14:41:32.042Z"
      },
      {
        "duration": 8,
        "start_time": "2024-06-02T14:41:32.048Z"
      },
      {
        "duration": 4,
        "start_time": "2024-06-02T14:41:32.059Z"
      },
      {
        "duration": 36,
        "start_time": "2024-06-02T14:41:32.064Z"
      },
      {
        "duration": 15,
        "start_time": "2024-06-02T14:41:32.102Z"
      },
      {
        "duration": 148,
        "start_time": "2024-06-02T14:41:32.119Z"
      },
      {
        "duration": 5,
        "start_time": "2024-06-02T14:41:32.268Z"
      },
      {
        "duration": 149,
        "start_time": "2024-06-02T14:41:32.274Z"
      },
      {
        "duration": 134,
        "start_time": "2024-06-02T14:41:32.425Z"
      },
      {
        "duration": 4,
        "start_time": "2024-06-02T14:41:32.561Z"
      },
      {
        "duration": 175,
        "start_time": "2024-06-02T14:41:32.566Z"
      },
      {
        "duration": 206,
        "start_time": "2024-06-02T14:41:32.742Z"
      },
      {
        "duration": 189,
        "start_time": "2024-06-02T14:41:32.950Z"
      },
      {
        "duration": 11,
        "start_time": "2024-06-02T14:41:33.141Z"
      },
      {
        "duration": 9,
        "start_time": "2024-06-02T14:41:33.154Z"
      },
      {
        "duration": 4,
        "start_time": "2024-06-02T14:41:33.165Z"
      },
      {
        "duration": 41,
        "start_time": "2024-06-02T14:41:33.170Z"
      },
      {
        "duration": 17,
        "start_time": "2024-06-02T14:41:33.213Z"
      },
      {
        "duration": 207,
        "start_time": "2024-06-02T14:41:33.232Z"
      },
      {
        "duration": 255,
        "start_time": "2024-06-02T14:41:33.441Z"
      },
      {
        "duration": 318,
        "start_time": "2024-06-02T14:41:33.697Z"
      },
      {
        "duration": 275,
        "start_time": "2024-06-02T14:41:34.016Z"
      },
      {
        "duration": 25,
        "start_time": "2024-06-02T14:41:34.293Z"
      },
      {
        "duration": 11,
        "start_time": "2024-06-02T14:41:34.320Z"
      },
      {
        "duration": 16,
        "start_time": "2024-06-02T14:41:34.332Z"
      },
      {
        "duration": 3,
        "start_time": "2024-06-02T14:41:34.350Z"
      },
      {
        "duration": 4,
        "start_time": "2024-06-02T14:41:34.355Z"
      },
      {
        "duration": 4,
        "start_time": "2024-06-02T14:41:34.360Z"
      },
      {
        "duration": 37,
        "start_time": "2024-06-02T14:41:34.365Z"
      },
      {
        "duration": 4,
        "start_time": "2024-06-02T14:41:34.406Z"
      },
      {
        "duration": 5,
        "start_time": "2024-06-02T14:41:34.411Z"
      },
      {
        "duration": 3,
        "start_time": "2024-06-02T14:41:34.417Z"
      },
      {
        "duration": 4,
        "start_time": "2024-06-02T14:41:34.422Z"
      },
      {
        "duration": 8,
        "start_time": "2024-06-02T14:41:34.427Z"
      },
      {
        "duration": 9,
        "start_time": "2024-06-02T14:41:34.436Z"
      },
      {
        "duration": 1316,
        "start_time": "2024-06-02T14:41:34.446Z"
      },
      {
        "duration": 278,
        "start_time": "2024-06-02T14:41:35.763Z"
      },
      {
        "duration": 5,
        "start_time": "2024-06-02T14:41:36.042Z"
      },
      {
        "duration": 5,
        "start_time": "2024-06-02T14:41:36.048Z"
      },
      {
        "duration": 2740,
        "start_time": "2024-06-02T14:41:36.054Z"
      },
      {
        "duration": 4,
        "start_time": "2024-06-02T14:41:38.799Z"
      },
      {
        "duration": 9,
        "start_time": "2024-06-02T14:51:25.508Z"
      },
      {
        "duration": 6,
        "start_time": "2024-06-02T14:51:44.097Z"
      },
      {
        "duration": 15,
        "start_time": "2024-06-02T14:53:42.769Z"
      },
      {
        "duration": 7,
        "start_time": "2024-06-02T14:53:52.705Z"
      },
      {
        "duration": 1107,
        "start_time": "2024-06-02T14:54:12.329Z"
      },
      {
        "duration": 3,
        "start_time": "2024-06-02T14:54:13.438Z"
      },
      {
        "duration": 88,
        "start_time": "2024-06-02T14:54:13.442Z"
      },
      {
        "duration": 13,
        "start_time": "2024-06-02T14:54:13.531Z"
      },
      {
        "duration": 20,
        "start_time": "2024-06-02T14:54:13.547Z"
      },
      {
        "duration": 12,
        "start_time": "2024-06-02T14:54:13.569Z"
      },
      {
        "duration": 14,
        "start_time": "2024-06-02T14:54:13.582Z"
      },
      {
        "duration": 21,
        "start_time": "2024-06-02T14:54:13.598Z"
      },
      {
        "duration": 20,
        "start_time": "2024-06-02T14:54:13.621Z"
      },
      {
        "duration": 17,
        "start_time": "2024-06-02T14:54:13.643Z"
      },
      {
        "duration": 20,
        "start_time": "2024-06-02T14:54:13.668Z"
      },
      {
        "duration": 22,
        "start_time": "2024-06-02T14:54:13.690Z"
      },
      {
        "duration": 5,
        "start_time": "2024-06-02T14:54:13.714Z"
      },
      {
        "duration": 9,
        "start_time": "2024-06-02T14:54:13.722Z"
      },
      {
        "duration": 18,
        "start_time": "2024-06-02T14:54:13.732Z"
      },
      {
        "duration": 6,
        "start_time": "2024-06-02T14:54:13.751Z"
      },
      {
        "duration": 15,
        "start_time": "2024-06-02T14:54:13.758Z"
      },
      {
        "duration": 18,
        "start_time": "2024-06-02T14:54:13.775Z"
      },
      {
        "duration": 160,
        "start_time": "2024-06-02T14:54:13.794Z"
      },
      {
        "duration": 3,
        "start_time": "2024-06-02T14:54:13.956Z"
      },
      {
        "duration": 28,
        "start_time": "2024-06-02T14:54:13.961Z"
      },
      {
        "duration": 165,
        "start_time": "2024-06-02T14:54:13.991Z"
      },
      {
        "duration": 148,
        "start_time": "2024-06-02T14:54:14.158Z"
      },
      {
        "duration": 5,
        "start_time": "2024-06-02T14:54:14.307Z"
      },
      {
        "duration": 205,
        "start_time": "2024-06-02T14:54:14.313Z"
      },
      {
        "duration": 234,
        "start_time": "2024-06-02T14:54:14.520Z"
      },
      {
        "duration": 230,
        "start_time": "2024-06-02T14:54:14.756Z"
      },
      {
        "duration": 10,
        "start_time": "2024-06-02T14:54:14.988Z"
      },
      {
        "duration": 16,
        "start_time": "2024-06-02T14:54:14.999Z"
      },
      {
        "duration": 38,
        "start_time": "2024-06-02T14:54:15.016Z"
      },
      {
        "duration": 70,
        "start_time": "2024-06-02T14:54:15.056Z"
      },
      {
        "duration": 33,
        "start_time": "2024-06-02T14:54:15.128Z"
      },
      {
        "duration": 254,
        "start_time": "2024-06-02T14:54:15.163Z"
      },
      {
        "duration": 290,
        "start_time": "2024-06-02T14:54:15.419Z"
      },
      {
        "duration": 352,
        "start_time": "2024-06-02T14:54:15.711Z"
      },
      {
        "duration": 318,
        "start_time": "2024-06-02T14:54:16.064Z"
      },
      {
        "duration": 24,
        "start_time": "2024-06-02T14:54:16.384Z"
      },
      {
        "duration": 13,
        "start_time": "2024-06-02T14:54:16.410Z"
      },
      {
        "duration": 18,
        "start_time": "2024-06-02T14:54:16.425Z"
      },
      {
        "duration": 4,
        "start_time": "2024-06-02T14:54:16.444Z"
      },
      {
        "duration": 6,
        "start_time": "2024-06-02T14:54:16.483Z"
      },
      {
        "duration": 6,
        "start_time": "2024-06-02T14:54:16.490Z"
      },
      {
        "duration": 10,
        "start_time": "2024-06-02T14:54:16.497Z"
      },
      {
        "duration": 5,
        "start_time": "2024-06-02T14:54:16.509Z"
      },
      {
        "duration": 6,
        "start_time": "2024-06-02T14:54:16.515Z"
      },
      {
        "duration": 5,
        "start_time": "2024-06-02T14:54:16.522Z"
      },
      {
        "duration": 8,
        "start_time": "2024-06-02T14:54:16.528Z"
      },
      {
        "duration": 47,
        "start_time": "2024-06-02T14:54:16.538Z"
      },
      {
        "duration": 3,
        "start_time": "2024-06-02T14:54:16.587Z"
      },
      {
        "duration": 1518,
        "start_time": "2024-06-02T14:54:16.592Z"
      },
      {
        "duration": 274,
        "start_time": "2024-06-02T14:54:18.112Z"
      },
      {
        "duration": 5,
        "start_time": "2024-06-02T14:54:18.387Z"
      },
      {
        "duration": 28,
        "start_time": "2024-06-02T14:54:18.393Z"
      },
      {
        "duration": 3138,
        "start_time": "2024-06-02T14:54:18.423Z"
      },
      {
        "duration": 4,
        "start_time": "2024-06-02T14:54:21.563Z"
      },
      {
        "duration": 8,
        "start_time": "2024-06-02T14:55:15.362Z"
      },
      {
        "duration": 4,
        "start_time": "2024-06-02T14:57:22.915Z"
      },
      {
        "duration": 74,
        "start_time": "2024-06-02T14:58:18.483Z"
      },
      {
        "duration": 4,
        "start_time": "2024-06-02T15:04:16.487Z"
      },
      {
        "duration": 150,
        "start_time": "2024-06-02T15:04:18.648Z"
      },
      {
        "duration": 4,
        "start_time": "2024-06-02T15:04:20.342Z"
      },
      {
        "duration": 3,
        "start_time": "2024-06-02T15:07:07.673Z"
      },
      {
        "duration": 98,
        "start_time": "2024-06-02T15:07:21.241Z"
      },
      {
        "duration": 135,
        "start_time": "2024-06-02T15:07:58.394Z"
      },
      {
        "duration": 345,
        "start_time": "2024-06-02T15:08:19.737Z"
      },
      {
        "duration": 9,
        "start_time": "2024-06-02T15:08:36.602Z"
      },
      {
        "duration": 9,
        "start_time": "2024-06-02T15:10:44.044Z"
      },
      {
        "duration": 123,
        "start_time": "2024-06-02T15:11:25.916Z"
      },
      {
        "duration": 68,
        "start_time": "2024-06-02T15:11:31.484Z"
      },
      {
        "duration": 61,
        "start_time": "2024-06-02T15:11:57.388Z"
      },
      {
        "duration": 80,
        "start_time": "2024-06-02T15:11:59.900Z"
      },
      {
        "duration": 62,
        "start_time": "2024-06-02T15:12:05.485Z"
      },
      {
        "duration": 62,
        "start_time": "2024-06-02T15:12:17.389Z"
      },
      {
        "duration": 118,
        "start_time": "2024-06-02T15:12:41.068Z"
      },
      {
        "duration": 114,
        "start_time": "2024-06-02T15:12:51.453Z"
      },
      {
        "duration": 4,
        "start_time": "2024-06-02T15:13:10.765Z"
      },
      {
        "duration": 1165,
        "start_time": "2024-06-02T15:13:24.279Z"
      },
      {
        "duration": 4,
        "start_time": "2024-06-02T15:13:25.445Z"
      },
      {
        "duration": 79,
        "start_time": "2024-06-02T15:13:25.451Z"
      },
      {
        "duration": 12,
        "start_time": "2024-06-02T15:13:25.531Z"
      },
      {
        "duration": 8,
        "start_time": "2024-06-02T15:13:25.545Z"
      },
      {
        "duration": 8,
        "start_time": "2024-06-02T15:13:25.554Z"
      },
      {
        "duration": 17,
        "start_time": "2024-06-02T15:13:25.563Z"
      },
      {
        "duration": 14,
        "start_time": "2024-06-02T15:13:25.582Z"
      },
      {
        "duration": 12,
        "start_time": "2024-06-02T15:13:25.598Z"
      },
      {
        "duration": 5,
        "start_time": "2024-06-02T15:13:25.612Z"
      },
      {
        "duration": 11,
        "start_time": "2024-06-02T15:13:25.618Z"
      },
      {
        "duration": 10,
        "start_time": "2024-06-02T15:13:25.631Z"
      },
      {
        "duration": 5,
        "start_time": "2024-06-02T15:13:25.642Z"
      },
      {
        "duration": 35,
        "start_time": "2024-06-02T15:13:25.650Z"
      },
      {
        "duration": 13,
        "start_time": "2024-06-02T15:13:25.687Z"
      },
      {
        "duration": 4,
        "start_time": "2024-06-02T15:13:25.702Z"
      },
      {
        "duration": 8,
        "start_time": "2024-06-02T15:13:25.707Z"
      },
      {
        "duration": 26,
        "start_time": "2024-06-02T15:13:25.716Z"
      },
      {
        "duration": 180,
        "start_time": "2024-06-02T15:13:25.744Z"
      },
      {
        "duration": 10,
        "start_time": "2024-06-02T15:13:25.926Z"
      },
      {
        "duration": 5,
        "start_time": "2024-06-02T15:13:25.938Z"
      },
      {
        "duration": 185,
        "start_time": "2024-06-02T15:13:25.945Z"
      },
      {
        "duration": 4,
        "start_time": "2024-06-02T15:13:26.132Z"
      },
      {
        "duration": 146,
        "start_time": "2024-06-02T15:13:26.138Z"
      },
      {
        "duration": 138,
        "start_time": "2024-06-02T15:13:26.287Z"
      },
      {
        "duration": 5,
        "start_time": "2024-06-02T15:13:26.427Z"
      },
      {
        "duration": 204,
        "start_time": "2024-06-02T15:13:26.433Z"
      },
      {
        "duration": 227,
        "start_time": "2024-06-02T15:13:26.639Z"
      },
      {
        "duration": 210,
        "start_time": "2024-06-02T15:13:26.868Z"
      },
      {
        "duration": 10,
        "start_time": "2024-06-02T15:13:27.082Z"
      },
      {
        "duration": 12,
        "start_time": "2024-06-02T15:13:27.093Z"
      },
      {
        "duration": 5,
        "start_time": "2024-06-02T15:13:27.106Z"
      },
      {
        "duration": 25,
        "start_time": "2024-06-02T15:13:27.113Z"
      },
      {
        "duration": 44,
        "start_time": "2024-06-02T15:13:27.139Z"
      },
      {
        "duration": 227,
        "start_time": "2024-06-02T15:13:27.184Z"
      },
      {
        "duration": 283,
        "start_time": "2024-06-02T15:13:27.412Z"
      },
      {
        "duration": 404,
        "start_time": "2024-06-02T15:13:27.697Z"
      },
      {
        "duration": 303,
        "start_time": "2024-06-02T15:13:28.102Z"
      },
      {
        "duration": 25,
        "start_time": "2024-06-02T15:13:28.407Z"
      },
      {
        "duration": 13,
        "start_time": "2024-06-02T15:13:28.434Z"
      },
      {
        "duration": 36,
        "start_time": "2024-06-02T15:13:28.450Z"
      },
      {
        "duration": 4,
        "start_time": "2024-06-02T15:13:28.488Z"
      },
      {
        "duration": 8,
        "start_time": "2024-06-02T15:13:28.494Z"
      },
      {
        "duration": 6,
        "start_time": "2024-06-02T15:13:28.503Z"
      },
      {
        "duration": 8,
        "start_time": "2024-06-02T15:13:28.510Z"
      },
      {
        "duration": 4,
        "start_time": "2024-06-02T15:13:28.520Z"
      },
      {
        "duration": 6,
        "start_time": "2024-06-02T15:13:28.526Z"
      },
      {
        "duration": 5,
        "start_time": "2024-06-02T15:13:28.533Z"
      },
      {
        "duration": 43,
        "start_time": "2024-06-02T15:13:28.540Z"
      },
      {
        "duration": 8,
        "start_time": "2024-06-02T15:13:28.584Z"
      },
      {
        "duration": 2,
        "start_time": "2024-06-02T15:13:28.594Z"
      },
      {
        "duration": 1503,
        "start_time": "2024-06-02T15:13:28.598Z"
      },
      {
        "duration": 279,
        "start_time": "2024-06-02T15:13:30.103Z"
      },
      {
        "duration": 4,
        "start_time": "2024-06-02T15:13:30.383Z"
      },
      {
        "duration": 21,
        "start_time": "2024-06-02T15:13:30.389Z"
      },
      {
        "duration": 3280,
        "start_time": "2024-06-02T15:13:30.412Z"
      },
      {
        "duration": 4,
        "start_time": "2024-06-02T15:13:33.693Z"
      },
      {
        "duration": 119,
        "start_time": "2024-06-02T15:13:52.014Z"
      },
      {
        "duration": 4,
        "start_time": "2024-06-02T15:14:07.037Z"
      },
      {
        "duration": 138,
        "start_time": "2024-06-02T15:14:17.902Z"
      },
      {
        "duration": 344,
        "start_time": "2024-06-02T15:14:19.949Z"
      },
      {
        "duration": 4,
        "start_time": "2024-06-02T15:14:29.470Z"
      },
      {
        "duration": 18,
        "start_time": "2024-06-02T15:18:03.202Z"
      },
      {
        "duration": 16,
        "start_time": "2024-06-02T15:18:12.978Z"
      },
      {
        "duration": 13,
        "start_time": "2024-06-02T15:18:23.505Z"
      },
      {
        "duration": 9,
        "start_time": "2024-06-02T15:18:52.482Z"
      },
      {
        "duration": 23,
        "start_time": "2024-06-02T15:22:41.541Z"
      },
      {
        "duration": 33,
        "start_time": "2024-06-02T15:25:11.272Z"
      },
      {
        "duration": 13,
        "start_time": "2024-06-02T15:25:13.719Z"
      },
      {
        "duration": 16,
        "start_time": "2024-06-02T15:26:01.497Z"
      },
      {
        "duration": 16,
        "start_time": "2024-06-02T15:26:25.513Z"
      },
      {
        "duration": 17,
        "start_time": "2024-06-02T15:26:35.481Z"
      },
      {
        "duration": 1190,
        "start_time": "2024-06-02T15:26:51.442Z"
      },
      {
        "duration": 6,
        "start_time": "2024-06-02T15:26:52.634Z"
      },
      {
        "duration": 100,
        "start_time": "2024-06-02T15:26:52.643Z"
      },
      {
        "duration": 12,
        "start_time": "2024-06-02T15:26:52.744Z"
      },
      {
        "duration": 55,
        "start_time": "2024-06-02T15:26:52.758Z"
      },
      {
        "duration": 35,
        "start_time": "2024-06-02T15:26:52.815Z"
      },
      {
        "duration": 34,
        "start_time": "2024-06-02T15:26:52.851Z"
      },
      {
        "duration": 53,
        "start_time": "2024-06-02T15:26:52.886Z"
      },
      {
        "duration": 25,
        "start_time": "2024-06-02T15:26:52.941Z"
      },
      {
        "duration": 10,
        "start_time": "2024-06-02T15:26:52.968Z"
      },
      {
        "duration": 36,
        "start_time": "2024-06-02T15:26:52.980Z"
      },
      {
        "duration": 14,
        "start_time": "2024-06-02T15:26:53.018Z"
      },
      {
        "duration": 11,
        "start_time": "2024-06-02T15:26:53.034Z"
      },
      {
        "duration": 11,
        "start_time": "2024-06-02T15:26:53.048Z"
      },
      {
        "duration": 31,
        "start_time": "2024-06-02T15:26:53.060Z"
      },
      {
        "duration": 5,
        "start_time": "2024-06-02T15:26:53.093Z"
      },
      {
        "duration": 33,
        "start_time": "2024-06-02T15:26:53.099Z"
      },
      {
        "duration": 68,
        "start_time": "2024-06-02T15:26:53.134Z"
      },
      {
        "duration": 199,
        "start_time": "2024-06-02T15:26:53.204Z"
      },
      {
        "duration": 9,
        "start_time": "2024-06-02T15:26:53.405Z"
      },
      {
        "duration": 15,
        "start_time": "2024-06-02T15:26:53.416Z"
      },
      {
        "duration": 170,
        "start_time": "2024-06-02T15:26:53.433Z"
      },
      {
        "duration": 5,
        "start_time": "2024-06-02T15:26:53.605Z"
      },
      {
        "duration": 146,
        "start_time": "2024-06-02T15:26:53.611Z"
      },
      {
        "duration": 125,
        "start_time": "2024-06-02T15:26:53.759Z"
      },
      {
        "duration": 199,
        "start_time": "2024-06-02T15:26:53.886Z"
      },
      {
        "duration": 242,
        "start_time": "2024-06-02T15:26:54.086Z"
      },
      {
        "duration": 284,
        "start_time": "2024-06-02T15:26:54.331Z"
      },
      {
        "duration": 10,
        "start_time": "2024-06-02T15:26:54.616Z"
      },
      {
        "duration": 15,
        "start_time": "2024-06-02T15:26:54.628Z"
      },
      {
        "duration": 24,
        "start_time": "2024-06-02T15:26:54.645Z"
      },
      {
        "duration": 11,
        "start_time": "2024-06-02T15:26:54.683Z"
      },
      {
        "duration": 44,
        "start_time": "2024-06-02T15:26:54.696Z"
      },
      {
        "duration": 23,
        "start_time": "2024-06-02T15:26:54.741Z"
      },
      {
        "duration": 34,
        "start_time": "2024-06-02T15:26:54.765Z"
      },
      {
        "duration": 45,
        "start_time": "2024-06-02T15:26:54.800Z"
      },
      {
        "duration": 322,
        "start_time": "2024-06-02T15:26:54.847Z"
      },
      {
        "duration": 228,
        "start_time": "2024-06-02T15:26:55.171Z"
      },
      {
        "duration": 358,
        "start_time": "2024-06-02T15:26:55.401Z"
      },
      {
        "duration": 322,
        "start_time": "2024-06-02T15:26:55.760Z"
      },
      {
        "duration": 19,
        "start_time": "2024-06-02T15:26:56.086Z"
      },
      {
        "duration": 49,
        "start_time": "2024-06-02T15:26:56.106Z"
      },
      {
        "duration": 17,
        "start_time": "2024-06-02T15:26:56.158Z"
      },
      {
        "duration": 19,
        "start_time": "2024-06-02T15:26:56.177Z"
      },
      {
        "duration": 4,
        "start_time": "2024-06-02T15:26:56.198Z"
      },
      {
        "duration": 957,
        "start_time": "2024-06-02T15:26:56.204Z"
      },
      {
        "duration": 0,
        "start_time": "2024-06-02T15:26:57.163Z"
      },
      {
        "duration": 0,
        "start_time": "2024-06-02T15:26:57.164Z"
      },
      {
        "duration": 0,
        "start_time": "2024-06-02T15:26:57.165Z"
      },
      {
        "duration": 0,
        "start_time": "2024-06-02T15:26:57.167Z"
      },
      {
        "duration": 0,
        "start_time": "2024-06-02T15:26:57.167Z"
      },
      {
        "duration": 0,
        "start_time": "2024-06-02T15:26:57.168Z"
      },
      {
        "duration": 0,
        "start_time": "2024-06-02T15:26:57.169Z"
      },
      {
        "duration": 0,
        "start_time": "2024-06-02T15:26:57.170Z"
      },
      {
        "duration": 0,
        "start_time": "2024-06-02T15:26:57.171Z"
      },
      {
        "duration": 0,
        "start_time": "2024-06-02T15:26:57.172Z"
      },
      {
        "duration": 0,
        "start_time": "2024-06-02T15:26:57.173Z"
      },
      {
        "duration": 0,
        "start_time": "2024-06-02T15:26:57.175Z"
      },
      {
        "duration": 0,
        "start_time": "2024-06-02T15:26:57.176Z"
      },
      {
        "duration": 0,
        "start_time": "2024-06-02T15:26:57.177Z"
      },
      {
        "duration": 7,
        "start_time": "2024-06-02T15:27:39.433Z"
      },
      {
        "duration": 1169,
        "start_time": "2024-06-02T15:28:06.136Z"
      },
      {
        "duration": 3,
        "start_time": "2024-06-02T15:28:07.308Z"
      },
      {
        "duration": 83,
        "start_time": "2024-06-02T15:28:07.313Z"
      },
      {
        "duration": 13,
        "start_time": "2024-06-02T15:28:07.399Z"
      },
      {
        "duration": 11,
        "start_time": "2024-06-02T15:28:07.414Z"
      },
      {
        "duration": 14,
        "start_time": "2024-06-02T15:28:07.427Z"
      },
      {
        "duration": 15,
        "start_time": "2024-06-02T15:28:07.444Z"
      },
      {
        "duration": 31,
        "start_time": "2024-06-02T15:28:07.461Z"
      },
      {
        "duration": 15,
        "start_time": "2024-06-02T15:28:07.494Z"
      },
      {
        "duration": 19,
        "start_time": "2024-06-02T15:28:07.512Z"
      },
      {
        "duration": 41,
        "start_time": "2024-06-02T15:28:07.533Z"
      },
      {
        "duration": 17,
        "start_time": "2024-06-02T15:28:07.576Z"
      },
      {
        "duration": 32,
        "start_time": "2024-06-02T15:28:07.595Z"
      },
      {
        "duration": 25,
        "start_time": "2024-06-02T15:28:07.629Z"
      },
      {
        "duration": 12,
        "start_time": "2024-06-02T15:28:07.656Z"
      },
      {
        "duration": 9,
        "start_time": "2024-06-02T15:28:07.670Z"
      },
      {
        "duration": 21,
        "start_time": "2024-06-02T15:28:07.682Z"
      },
      {
        "duration": 21,
        "start_time": "2024-06-02T15:28:07.705Z"
      },
      {
        "duration": 185,
        "start_time": "2024-06-02T15:28:07.728Z"
      },
      {
        "duration": 8,
        "start_time": "2024-06-02T15:28:07.915Z"
      },
      {
        "duration": 9,
        "start_time": "2024-06-02T15:28:07.925Z"
      },
      {
        "duration": 179,
        "start_time": "2024-06-02T15:28:07.936Z"
      },
      {
        "duration": 5,
        "start_time": "2024-06-02T15:28:08.116Z"
      },
      {
        "duration": 202,
        "start_time": "2024-06-02T15:28:08.123Z"
      },
      {
        "duration": 129,
        "start_time": "2024-06-02T15:28:08.327Z"
      },
      {
        "duration": 252,
        "start_time": "2024-06-02T15:28:08.458Z"
      },
      {
        "duration": 273,
        "start_time": "2024-06-02T15:28:08.712Z"
      },
      {
        "duration": 255,
        "start_time": "2024-06-02T15:28:08.989Z"
      },
      {
        "duration": 10,
        "start_time": "2024-06-02T15:28:09.246Z"
      },
      {
        "duration": 28,
        "start_time": "2024-06-02T15:28:09.257Z"
      },
      {
        "duration": 29,
        "start_time": "2024-06-02T15:28:09.288Z"
      },
      {
        "duration": 14,
        "start_time": "2024-06-02T15:28:09.319Z"
      },
      {
        "duration": 11,
        "start_time": "2024-06-02T15:28:09.335Z"
      },
      {
        "duration": 5,
        "start_time": "2024-06-02T15:28:09.348Z"
      },
      {
        "duration": 33,
        "start_time": "2024-06-02T15:28:09.382Z"
      },
      {
        "duration": 32,
        "start_time": "2024-06-02T15:28:09.417Z"
      },
      {
        "duration": 265,
        "start_time": "2024-06-02T15:28:09.451Z"
      },
      {
        "duration": 322,
        "start_time": "2024-06-02T15:28:09.718Z"
      },
      {
        "duration": 390,
        "start_time": "2024-06-02T15:28:10.042Z"
      },
      {
        "duration": 377,
        "start_time": "2024-06-02T15:28:10.434Z"
      },
      {
        "duration": 27,
        "start_time": "2024-06-02T15:28:10.813Z"
      },
      {
        "duration": 41,
        "start_time": "2024-06-02T15:28:10.843Z"
      },
      {
        "duration": 19,
        "start_time": "2024-06-02T15:28:10.886Z"
      },
      {
        "duration": 10,
        "start_time": "2024-06-02T15:28:13.674Z"
      },
      {
        "duration": 18,
        "start_time": "2024-06-02T15:28:37.914Z"
      },
      {
        "duration": 4,
        "start_time": "2024-06-02T15:29:24.076Z"
      },
      {
        "duration": 20,
        "start_time": "2024-06-02T15:29:25.963Z"
      },
      {
        "duration": 5,
        "start_time": "2024-06-02T15:29:33.195Z"
      },
      {
        "duration": 14,
        "start_time": "2024-06-02T15:29:35.339Z"
      },
      {
        "duration": 1156,
        "start_time": "2024-06-02T15:29:43.346Z"
      },
      {
        "duration": 3,
        "start_time": "2024-06-02T15:29:44.504Z"
      },
      {
        "duration": 82,
        "start_time": "2024-06-02T15:29:44.508Z"
      },
      {
        "duration": 23,
        "start_time": "2024-06-02T15:29:44.592Z"
      },
      {
        "duration": 9,
        "start_time": "2024-06-02T15:29:44.618Z"
      },
      {
        "duration": 28,
        "start_time": "2024-06-02T15:29:44.629Z"
      },
      {
        "duration": 25,
        "start_time": "2024-06-02T15:29:44.659Z"
      },
      {
        "duration": 12,
        "start_time": "2024-06-02T15:29:44.686Z"
      },
      {
        "duration": 46,
        "start_time": "2024-06-02T15:29:44.699Z"
      },
      {
        "duration": 7,
        "start_time": "2024-06-02T15:29:44.746Z"
      },
      {
        "duration": 7,
        "start_time": "2024-06-02T15:29:44.755Z"
      },
      {
        "duration": 11,
        "start_time": "2024-06-02T15:29:44.764Z"
      },
      {
        "duration": 10,
        "start_time": "2024-06-02T15:29:44.776Z"
      },
      {
        "duration": 5,
        "start_time": "2024-06-02T15:29:44.790Z"
      },
      {
        "duration": 7,
        "start_time": "2024-06-02T15:29:44.797Z"
      },
      {
        "duration": 22,
        "start_time": "2024-06-02T15:29:44.806Z"
      },
      {
        "duration": 8,
        "start_time": "2024-06-02T15:29:44.830Z"
      },
      {
        "duration": 17,
        "start_time": "2024-06-02T15:29:44.840Z"
      },
      {
        "duration": 169,
        "start_time": "2024-06-02T15:29:44.859Z"
      },
      {
        "duration": 9,
        "start_time": "2024-06-02T15:29:45.030Z"
      },
      {
        "duration": 47,
        "start_time": "2024-06-02T15:29:45.040Z"
      },
      {
        "duration": 205,
        "start_time": "2024-06-02T15:29:45.088Z"
      },
      {
        "duration": 4,
        "start_time": "2024-06-02T15:29:45.295Z"
      },
      {
        "duration": 148,
        "start_time": "2024-06-02T15:29:45.301Z"
      },
      {
        "duration": 129,
        "start_time": "2024-06-02T15:29:45.451Z"
      },
      {
        "duration": 198,
        "start_time": "2024-06-02T15:29:45.582Z"
      },
      {
        "duration": 250,
        "start_time": "2024-06-02T15:29:45.781Z"
      },
      {
        "duration": 234,
        "start_time": "2024-06-02T15:29:46.033Z"
      },
      {
        "duration": 13,
        "start_time": "2024-06-02T15:29:46.269Z"
      },
      {
        "duration": 10,
        "start_time": "2024-06-02T15:29:46.283Z"
      },
      {
        "duration": 19,
        "start_time": "2024-06-02T15:29:46.295Z"
      },
      {
        "duration": 13,
        "start_time": "2024-06-02T15:29:46.316Z"
      },
      {
        "duration": 13,
        "start_time": "2024-06-02T15:29:46.330Z"
      },
      {
        "duration": 41,
        "start_time": "2024-06-02T15:29:46.345Z"
      },
      {
        "duration": 23,
        "start_time": "2024-06-02T15:29:46.388Z"
      },
      {
        "duration": 19,
        "start_time": "2024-06-02T15:29:46.412Z"
      },
      {
        "duration": 328,
        "start_time": "2024-06-02T15:29:46.433Z"
      },
      {
        "duration": 217,
        "start_time": "2024-06-02T15:29:46.762Z"
      },
      {
        "duration": 384,
        "start_time": "2024-06-02T15:29:46.982Z"
      },
      {
        "duration": 333,
        "start_time": "2024-06-02T15:29:47.367Z"
      },
      {
        "duration": 26,
        "start_time": "2024-06-02T15:29:47.704Z"
      },
      {
        "duration": 55,
        "start_time": "2024-06-02T15:29:47.733Z"
      },
      {
        "duration": 17,
        "start_time": "2024-06-02T15:29:47.789Z"
      },
      {
        "duration": 6,
        "start_time": "2024-06-02T15:29:50.987Z"
      },
      {
        "duration": 16,
        "start_time": "2024-06-02T15:29:52.827Z"
      },
      {
        "duration": 4,
        "start_time": "2024-06-02T15:30:00.140Z"
      },
      {
        "duration": 19,
        "start_time": "2024-06-02T15:30:01.867Z"
      },
      {
        "duration": 108,
        "start_time": "2024-06-02T15:32:22.302Z"
      },
      {
        "duration": 6,
        "start_time": "2024-06-02T15:32:32.750Z"
      },
      {
        "duration": 18,
        "start_time": "2024-06-02T15:32:47.790Z"
      },
      {
        "duration": 6,
        "start_time": "2024-06-02T15:35:31.569Z"
      },
      {
        "duration": 19,
        "start_time": "2024-06-02T15:35:34.528Z"
      },
      {
        "duration": 5,
        "start_time": "2024-06-02T15:36:36.225Z"
      },
      {
        "duration": 15,
        "start_time": "2024-06-02T15:36:38.050Z"
      },
      {
        "duration": 1222,
        "start_time": "2024-06-02T15:38:23.340Z"
      },
      {
        "duration": 3,
        "start_time": "2024-06-02T15:38:24.564Z"
      },
      {
        "duration": 73,
        "start_time": "2024-06-02T15:38:24.569Z"
      },
      {
        "duration": 12,
        "start_time": "2024-06-02T15:38:24.643Z"
      },
      {
        "duration": 22,
        "start_time": "2024-06-02T15:38:24.657Z"
      },
      {
        "duration": 12,
        "start_time": "2024-06-02T15:38:24.681Z"
      },
      {
        "duration": 12,
        "start_time": "2024-06-02T15:38:24.696Z"
      },
      {
        "duration": 12,
        "start_time": "2024-06-02T15:38:24.710Z"
      },
      {
        "duration": 18,
        "start_time": "2024-06-02T15:38:24.723Z"
      },
      {
        "duration": 6,
        "start_time": "2024-06-02T15:38:24.742Z"
      },
      {
        "duration": 37,
        "start_time": "2024-06-02T15:38:24.750Z"
      },
      {
        "duration": 14,
        "start_time": "2024-06-02T15:38:24.790Z"
      },
      {
        "duration": 6,
        "start_time": "2024-06-02T15:38:24.806Z"
      },
      {
        "duration": 13,
        "start_time": "2024-06-02T15:38:24.814Z"
      },
      {
        "duration": 8,
        "start_time": "2024-06-02T15:38:24.828Z"
      },
      {
        "duration": 4,
        "start_time": "2024-06-02T15:38:24.838Z"
      },
      {
        "duration": 41,
        "start_time": "2024-06-02T15:38:24.843Z"
      },
      {
        "duration": 25,
        "start_time": "2024-06-02T15:38:24.886Z"
      },
      {
        "duration": 187,
        "start_time": "2024-06-02T15:38:24.912Z"
      },
      {
        "duration": 8,
        "start_time": "2024-06-02T15:38:25.100Z"
      },
      {
        "duration": 13,
        "start_time": "2024-06-02T15:38:25.109Z"
      },
      {
        "duration": 177,
        "start_time": "2024-06-02T15:38:25.123Z"
      },
      {
        "duration": 4,
        "start_time": "2024-06-02T15:38:25.302Z"
      },
      {
        "duration": 149,
        "start_time": "2024-06-02T15:38:25.307Z"
      },
      {
        "duration": 147,
        "start_time": "2024-06-02T15:38:25.458Z"
      },
      {
        "duration": 209,
        "start_time": "2024-06-02T15:38:25.606Z"
      },
      {
        "duration": 311,
        "start_time": "2024-06-02T15:38:25.816Z"
      },
      {
        "duration": 233,
        "start_time": "2024-06-02T15:38:26.129Z"
      },
      {
        "duration": 9,
        "start_time": "2024-06-02T15:38:26.364Z"
      },
      {
        "duration": 21,
        "start_time": "2024-06-02T15:38:26.375Z"
      },
      {
        "duration": 25,
        "start_time": "2024-06-02T15:38:26.398Z"
      },
      {
        "duration": 11,
        "start_time": "2024-06-02T15:38:26.424Z"
      },
      {
        "duration": 9,
        "start_time": "2024-06-02T15:38:26.437Z"
      },
      {
        "duration": 53,
        "start_time": "2024-06-02T15:38:26.447Z"
      },
      {
        "duration": 17,
        "start_time": "2024-06-02T15:38:26.502Z"
      },
      {
        "duration": 382,
        "start_time": "2024-06-02T15:38:26.521Z"
      },
      {
        "duration": 242,
        "start_time": "2024-06-02T15:38:26.905Z"
      },
      {
        "duration": 478,
        "start_time": "2024-06-02T15:38:27.149Z"
      },
      {
        "duration": 439,
        "start_time": "2024-06-02T15:38:27.629Z"
      },
      {
        "duration": 28,
        "start_time": "2024-06-02T15:38:28.070Z"
      },
      {
        "duration": 28,
        "start_time": "2024-06-02T15:38:28.105Z"
      },
      {
        "duration": 14,
        "start_time": "2024-06-02T15:38:28.135Z"
      },
      {
        "duration": 32,
        "start_time": "2024-06-02T15:38:28.151Z"
      },
      {
        "duration": 26,
        "start_time": "2024-06-02T15:38:28.186Z"
      },
      {
        "duration": 25,
        "start_time": "2024-06-02T15:38:28.214Z"
      },
      {
        "duration": 26,
        "start_time": "2024-06-02T15:38:28.241Z"
      },
      {
        "duration": 7,
        "start_time": "2024-06-02T15:38:28.269Z"
      },
      {
        "duration": 1060,
        "start_time": "2024-06-02T15:38:28.277Z"
      },
      {
        "duration": 0,
        "start_time": "2024-06-02T15:38:29.338Z"
      },
      {
        "duration": 0,
        "start_time": "2024-06-02T15:38:29.340Z"
      },
      {
        "duration": 0,
        "start_time": "2024-06-02T15:38:29.342Z"
      },
      {
        "duration": 0,
        "start_time": "2024-06-02T15:38:29.344Z"
      },
      {
        "duration": 0,
        "start_time": "2024-06-02T15:38:29.345Z"
      },
      {
        "duration": 0,
        "start_time": "2024-06-02T15:38:29.346Z"
      },
      {
        "duration": 0,
        "start_time": "2024-06-02T15:38:29.348Z"
      },
      {
        "duration": 0,
        "start_time": "2024-06-02T15:38:29.350Z"
      },
      {
        "duration": 0,
        "start_time": "2024-06-02T15:38:29.351Z"
      },
      {
        "duration": 0,
        "start_time": "2024-06-02T15:38:29.353Z"
      },
      {
        "duration": 0,
        "start_time": "2024-06-02T15:38:29.355Z"
      },
      {
        "duration": 0,
        "start_time": "2024-06-02T15:38:29.356Z"
      },
      {
        "duration": 0,
        "start_time": "2024-06-02T15:38:29.358Z"
      },
      {
        "duration": 0,
        "start_time": "2024-06-02T15:38:29.359Z"
      },
      {
        "duration": 19,
        "start_time": "2024-06-02T15:41:32.934Z"
      },
      {
        "duration": 19,
        "start_time": "2024-06-02T15:41:35.894Z"
      },
      {
        "duration": 6,
        "start_time": "2024-06-02T15:42:01.624Z"
      },
      {
        "duration": 6,
        "start_time": "2024-06-02T15:42:45.961Z"
      },
      {
        "duration": 12,
        "start_time": "2024-06-02T15:42:51.271Z"
      },
      {
        "duration": 12,
        "start_time": "2024-06-02T15:42:56.184Z"
      },
      {
        "duration": 8,
        "start_time": "2024-06-02T15:47:13.194Z"
      },
      {
        "duration": 6,
        "start_time": "2024-06-02T15:47:23.259Z"
      },
      {
        "duration": 7,
        "start_time": "2024-06-02T15:55:29.570Z"
      },
      {
        "duration": 11,
        "start_time": "2024-06-02T15:55:31.810Z"
      },
      {
        "duration": 26,
        "start_time": "2024-06-02T15:59:56.507Z"
      },
      {
        "duration": 10,
        "start_time": "2024-06-02T16:01:04.972Z"
      },
      {
        "duration": 4,
        "start_time": "2024-06-02T16:01:09.325Z"
      },
      {
        "duration": 19,
        "start_time": "2024-06-02T16:01:12.654Z"
      },
      {
        "duration": 15,
        "start_time": "2024-06-02T16:04:52.198Z"
      },
      {
        "duration": 15,
        "start_time": "2024-06-02T16:05:31.959Z"
      },
      {
        "duration": 16,
        "start_time": "2024-06-02T16:08:56.957Z"
      },
      {
        "duration": 101,
        "start_time": "2024-06-02T16:09:28.414Z"
      },
      {
        "duration": 13,
        "start_time": "2024-06-02T16:09:34.047Z"
      },
      {
        "duration": 27,
        "start_time": "2024-06-02T16:10:06.384Z"
      },
      {
        "duration": 5,
        "start_time": "2024-06-02T16:10:52.305Z"
      },
      {
        "duration": 6,
        "start_time": "2024-06-02T16:11:11.201Z"
      },
      {
        "duration": 5,
        "start_time": "2024-06-02T16:11:21.233Z"
      },
      {
        "duration": 5,
        "start_time": "2024-06-02T16:11:30.978Z"
      },
      {
        "duration": 7,
        "start_time": "2024-06-02T16:11:36.290Z"
      },
      {
        "duration": 7,
        "start_time": "2024-06-02T16:12:58.099Z"
      },
      {
        "duration": 7,
        "start_time": "2024-06-02T16:13:01.732Z"
      },
      {
        "duration": 15,
        "start_time": "2024-06-02T16:13:10.500Z"
      },
      {
        "duration": 862,
        "start_time": "2024-06-02T16:13:27.668Z"
      },
      {
        "duration": 7,
        "start_time": "2024-06-02T16:13:44.101Z"
      },
      {
        "duration": 869,
        "start_time": "2024-06-02T16:13:49.637Z"
      },
      {
        "duration": 8,
        "start_time": "2024-06-02T16:14:00.694Z"
      },
      {
        "duration": 10,
        "start_time": "2024-06-02T16:14:08.390Z"
      },
      {
        "duration": 10,
        "start_time": "2024-06-02T16:14:11.318Z"
      },
      {
        "duration": 12,
        "start_time": "2024-06-02T16:14:17.605Z"
      },
      {
        "duration": 841,
        "start_time": "2024-06-02T16:14:27.974Z"
      },
      {
        "duration": 9,
        "start_time": "2024-06-02T16:14:44.167Z"
      },
      {
        "duration": 7,
        "start_time": "2024-06-02T16:14:54.567Z"
      },
      {
        "duration": 10,
        "start_time": "2024-06-02T16:15:00.184Z"
      },
      {
        "duration": 6,
        "start_time": "2024-06-02T16:15:01.688Z"
      },
      {
        "duration": 8,
        "start_time": "2024-06-02T16:15:37.671Z"
      },
      {
        "duration": 13,
        "start_time": "2024-06-02T16:15:40.984Z"
      },
      {
        "duration": 62,
        "start_time": "2024-06-02T16:17:02.442Z"
      },
      {
        "duration": 885,
        "start_time": "2024-06-02T16:20:36.783Z"
      },
      {
        "duration": 1145,
        "start_time": "2024-06-02T16:20:49.958Z"
      },
      {
        "duration": 3,
        "start_time": "2024-06-02T16:20:51.105Z"
      },
      {
        "duration": 71,
        "start_time": "2024-06-02T16:20:51.109Z"
      },
      {
        "duration": 12,
        "start_time": "2024-06-02T16:20:51.182Z"
      },
      {
        "duration": 13,
        "start_time": "2024-06-02T16:20:51.196Z"
      },
      {
        "duration": 8,
        "start_time": "2024-06-02T16:20:51.210Z"
      },
      {
        "duration": 28,
        "start_time": "2024-06-02T16:20:51.220Z"
      },
      {
        "duration": 14,
        "start_time": "2024-06-02T16:20:51.249Z"
      },
      {
        "duration": 31,
        "start_time": "2024-06-02T16:20:51.264Z"
      },
      {
        "duration": 8,
        "start_time": "2024-06-02T16:20:51.297Z"
      },
      {
        "duration": 8,
        "start_time": "2024-06-02T16:20:51.308Z"
      },
      {
        "duration": 11,
        "start_time": "2024-06-02T16:20:51.317Z"
      },
      {
        "duration": 6,
        "start_time": "2024-06-02T16:20:51.329Z"
      },
      {
        "duration": 45,
        "start_time": "2024-06-02T16:20:51.339Z"
      },
      {
        "duration": 11,
        "start_time": "2024-06-02T16:20:51.386Z"
      },
      {
        "duration": 5,
        "start_time": "2024-06-02T16:20:51.399Z"
      },
      {
        "duration": 15,
        "start_time": "2024-06-02T16:20:51.405Z"
      },
      {
        "duration": 23,
        "start_time": "2024-06-02T16:20:51.421Z"
      },
      {
        "duration": 183,
        "start_time": "2024-06-02T16:20:51.446Z"
      },
      {
        "duration": 8,
        "start_time": "2024-06-02T16:20:51.631Z"
      },
      {
        "duration": 30,
        "start_time": "2024-06-02T16:20:51.640Z"
      },
      {
        "duration": 156,
        "start_time": "2024-06-02T16:20:51.672Z"
      },
      {
        "duration": 5,
        "start_time": "2024-06-02T16:20:51.830Z"
      },
      {
        "duration": 149,
        "start_time": "2024-06-02T16:20:51.837Z"
      },
      {
        "duration": 125,
        "start_time": "2024-06-02T16:20:51.988Z"
      },
      {
        "duration": 190,
        "start_time": "2024-06-02T16:20:52.115Z"
      },
      {
        "duration": 250,
        "start_time": "2024-06-02T16:20:52.306Z"
      },
      {
        "duration": 219,
        "start_time": "2024-06-02T16:20:52.559Z"
      },
      {
        "duration": 9,
        "start_time": "2024-06-02T16:20:52.781Z"
      },
      {
        "duration": 9,
        "start_time": "2024-06-02T16:20:52.791Z"
      },
      {
        "duration": 17,
        "start_time": "2024-06-02T16:20:52.801Z"
      },
      {
        "duration": 11,
        "start_time": "2024-06-02T16:20:52.820Z"
      },
      {
        "duration": 9,
        "start_time": "2024-06-02T16:20:52.832Z"
      },
      {
        "duration": 56,
        "start_time": "2024-06-02T16:20:52.842Z"
      },
      {
        "duration": 18,
        "start_time": "2024-06-02T16:20:52.900Z"
      },
      {
        "duration": 348,
        "start_time": "2024-06-02T16:20:52.919Z"
      },
      {
        "duration": 214,
        "start_time": "2024-06-02T16:20:53.268Z"
      },
      {
        "duration": 339,
        "start_time": "2024-06-02T16:20:53.483Z"
      },
      {
        "duration": 322,
        "start_time": "2024-06-02T16:20:53.823Z"
      },
      {
        "duration": 20,
        "start_time": "2024-06-02T16:20:54.147Z"
      },
      {
        "duration": 23,
        "start_time": "2024-06-02T16:20:54.184Z"
      },
      {
        "duration": 13,
        "start_time": "2024-06-02T16:20:54.208Z"
      },
      {
        "duration": 6,
        "start_time": "2024-06-02T16:20:54.222Z"
      },
      {
        "duration": 14,
        "start_time": "2024-06-02T16:20:54.230Z"
      },
      {
        "duration": 15,
        "start_time": "2024-06-02T16:20:54.245Z"
      },
      {
        "duration": 22,
        "start_time": "2024-06-02T16:20:54.283Z"
      },
      {
        "duration": 18,
        "start_time": "2024-06-02T16:20:54.307Z"
      },
      {
        "duration": 4,
        "start_time": "2024-06-02T16:20:54.327Z"
      },
      {
        "duration": 4,
        "start_time": "2024-06-02T16:20:54.333Z"
      },
      {
        "duration": 109,
        "start_time": "2024-06-02T16:20:54.339Z"
      },
      {
        "duration": 5,
        "start_time": "2024-06-02T16:20:54.450Z"
      },
      {
        "duration": 10,
        "start_time": "2024-06-02T16:20:54.456Z"
      },
      {
        "duration": 17,
        "start_time": "2024-06-02T16:20:54.468Z"
      },
      {
        "duration": 3,
        "start_time": "2024-06-02T16:20:54.487Z"
      },
      {
        "duration": 1453,
        "start_time": "2024-06-02T16:20:54.491Z"
      },
      {
        "duration": 281,
        "start_time": "2024-06-02T16:20:55.946Z"
      },
      {
        "duration": 5,
        "start_time": "2024-06-02T16:20:56.228Z"
      },
      {
        "duration": 8,
        "start_time": "2024-06-02T16:20:56.234Z"
      },
      {
        "duration": 3149,
        "start_time": "2024-06-02T16:20:56.244Z"
      },
      {
        "duration": 4,
        "start_time": "2024-06-02T16:20:59.395Z"
      },
      {
        "duration": 913,
        "start_time": "2024-06-02T16:22:35.377Z"
      },
      {
        "duration": 4,
        "start_time": "2024-06-02T16:22:55.868Z"
      },
      {
        "duration": 27,
        "start_time": "2024-06-02T16:22:55.874Z"
      },
      {
        "duration": 71,
        "start_time": "2024-06-02T16:22:55.902Z"
      },
      {
        "duration": 10,
        "start_time": "2024-06-02T16:22:55.975Z"
      },
      {
        "duration": 46,
        "start_time": "2024-06-02T16:22:55.986Z"
      },
      {
        "duration": 18,
        "start_time": "2024-06-02T16:22:56.034Z"
      },
      {
        "duration": 11,
        "start_time": "2024-06-02T16:22:56.053Z"
      },
      {
        "duration": 11,
        "start_time": "2024-06-02T16:22:56.065Z"
      },
      {
        "duration": 13,
        "start_time": "2024-06-02T16:22:56.078Z"
      },
      {
        "duration": 5,
        "start_time": "2024-06-02T16:22:56.093Z"
      },
      {
        "duration": 6,
        "start_time": "2024-06-02T16:22:56.100Z"
      },
      {
        "duration": 12,
        "start_time": "2024-06-02T16:22:56.107Z"
      },
      {
        "duration": 5,
        "start_time": "2024-06-02T16:22:56.122Z"
      },
      {
        "duration": 5,
        "start_time": "2024-06-02T16:22:56.128Z"
      },
      {
        "duration": 14,
        "start_time": "2024-06-02T16:22:56.134Z"
      },
      {
        "duration": 36,
        "start_time": "2024-06-02T16:22:56.149Z"
      },
      {
        "duration": 25,
        "start_time": "2024-06-02T16:22:56.186Z"
      },
      {
        "duration": 22,
        "start_time": "2024-06-02T16:22:56.212Z"
      },
      {
        "duration": 137,
        "start_time": "2024-06-02T16:22:56.235Z"
      },
      {
        "duration": 9,
        "start_time": "2024-06-02T16:22:56.374Z"
      },
      {
        "duration": 7,
        "start_time": "2024-06-02T16:22:56.384Z"
      },
      {
        "duration": 168,
        "start_time": "2024-06-02T16:22:56.393Z"
      },
      {
        "duration": 5,
        "start_time": "2024-06-02T16:22:56.563Z"
      },
      {
        "duration": 391,
        "start_time": "2024-06-02T16:22:56.569Z"
      },
      {
        "duration": 134,
        "start_time": "2024-06-02T16:22:56.962Z"
      },
      {
        "duration": 200,
        "start_time": "2024-06-02T16:22:57.098Z"
      },
      {
        "duration": 233,
        "start_time": "2024-06-02T16:22:57.300Z"
      },
      {
        "duration": 211,
        "start_time": "2024-06-02T16:22:57.535Z"
      },
      {
        "duration": 10,
        "start_time": "2024-06-02T16:22:57.748Z"
      },
      {
        "duration": 28,
        "start_time": "2024-06-02T16:22:57.760Z"
      },
      {
        "duration": 24,
        "start_time": "2024-06-02T16:22:57.790Z"
      },
      {
        "duration": 12,
        "start_time": "2024-06-02T16:22:57.816Z"
      },
      {
        "duration": 9,
        "start_time": "2024-06-02T16:22:57.829Z"
      },
      {
        "duration": 21,
        "start_time": "2024-06-02T16:22:57.840Z"
      },
      {
        "duration": 37,
        "start_time": "2024-06-02T16:22:57.862Z"
      },
      {
        "duration": 240,
        "start_time": "2024-06-02T16:22:57.900Z"
      },
      {
        "duration": 218,
        "start_time": "2024-06-02T16:22:58.143Z"
      },
      {
        "duration": 363,
        "start_time": "2024-06-02T16:22:58.363Z"
      },
      {
        "duration": 386,
        "start_time": "2024-06-02T16:22:58.728Z"
      },
      {
        "duration": 17,
        "start_time": "2024-06-02T16:22:59.116Z"
      },
      {
        "duration": 24,
        "start_time": "2024-06-02T16:22:59.135Z"
      },
      {
        "duration": 12,
        "start_time": "2024-06-02T16:22:59.182Z"
      },
      {
        "duration": 7,
        "start_time": "2024-06-02T16:22:59.196Z"
      },
      {
        "duration": 13,
        "start_time": "2024-06-02T16:22:59.204Z"
      },
      {
        "duration": 5,
        "start_time": "2024-06-02T16:22:59.219Z"
      },
      {
        "duration": 14,
        "start_time": "2024-06-02T16:22:59.226Z"
      },
      {
        "duration": 43,
        "start_time": "2024-06-02T16:22:59.242Z"
      },
      {
        "duration": 8,
        "start_time": "2024-06-02T16:23:01.985Z"
      },
      {
        "duration": 7,
        "start_time": "2024-06-02T16:24:58.148Z"
      },
      {
        "duration": 4,
        "start_time": "2024-06-02T16:25:08.660Z"
      },
      {
        "duration": 1408,
        "start_time": "2024-06-03T09:37:43.725Z"
      },
      {
        "duration": 3,
        "start_time": "2024-06-03T09:37:45.135Z"
      },
      {
        "duration": 276,
        "start_time": "2024-06-03T09:37:45.139Z"
      },
      {
        "duration": 12,
        "start_time": "2024-06-03T09:37:45.417Z"
      },
      {
        "duration": 21,
        "start_time": "2024-06-03T09:37:45.430Z"
      },
      {
        "duration": 25,
        "start_time": "2024-06-03T09:37:45.453Z"
      },
      {
        "duration": 12,
        "start_time": "2024-06-03T09:37:45.480Z"
      },
      {
        "duration": 11,
        "start_time": "2024-06-03T09:37:45.493Z"
      },
      {
        "duration": 17,
        "start_time": "2024-06-03T09:37:45.506Z"
      },
      {
        "duration": 8,
        "start_time": "2024-06-03T09:37:45.525Z"
      },
      {
        "duration": 25,
        "start_time": "2024-06-03T09:37:45.534Z"
      },
      {
        "duration": 10,
        "start_time": "2024-06-03T09:37:45.561Z"
      },
      {
        "duration": 8,
        "start_time": "2024-06-03T09:37:45.573Z"
      },
      {
        "duration": 5,
        "start_time": "2024-06-03T09:37:45.583Z"
      },
      {
        "duration": 16,
        "start_time": "2024-06-03T09:37:45.589Z"
      },
      {
        "duration": 16,
        "start_time": "2024-06-03T09:37:45.606Z"
      },
      {
        "duration": 37,
        "start_time": "2024-06-03T09:37:45.623Z"
      },
      {
        "duration": 31,
        "start_time": "2024-06-03T09:37:45.661Z"
      },
      {
        "duration": 174,
        "start_time": "2024-06-03T09:37:45.694Z"
      },
      {
        "duration": 13,
        "start_time": "2024-06-03T09:37:45.872Z"
      },
      {
        "duration": 27,
        "start_time": "2024-06-03T09:37:45.887Z"
      },
      {
        "duration": 185,
        "start_time": "2024-06-03T09:37:45.916Z"
      },
      {
        "duration": 5,
        "start_time": "2024-06-03T09:37:46.104Z"
      },
      {
        "duration": 205,
        "start_time": "2024-06-03T09:37:46.110Z"
      },
      {
        "duration": 133,
        "start_time": "2024-06-03T09:37:46.317Z"
      },
      {
        "duration": 209,
        "start_time": "2024-06-03T09:37:46.452Z"
      },
      {
        "duration": 251,
        "start_time": "2024-06-03T09:37:46.663Z"
      },
      {
        "duration": 237,
        "start_time": "2024-06-03T09:37:46.919Z"
      },
      {
        "duration": 9,
        "start_time": "2024-06-03T09:37:47.158Z"
      },
      {
        "duration": 12,
        "start_time": "2024-06-03T09:37:47.169Z"
      },
      {
        "duration": 19,
        "start_time": "2024-06-03T09:37:47.182Z"
      },
      {
        "duration": 14,
        "start_time": "2024-06-03T09:37:47.203Z"
      },
      {
        "duration": 48,
        "start_time": "2024-06-03T09:37:47.218Z"
      },
      {
        "duration": 23,
        "start_time": "2024-06-03T09:37:47.268Z"
      },
      {
        "duration": 21,
        "start_time": "2024-06-03T09:37:47.293Z"
      },
      {
        "duration": 268,
        "start_time": "2024-06-03T09:37:47.316Z"
      },
      {
        "duration": 320,
        "start_time": "2024-06-03T09:37:47.586Z"
      },
      {
        "duration": 382,
        "start_time": "2024-06-03T09:37:47.908Z"
      },
      {
        "duration": 327,
        "start_time": "2024-06-03T09:37:48.292Z"
      },
      {
        "duration": 25,
        "start_time": "2024-06-03T09:37:48.621Z"
      },
      {
        "duration": 25,
        "start_time": "2024-06-03T09:37:48.648Z"
      },
      {
        "duration": 13,
        "start_time": "2024-06-03T09:37:48.674Z"
      },
      {
        "duration": 19,
        "start_time": "2024-06-03T09:37:48.689Z"
      },
      {
        "duration": 43,
        "start_time": "2024-06-03T09:37:48.710Z"
      },
      {
        "duration": 15,
        "start_time": "2024-06-03T09:37:48.755Z"
      },
      {
        "duration": 33,
        "start_time": "2024-06-03T09:37:48.771Z"
      },
      {
        "duration": 11,
        "start_time": "2024-06-03T09:37:48.806Z"
      },
      {
        "duration": 18,
        "start_time": "2024-06-03T09:37:48.818Z"
      },
      {
        "duration": 23,
        "start_time": "2024-06-03T09:37:48.837Z"
      },
      {
        "duration": 106,
        "start_time": "2024-06-03T09:37:48.862Z"
      },
      {
        "duration": 4,
        "start_time": "2024-06-03T09:37:48.970Z"
      },
      {
        "duration": 31,
        "start_time": "2024-06-03T09:37:48.976Z"
      },
      {
        "duration": 15,
        "start_time": "2024-06-03T09:37:49.008Z"
      },
      {
        "duration": 5,
        "start_time": "2024-06-03T09:37:49.025Z"
      },
      {
        "duration": 1545,
        "start_time": "2024-06-03T09:37:49.031Z"
      },
      {
        "duration": 289,
        "start_time": "2024-06-03T09:37:50.577Z"
      },
      {
        "duration": 6,
        "start_time": "2024-06-03T09:37:50.868Z"
      },
      {
        "duration": 34,
        "start_time": "2024-06-03T09:37:50.875Z"
      },
      {
        "duration": 3245,
        "start_time": "2024-06-03T09:37:50.911Z"
      },
      {
        "duration": 4,
        "start_time": "2024-06-03T09:37:54.158Z"
      },
      {
        "duration": 10,
        "start_time": "2024-06-03T09:46:26.985Z"
      },
      {
        "duration": 1214,
        "start_time": "2024-06-03T09:48:03.130Z"
      },
      {
        "duration": 3,
        "start_time": "2024-06-03T09:48:04.347Z"
      },
      {
        "duration": 80,
        "start_time": "2024-06-03T09:48:04.351Z"
      },
      {
        "duration": 13,
        "start_time": "2024-06-03T09:48:04.433Z"
      },
      {
        "duration": 9,
        "start_time": "2024-06-03T09:48:04.448Z"
      },
      {
        "duration": 21,
        "start_time": "2024-06-03T09:48:04.459Z"
      },
      {
        "duration": 18,
        "start_time": "2024-06-03T09:48:04.482Z"
      },
      {
        "duration": 42,
        "start_time": "2024-06-03T09:48:04.502Z"
      },
      {
        "duration": 35,
        "start_time": "2024-06-03T09:48:04.546Z"
      },
      {
        "duration": 8,
        "start_time": "2024-06-03T09:48:04.583Z"
      },
      {
        "duration": 18,
        "start_time": "2024-06-03T09:48:04.593Z"
      },
      {
        "duration": 19,
        "start_time": "2024-06-03T09:48:04.613Z"
      },
      {
        "duration": 13,
        "start_time": "2024-06-03T09:48:04.634Z"
      },
      {
        "duration": 6,
        "start_time": "2024-06-03T09:48:04.651Z"
      },
      {
        "duration": 28,
        "start_time": "2024-06-03T09:48:04.659Z"
      },
      {
        "duration": 24,
        "start_time": "2024-06-03T09:48:04.689Z"
      },
      {
        "duration": 9,
        "start_time": "2024-06-03T09:48:04.715Z"
      },
      {
        "duration": 20,
        "start_time": "2024-06-03T09:48:04.726Z"
      },
      {
        "duration": 163,
        "start_time": "2024-06-03T09:48:04.747Z"
      },
      {
        "duration": 10,
        "start_time": "2024-06-03T09:48:04.912Z"
      },
      {
        "duration": 2,
        "start_time": "2024-06-03T09:48:04.923Z"
      },
      {
        "duration": 202,
        "start_time": "2024-06-03T09:48:04.927Z"
      },
      {
        "duration": 4,
        "start_time": "2024-06-03T09:48:05.131Z"
      },
      {
        "duration": 139,
        "start_time": "2024-06-03T09:48:05.145Z"
      },
      {
        "duration": 131,
        "start_time": "2024-06-03T09:48:05.286Z"
      },
      {
        "duration": 207,
        "start_time": "2024-06-03T09:48:05.420Z"
      },
      {
        "duration": 252,
        "start_time": "2024-06-03T09:48:05.629Z"
      },
      {
        "duration": 248,
        "start_time": "2024-06-03T09:48:05.883Z"
      },
      {
        "duration": 15,
        "start_time": "2024-06-03T09:48:06.134Z"
      },
      {
        "duration": 10,
        "start_time": "2024-06-03T09:48:06.151Z"
      },
      {
        "duration": 18,
        "start_time": "2024-06-03T09:48:06.163Z"
      },
      {
        "duration": 12,
        "start_time": "2024-06-03T09:48:06.183Z"
      },
      {
        "duration": 16,
        "start_time": "2024-06-03T09:48:06.197Z"
      },
      {
        "duration": 52,
        "start_time": "2024-06-03T09:48:06.215Z"
      },
      {
        "duration": 20,
        "start_time": "2024-06-03T09:48:06.268Z"
      },
      {
        "duration": 351,
        "start_time": "2024-06-03T09:48:06.289Z"
      },
      {
        "duration": 248,
        "start_time": "2024-06-03T09:48:06.642Z"
      },
      {
        "duration": 376,
        "start_time": "2024-06-03T09:48:06.892Z"
      },
      {
        "duration": 344,
        "start_time": "2024-06-03T09:48:07.269Z"
      },
      {
        "duration": 18,
        "start_time": "2024-06-03T09:48:07.615Z"
      },
      {
        "duration": 26,
        "start_time": "2024-06-03T09:48:07.648Z"
      },
      {
        "duration": 126,
        "start_time": "2024-06-03T09:48:07.676Z"
      },
      {
        "duration": 0,
        "start_time": "2024-06-03T09:48:07.804Z"
      },
      {
        "duration": 0,
        "start_time": "2024-06-03T09:48:07.805Z"
      },
      {
        "duration": 0,
        "start_time": "2024-06-03T09:48:07.806Z"
      },
      {
        "duration": 0,
        "start_time": "2024-06-03T09:48:07.808Z"
      },
      {
        "duration": 0,
        "start_time": "2024-06-03T09:48:07.808Z"
      },
      {
        "duration": 0,
        "start_time": "2024-06-03T09:48:07.810Z"
      },
      {
        "duration": 0,
        "start_time": "2024-06-03T09:48:07.811Z"
      },
      {
        "duration": 0,
        "start_time": "2024-06-03T09:48:07.812Z"
      },
      {
        "duration": 0,
        "start_time": "2024-06-03T09:48:07.813Z"
      },
      {
        "duration": 0,
        "start_time": "2024-06-03T09:48:07.814Z"
      },
      {
        "duration": 0,
        "start_time": "2024-06-03T09:48:07.816Z"
      },
      {
        "duration": 0,
        "start_time": "2024-06-03T09:48:07.817Z"
      },
      {
        "duration": 0,
        "start_time": "2024-06-03T09:48:07.818Z"
      },
      {
        "duration": 0,
        "start_time": "2024-06-03T09:48:07.818Z"
      },
      {
        "duration": 0,
        "start_time": "2024-06-03T09:48:07.846Z"
      },
      {
        "duration": 0,
        "start_time": "2024-06-03T09:48:07.847Z"
      },
      {
        "duration": 0,
        "start_time": "2024-06-03T09:48:07.848Z"
      },
      {
        "duration": 0,
        "start_time": "2024-06-03T09:48:07.850Z"
      },
      {
        "duration": 0,
        "start_time": "2024-06-03T09:48:07.851Z"
      },
      {
        "duration": 13,
        "start_time": "2024-06-03T09:48:45.153Z"
      },
      {
        "duration": 6,
        "start_time": "2024-06-03T09:48:46.581Z"
      },
      {
        "duration": 18,
        "start_time": "2024-06-03T09:48:47.276Z"
      },
      {
        "duration": 6,
        "start_time": "2024-06-03T09:48:48.676Z"
      },
      {
        "duration": 12,
        "start_time": "2024-06-03T09:48:51.013Z"
      },
      {
        "duration": 60,
        "start_time": "2024-06-03T09:49:39.364Z"
      },
      {
        "duration": 26,
        "start_time": "2024-06-03T09:49:57.405Z"
      },
      {
        "duration": 5,
        "start_time": "2024-06-03T09:50:03.253Z"
      },
      {
        "duration": 5,
        "start_time": "2024-06-03T09:50:05.949Z"
      },
      {
        "duration": 25,
        "start_time": "2024-06-03T09:50:10.030Z"
      },
      {
        "duration": 6,
        "start_time": "2024-06-03T09:50:13.156Z"
      },
      {
        "duration": 9,
        "start_time": "2024-06-03T09:50:14.917Z"
      },
      {
        "duration": 6,
        "start_time": "2024-06-03T09:51:22.944Z"
      },
      {
        "duration": 9,
        "start_time": "2024-06-03T09:51:22.952Z"
      },
      {
        "duration": 4,
        "start_time": "2024-06-03T09:51:22.963Z"
      },
      {
        "duration": 111,
        "start_time": "2024-06-03T09:51:22.968Z"
      },
      {
        "duration": 5,
        "start_time": "2024-06-03T09:51:23.081Z"
      },
      {
        "duration": 20,
        "start_time": "2024-06-03T09:51:23.087Z"
      },
      {
        "duration": 7,
        "start_time": "2024-06-03T09:51:23.109Z"
      },
      {
        "duration": 21,
        "start_time": "2024-06-03T09:51:23.117Z"
      },
      {
        "duration": 1518,
        "start_time": "2024-06-03T09:51:23.139Z"
      },
      {
        "duration": 280,
        "start_time": "2024-06-03T09:51:24.659Z"
      },
      {
        "duration": 6,
        "start_time": "2024-06-03T09:51:24.942Z"
      },
      {
        "duration": 17,
        "start_time": "2024-06-03T09:51:24.950Z"
      },
      {
        "duration": 3233,
        "start_time": "2024-06-03T09:51:24.969Z"
      },
      {
        "duration": 5,
        "start_time": "2024-06-03T09:51:28.204Z"
      },
      {
        "duration": 1172,
        "start_time": "2024-06-03T09:53:08.702Z"
      },
      {
        "duration": 3,
        "start_time": "2024-06-03T09:53:09.876Z"
      },
      {
        "duration": 75,
        "start_time": "2024-06-03T09:53:09.883Z"
      },
      {
        "duration": 12,
        "start_time": "2024-06-03T09:53:09.960Z"
      },
      {
        "duration": 8,
        "start_time": "2024-06-03T09:53:09.974Z"
      },
      {
        "duration": 20,
        "start_time": "2024-06-03T09:53:09.983Z"
      },
      {
        "duration": 30,
        "start_time": "2024-06-03T09:53:10.004Z"
      },
      {
        "duration": 30,
        "start_time": "2024-06-03T09:53:10.036Z"
      },
      {
        "duration": 32,
        "start_time": "2024-06-03T09:53:10.068Z"
      },
      {
        "duration": 6,
        "start_time": "2024-06-03T09:53:10.102Z"
      },
      {
        "duration": 20,
        "start_time": "2024-06-03T09:53:10.109Z"
      },
      {
        "duration": 13,
        "start_time": "2024-06-03T09:53:10.131Z"
      },
      {
        "duration": 16,
        "start_time": "2024-06-03T09:53:10.147Z"
      },
      {
        "duration": 5,
        "start_time": "2024-06-03T09:53:10.165Z"
      },
      {
        "duration": 14,
        "start_time": "2024-06-03T09:53:10.171Z"
      },
      {
        "duration": 4,
        "start_time": "2024-06-03T09:53:10.187Z"
      },
      {
        "duration": 18,
        "start_time": "2024-06-03T09:53:10.193Z"
      },
      {
        "duration": 15,
        "start_time": "2024-06-03T09:53:10.212Z"
      },
      {
        "duration": 165,
        "start_time": "2024-06-03T09:53:10.228Z"
      },
      {
        "duration": 10,
        "start_time": "2024-06-03T09:53:10.395Z"
      },
      {
        "duration": 5,
        "start_time": "2024-06-03T09:53:10.407Z"
      },
      {
        "duration": 189,
        "start_time": "2024-06-03T09:53:10.414Z"
      },
      {
        "duration": 5,
        "start_time": "2024-06-03T09:53:10.605Z"
      },
      {
        "duration": 177,
        "start_time": "2024-06-03T09:53:10.611Z"
      },
      {
        "duration": 132,
        "start_time": "2024-06-03T09:53:10.789Z"
      },
      {
        "duration": 200,
        "start_time": "2024-06-03T09:53:10.922Z"
      },
      {
        "duration": 254,
        "start_time": "2024-06-03T09:53:11.124Z"
      },
      {
        "duration": 226,
        "start_time": "2024-06-03T09:53:11.379Z"
      },
      {
        "duration": 10,
        "start_time": "2024-06-03T09:53:11.606Z"
      },
      {
        "duration": 9,
        "start_time": "2024-06-03T09:53:11.618Z"
      },
      {
        "duration": 34,
        "start_time": "2024-06-03T09:53:11.629Z"
      },
      {
        "duration": 14,
        "start_time": "2024-06-03T09:53:11.664Z"
      },
      {
        "duration": 11,
        "start_time": "2024-06-03T09:53:11.680Z"
      },
      {
        "duration": 23,
        "start_time": "2024-06-03T09:53:11.693Z"
      },
      {
        "duration": 48,
        "start_time": "2024-06-03T09:53:11.718Z"
      },
      {
        "duration": 349,
        "start_time": "2024-06-03T09:53:11.769Z"
      },
      {
        "duration": 242,
        "start_time": "2024-06-03T09:53:12.119Z"
      },
      {
        "duration": 385,
        "start_time": "2024-06-03T09:53:12.363Z"
      },
      {
        "duration": 343,
        "start_time": "2024-06-03T09:53:12.750Z"
      },
      {
        "duration": 20,
        "start_time": "2024-06-03T09:53:13.097Z"
      },
      {
        "duration": 40,
        "start_time": "2024-06-03T09:53:13.119Z"
      },
      {
        "duration": 120,
        "start_time": "2024-06-03T09:53:13.161Z"
      },
      {
        "duration": 0,
        "start_time": "2024-06-03T09:53:13.283Z"
      },
      {
        "duration": 0,
        "start_time": "2024-06-03T09:53:13.284Z"
      },
      {
        "duration": 0,
        "start_time": "2024-06-03T09:53:13.285Z"
      },
      {
        "duration": 0,
        "start_time": "2024-06-03T09:53:13.286Z"
      },
      {
        "duration": 0,
        "start_time": "2024-06-03T09:53:13.287Z"
      },
      {
        "duration": 0,
        "start_time": "2024-06-03T09:53:13.288Z"
      },
      {
        "duration": 0,
        "start_time": "2024-06-03T09:53:13.289Z"
      },
      {
        "duration": 0,
        "start_time": "2024-06-03T09:53:13.290Z"
      },
      {
        "duration": 0,
        "start_time": "2024-06-03T09:53:13.292Z"
      },
      {
        "duration": 0,
        "start_time": "2024-06-03T09:53:13.293Z"
      },
      {
        "duration": 0,
        "start_time": "2024-06-03T09:53:13.294Z"
      },
      {
        "duration": 0,
        "start_time": "2024-06-03T09:53:13.295Z"
      },
      {
        "duration": 0,
        "start_time": "2024-06-03T09:53:13.296Z"
      },
      {
        "duration": 0,
        "start_time": "2024-06-03T09:53:13.297Z"
      },
      {
        "duration": 0,
        "start_time": "2024-06-03T09:53:13.298Z"
      },
      {
        "duration": 0,
        "start_time": "2024-06-03T09:53:13.298Z"
      },
      {
        "duration": 0,
        "start_time": "2024-06-03T09:53:13.300Z"
      },
      {
        "duration": 0,
        "start_time": "2024-06-03T09:53:13.301Z"
      },
      {
        "duration": 0,
        "start_time": "2024-06-03T09:53:13.302Z"
      },
      {
        "duration": 1223,
        "start_time": "2024-06-03T09:53:28.305Z"
      },
      {
        "duration": 3,
        "start_time": "2024-06-03T09:53:29.530Z"
      },
      {
        "duration": 76,
        "start_time": "2024-06-03T09:53:29.534Z"
      },
      {
        "duration": 12,
        "start_time": "2024-06-03T09:53:29.611Z"
      },
      {
        "duration": 9,
        "start_time": "2024-06-03T09:53:29.624Z"
      },
      {
        "duration": 10,
        "start_time": "2024-06-03T09:53:29.634Z"
      },
      {
        "duration": 41,
        "start_time": "2024-06-03T09:53:29.646Z"
      },
      {
        "duration": 26,
        "start_time": "2024-06-03T09:53:29.689Z"
      },
      {
        "duration": 15,
        "start_time": "2024-06-03T09:53:29.716Z"
      },
      {
        "duration": 6,
        "start_time": "2024-06-03T09:53:29.734Z"
      },
      {
        "duration": 6,
        "start_time": "2024-06-03T09:53:29.741Z"
      },
      {
        "duration": 50,
        "start_time": "2024-06-03T09:53:29.748Z"
      },
      {
        "duration": 23,
        "start_time": "2024-06-03T09:53:29.800Z"
      },
      {
        "duration": 7,
        "start_time": "2024-06-03T09:53:29.824Z"
      },
      {
        "duration": 16,
        "start_time": "2024-06-03T09:53:29.833Z"
      },
      {
        "duration": 13,
        "start_time": "2024-06-03T09:53:29.851Z"
      },
      {
        "duration": 15,
        "start_time": "2024-06-03T09:53:29.866Z"
      },
      {
        "duration": 26,
        "start_time": "2024-06-03T09:53:29.883Z"
      },
      {
        "duration": 183,
        "start_time": "2024-06-03T09:53:29.912Z"
      },
      {
        "duration": 10,
        "start_time": "2024-06-03T09:53:30.097Z"
      },
      {
        "duration": 355,
        "start_time": "2024-06-03T09:53:30.108Z"
      },
      {
        "duration": 226,
        "start_time": "2024-06-03T09:53:30.465Z"
      },
      {
        "duration": 5,
        "start_time": "2024-06-03T09:53:30.693Z"
      },
      {
        "duration": 245,
        "start_time": "2024-06-03T09:53:30.699Z"
      },
      {
        "duration": 130,
        "start_time": "2024-06-03T09:53:30.945Z"
      },
      {
        "duration": 210,
        "start_time": "2024-06-03T09:53:31.076Z"
      },
      {
        "duration": 242,
        "start_time": "2024-06-03T09:53:31.288Z"
      },
      {
        "duration": 253,
        "start_time": "2024-06-03T09:53:31.534Z"
      },
      {
        "duration": 13,
        "start_time": "2024-06-03T09:53:31.790Z"
      },
      {
        "duration": 44,
        "start_time": "2024-06-03T09:53:31.805Z"
      },
      {
        "duration": 79,
        "start_time": "2024-06-03T09:53:31.851Z"
      },
      {
        "duration": 163,
        "start_time": "2024-06-03T09:53:31.932Z"
      },
      {
        "duration": 39,
        "start_time": "2024-06-03T09:53:32.097Z"
      },
      {
        "duration": 50,
        "start_time": "2024-06-03T09:53:32.138Z"
      },
      {
        "duration": 31,
        "start_time": "2024-06-03T09:53:32.191Z"
      },
      {
        "duration": 276,
        "start_time": "2024-06-03T09:53:32.224Z"
      },
      {
        "duration": 316,
        "start_time": "2024-06-03T09:53:32.503Z"
      },
      {
        "duration": 368,
        "start_time": "2024-06-03T09:53:32.821Z"
      },
      {
        "duration": 325,
        "start_time": "2024-06-03T09:53:33.191Z"
      },
      {
        "duration": 29,
        "start_time": "2024-06-03T09:53:33.519Z"
      },
      {
        "duration": 30,
        "start_time": "2024-06-03T09:53:33.550Z"
      },
      {
        "duration": 17,
        "start_time": "2024-06-03T09:53:33.582Z"
      },
      {
        "duration": 14,
        "start_time": "2024-06-03T09:53:33.601Z"
      },
      {
        "duration": 33,
        "start_time": "2024-06-03T09:53:33.616Z"
      },
      {
        "duration": 8,
        "start_time": "2024-06-03T09:53:33.651Z"
      },
      {
        "duration": 17,
        "start_time": "2024-06-03T09:53:33.661Z"
      },
      {
        "duration": 33,
        "start_time": "2024-06-03T09:53:33.681Z"
      },
      {
        "duration": 10,
        "start_time": "2024-06-03T09:53:33.716Z"
      },
      {
        "duration": 86,
        "start_time": "2024-06-03T09:53:33.728Z"
      },
      {
        "duration": 32,
        "start_time": "2024-06-03T09:53:33.816Z"
      },
      {
        "duration": 157,
        "start_time": "2024-06-03T09:53:33.850Z"
      },
      {
        "duration": 5,
        "start_time": "2024-06-03T09:53:34.009Z"
      },
      {
        "duration": 15,
        "start_time": "2024-06-03T09:53:34.016Z"
      },
      {
        "duration": 18,
        "start_time": "2024-06-03T09:53:34.033Z"
      },
      {
        "duration": 10,
        "start_time": "2024-06-03T09:53:34.052Z"
      },
      {
        "duration": 1788,
        "start_time": "2024-06-03T09:53:34.064Z"
      },
      {
        "duration": 287,
        "start_time": "2024-06-03T09:53:35.854Z"
      },
      {
        "duration": 4,
        "start_time": "2024-06-03T09:53:36.143Z"
      },
      {
        "duration": 16,
        "start_time": "2024-06-03T09:53:36.149Z"
      },
      {
        "duration": 3298,
        "start_time": "2024-06-03T09:53:36.166Z"
      },
      {
        "duration": 5,
        "start_time": "2024-06-03T09:53:39.465Z"
      },
      {
        "duration": 103,
        "start_time": "2024-06-03T09:56:28.717Z"
      },
      {
        "duration": 4,
        "start_time": "2024-06-03T09:56:35.857Z"
      },
      {
        "duration": 27,
        "start_time": "2024-06-03T09:56:45.672Z"
      },
      {
        "duration": 6,
        "start_time": "2024-06-03T09:56:49.520Z"
      },
      {
        "duration": 11,
        "start_time": "2024-06-03T09:56:50.745Z"
      },
      {
        "duration": 26,
        "start_time": "2024-06-03T09:58:29.878Z"
      },
      {
        "duration": 6,
        "start_time": "2024-06-03T09:58:32.201Z"
      },
      {
        "duration": 24,
        "start_time": "2024-06-03T09:58:37.129Z"
      },
      {
        "duration": 5,
        "start_time": "2024-06-03T09:58:39.955Z"
      },
      {
        "duration": 6,
        "start_time": "2024-06-03T09:58:42.417Z"
      },
      {
        "duration": 10,
        "start_time": "2024-06-03T09:58:43.089Z"
      },
      {
        "duration": 1155,
        "start_time": "2024-06-03T10:30:43.182Z"
      },
      {
        "duration": 3,
        "start_time": "2024-06-03T10:30:44.339Z"
      },
      {
        "duration": 77,
        "start_time": "2024-06-03T10:30:44.346Z"
      },
      {
        "duration": 12,
        "start_time": "2024-06-03T10:30:44.425Z"
      },
      {
        "duration": 9,
        "start_time": "2024-06-03T10:30:44.440Z"
      },
      {
        "duration": 19,
        "start_time": "2024-06-03T10:30:44.451Z"
      },
      {
        "duration": 12,
        "start_time": "2024-06-03T10:30:44.471Z"
      },
      {
        "duration": 23,
        "start_time": "2024-06-03T10:30:44.485Z"
      },
      {
        "duration": 25,
        "start_time": "2024-06-03T10:30:44.509Z"
      },
      {
        "duration": 7,
        "start_time": "2024-06-03T10:30:44.536Z"
      },
      {
        "duration": 19,
        "start_time": "2024-06-03T10:30:44.546Z"
      },
      {
        "duration": 18,
        "start_time": "2024-06-03T10:30:44.567Z"
      },
      {
        "duration": 6,
        "start_time": "2024-06-03T10:30:44.587Z"
      },
      {
        "duration": 7,
        "start_time": "2024-06-03T10:30:44.596Z"
      },
      {
        "duration": 9,
        "start_time": "2024-06-03T10:30:44.604Z"
      },
      {
        "duration": 6,
        "start_time": "2024-06-03T10:30:44.615Z"
      },
      {
        "duration": 37,
        "start_time": "2024-06-03T10:30:44.623Z"
      },
      {
        "duration": 23,
        "start_time": "2024-06-03T10:30:44.661Z"
      },
      {
        "duration": 153,
        "start_time": "2024-06-03T10:30:44.685Z"
      },
      {
        "duration": 8,
        "start_time": "2024-06-03T10:30:44.845Z"
      },
      {
        "duration": 4,
        "start_time": "2024-06-03T10:30:44.855Z"
      },
      {
        "duration": 178,
        "start_time": "2024-06-03T10:30:44.860Z"
      },
      {
        "duration": 5,
        "start_time": "2024-06-03T10:30:45.045Z"
      },
      {
        "duration": 156,
        "start_time": "2024-06-03T10:30:45.051Z"
      },
      {
        "duration": 127,
        "start_time": "2024-06-03T10:30:45.208Z"
      },
      {
        "duration": 205,
        "start_time": "2024-06-03T10:30:45.336Z"
      },
      {
        "duration": 253,
        "start_time": "2024-06-03T10:30:45.545Z"
      },
      {
        "duration": 247,
        "start_time": "2024-06-03T10:30:45.799Z"
      },
      {
        "duration": 10,
        "start_time": "2024-06-03T10:30:46.047Z"
      },
      {
        "duration": 12,
        "start_time": "2024-06-03T10:30:46.059Z"
      },
      {
        "duration": 22,
        "start_time": "2024-06-03T10:30:46.073Z"
      },
      {
        "duration": 12,
        "start_time": "2024-06-03T10:30:46.097Z"
      },
      {
        "duration": 35,
        "start_time": "2024-06-03T10:30:46.110Z"
      },
      {
        "duration": 25,
        "start_time": "2024-06-03T10:30:46.147Z"
      },
      {
        "duration": 19,
        "start_time": "2024-06-03T10:30:46.174Z"
      },
      {
        "duration": 336,
        "start_time": "2024-06-03T10:30:46.194Z"
      },
      {
        "duration": 242,
        "start_time": "2024-06-03T10:30:46.532Z"
      },
      {
        "duration": 371,
        "start_time": "2024-06-03T10:30:46.775Z"
      },
      {
        "duration": 327,
        "start_time": "2024-06-03T10:30:47.147Z"
      },
      {
        "duration": 17,
        "start_time": "2024-06-03T10:30:47.475Z"
      },
      {
        "duration": 24,
        "start_time": "2024-06-03T10:30:47.496Z"
      },
      {
        "duration": 33,
        "start_time": "2024-06-03T10:30:47.522Z"
      },
      {
        "duration": 20,
        "start_time": "2024-06-03T10:30:47.557Z"
      },
      {
        "duration": 18,
        "start_time": "2024-06-03T10:30:47.578Z"
      },
      {
        "duration": 13,
        "start_time": "2024-06-03T10:30:47.598Z"
      },
      {
        "duration": 20,
        "start_time": "2024-06-03T10:30:47.613Z"
      },
      {
        "duration": 16,
        "start_time": "2024-06-03T10:30:47.635Z"
      },
      {
        "duration": 11,
        "start_time": "2024-06-03T10:30:47.653Z"
      },
      {
        "duration": 14,
        "start_time": "2024-06-03T10:30:47.666Z"
      },
      {
        "duration": 95,
        "start_time": "2024-06-03T10:30:47.682Z"
      },
      {
        "duration": 5,
        "start_time": "2024-06-03T10:30:47.779Z"
      },
      {
        "duration": 16,
        "start_time": "2024-06-03T10:30:47.786Z"
      },
      {
        "duration": 9,
        "start_time": "2024-06-03T10:30:47.804Z"
      },
      {
        "duration": 4,
        "start_time": "2024-06-03T10:30:47.814Z"
      },
      {
        "duration": 1645,
        "start_time": "2024-06-03T10:30:47.819Z"
      },
      {
        "duration": 291,
        "start_time": "2024-06-03T10:30:49.466Z"
      },
      {
        "duration": 5,
        "start_time": "2024-06-03T10:30:49.759Z"
      },
      {
        "duration": 20,
        "start_time": "2024-06-03T10:30:49.765Z"
      },
      {
        "duration": 3294,
        "start_time": "2024-06-03T10:30:49.787Z"
      },
      {
        "duration": 5,
        "start_time": "2024-06-03T10:30:53.082Z"
      },
      {
        "duration": 1251,
        "start_time": "2024-06-03T13:47:25.397Z"
      },
      {
        "duration": 3,
        "start_time": "2024-06-03T13:47:26.650Z"
      },
      {
        "duration": 573,
        "start_time": "2024-06-03T13:47:26.654Z"
      },
      {
        "duration": 11,
        "start_time": "2024-06-03T13:47:27.229Z"
      },
      {
        "duration": 7,
        "start_time": "2024-06-03T13:47:27.242Z"
      },
      {
        "duration": 7,
        "start_time": "2024-06-03T13:47:27.251Z"
      },
      {
        "duration": 10,
        "start_time": "2024-06-03T13:47:27.259Z"
      },
      {
        "duration": 11,
        "start_time": "2024-06-03T13:47:27.270Z"
      },
      {
        "duration": 18,
        "start_time": "2024-06-03T13:47:27.282Z"
      },
      {
        "duration": 6,
        "start_time": "2024-06-03T13:47:27.302Z"
      },
      {
        "duration": 5,
        "start_time": "2024-06-03T13:47:27.310Z"
      },
      {
        "duration": 11,
        "start_time": "2024-06-03T13:47:27.316Z"
      },
      {
        "duration": 5,
        "start_time": "2024-06-03T13:47:27.329Z"
      },
      {
        "duration": 9,
        "start_time": "2024-06-03T13:47:27.335Z"
      },
      {
        "duration": 17,
        "start_time": "2024-06-03T13:47:27.346Z"
      },
      {
        "duration": 4,
        "start_time": "2024-06-03T13:47:27.365Z"
      },
      {
        "duration": 5,
        "start_time": "2024-06-03T13:47:27.400Z"
      },
      {
        "duration": 14,
        "start_time": "2024-06-03T13:47:27.407Z"
      },
      {
        "duration": 158,
        "start_time": "2024-06-03T13:47:27.422Z"
      },
      {
        "duration": 16,
        "start_time": "2024-06-03T13:47:30.913Z"
      },
      {
        "duration": 13,
        "start_time": "2024-06-03T13:47:44.778Z"
      },
      {
        "duration": 97,
        "start_time": "2024-06-03T13:49:49.748Z"
      },
      {
        "duration": 3,
        "start_time": "2024-06-03T13:49:54.063Z"
      },
      {
        "duration": 5,
        "start_time": "2024-06-03T13:49:54.068Z"
      },
      {
        "duration": 67,
        "start_time": "2024-06-03T13:49:54.074Z"
      },
      {
        "duration": 8,
        "start_time": "2024-06-03T13:49:54.142Z"
      },
      {
        "duration": 7,
        "start_time": "2024-06-03T13:49:54.151Z"
      },
      {
        "duration": 15,
        "start_time": "2024-06-03T13:49:54.160Z"
      },
      {
        "duration": 9,
        "start_time": "2024-06-03T13:49:54.177Z"
      },
      {
        "duration": 12,
        "start_time": "2024-06-03T13:49:54.187Z"
      },
      {
        "duration": 13,
        "start_time": "2024-06-03T13:49:54.200Z"
      },
      {
        "duration": 9,
        "start_time": "2024-06-03T13:49:54.214Z"
      },
      {
        "duration": 6,
        "start_time": "2024-06-03T13:49:54.225Z"
      },
      {
        "duration": 16,
        "start_time": "2024-06-03T13:49:54.233Z"
      },
      {
        "duration": 10,
        "start_time": "2024-06-03T13:49:54.250Z"
      },
      {
        "duration": 14,
        "start_time": "2024-06-03T13:49:54.261Z"
      },
      {
        "duration": 25,
        "start_time": "2024-06-03T13:49:54.276Z"
      },
      {
        "duration": 4,
        "start_time": "2024-06-03T13:49:54.302Z"
      },
      {
        "duration": 11,
        "start_time": "2024-06-03T13:49:54.307Z"
      },
      {
        "duration": 13,
        "start_time": "2024-06-03T13:49:54.319Z"
      },
      {
        "duration": 138,
        "start_time": "2024-06-03T13:49:54.334Z"
      },
      {
        "duration": 8,
        "start_time": "2024-06-03T13:49:54.474Z"
      },
      {
        "duration": 17,
        "start_time": "2024-06-03T13:49:54.484Z"
      },
      {
        "duration": 142,
        "start_time": "2024-06-03T13:49:54.503Z"
      },
      {
        "duration": 4,
        "start_time": "2024-06-03T13:49:54.647Z"
      },
      {
        "duration": 136,
        "start_time": "2024-06-03T13:49:54.652Z"
      },
      {
        "duration": 117,
        "start_time": "2024-06-03T13:49:54.790Z"
      },
      {
        "duration": 181,
        "start_time": "2024-06-03T13:49:54.909Z"
      },
      {
        "duration": 221,
        "start_time": "2024-06-03T13:49:55.092Z"
      },
      {
        "duration": 204,
        "start_time": "2024-06-03T13:49:55.315Z"
      },
      {
        "duration": 9,
        "start_time": "2024-06-03T13:49:55.524Z"
      },
      {
        "duration": 9,
        "start_time": "2024-06-03T13:49:55.534Z"
      },
      {
        "duration": 104,
        "start_time": "2024-06-03T13:49:55.545Z"
      },
      {
        "duration": 11,
        "start_time": "2024-06-03T13:49:55.651Z"
      },
      {
        "duration": 9,
        "start_time": "2024-06-03T13:49:55.663Z"
      },
      {
        "duration": 50,
        "start_time": "2024-06-03T13:49:55.673Z"
      },
      {
        "duration": 19,
        "start_time": "2024-06-03T13:49:55.725Z"
      },
      {
        "duration": 248,
        "start_time": "2024-06-03T13:49:55.746Z"
      },
      {
        "duration": 187,
        "start_time": "2024-06-03T13:49:55.996Z"
      },
      {
        "duration": 316,
        "start_time": "2024-06-03T13:49:56.184Z"
      },
      {
        "duration": 283,
        "start_time": "2024-06-03T13:49:56.501Z"
      },
      {
        "duration": 21,
        "start_time": "2024-06-03T13:49:56.785Z"
      },
      {
        "duration": 23,
        "start_time": "2024-06-03T13:49:56.808Z"
      },
      {
        "duration": 11,
        "start_time": "2024-06-03T13:49:56.832Z"
      },
      {
        "duration": 4,
        "start_time": "2024-06-03T13:49:56.845Z"
      },
      {
        "duration": 14,
        "start_time": "2024-06-03T13:49:56.850Z"
      },
      {
        "duration": 5,
        "start_time": "2024-06-03T13:49:56.865Z"
      },
      {
        "duration": 13,
        "start_time": "2024-06-03T13:49:56.900Z"
      },
      {
        "duration": 5,
        "start_time": "2024-06-03T13:49:56.914Z"
      },
      {
        "duration": 7,
        "start_time": "2024-06-03T13:49:56.920Z"
      },
      {
        "duration": 13,
        "start_time": "2024-06-03T13:49:56.928Z"
      },
      {
        "duration": 98,
        "start_time": "2024-06-03T13:49:56.943Z"
      },
      {
        "duration": 4,
        "start_time": "2024-06-03T13:49:57.043Z"
      },
      {
        "duration": 9,
        "start_time": "2024-06-03T13:49:57.048Z"
      },
      {
        "duration": 7,
        "start_time": "2024-06-03T13:49:57.059Z"
      },
      {
        "duration": 2,
        "start_time": "2024-06-03T13:49:57.068Z"
      },
      {
        "duration": 1303,
        "start_time": "2024-06-03T13:49:57.071Z"
      },
      {
        "duration": 239,
        "start_time": "2024-06-03T13:49:58.376Z"
      },
      {
        "duration": 4,
        "start_time": "2024-06-03T13:49:58.616Z"
      },
      {
        "duration": 5,
        "start_time": "2024-06-03T13:49:58.621Z"
      },
      {
        "duration": 2787,
        "start_time": "2024-06-03T13:49:58.627Z"
      },
      {
        "duration": 4,
        "start_time": "2024-06-03T13:50:01.415Z"
      },
      {
        "duration": 130,
        "start_time": "2024-06-03T13:50:15.924Z"
      },
      {
        "duration": 4,
        "start_time": "2024-06-03T13:52:01.869Z"
      },
      {
        "duration": 13,
        "start_time": "2024-06-03T13:53:41.098Z"
      },
      {
        "duration": 2209,
        "start_time": "2024-06-03T13:54:27.265Z"
      },
      {
        "duration": 13,
        "start_time": "2024-06-03T13:54:32.317Z"
      },
      {
        "duration": 1034,
        "start_time": "2024-06-03T13:54:50.099Z"
      },
      {
        "duration": 3,
        "start_time": "2024-06-03T13:54:51.134Z"
      },
      {
        "duration": 70,
        "start_time": "2024-06-03T13:54:51.138Z"
      },
      {
        "duration": 11,
        "start_time": "2024-06-03T13:54:51.210Z"
      },
      {
        "duration": 20,
        "start_time": "2024-06-03T13:54:51.223Z"
      },
      {
        "duration": 14,
        "start_time": "2024-06-03T13:54:51.244Z"
      },
      {
        "duration": 25,
        "start_time": "2024-06-03T13:54:51.259Z"
      },
      {
        "duration": 13,
        "start_time": "2024-06-03T13:54:51.285Z"
      },
      {
        "duration": 12,
        "start_time": "2024-06-03T13:54:51.299Z"
      },
      {
        "duration": 8,
        "start_time": "2024-06-03T13:54:51.313Z"
      },
      {
        "duration": 5,
        "start_time": "2024-06-03T13:54:51.323Z"
      },
      {
        "duration": 12,
        "start_time": "2024-06-03T13:54:51.330Z"
      },
      {
        "duration": 6,
        "start_time": "2024-06-03T13:54:51.345Z"
      },
      {
        "duration": 4,
        "start_time": "2024-06-03T13:54:51.352Z"
      },
      {
        "duration": 8,
        "start_time": "2024-06-03T13:54:51.357Z"
      },
      {
        "duration": 5,
        "start_time": "2024-06-03T13:54:51.400Z"
      },
      {
        "duration": 13,
        "start_time": "2024-06-03T13:54:51.406Z"
      },
      {
        "duration": 19,
        "start_time": "2024-06-03T13:54:51.420Z"
      },
      {
        "duration": 146,
        "start_time": "2024-06-03T13:54:51.441Z"
      },
      {
        "duration": 17,
        "start_time": "2024-06-03T13:54:51.589Z"
      },
      {
        "duration": 10,
        "start_time": "2024-06-03T13:54:51.607Z"
      },
      {
        "duration": 160,
        "start_time": "2024-06-03T13:54:51.619Z"
      },
      {
        "duration": 3,
        "start_time": "2024-06-03T13:54:51.781Z"
      },
      {
        "duration": 135,
        "start_time": "2024-06-03T13:54:51.786Z"
      },
      {
        "duration": 118,
        "start_time": "2024-06-03T13:54:51.922Z"
      },
      {
        "duration": 182,
        "start_time": "2024-06-03T13:54:52.041Z"
      },
      {
        "duration": 210,
        "start_time": "2024-06-03T13:54:52.225Z"
      },
      {
        "duration": 208,
        "start_time": "2024-06-03T13:54:52.436Z"
      },
      {
        "duration": 8,
        "start_time": "2024-06-03T13:54:52.646Z"
      },
      {
        "duration": 11,
        "start_time": "2024-06-03T13:54:52.655Z"
      },
      {
        "duration": 32,
        "start_time": "2024-06-03T13:54:52.668Z"
      },
      {
        "duration": 11,
        "start_time": "2024-06-03T13:54:52.702Z"
      },
      {
        "duration": 12,
        "start_time": "2024-06-03T13:54:52.715Z"
      },
      {
        "duration": 19,
        "start_time": "2024-06-03T13:54:52.729Z"
      },
      {
        "duration": 17,
        "start_time": "2024-06-03T13:54:52.749Z"
      },
      {
        "duration": 309,
        "start_time": "2024-06-03T13:54:52.767Z"
      },
      {
        "duration": 197,
        "start_time": "2024-06-03T13:54:53.078Z"
      },
      {
        "duration": 314,
        "start_time": "2024-06-03T13:54:53.276Z"
      },
      {
        "duration": 279,
        "start_time": "2024-06-03T13:54:53.591Z"
      },
      {
        "duration": 27,
        "start_time": "2024-06-03T13:54:53.874Z"
      },
      {
        "duration": 1829,
        "start_time": "2024-06-03T13:54:53.903Z"
      },
      {
        "duration": 14,
        "start_time": "2024-06-03T13:54:55.733Z"
      },
      {
        "duration": 7,
        "start_time": "2024-06-03T13:54:55.748Z"
      },
      {
        "duration": 15,
        "start_time": "2024-06-03T13:54:55.757Z"
      },
      {
        "duration": 4,
        "start_time": "2024-06-03T13:54:55.774Z"
      },
      {
        "duration": 18,
        "start_time": "2024-06-03T13:54:55.800Z"
      },
      {
        "duration": 5,
        "start_time": "2024-06-03T13:54:55.819Z"
      },
      {
        "duration": 5,
        "start_time": "2024-06-03T13:54:55.826Z"
      },
      {
        "duration": 4,
        "start_time": "2024-06-03T13:54:55.832Z"
      },
      {
        "duration": 167,
        "start_time": "2024-06-03T13:54:55.837Z"
      },
      {
        "duration": 4,
        "start_time": "2024-06-03T13:54:56.005Z"
      },
      {
        "duration": 7,
        "start_time": "2024-06-03T13:54:56.010Z"
      },
      {
        "duration": 7,
        "start_time": "2024-06-03T13:54:56.018Z"
      },
      {
        "duration": 2,
        "start_time": "2024-06-03T13:54:56.027Z"
      },
      {
        "duration": 1375,
        "start_time": "2024-06-03T13:54:56.030Z"
      },
      {
        "duration": 239,
        "start_time": "2024-06-03T13:54:57.406Z"
      },
      {
        "duration": 4,
        "start_time": "2024-06-03T13:54:57.646Z"
      },
      {
        "duration": 4,
        "start_time": "2024-06-03T13:54:57.651Z"
      },
      {
        "duration": 2772,
        "start_time": "2024-06-03T13:54:57.657Z"
      },
      {
        "duration": 4,
        "start_time": "2024-06-03T13:55:00.431Z"
      },
      {
        "duration": 1144,
        "start_time": "2024-06-03T13:58:55.541Z"
      },
      {
        "duration": 1078,
        "start_time": "2024-06-03T13:59:08.914Z"
      },
      {
        "duration": 3,
        "start_time": "2024-06-03T13:59:09.994Z"
      },
      {
        "duration": 71,
        "start_time": "2024-06-03T13:59:09.999Z"
      },
      {
        "duration": 13,
        "start_time": "2024-06-03T13:59:10.072Z"
      },
      {
        "duration": 8,
        "start_time": "2024-06-03T13:59:10.086Z"
      },
      {
        "duration": 14,
        "start_time": "2024-06-03T13:59:10.096Z"
      },
      {
        "duration": 16,
        "start_time": "2024-06-03T13:59:10.111Z"
      },
      {
        "duration": 12,
        "start_time": "2024-06-03T13:59:10.128Z"
      },
      {
        "duration": 13,
        "start_time": "2024-06-03T13:59:10.141Z"
      },
      {
        "duration": 5,
        "start_time": "2024-06-03T13:59:10.156Z"
      },
      {
        "duration": 8,
        "start_time": "2024-06-03T13:59:10.163Z"
      },
      {
        "duration": 27,
        "start_time": "2024-06-03T13:59:10.173Z"
      },
      {
        "duration": 6,
        "start_time": "2024-06-03T13:59:10.202Z"
      },
      {
        "duration": 5,
        "start_time": "2024-06-03T13:59:10.209Z"
      },
      {
        "duration": 7,
        "start_time": "2024-06-03T13:59:10.216Z"
      },
      {
        "duration": 4,
        "start_time": "2024-06-03T13:59:10.225Z"
      },
      {
        "duration": 14,
        "start_time": "2024-06-03T13:59:10.230Z"
      },
      {
        "duration": 13,
        "start_time": "2024-06-03T13:59:10.245Z"
      },
      {
        "duration": 179,
        "start_time": "2024-06-03T13:59:10.260Z"
      },
      {
        "duration": 10,
        "start_time": "2024-06-03T13:59:10.440Z"
      },
      {
        "duration": 4,
        "start_time": "2024-06-03T13:59:10.452Z"
      },
      {
        "duration": 170,
        "start_time": "2024-06-03T13:59:10.458Z"
      },
      {
        "duration": 4,
        "start_time": "2024-06-03T13:59:10.630Z"
      },
      {
        "duration": 146,
        "start_time": "2024-06-03T13:59:10.636Z"
      },
      {
        "duration": 125,
        "start_time": "2024-06-03T13:59:10.783Z"
      },
      {
        "duration": 186,
        "start_time": "2024-06-03T13:59:10.909Z"
      },
      {
        "duration": 214,
        "start_time": "2024-06-03T13:59:11.099Z"
      },
      {
        "duration": 227,
        "start_time": "2024-06-03T13:59:11.318Z"
      },
      {
        "duration": 9,
        "start_time": "2024-06-03T13:59:11.546Z"
      },
      {
        "duration": 19,
        "start_time": "2024-06-03T13:59:11.556Z"
      },
      {
        "duration": 24,
        "start_time": "2024-06-03T13:59:11.576Z"
      },
      {
        "duration": 12,
        "start_time": "2024-06-03T13:59:11.602Z"
      },
      {
        "duration": 8,
        "start_time": "2024-06-03T13:59:11.616Z"
      },
      {
        "duration": 30,
        "start_time": "2024-06-03T13:59:11.626Z"
      },
      {
        "duration": 19,
        "start_time": "2024-06-03T13:59:11.658Z"
      },
      {
        "duration": 217,
        "start_time": "2024-06-03T13:59:11.700Z"
      },
      {
        "duration": 271,
        "start_time": "2024-06-03T13:59:11.919Z"
      },
      {
        "duration": 335,
        "start_time": "2024-06-03T13:59:12.191Z"
      },
      {
        "duration": 308,
        "start_time": "2024-06-03T13:59:12.528Z"
      },
      {
        "duration": 19,
        "start_time": "2024-06-03T13:59:12.837Z"
      },
      {
        "duration": 1865,
        "start_time": "2024-06-03T13:59:12.857Z"
      },
      {
        "duration": 15,
        "start_time": "2024-06-03T13:59:14.723Z"
      },
      {
        "duration": 4,
        "start_time": "2024-06-03T13:59:14.739Z"
      },
      {
        "duration": 20,
        "start_time": "2024-06-03T13:59:14.745Z"
      },
      {
        "duration": 7,
        "start_time": "2024-06-03T13:59:14.767Z"
      },
      {
        "duration": 35,
        "start_time": "2024-06-03T13:59:14.776Z"
      },
      {
        "duration": 5,
        "start_time": "2024-06-03T13:59:14.813Z"
      },
      {
        "duration": 15,
        "start_time": "2024-06-03T13:59:14.819Z"
      },
      {
        "duration": 3,
        "start_time": "2024-06-03T13:59:14.836Z"
      },
      {
        "duration": 148,
        "start_time": "2024-06-03T13:59:14.840Z"
      },
      {
        "duration": 5,
        "start_time": "2024-06-03T13:59:14.989Z"
      },
      {
        "duration": 9,
        "start_time": "2024-06-03T13:59:14.995Z"
      },
      {
        "duration": 49,
        "start_time": "2024-06-03T13:59:15.005Z"
      },
      {
        "duration": 16,
        "start_time": "2024-06-03T13:59:15.055Z"
      },
      {
        "duration": 1423,
        "start_time": "2024-06-03T13:59:15.072Z"
      },
      {
        "duration": 251,
        "start_time": "2024-06-03T13:59:16.496Z"
      },
      {
        "duration": 4,
        "start_time": "2024-06-03T13:59:16.749Z"
      },
      {
        "duration": 5,
        "start_time": "2024-06-03T13:59:16.754Z"
      },
      {
        "duration": 2919,
        "start_time": "2024-06-03T13:59:16.761Z"
      },
      {
        "duration": 4,
        "start_time": "2024-06-03T13:59:19.682Z"
      },
      {
        "duration": 1249,
        "start_time": "2024-06-03T13:59:31.442Z"
      },
      {
        "duration": 1094,
        "start_time": "2024-06-03T14:03:58.556Z"
      },
      {
        "duration": 3,
        "start_time": "2024-06-03T14:03:59.652Z"
      },
      {
        "duration": 76,
        "start_time": "2024-06-03T14:03:59.657Z"
      },
      {
        "duration": 11,
        "start_time": "2024-06-03T14:03:59.734Z"
      },
      {
        "duration": 8,
        "start_time": "2024-06-03T14:03:59.747Z"
      },
      {
        "duration": 10,
        "start_time": "2024-06-03T14:03:59.756Z"
      },
      {
        "duration": 10,
        "start_time": "2024-06-03T14:03:59.768Z"
      },
      {
        "duration": 10,
        "start_time": "2024-06-03T14:03:59.780Z"
      },
      {
        "duration": 19,
        "start_time": "2024-06-03T14:03:59.792Z"
      },
      {
        "duration": 5,
        "start_time": "2024-06-03T14:03:59.813Z"
      },
      {
        "duration": 5,
        "start_time": "2024-06-03T14:03:59.820Z"
      },
      {
        "duration": 10,
        "start_time": "2024-06-03T14:03:59.827Z"
      },
      {
        "duration": 5,
        "start_time": "2024-06-03T14:03:59.838Z"
      },
      {
        "duration": 3,
        "start_time": "2024-06-03T14:03:59.846Z"
      },
      {
        "duration": 7,
        "start_time": "2024-06-03T14:03:59.851Z"
      },
      {
        "duration": 42,
        "start_time": "2024-06-03T14:03:59.859Z"
      },
      {
        "duration": 6,
        "start_time": "2024-06-03T14:03:59.903Z"
      },
      {
        "duration": 33,
        "start_time": "2024-06-03T14:03:59.910Z"
      },
      {
        "duration": 137,
        "start_time": "2024-06-03T14:03:59.945Z"
      },
      {
        "duration": 16,
        "start_time": "2024-06-03T14:04:00.084Z"
      },
      {
        "duration": 24,
        "start_time": "2024-06-03T14:04:00.101Z"
      },
      {
        "duration": 178,
        "start_time": "2024-06-03T14:04:00.126Z"
      },
      {
        "duration": 4,
        "start_time": "2024-06-03T14:04:00.306Z"
      },
      {
        "duration": 165,
        "start_time": "2024-06-03T14:04:00.311Z"
      },
      {
        "duration": 111,
        "start_time": "2024-06-03T14:04:00.477Z"
      },
      {
        "duration": 185,
        "start_time": "2024-06-03T14:04:00.589Z"
      },
      {
        "duration": 225,
        "start_time": "2024-06-03T14:04:00.775Z"
      },
      {
        "duration": 211,
        "start_time": "2024-06-03T14:04:01.002Z"
      },
      {
        "duration": 11,
        "start_time": "2024-06-03T14:04:01.215Z"
      },
      {
        "duration": 18,
        "start_time": "2024-06-03T14:04:01.227Z"
      },
      {
        "duration": 21,
        "start_time": "2024-06-03T14:04:01.247Z"
      },
      {
        "duration": 30,
        "start_time": "2024-06-03T14:04:01.270Z"
      },
      {
        "duration": 28,
        "start_time": "2024-06-03T14:04:01.302Z"
      },
      {
        "duration": 51,
        "start_time": "2024-06-03T14:04:01.331Z"
      },
      {
        "duration": 42,
        "start_time": "2024-06-03T14:04:01.384Z"
      },
      {
        "duration": 326,
        "start_time": "2024-06-03T14:04:01.427Z"
      },
      {
        "duration": 202,
        "start_time": "2024-06-03T14:04:01.755Z"
      },
      {
        "duration": 331,
        "start_time": "2024-06-03T14:04:01.959Z"
      },
      {
        "duration": 282,
        "start_time": "2024-06-03T14:04:02.291Z"
      },
      {
        "duration": 25,
        "start_time": "2024-06-03T14:04:02.574Z"
      },
      {
        "duration": 1893,
        "start_time": "2024-06-03T14:04:02.604Z"
      },
      {
        "duration": 16,
        "start_time": "2024-06-03T14:04:04.499Z"
      },
      {
        "duration": 5,
        "start_time": "2024-06-03T14:04:04.517Z"
      },
      {
        "duration": 31,
        "start_time": "2024-06-03T14:04:04.524Z"
      },
      {
        "duration": 6,
        "start_time": "2024-06-03T14:04:04.556Z"
      },
      {
        "duration": 37,
        "start_time": "2024-06-03T14:04:04.563Z"
      },
      {
        "duration": 5,
        "start_time": "2024-06-03T14:04:04.602Z"
      },
      {
        "duration": 15,
        "start_time": "2024-06-03T14:04:04.609Z"
      },
      {
        "duration": 2,
        "start_time": "2024-06-03T14:04:04.626Z"
      },
      {
        "duration": 4,
        "start_time": "2024-06-03T14:04:04.629Z"
      },
      {
        "duration": 8,
        "start_time": "2024-06-03T14:04:04.634Z"
      },
      {
        "duration": 4,
        "start_time": "2024-06-03T14:04:04.643Z"
      },
      {
        "duration": 6,
        "start_time": "2024-06-03T14:04:04.648Z"
      },
      {
        "duration": 8,
        "start_time": "2024-06-03T14:04:04.656Z"
      },
      {
        "duration": 1484,
        "start_time": "2024-06-03T14:04:04.666Z"
      },
      {
        "duration": 266,
        "start_time": "2024-06-03T14:04:06.152Z"
      },
      {
        "duration": 4,
        "start_time": "2024-06-03T14:04:06.420Z"
      },
      {
        "duration": 4,
        "start_time": "2024-06-03T14:04:06.426Z"
      },
      {
        "duration": 3281,
        "start_time": "2024-06-03T14:04:06.432Z"
      },
      {
        "duration": 4,
        "start_time": "2024-06-03T14:04:09.715Z"
      },
      {
        "duration": 18,
        "start_time": "2024-06-03T14:04:10.660Z"
      },
      {
        "duration": 17,
        "start_time": "2024-06-03T14:04:13.174Z"
      },
      {
        "duration": 13,
        "start_time": "2024-06-03T14:04:39.543Z"
      },
      {
        "duration": 111,
        "start_time": "2024-06-03T14:06:16.415Z"
      },
      {
        "duration": 11,
        "start_time": "2024-06-03T14:07:53.032Z"
      },
      {
        "duration": 10,
        "start_time": "2024-06-03T14:08:18.936Z"
      },
      {
        "duration": 12,
        "start_time": "2024-06-03T14:08:33.517Z"
      },
      {
        "duration": 12,
        "start_time": "2024-06-03T14:09:35.747Z"
      },
      {
        "duration": 4,
        "start_time": "2024-06-03T14:10:58.108Z"
      },
      {
        "duration": 124,
        "start_time": "2024-06-03T14:11:02.155Z"
      },
      {
        "duration": 20,
        "start_time": "2024-06-03T14:12:01.865Z"
      },
      {
        "duration": 6,
        "start_time": "2024-06-03T14:12:56.886Z"
      },
      {
        "duration": 4,
        "start_time": "2024-06-03T14:13:07.483Z"
      },
      {
        "duration": 1037,
        "start_time": "2024-06-03T14:14:11.714Z"
      },
      {
        "duration": 17,
        "start_time": "2024-06-03T14:14:25.261Z"
      },
      {
        "duration": 6,
        "start_time": "2024-06-03T14:14:44.034Z"
      },
      {
        "duration": 8,
        "start_time": "2024-06-03T14:14:49.682Z"
      },
      {
        "duration": 8,
        "start_time": "2024-06-03T14:14:53.161Z"
      },
      {
        "duration": 8,
        "start_time": "2024-06-03T14:14:57.577Z"
      },
      {
        "duration": 8,
        "start_time": "2024-06-03T14:51:28.581Z"
      },
      {
        "duration": 8,
        "start_time": "2024-06-03T14:51:48.771Z"
      },
      {
        "duration": 4,
        "start_time": "2024-06-03T14:52:14.152Z"
      },
      {
        "duration": 4,
        "start_time": "2024-06-03T14:52:18.448Z"
      },
      {
        "duration": 1070,
        "start_time": "2024-06-03T14:59:27.594Z"
      },
      {
        "duration": 2,
        "start_time": "2024-06-03T14:59:28.666Z"
      },
      {
        "duration": 72,
        "start_time": "2024-06-03T14:59:28.669Z"
      },
      {
        "duration": 11,
        "start_time": "2024-06-03T14:59:28.743Z"
      },
      {
        "duration": 9,
        "start_time": "2024-06-03T14:59:28.755Z"
      },
      {
        "duration": 8,
        "start_time": "2024-06-03T14:59:28.766Z"
      },
      {
        "duration": 10,
        "start_time": "2024-06-03T14:59:28.776Z"
      },
      {
        "duration": 10,
        "start_time": "2024-06-03T14:59:28.788Z"
      },
      {
        "duration": 13,
        "start_time": "2024-06-03T14:59:28.799Z"
      },
      {
        "duration": 5,
        "start_time": "2024-06-03T14:59:28.815Z"
      },
      {
        "duration": 6,
        "start_time": "2024-06-03T14:59:28.821Z"
      },
      {
        "duration": 10,
        "start_time": "2024-06-03T14:59:28.828Z"
      },
      {
        "duration": 5,
        "start_time": "2024-06-03T14:59:28.839Z"
      },
      {
        "duration": 4,
        "start_time": "2024-06-03T14:59:28.845Z"
      },
      {
        "duration": 7,
        "start_time": "2024-06-03T14:59:28.851Z"
      },
      {
        "duration": 40,
        "start_time": "2024-06-03T14:59:28.859Z"
      },
      {
        "duration": 6,
        "start_time": "2024-06-03T14:59:28.901Z"
      },
      {
        "duration": 14,
        "start_time": "2024-06-03T14:59:28.908Z"
      },
      {
        "duration": 152,
        "start_time": "2024-06-03T14:59:28.924Z"
      },
      {
        "duration": 10,
        "start_time": "2024-06-03T14:59:29.077Z"
      },
      {
        "duration": 13,
        "start_time": "2024-06-03T14:59:29.088Z"
      },
      {
        "duration": 148,
        "start_time": "2024-06-03T14:59:29.103Z"
      },
      {
        "duration": 4,
        "start_time": "2024-06-03T14:59:29.252Z"
      },
      {
        "duration": 146,
        "start_time": "2024-06-03T14:59:29.258Z"
      },
      {
        "duration": 116,
        "start_time": "2024-06-03T14:59:29.405Z"
      },
      {
        "duration": 177,
        "start_time": "2024-06-03T14:59:29.522Z"
      },
      {
        "duration": 212,
        "start_time": "2024-06-03T14:59:29.701Z"
      },
      {
        "duration": 198,
        "start_time": "2024-06-03T14:59:29.916Z"
      },
      {
        "duration": 9,
        "start_time": "2024-06-03T14:59:30.115Z"
      },
      {
        "duration": 41,
        "start_time": "2024-06-03T14:59:30.125Z"
      },
      {
        "duration": 63,
        "start_time": "2024-06-03T14:59:30.167Z"
      },
      {
        "duration": 40,
        "start_time": "2024-06-03T14:59:30.232Z"
      },
      {
        "duration": 52,
        "start_time": "2024-06-03T14:59:30.273Z"
      },
      {
        "duration": 48,
        "start_time": "2024-06-03T14:59:30.326Z"
      },
      {
        "duration": 39,
        "start_time": "2024-06-03T14:59:30.376Z"
      },
      {
        "duration": 237,
        "start_time": "2024-06-03T14:59:30.416Z"
      },
      {
        "duration": 293,
        "start_time": "2024-06-03T14:59:30.655Z"
      },
      {
        "duration": 334,
        "start_time": "2024-06-03T14:59:30.950Z"
      },
      {
        "duration": 293,
        "start_time": "2024-06-03T14:59:31.285Z"
      },
      {
        "duration": 23,
        "start_time": "2024-06-03T14:59:31.579Z"
      },
      {
        "duration": 1775,
        "start_time": "2024-06-03T14:59:31.603Z"
      },
      {
        "duration": 20,
        "start_time": "2024-06-03T14:59:33.380Z"
      },
      {
        "duration": 12,
        "start_time": "2024-06-03T14:59:33.401Z"
      },
      {
        "duration": 15,
        "start_time": "2024-06-03T14:59:33.414Z"
      },
      {
        "duration": 5,
        "start_time": "2024-06-03T14:59:33.430Z"
      },
      {
        "duration": 18,
        "start_time": "2024-06-03T14:59:33.436Z"
      },
      {
        "duration": 5,
        "start_time": "2024-06-03T14:59:33.456Z"
      },
      {
        "duration": 6,
        "start_time": "2024-06-03T14:59:33.462Z"
      },
      {
        "duration": 32,
        "start_time": "2024-06-03T14:59:33.470Z"
      },
      {
        "duration": 2,
        "start_time": "2024-06-03T14:59:33.504Z"
      },
      {
        "duration": 1362,
        "start_time": "2024-06-03T14:59:33.508Z"
      },
      {
        "duration": 250,
        "start_time": "2024-06-03T14:59:34.872Z"
      },
      {
        "duration": 4,
        "start_time": "2024-06-03T14:59:35.124Z"
      },
      {
        "duration": 7,
        "start_time": "2024-06-03T14:59:35.129Z"
      },
      {
        "duration": 2901,
        "start_time": "2024-06-03T14:59:35.138Z"
      },
      {
        "duration": 5,
        "start_time": "2024-06-03T14:59:38.040Z"
      },
      {
        "duration": 4,
        "start_time": "2024-06-03T15:01:21.465Z"
      },
      {
        "duration": 5,
        "start_time": "2024-06-03T15:01:26.040Z"
      },
      {
        "duration": 4,
        "start_time": "2024-06-03T15:01:28.885Z"
      },
      {
        "duration": 4,
        "start_time": "2024-06-03T15:01:35.401Z"
      },
      {
        "duration": 4,
        "start_time": "2024-06-03T15:01:38.325Z"
      },
      {
        "duration": 5,
        "start_time": "2024-06-03T15:01:55.341Z"
      },
      {
        "duration": 5,
        "start_time": "2024-06-03T15:02:04.461Z"
      },
      {
        "duration": 4,
        "start_time": "2024-06-03T15:02:12.317Z"
      },
      {
        "duration": 4,
        "start_time": "2024-06-03T15:02:19.997Z"
      },
      {
        "duration": 97,
        "start_time": "2024-06-03T15:04:33.869Z"
      },
      {
        "duration": 5,
        "start_time": "2024-06-03T15:05:09.700Z"
      },
      {
        "duration": 28,
        "start_time": "2024-06-03T15:05:15.361Z"
      },
      {
        "duration": 3676,
        "start_time": "2024-06-03T15:05:32.536Z"
      },
      {
        "duration": 37,
        "start_time": "2024-06-03T15:05:54.057Z"
      },
      {
        "duration": 56,
        "start_time": "2024-06-03T15:06:07.477Z"
      },
      {
        "duration": 4,
        "start_time": "2024-06-03T15:06:10.247Z"
      },
      {
        "duration": 4,
        "start_time": "2024-06-03T15:06:17.273Z"
      },
      {
        "duration": 5,
        "start_time": "2024-06-03T15:06:21.898Z"
      },
      {
        "duration": 4,
        "start_time": "2024-06-03T15:06:33.103Z"
      },
      {
        "duration": 27,
        "start_time": "2024-06-03T15:06:36.104Z"
      },
      {
        "duration": 4,
        "start_time": "2024-06-03T15:06:42.014Z"
      },
      {
        "duration": 4,
        "start_time": "2024-06-03T15:06:45.135Z"
      },
      {
        "duration": 4,
        "start_time": "2024-06-03T15:06:51.204Z"
      },
      {
        "duration": 5,
        "start_time": "2024-06-03T15:06:56.734Z"
      },
      {
        "duration": 5,
        "start_time": "2024-06-03T15:07:02.904Z"
      },
      {
        "duration": 5,
        "start_time": "2024-06-03T15:07:09.411Z"
      },
      {
        "duration": 26,
        "start_time": "2024-06-03T15:07:35.041Z"
      },
      {
        "duration": 4,
        "start_time": "2024-06-03T15:07:46.467Z"
      },
      {
        "duration": 4,
        "start_time": "2024-06-03T15:10:07.573Z"
      },
      {
        "duration": 29,
        "start_time": "2024-06-03T15:10:12.773Z"
      },
      {
        "duration": 4,
        "start_time": "2024-06-03T15:11:09.780Z"
      },
      {
        "duration": 5,
        "start_time": "2024-06-03T15:11:18.946Z"
      },
      {
        "duration": 28,
        "start_time": "2024-06-03T15:11:29.731Z"
      },
      {
        "duration": 5,
        "start_time": "2024-06-03T15:11:52.472Z"
      },
      {
        "duration": 28,
        "start_time": "2024-06-03T15:11:57.992Z"
      },
      {
        "duration": 4,
        "start_time": "2024-06-03T15:12:38.216Z"
      },
      {
        "duration": 5,
        "start_time": "2024-06-03T15:12:53.545Z"
      },
      {
        "duration": 32,
        "start_time": "2024-06-03T15:13:06.627Z"
      },
      {
        "duration": 25,
        "start_time": "2024-06-03T15:13:12.476Z"
      },
      {
        "duration": 7,
        "start_time": "2024-06-03T15:22:54.706Z"
      },
      {
        "duration": 7,
        "start_time": "2024-06-03T15:22:59.233Z"
      },
      {
        "duration": 5,
        "start_time": "2024-06-03T15:23:06.903Z"
      },
      {
        "duration": 4,
        "start_time": "2024-06-03T15:23:13.869Z"
      },
      {
        "duration": 8,
        "start_time": "2024-06-03T15:26:38.548Z"
      },
      {
        "duration": 17,
        "start_time": "2024-06-03T15:26:50.974Z"
      },
      {
        "duration": 6,
        "start_time": "2024-06-03T15:26:59.324Z"
      },
      {
        "duration": 17,
        "start_time": "2024-06-03T15:27:31.522Z"
      },
      {
        "duration": 16,
        "start_time": "2024-06-03T15:27:35.697Z"
      },
      {
        "duration": 6,
        "start_time": "2024-06-03T15:31:56.229Z"
      },
      {
        "duration": 5,
        "start_time": "2024-06-03T15:32:11.939Z"
      },
      {
        "duration": 4,
        "start_time": "2024-06-03T15:32:18.092Z"
      },
      {
        "duration": 1056,
        "start_time": "2024-06-03T15:37:31.888Z"
      },
      {
        "duration": 3,
        "start_time": "2024-06-03T15:37:32.945Z"
      },
      {
        "duration": 69,
        "start_time": "2024-06-03T15:37:32.949Z"
      },
      {
        "duration": 10,
        "start_time": "2024-06-03T15:37:33.020Z"
      },
      {
        "duration": 7,
        "start_time": "2024-06-03T15:37:33.032Z"
      },
      {
        "duration": 6,
        "start_time": "2024-06-03T15:37:33.040Z"
      },
      {
        "duration": 11,
        "start_time": "2024-06-03T15:37:33.047Z"
      },
      {
        "duration": 10,
        "start_time": "2024-06-03T15:37:33.059Z"
      },
      {
        "duration": 30,
        "start_time": "2024-06-03T15:37:33.070Z"
      },
      {
        "duration": 6,
        "start_time": "2024-06-03T15:37:33.101Z"
      },
      {
        "duration": 6,
        "start_time": "2024-06-03T15:37:33.109Z"
      },
      {
        "duration": 10,
        "start_time": "2024-06-03T15:37:33.116Z"
      },
      {
        "duration": 4,
        "start_time": "2024-06-03T15:37:33.129Z"
      },
      {
        "duration": 4,
        "start_time": "2024-06-03T15:37:33.134Z"
      },
      {
        "duration": 7,
        "start_time": "2024-06-03T15:37:33.139Z"
      },
      {
        "duration": 4,
        "start_time": "2024-06-03T15:37:33.147Z"
      },
      {
        "duration": 5,
        "start_time": "2024-06-03T15:37:33.152Z"
      },
      {
        "duration": 14,
        "start_time": "2024-06-03T15:37:33.201Z"
      },
      {
        "duration": 139,
        "start_time": "2024-06-03T15:37:33.216Z"
      },
      {
        "duration": 9,
        "start_time": "2024-06-03T15:37:33.356Z"
      },
      {
        "duration": 3,
        "start_time": "2024-06-03T15:37:33.367Z"
      },
      {
        "duration": 158,
        "start_time": "2024-06-03T15:37:33.371Z"
      },
      {
        "duration": 4,
        "start_time": "2024-06-03T15:37:33.530Z"
      },
      {
        "duration": 131,
        "start_time": "2024-06-03T15:37:33.535Z"
      },
      {
        "duration": 109,
        "start_time": "2024-06-03T15:37:33.668Z"
      },
      {
        "duration": 166,
        "start_time": "2024-06-03T15:37:33.779Z"
      },
      {
        "duration": 202,
        "start_time": "2024-06-03T15:37:33.946Z"
      },
      {
        "duration": 196,
        "start_time": "2024-06-03T15:37:34.150Z"
      },
      {
        "duration": 8,
        "start_time": "2024-06-03T15:37:34.347Z"
      },
      {
        "duration": 8,
        "start_time": "2024-06-03T15:37:34.356Z"
      },
      {
        "duration": 16,
        "start_time": "2024-06-03T15:37:34.365Z"
      },
      {
        "duration": 13,
        "start_time": "2024-06-03T15:37:34.399Z"
      },
      {
        "duration": 9,
        "start_time": "2024-06-03T15:37:34.413Z"
      },
      {
        "duration": 19,
        "start_time": "2024-06-03T15:37:34.423Z"
      },
      {
        "duration": 23,
        "start_time": "2024-06-03T15:37:34.443Z"
      },
      {
        "duration": 296,
        "start_time": "2024-06-03T15:37:34.467Z"
      },
      {
        "duration": 198,
        "start_time": "2024-06-03T15:37:34.765Z"
      },
      {
        "duration": 311,
        "start_time": "2024-06-03T15:37:34.965Z"
      },
      {
        "duration": 275,
        "start_time": "2024-06-03T15:37:35.278Z"
      },
      {
        "duration": 17,
        "start_time": "2024-06-03T15:37:35.558Z"
      },
      {
        "duration": 1800,
        "start_time": "2024-06-03T15:37:35.576Z"
      },
      {
        "duration": 23,
        "start_time": "2024-06-03T15:37:37.377Z"
      },
      {
        "duration": 5,
        "start_time": "2024-06-03T15:37:37.402Z"
      },
      {
        "duration": 16,
        "start_time": "2024-06-03T15:37:37.408Z"
      },
      {
        "duration": 4,
        "start_time": "2024-06-03T15:37:37.426Z"
      },
      {
        "duration": 16,
        "start_time": "2024-06-03T15:37:37.432Z"
      },
      {
        "duration": 5,
        "start_time": "2024-06-03T15:37:37.449Z"
      },
      {
        "duration": 5,
        "start_time": "2024-06-03T15:37:37.456Z"
      },
      {
        "duration": 43,
        "start_time": "2024-06-03T15:37:37.462Z"
      },
      {
        "duration": 3,
        "start_time": "2024-06-03T15:37:37.506Z"
      },
      {
        "duration": 1291,
        "start_time": "2024-06-03T15:37:37.510Z"
      },
      {
        "duration": 238,
        "start_time": "2024-06-03T15:37:38.802Z"
      },
      {
        "duration": 24,
        "start_time": "2024-06-03T15:37:39.042Z"
      },
      {
        "duration": 2722,
        "start_time": "2024-06-03T15:37:39.067Z"
      },
      {
        "duration": 4,
        "start_time": "2024-06-03T15:37:41.790Z"
      },
      {
        "duration": 4,
        "start_time": "2024-06-03T15:40:20.248Z"
      },
      {
        "duration": 5,
        "start_time": "2024-06-03T15:40:35.248Z"
      },
      {
        "duration": 266,
        "start_time": "2024-06-03T15:44:53.279Z"
      },
      {
        "duration": 431,
        "start_time": "2024-06-03T15:45:08.196Z"
      },
      {
        "duration": 264,
        "start_time": "2024-06-03T15:45:15.916Z"
      },
      {
        "duration": 251,
        "start_time": "2024-06-03T15:45:51.373Z"
      },
      {
        "duration": 303,
        "start_time": "2024-06-03T15:46:03.498Z"
      },
      {
        "duration": 1029,
        "start_time": "2024-06-03T15:55:24.115Z"
      },
      {
        "duration": 3,
        "start_time": "2024-06-03T15:55:25.146Z"
      },
      {
        "duration": 72,
        "start_time": "2024-06-03T15:55:25.150Z"
      },
      {
        "duration": 11,
        "start_time": "2024-06-03T15:55:25.223Z"
      },
      {
        "duration": 11,
        "start_time": "2024-06-03T15:55:25.236Z"
      },
      {
        "duration": 7,
        "start_time": "2024-06-03T15:55:25.248Z"
      },
      {
        "duration": 11,
        "start_time": "2024-06-03T15:55:25.256Z"
      },
      {
        "duration": 10,
        "start_time": "2024-06-03T15:55:25.268Z"
      },
      {
        "duration": 21,
        "start_time": "2024-06-03T15:55:25.279Z"
      },
      {
        "duration": 5,
        "start_time": "2024-06-03T15:55:25.303Z"
      },
      {
        "duration": 5,
        "start_time": "2024-06-03T15:55:25.310Z"
      },
      {
        "duration": 5,
        "start_time": "2024-06-03T15:55:25.316Z"
      },
      {
        "duration": 18,
        "start_time": "2024-06-03T15:55:25.322Z"
      },
      {
        "duration": 5,
        "start_time": "2024-06-03T15:55:25.341Z"
      },
      {
        "duration": 4,
        "start_time": "2024-06-03T15:55:25.347Z"
      },
      {
        "duration": 7,
        "start_time": "2024-06-03T15:55:25.352Z"
      },
      {
        "duration": 39,
        "start_time": "2024-06-03T15:55:25.360Z"
      },
      {
        "duration": 6,
        "start_time": "2024-06-03T15:55:25.401Z"
      },
      {
        "duration": 13,
        "start_time": "2024-06-03T15:55:25.408Z"
      },
      {
        "duration": 148,
        "start_time": "2024-06-03T15:55:25.422Z"
      },
      {
        "duration": 8,
        "start_time": "2024-06-03T15:55:25.571Z"
      },
      {
        "duration": 3,
        "start_time": "2024-06-03T15:55:25.581Z"
      },
      {
        "duration": 153,
        "start_time": "2024-06-03T15:55:25.585Z"
      },
      {
        "duration": 4,
        "start_time": "2024-06-03T15:55:25.739Z"
      },
      {
        "duration": 129,
        "start_time": "2024-06-03T15:55:25.744Z"
      },
      {
        "duration": 136,
        "start_time": "2024-06-03T15:55:25.874Z"
      },
      {
        "duration": 173,
        "start_time": "2024-06-03T15:55:26.011Z"
      },
      {
        "duration": 204,
        "start_time": "2024-06-03T15:55:26.187Z"
      },
      {
        "duration": 194,
        "start_time": "2024-06-03T15:55:26.392Z"
      },
      {
        "duration": 13,
        "start_time": "2024-06-03T15:55:26.588Z"
      },
      {
        "duration": 7,
        "start_time": "2024-06-03T15:55:26.603Z"
      },
      {
        "duration": 20,
        "start_time": "2024-06-03T15:55:26.611Z"
      },
      {
        "duration": 11,
        "start_time": "2024-06-03T15:55:26.632Z"
      },
      {
        "duration": 8,
        "start_time": "2024-06-03T15:55:26.644Z"
      },
      {
        "duration": 46,
        "start_time": "2024-06-03T15:55:26.653Z"
      },
      {
        "duration": 18,
        "start_time": "2024-06-03T15:55:26.700Z"
      },
      {
        "duration": 400,
        "start_time": "2024-06-03T15:55:26.720Z"
      },
      {
        "duration": 328,
        "start_time": "2024-06-03T15:55:27.121Z"
      },
      {
        "duration": 271,
        "start_time": "2024-06-03T15:55:27.450Z"
      },
      {
        "duration": 17,
        "start_time": "2024-06-03T15:55:27.723Z"
      },
      {
        "duration": 1784,
        "start_time": "2024-06-03T15:55:27.741Z"
      },
      {
        "duration": 13,
        "start_time": "2024-06-03T15:55:29.527Z"
      },
      {
        "duration": 4,
        "start_time": "2024-06-03T15:55:29.541Z"
      },
      {
        "duration": 16,
        "start_time": "2024-06-03T15:55:29.547Z"
      },
      {
        "duration": 4,
        "start_time": "2024-06-03T15:55:29.565Z"
      },
      {
        "duration": 42,
        "start_time": "2024-06-03T15:55:29.570Z"
      },
      {
        "duration": 5,
        "start_time": "2024-06-03T15:55:29.613Z"
      },
      {
        "duration": 12,
        "start_time": "2024-06-03T15:55:29.619Z"
      },
      {
        "duration": 6,
        "start_time": "2024-06-03T15:55:29.633Z"
      },
      {
        "duration": 3,
        "start_time": "2024-06-03T15:55:29.640Z"
      },
      {
        "duration": 1372,
        "start_time": "2024-06-03T15:55:29.644Z"
      },
      {
        "duration": 240,
        "start_time": "2024-06-03T15:55:31.018Z"
      },
      {
        "duration": 23,
        "start_time": "2024-06-03T15:55:31.260Z"
      },
      {
        "duration": 2735,
        "start_time": "2024-06-03T15:55:31.284Z"
      },
      {
        "duration": 3,
        "start_time": "2024-06-03T15:55:34.021Z"
      },
      {
        "duration": 1503,
        "start_time": "2024-06-03T21:30:00.982Z"
      },
      {
        "duration": 3,
        "start_time": "2024-06-03T21:30:02.487Z"
      },
      {
        "duration": 322,
        "start_time": "2024-06-03T21:30:02.491Z"
      },
      {
        "duration": 13,
        "start_time": "2024-06-03T21:30:02.815Z"
      },
      {
        "duration": 112,
        "start_time": "2024-06-03T21:30:02.829Z"
      },
      {
        "duration": 47,
        "start_time": "2024-06-03T21:30:02.943Z"
      },
      {
        "duration": 30,
        "start_time": "2024-06-03T21:30:02.991Z"
      },
      {
        "duration": 21,
        "start_time": "2024-06-03T21:30:03.023Z"
      },
      {
        "duration": 50,
        "start_time": "2024-06-03T21:30:03.046Z"
      },
      {
        "duration": 33,
        "start_time": "2024-06-03T21:30:03.099Z"
      },
      {
        "duration": 13,
        "start_time": "2024-06-03T21:30:03.134Z"
      },
      {
        "duration": 16,
        "start_time": "2024-06-03T21:30:03.148Z"
      },
      {
        "duration": 29,
        "start_time": "2024-06-03T21:30:03.166Z"
      },
      {
        "duration": 19,
        "start_time": "2024-06-03T21:30:03.197Z"
      },
      {
        "duration": 6,
        "start_time": "2024-06-03T21:30:03.217Z"
      },
      {
        "duration": 13,
        "start_time": "2024-06-03T21:30:03.224Z"
      },
      {
        "duration": 5,
        "start_time": "2024-06-03T21:30:03.239Z"
      },
      {
        "duration": 62,
        "start_time": "2024-06-03T21:30:03.246Z"
      },
      {
        "duration": 27,
        "start_time": "2024-06-03T21:30:03.310Z"
      },
      {
        "duration": 178,
        "start_time": "2024-06-03T21:30:03.339Z"
      },
      {
        "duration": 11,
        "start_time": "2024-06-03T21:30:03.519Z"
      },
      {
        "duration": 5,
        "start_time": "2024-06-03T21:30:03.531Z"
      },
      {
        "duration": 179,
        "start_time": "2024-06-03T21:30:03.538Z"
      },
      {
        "duration": 5,
        "start_time": "2024-06-03T21:30:03.719Z"
      },
      {
        "duration": 164,
        "start_time": "2024-06-03T21:30:03.725Z"
      },
      {
        "duration": 143,
        "start_time": "2024-06-03T21:30:03.891Z"
      },
      {
        "duration": 217,
        "start_time": "2024-06-03T21:30:04.035Z"
      },
      {
        "duration": 284,
        "start_time": "2024-06-03T21:30:04.262Z"
      },
      {
        "duration": 253,
        "start_time": "2024-06-03T21:30:04.548Z"
      },
      {
        "duration": 10,
        "start_time": "2024-06-03T21:30:04.803Z"
      },
      {
        "duration": 14,
        "start_time": "2024-06-03T21:30:04.815Z"
      },
      {
        "duration": 44,
        "start_time": "2024-06-03T21:30:04.831Z"
      },
      {
        "duration": 14,
        "start_time": "2024-06-03T21:30:04.877Z"
      },
      {
        "duration": 15,
        "start_time": "2024-06-03T21:30:04.893Z"
      },
      {
        "duration": 26,
        "start_time": "2024-06-03T21:30:04.910Z"
      },
      {
        "duration": 39,
        "start_time": "2024-06-03T21:30:04.937Z"
      },
      {
        "duration": 459,
        "start_time": "2024-06-03T21:30:04.978Z"
      },
      {
        "duration": 450,
        "start_time": "2024-06-03T21:30:05.439Z"
      },
      {
        "duration": 355,
        "start_time": "2024-06-03T21:30:05.891Z"
      },
      {
        "duration": 29,
        "start_time": "2024-06-03T21:30:06.248Z"
      },
      {
        "duration": 2096,
        "start_time": "2024-06-03T21:30:06.278Z"
      },
      {
        "duration": 18,
        "start_time": "2024-06-03T21:30:08.376Z"
      },
      {
        "duration": 7,
        "start_time": "2024-06-03T21:30:08.395Z"
      },
      {
        "duration": 20,
        "start_time": "2024-06-03T21:30:08.404Z"
      },
      {
        "duration": 12,
        "start_time": "2024-06-03T21:30:08.426Z"
      },
      {
        "duration": 36,
        "start_time": "2024-06-03T21:30:08.440Z"
      },
      {
        "duration": 6,
        "start_time": "2024-06-03T21:30:08.478Z"
      },
      {
        "duration": 18,
        "start_time": "2024-06-03T21:30:08.485Z"
      },
      {
        "duration": 9,
        "start_time": "2024-06-03T21:30:08.504Z"
      },
      {
        "duration": 2,
        "start_time": "2024-06-03T21:30:08.515Z"
      },
      {
        "duration": 1569,
        "start_time": "2024-06-03T21:30:08.519Z"
      },
      {
        "duration": 292,
        "start_time": "2024-06-03T21:30:10.090Z"
      },
      {
        "duration": 28,
        "start_time": "2024-06-03T21:30:10.384Z"
      },
      {
        "duration": 3369,
        "start_time": "2024-06-03T21:30:10.415Z"
      },
      {
        "duration": 5,
        "start_time": "2024-06-03T21:30:13.786Z"
      },
      {
        "duration": 120,
        "start_time": "2024-06-03T21:32:29.420Z"
      },
      {
        "duration": 10,
        "start_time": "2024-06-03T21:32:36.823Z"
      },
      {
        "duration": 1219,
        "start_time": "2024-06-03T21:38:16.972Z"
      },
      {
        "duration": 3,
        "start_time": "2024-06-03T21:38:18.193Z"
      },
      {
        "duration": 77,
        "start_time": "2024-06-03T21:38:18.198Z"
      },
      {
        "duration": 11,
        "start_time": "2024-06-03T21:38:18.277Z"
      },
      {
        "duration": 10,
        "start_time": "2024-06-03T21:38:18.290Z"
      },
      {
        "duration": 7,
        "start_time": "2024-06-03T21:38:18.302Z"
      },
      {
        "duration": 20,
        "start_time": "2024-06-03T21:38:18.310Z"
      },
      {
        "duration": 13,
        "start_time": "2024-06-03T21:38:18.332Z"
      },
      {
        "duration": 27,
        "start_time": "2024-06-03T21:38:18.347Z"
      },
      {
        "duration": 7,
        "start_time": "2024-06-03T21:38:18.376Z"
      },
      {
        "duration": 15,
        "start_time": "2024-06-03T21:38:18.384Z"
      },
      {
        "duration": 5,
        "start_time": "2024-06-03T21:38:18.400Z"
      },
      {
        "duration": 15,
        "start_time": "2024-06-03T21:38:18.406Z"
      },
      {
        "duration": 5,
        "start_time": "2024-06-03T21:38:18.423Z"
      },
      {
        "duration": 31,
        "start_time": "2024-06-03T21:38:18.430Z"
      },
      {
        "duration": 12,
        "start_time": "2024-06-03T21:38:18.464Z"
      },
      {
        "duration": 8,
        "start_time": "2024-06-03T21:38:18.478Z"
      },
      {
        "duration": 10,
        "start_time": "2024-06-03T21:38:18.487Z"
      },
      {
        "duration": 15,
        "start_time": "2024-06-03T21:38:18.499Z"
      },
      {
        "duration": 198,
        "start_time": "2024-06-03T21:38:18.516Z"
      },
      {
        "duration": 11,
        "start_time": "2024-06-03T21:38:18.716Z"
      },
      {
        "duration": 4,
        "start_time": "2024-06-03T21:38:18.728Z"
      },
      {
        "duration": 190,
        "start_time": "2024-06-03T21:38:18.734Z"
      },
      {
        "duration": 5,
        "start_time": "2024-06-03T21:38:18.925Z"
      },
      {
        "duration": 169,
        "start_time": "2024-06-03T21:38:18.931Z"
      },
      {
        "duration": 141,
        "start_time": "2024-06-03T21:38:19.102Z"
      },
      {
        "duration": 232,
        "start_time": "2024-06-03T21:38:19.245Z"
      },
      {
        "duration": 259,
        "start_time": "2024-06-03T21:38:19.482Z"
      },
      {
        "duration": 239,
        "start_time": "2024-06-03T21:38:19.743Z"
      },
      {
        "duration": 9,
        "start_time": "2024-06-03T21:38:19.983Z"
      },
      {
        "duration": 17,
        "start_time": "2024-06-03T21:38:19.993Z"
      },
      {
        "duration": 29,
        "start_time": "2024-06-03T21:38:20.011Z"
      },
      {
        "duration": 38,
        "start_time": "2024-06-03T21:38:20.042Z"
      },
      {
        "duration": 23,
        "start_time": "2024-06-03T21:38:20.082Z"
      },
      {
        "duration": 32,
        "start_time": "2024-06-03T21:38:20.106Z"
      },
      {
        "duration": 22,
        "start_time": "2024-06-03T21:38:20.139Z"
      },
      {
        "duration": 464,
        "start_time": "2024-06-03T21:38:20.165Z"
      },
      {
        "duration": 404,
        "start_time": "2024-06-03T21:38:20.631Z"
      },
      {
        "duration": 359,
        "start_time": "2024-06-03T21:38:21.037Z"
      },
      {
        "duration": 19,
        "start_time": "2024-06-03T21:38:21.398Z"
      },
      {
        "duration": 2172,
        "start_time": "2024-06-03T21:38:21.419Z"
      },
      {
        "duration": 17,
        "start_time": "2024-06-03T21:38:23.593Z"
      },
      {
        "duration": 5,
        "start_time": "2024-06-03T21:38:23.612Z"
      },
      {
        "duration": 17,
        "start_time": "2024-06-03T21:38:23.619Z"
      },
      {
        "duration": 9,
        "start_time": "2024-06-03T21:38:23.659Z"
      },
      {
        "duration": 25,
        "start_time": "2024-06-03T21:38:23.670Z"
      },
      {
        "duration": 5,
        "start_time": "2024-06-03T21:38:23.697Z"
      },
      {
        "duration": 16,
        "start_time": "2024-06-03T21:38:23.703Z"
      },
      {
        "duration": 8,
        "start_time": "2024-06-03T21:38:23.721Z"
      },
      {
        "duration": 2,
        "start_time": "2024-06-03T21:38:23.731Z"
      },
      {
        "duration": 1623,
        "start_time": "2024-06-03T21:38:23.760Z"
      },
      {
        "duration": 323,
        "start_time": "2024-06-03T21:38:25.384Z"
      },
      {
        "duration": 28,
        "start_time": "2024-06-03T21:38:25.709Z"
      },
      {
        "duration": 3386,
        "start_time": "2024-06-03T21:38:25.739Z"
      },
      {
        "duration": 4,
        "start_time": "2024-06-03T21:38:29.127Z"
      }
    ],
    "kernelspec": {
      "display_name": "Python 3 (ipykernel)",
      "language": "python",
      "name": "python3"
    },
    "language_info": {
      "codemirror_mode": {
        "name": "ipython",
        "version": 3
      },
      "file_extension": ".py",
      "mimetype": "text/x-python",
      "name": "python",
      "nbconvert_exporter": "python",
      "pygments_lexer": "ipython3",
      "version": "3.9.5"
    },
    "toc": {
      "base_numbering": 1,
      "nav_menu": {},
      "number_sections": true,
      "sideBar": true,
      "skip_h1_title": true,
      "title_cell": "Table of Contents",
      "title_sidebar": "Contents",
      "toc_cell": false,
      "toc_position": {},
      "toc_section_display": true,
      "toc_window_display": false
    },
    "colab": {
      "provenance": [],
      "include_colab_link": true
    }
  },
  "nbformat": 4,
  "nbformat_minor": 5
}